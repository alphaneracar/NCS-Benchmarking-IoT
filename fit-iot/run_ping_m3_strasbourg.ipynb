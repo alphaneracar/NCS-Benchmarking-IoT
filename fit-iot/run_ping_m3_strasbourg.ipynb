{
 "cells": [
  {
   "cell_type": "markdown",
   "id": "18667d47-2ea6-409b-a427-6d88561dcea5",
   "metadata": {},
   "source": [
    "## Refresh code in each 2 secs"
   ]
  },
  {
   "cell_type": "code",
   "execution_count": 1,
   "id": "cb12a8cd-7032-4e9e-bc83-dae1482341a8",
   "metadata": {},
   "outputs": [],
   "source": [
    "%load_ext autoreload\n",
    "%autoreload 2"
   ]
  },
  {
   "cell_type": "markdown",
   "id": "140ff01e-4bf8-4cf8-890d-4ed32a6f04d7",
   "metadata": {},
   "source": [
    "### Store site coordinators"
   ]
  },
  {
   "cell_type": "code",
   "execution_count": 2,
   "id": "670c848b-906e-49de-b3a9-9903ecd8c7ab",
   "metadata": {},
   "outputs": [],
   "source": [
    "%store -r site_coordinators"
   ]
  },
  {
   "cell_type": "code",
   "execution_count": 3,
   "id": "369847ba-ce5b-4899-a748-20732be85191",
   "metadata": {},
   "outputs": [],
   "source": [
    "m3_strasbourg=site_coordinators[\"m3_strasbourg\"]"
   ]
  },
  {
   "cell_type": "markdown",
   "id": "e6a37995-63a8-4776-b880-9e434f204f52",
   "metadata": {},
   "source": [
    "### Initialize/Refresh ping measurement"
   ]
  },
  {
   "cell_type": "code",
   "execution_count": 4,
   "id": "695502e3-fd4f-4246-afc4-4bb9f4f0b071",
   "metadata": {},
   "outputs": [
    {
     "name": "stdout",
     "output_type": "stream",
     "text": [
      "m3-strasbourg: Resetting the ping measurements to initial state.\n",
      "m3-strasbourg: Initializing the awaiting_ping_measurements dictionary.\n",
      "m3-strasbourg: Deleting the fetched addresses on site.\n",
      "m3-strasbourg: Openning connection to strasbourg\n",
      "m3-strasbourg: Putting the all_nodes_to_addresses.json to site.\n",
      "m3-strasbourg: Openning connection to strasbourg\n"
     ]
    }
   ],
   "source": [
    "#TODO: Call this in object\n",
    "m3_strasbourg.refresh_ping_measurement()"
   ]
  },
  {
   "cell_type": "code",
   "execution_count": 5,
   "id": "ef2b921f-d95c-4607-9e4e-3055f9101006",
   "metadata": {},
   "outputs": [],
   "source": [
    "#m3_strasbourg.awaiting_ping_measurements"
   ]
  },
  {
   "cell_type": "markdown",
   "id": "094fe3d2-5a83-4884-9943-38e7a11091c7",
   "metadata": {},
   "source": [
    "### Run Ping"
   ]
  },
  {
   "cell_type": "code",
   "execution_count": 13,
   "id": "b39334f9-7fb8-4dbc-9b2e-39f6d90050ce",
   "metadata": {},
   "outputs": [
    {
     "name": "stdout",
     "output_type": "stream",
     "text": [
      "Starting the retry ping round.\n",
      "m3-strasbourg: Sending the missing measurements.json.\n",
      "m3-strasbourg: Calculating the missing measurements..\n",
      "m3-strasbourg: Deleting the missing ping measurements on site.\n",
      "m3-strasbourg: Openning connection to strasbourg\n",
      "m3-strasbourg: Deleting missing measurements on local.\n",
      "m3-strasbourg: Writing missing measurements on local.\n",
      "m3-strasbourg: Putting the missing_measurements.json to site.\n",
      "m3-strasbourg: Openning connection to strasbourg\n"
     ]
    }
   ],
   "source": [
    "if len(m3_strasbourg.awaiting_ping_measurements.keys()) == 0:\n",
    "    print('All ping measurements are complete, nothing to rerun.')\n",
    "\n",
    "else:\n",
    "    print('Starting the retry ping round.')\n",
    "    m3_strasbourg.send_missing_measurements()"
   ]
  },
  {
   "cell_type": "code",
   "execution_count": 14,
   "id": "fbab6b11-04e1-4893-a920-82e56255cd34",
   "metadata": {},
   "outputs": [
    {
     "name": "stdout",
     "output_type": "stream",
     "text": [
      "m3-strasbourg: Starting the retry ping round.\n",
      "m3-strasbourg: Sending the missing measurements.json.\n",
      "m3-strasbourg: Calculating the missing measurements..\n",
      "m3-strasbourg: Deleting the missing ping measurements on site.\n",
      "m3-strasbourg: Openning connection to strasbourg\n",
      "m3-strasbourg: Deleting missing measurements on local.\n",
      "m3-strasbourg: Writing missing measurements on local.\n",
      "m3-strasbourg: Putting the missing_measurements.json to site.\n",
      "m3-strasbourg: Openning connection to strasbourg\n",
      "m3-strasbourg: Openning connection to strasbourg\n",
      "Site: strasbourg\n",
      "Reading nodes from: ./m3/nodes.txt\n",
      "Running retry ping on m3-40 with 1 dests.\n",
      "Running retry ping on m3-42 with 1 dests.\n",
      "Running retry ping on m3-44 with 1 dests.\n",
      "Running retry ping on m3-46 with 1 dests.\n",
      "It took more than 5 secs to read output from node: m3-44!\n",
      "It took more than 5 secs to read output from node: m3-46!\n",
      "It took more than 5 secs to read output from node: m3-42!\n",
      "It took more than 5 secs to read output from node: m3-40!\n",
      "It took more than 5 secs to read output from node: m3-44!\n",
      "Max retry reached for m3-44 to m3-47.paris.iot-lab.info\n",
      "Took 19.98319721221924 secs to finish retry ping round for m3-44.strasbourg.iot-lab.info\n",
      "It took more than 5 secs to read output from node: m3-46!\n",
      "Max retry reached for m3-46 to m3-47.paris.iot-lab.info\n",
      "Took 19.982690811157227 secs to finish retry ping round for m3-46.strasbourg.iot-lab.info\n",
      "It took more than 5 secs to read output from node: m3-42!\n",
      "Max retry reached for m3-42 to m3-47.paris.iot-lab.info\n",
      "Took 19.982817888259888 secs to finish retry ping round for m3-42.strasbourg.iot-lab.info\n",
      "It took more than 5 secs to read output from node: m3-40!\n",
      "Max retry reached for m3-40 to m3-47.paris.iot-lab.info\n",
      "Took 19.98289918899536 secs to finish retry ping round for m3-40.strasbourg.iot-lab.info\n",
      "Took 39.91053819656372 secs to finish retry ping round\n",
      "SUCCESS\n"
     ]
    }
   ],
   "source": [
    "m3_strasbourg.retry_ping_measurement()"
   ]
  },
  {
   "cell_type": "code",
   "execution_count": 15,
   "id": "97bb9b08-d24e-41cc-aafd-53c7dfd91f8d",
   "metadata": {},
   "outputs": [
    {
     "name": "stdout",
     "output_type": "stream",
     "text": [
      "m3-strasbourg: Getting the ping results.\n",
      "m3-strasbourg: Openning connection to strasbourg\n",
      "/home/alphan/projects/python_scripts/clean-rtt\n",
      "remote path: ~/ping_experiments/m3/ping_measurements.json\n",
      "m3-strasbourg: Reading the ping results.\n",
      "m3-strasbourg: 0 measurements received!\n",
      "m3-strasbourg: Deleting the fetched ping measurements on site.\n",
      "m3-strasbourg: Openning connection to strasbourg\n",
      "m3-strasbourg: Deleting the local fetched ping measurements.\n"
     ]
    }
   ],
   "source": [
    "m3_strasbourg.digest_new_measurements()"
   ]
  },
  {
   "cell_type": "code",
   "execution_count": 10,
   "id": "4e37dfa5-7a52-4bb0-8060-2a446c1b0eed",
   "metadata": {},
   "outputs": [
    {
     "data": {
      "text/plain": [
       "{('m3-44.strasbourg.iot-lab.info', 'grenoble'): '30',\n",
       " ('m3-46.strasbourg.iot-lab.info', 'grenoble'): '100',\n",
       " ('m3-42.strasbourg.iot-lab.info', 'grenoble'): '130',\n",
       " ('m3-40.strasbourg.iot-lab.info', 'grenoble'): '140',\n",
       " ('m3-46.strasbourg.iot-lab.info', 'lille'): '50',\n",
       " ('m3-44.strasbourg.iot-lab.info', 'lille'): '140',\n",
       " ('m3-42.strasbourg.iot-lab.info', 'lille'): '100',\n",
       " ('m3-40.strasbourg.iot-lab.info', 'lille'): '100',\n",
       " ('m3-44.strasbourg.iot-lab.info', 'paris'): '130',\n",
       " ('m3-44.strasbourg.iot-lab.info', 'saclay'): '110',\n",
       " ('m3-44.strasbourg.iot-lab.info', 'strasbourg'): '110',\n",
       " ('m3-44.strasbourg.iot-lab.info', 'node-a8-9.strasbourg.iot-lab.info'): '160',\n",
       " ('m3-44.strasbourg.iot-lab.info', 'node-a8-8.strasbourg.iot-lab.info'): '60',\n",
       " ('m3-44.strasbourg.iot-lab.info', 'm3-40.strasbourg.iot-lab.info'): '240',\n",
       " ('m3-44.strasbourg.iot-lab.info', 'm3-42.strasbourg.iot-lab.info'): '110',\n",
       " ('m3-44.strasbourg.iot-lab.info', 'm3-44.strasbourg.iot-lab.info'): '0',\n",
       " ('m3-44.strasbourg.iot-lab.info', 'm3-46.strasbourg.iot-lab.info'): '80',\n",
       " ('m3-44.strasbourg.iot-lab.info', 'm3-272.grenoble.iot-lab.info'): '150',\n",
       " ('m3-44.strasbourg.iot-lab.info', 'm3-274.grenoble.iot-lab.info'): '120',\n",
       " ('m3-44.strasbourg.iot-lab.info', 'm3-318.grenoble.iot-lab.info'): '160',\n",
       " ('m3-44.strasbourg.iot-lab.info', 'm3-321.grenoble.iot-lab.info'): '240',\n",
       " ('m3-44.strasbourg.iot-lab.info', 'm3-59.paris.iot-lab.info'): '160',\n",
       " ('m3-44.strasbourg.iot-lab.info', 'm3-47.paris.iot-lab.info'): '160',\n",
       " ('m3-44.strasbourg.iot-lab.info', 'm3-45.paris.iot-lab.info'): '120',\n",
       " ('m3-44.strasbourg.iot-lab.info', 'm3-44.paris.iot-lab.info'): '120',\n",
       " ('m3-44.strasbourg.iot-lab.info', 'm3-63.paris.iot-lab.info'): '240',\n",
       " ('m3-44.strasbourg.iot-lab.info', 'm3-62.paris.iot-lab.info'): '100',\n",
       " ('m3-44.strasbourg.iot-lab.info', 'm3-42.paris.iot-lab.info'): '150',\n",
       " ('m3-44.strasbourg.iot-lab.info', 'm3-41.paris.iot-lab.info'): '170',\n",
       " ('m3-46.strasbourg.iot-lab.info', 'paris'): '40',\n",
       " ('m3-46.strasbourg.iot-lab.info', 'saclay'): '70',\n",
       " ('m3-40.strasbourg.iot-lab.info', 'paris'): '50',\n",
       " ('m3-46.strasbourg.iot-lab.info', 'strasbourg'): '80',\n",
       " ('m3-42.strasbourg.iot-lab.info', 'paris'): '130',\n",
       " ('m3-40.strasbourg.iot-lab.info', 'saclay'): '110',\n",
       " ('m3-42.strasbourg.iot-lab.info', 'saclay'): '60',\n",
       " ('m3-46.strasbourg.iot-lab.info', 'node-a8-9.strasbourg.iot-lab.info'): '130',\n",
       " ('m3-40.strasbourg.iot-lab.info', 'strasbourg'): '90',\n",
       " ('m3-42.strasbourg.iot-lab.info', 'strasbourg'): '100',\n",
       " ('m3-40.strasbourg.iot-lab.info', 'node-a8-9.strasbourg.iot-lab.info'): '90',\n",
       " ('m3-46.strasbourg.iot-lab.info', 'node-a8-8.strasbourg.iot-lab.info'): '110',\n",
       " ('m3-42.strasbourg.iot-lab.info', 'node-a8-9.strasbourg.iot-lab.info'): '120',\n",
       " ('m3-40.strasbourg.iot-lab.info', 'node-a8-8.strasbourg.iot-lab.info'): '100',\n",
       " ('m3-40.strasbourg.iot-lab.info', 'm3-40.strasbourg.iot-lab.info'): '0',\n",
       " ('m3-42.strasbourg.iot-lab.info', 'node-a8-8.strasbourg.iot-lab.info'): '20',\n",
       " ('m3-46.strasbourg.iot-lab.info', 'm3-40.strasbourg.iot-lab.info'): '140',\n",
       " ('m3-40.strasbourg.iot-lab.info', 'm3-42.strasbourg.iot-lab.info'): '130',\n",
       " ('m3-42.strasbourg.iot-lab.info', 'm3-40.strasbourg.iot-lab.info'): '130',\n",
       " ('m3-46.strasbourg.iot-lab.info', 'm3-42.strasbourg.iot-lab.info'): '140',\n",
       " ('m3-42.strasbourg.iot-lab.info', 'm3-42.strasbourg.iot-lab.info'): '0',\n",
       " ('m3-40.strasbourg.iot-lab.info', 'm3-44.strasbourg.iot-lab.info'): '130',\n",
       " ('m3-46.strasbourg.iot-lab.info', 'm3-44.strasbourg.iot-lab.info'): '170',\n",
       " ('m3-46.strasbourg.iot-lab.info', 'm3-46.strasbourg.iot-lab.info'): '0',\n",
       " ('m3-42.strasbourg.iot-lab.info', 'm3-44.strasbourg.iot-lab.info'): '200',\n",
       " ('m3-40.strasbourg.iot-lab.info', 'm3-46.strasbourg.iot-lab.info'): '160',\n",
       " ('m3-46.strasbourg.iot-lab.info', 'm3-272.grenoble.iot-lab.info'): '210',\n",
       " ('m3-42.strasbourg.iot-lab.info', 'm3-46.strasbourg.iot-lab.info'): '160',\n",
       " ('m3-40.strasbourg.iot-lab.info', 'm3-272.grenoble.iot-lab.info'): '150',\n",
       " ('m3-42.strasbourg.iot-lab.info', 'm3-272.grenoble.iot-lab.info'): '80',\n",
       " ('m3-46.strasbourg.iot-lab.info', 'm3-274.grenoble.iot-lab.info'): '150',\n",
       " ('m3-42.strasbourg.iot-lab.info', 'm3-274.grenoble.iot-lab.info'): '120',\n",
       " ('m3-40.strasbourg.iot-lab.info', 'm3-274.grenoble.iot-lab.info'): '220',\n",
       " ('m3-46.strasbourg.iot-lab.info', 'm3-318.grenoble.iot-lab.info'): '230',\n",
       " ('m3-42.strasbourg.iot-lab.info', 'm3-318.grenoble.iot-lab.info'): '210',\n",
       " ('m3-40.strasbourg.iot-lab.info', 'm3-318.grenoble.iot-lab.info'): '190',\n",
       " ('m3-46.strasbourg.iot-lab.info', 'm3-321.grenoble.iot-lab.info'): '120',\n",
       " ('m3-46.strasbourg.iot-lab.info', 'm3-59.paris.iot-lab.info'): '70',\n",
       " ('m3-42.strasbourg.iot-lab.info', 'm3-321.grenoble.iot-lab.info'): '150',\n",
       " ('m3-40.strasbourg.iot-lab.info', 'm3-321.grenoble.iot-lab.info'): '140',\n",
       " ('m3-46.strasbourg.iot-lab.info', 'm3-47.paris.iot-lab.info'): '170',\n",
       " ('m3-42.strasbourg.iot-lab.info', 'm3-59.paris.iot-lab.info'): '150',\n",
       " ('m3-42.strasbourg.iot-lab.info', 'm3-47.paris.iot-lab.info'): '110',\n",
       " ('m3-46.strasbourg.iot-lab.info', 'm3-45.paris.iot-lab.info'): '130',\n",
       " ('m3-46.strasbourg.iot-lab.info', 'm3-44.paris.iot-lab.info'): '80',\n",
       " ('m3-42.strasbourg.iot-lab.info', 'm3-45.paris.iot-lab.info'): '120',\n",
       " ('m3-46.strasbourg.iot-lab.info', 'm3-63.paris.iot-lab.info'): '90',\n",
       " ('m3-42.strasbourg.iot-lab.info', 'm3-44.paris.iot-lab.info'): '110',\n",
       " ('m3-46.strasbourg.iot-lab.info', 'm3-62.paris.iot-lab.info'): '170',\n",
       " ('m3-46.strasbourg.iot-lab.info', 'm3-42.paris.iot-lab.info'): '110',\n",
       " ('m3-46.strasbourg.iot-lab.info', 'm3-41.paris.iot-lab.info'): '140',\n",
       " ('m3-40.strasbourg.iot-lab.info', 'm3-59.paris.iot-lab.info'): '60',\n",
       " ('m3-40.strasbourg.iot-lab.info', 'm3-47.paris.iot-lab.info'): '140',\n",
       " ('m3-40.strasbourg.iot-lab.info', 'm3-45.paris.iot-lab.info'): '160',\n",
       " ('m3-40.strasbourg.iot-lab.info', 'm3-44.paris.iot-lab.info'): '90',\n",
       " ('m3-40.strasbourg.iot-lab.info', 'm3-63.paris.iot-lab.info'): '110',\n",
       " ('m3-42.strasbourg.iot-lab.info', 'm3-63.paris.iot-lab.info'): '100',\n",
       " ('m3-42.strasbourg.iot-lab.info', 'm3-62.paris.iot-lab.info'): '100',\n",
       " ('m3-42.strasbourg.iot-lab.info', 'm3-42.paris.iot-lab.info'): '50',\n",
       " ('m3-42.strasbourg.iot-lab.info', 'm3-41.paris.iot-lab.info'): '130',\n",
       " ('m3-40.strasbourg.iot-lab.info', 'm3-62.paris.iot-lab.info'): '60',\n",
       " ('m3-40.strasbourg.iot-lab.info', 'm3-42.paris.iot-lab.info'): '170',\n",
       " ('m3-40.strasbourg.iot-lab.info', 'm3-41.paris.iot-lab.info'): '70'}"
      ]
     },
     "execution_count": 10,
     "metadata": {},
     "output_type": "execute_result"
    }
   ],
   "source": [
    "m3_strasbourg.ping_measurements"
   ]
  },
  {
   "cell_type": "code",
   "execution_count": 12,
   "id": "26679a60-acce-42b0-b8b0-a1129ba4f0ac",
   "metadata": {},
   "outputs": [
    {
     "data": {
      "text/plain": [
       "{('m3-40.strasbourg.iot-lab.info', 'm3-47.paris.iot-lab.info'): None,\n",
       " ('m3-42.strasbourg.iot-lab.info', 'm3-47.paris.iot-lab.info'): None,\n",
       " ('m3-44.strasbourg.iot-lab.info', 'm3-47.paris.iot-lab.info'): None,\n",
       " ('m3-46.strasbourg.iot-lab.info', 'm3-47.paris.iot-lab.info'): None}"
      ]
     },
     "execution_count": 12,
     "metadata": {},
     "output_type": "execute_result"
    }
   ],
   "source": [
    "m3_strasbourg.awaiting_ping_measurements"
   ]
  },
  {
   "cell_type": "markdown",
   "id": "98edc054-38d1-4817-8b18-403745776e9b",
   "metadata": {},
   "source": [
    "### Store back the last state of the object"
   ]
  },
  {
   "cell_type": "code",
   "execution_count": 1,
   "id": "722c563b-ded5-45cb-9722-74106588f625",
   "metadata": {},
   "outputs": [
    {
     "name": "stderr",
     "output_type": "stream",
     "text": [
      "UsageError: Unknown variable 'm3_grenoble'\n"
     ]
    }
   ],
   "source": [
    "%store m3_strasbourg"
   ]
  },
  {
   "cell_type": "markdown",
   "id": "6a5d802d-f043-44dd-a0ae-f05e69dfa50b",
   "metadata": {},
   "source": [
    "### Finished, rerun the notebook for a new ping run"
   ]
  },
  {
   "cell_type": "code",
   "execution_count": 16,
   "id": "39c0eda5-e965-4eb4-b309-82dc15431057",
   "metadata": {},
   "outputs": [
    {
     "name": "stdout",
     "output_type": "stream",
     "text": [
      "m3-strasbourg: Openning connection to strasbourg\n",
      "tun1 not alive!\n",
      "tun2 not alive!\n",
      "m3-strasbourg: Starting the br screen sessions..\n",
      "m3-strasbourg: Openning connection to strasbourg\n",
      "m3-strasbourg: Starting iteration for br 1, on m3-43\n",
      "m3-strasbourg: Starting tun screen for br 1, and m3-43\n",
      "m3-strasbourg: Starting the br screen sessions..\n",
      "m3-strasbourg: Openning connection to strasbourg\n",
      "m3-strasbourg: Starting iteration for br 2, on m3-45\n",
      "m3-strasbourg: Starting tun screen for br 2, and m3-45\n"
     ]
    }
   ],
   "source": [
    "m3_strasbourg.rerun_stopped_br_processes()"
   ]
  },
  {
   "cell_type": "code",
   "execution_count": 48,
   "id": "29989c99-62ea-4c3d-a009-68a4698743bf",
   "metadata": {},
   "outputs": [
    {
     "data": {
      "text/plain": [
       "7"
      ]
     },
     "execution_count": 48,
     "metadata": {},
     "output_type": "execute_result"
    }
   ],
   "source": []
  },
  {
   "cell_type": "code",
   "execution_count": null,
   "id": "d6453935-0583-4094-bcdc-f879fc0ae8a7",
   "metadata": {},
   "outputs": [],
   "source": []
  }
 ],
 "metadata": {
  "kernelspec": {
   "display_name": "Python 3 (ipykernel)",
   "language": "python",
   "name": "python3"
  },
  "language_info": {
   "codemirror_mode": {
    "name": "ipython",
    "version": 3
   },
   "file_extension": ".py",
   "mimetype": "text/x-python",
   "name": "python",
   "nbconvert_exporter": "python",
   "pygments_lexer": "ipython3",
   "version": "3.10.13"
  }
 },
 "nbformat": 4,
 "nbformat_minor": 5
}
