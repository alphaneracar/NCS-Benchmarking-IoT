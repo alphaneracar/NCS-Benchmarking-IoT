{
 "cells": [
  {
   "cell_type": "markdown",
   "id": "18667d47-2ea6-409b-a427-6d88561dcea5",
   "metadata": {},
   "source": [
    "## Refresh code in each 2 secs"
   ]
  },
  {
   "cell_type": "code",
   "execution_count": 1,
   "id": "0f62688d-c1c2-453b-adee-0702c1606de1",
   "metadata": {},
   "outputs": [],
   "source": [
    "%load_ext autoreload\n",
    "%autoreload 2"
   ]
  },
  {
   "cell_type": "markdown",
   "id": "140ff01e-4bf8-4cf8-890d-4ed32a6f04d7",
   "metadata": {},
   "source": [
    "### Store site coordinators"
   ]
  },
  {
   "cell_type": "code",
   "execution_count": 2,
   "id": "670c848b-906e-49de-b3a9-9903ecd8c7ab",
   "metadata": {},
   "outputs": [],
   "source": [
    "%store -r site_coordinators"
   ]
  },
  {
   "cell_type": "code",
   "execution_count": 3,
   "id": "369847ba-ce5b-4899-a748-20732be85191",
   "metadata": {},
   "outputs": [],
   "source": [
    "linux_grenoble_1=site_coordinators[\"linux_grenoble_1\"]"
   ]
  },
  {
   "cell_type": "markdown",
   "id": "e6a37995-63a8-4776-b880-9e434f204f52",
   "metadata": {},
   "source": [
    "### Initialize fetch address"
   ]
  },
  {
   "cell_type": "code",
   "execution_count": 4,
   "id": "695502e3-fd4f-4246-afc4-4bb9f4f0b071",
   "metadata": {},
   "outputs": [
    {
     "name": "stdout",
     "output_type": "stream",
     "text": [
      "linux-grenoble: Initializing the awaiting_addresses dictionary.\n"
     ]
    }
   ],
   "source": [
    "#TODO: Call this in object\n",
    "linux_grenoble_1.initialize_awaiting_address_dict()"
   ]
  },
  {
   "cell_type": "code",
   "execution_count": 5,
   "id": "887d8af5-d8b7-40b4-9347-ba5490417767",
   "metadata": {},
   "outputs": [],
   "source": [
    "## RERUN BR"
   ]
  },
  {
   "cell_type": "code",
   "execution_count": 6,
   "id": "1ba6b2e1-0a30-49e9-8e35-3f97ab119b0a",
   "metadata": {},
   "outputs": [
    {
     "data": {
      "text/plain": [
       "['node-a8-11.grenoble.iot-lab.info',\n",
       " 'node-a8-162.grenoble.iot-lab.info',\n",
       " 'node-a8-122.grenoble.iot-lab.info',\n",
       " 'node-a8-110.grenoble.iot-lab.info',\n",
       " 'node-a8-156.grenoble.iot-lab.info',\n",
       " 'node-a8-184.grenoble.iot-lab.info',\n",
       " 'node-a8-194.grenoble.iot-lab.info',\n",
       " 'node-a8-105.grenoble.iot-lab.info',\n",
       " 'node-a8-185.grenoble.iot-lab.info',\n",
       " 'node-a8-190.grenoble.iot-lab.info',\n",
       " 'node-a8-165.grenoble.iot-lab.info',\n",
       " 'node-a8-124.grenoble.iot-lab.info',\n",
       " 'node-a8-112.grenoble.iot-lab.info',\n",
       " 'node-a8-109.grenoble.iot-lab.info',\n",
       " 'node-a8-129.grenoble.iot-lab.info',\n",
       " 'node-a8-103.grenoble.iot-lab.info',\n",
       " 'node-a8-123.grenoble.iot-lab.info',\n",
       " 'node-a8-134.grenoble.iot-lab.info',\n",
       " 'node-a8-15.grenoble.iot-lab.info',\n",
       " 'node-a8-183.grenoble.iot-lab.info',\n",
       " 'node-a8-182.grenoble.iot-lab.info',\n",
       " 'node-a8-177.grenoble.iot-lab.info',\n",
       " 'node-a8-19.grenoble.iot-lab.info',\n",
       " 'node-a8-150.grenoble.iot-lab.info',\n",
       " 'node-a8-166.grenoble.iot-lab.info',\n",
       " 'node-a8-168.grenoble.iot-lab.info',\n",
       " 'node-a8-18.grenoble.iot-lab.info',\n",
       " 'node-a8-192.grenoble.iot-lab.info',\n",
       " 'node-a8-12.grenoble.iot-lab.info',\n",
       " 'node-a8-153.grenoble.iot-lab.info',\n",
       " 'node-a8-133.grenoble.iot-lab.info',\n",
       " 'node-a8-120.grenoble.iot-lab.info',\n",
       " 'node-a8-188.grenoble.iot-lab.info',\n",
       " 'node-a8-136.grenoble.iot-lab.info',\n",
       " 'node-a8-17.grenoble.iot-lab.info',\n",
       " 'node-a8-128.grenoble.iot-lab.info',\n",
       " 'node-a8-180.grenoble.iot-lab.info',\n",
       " 'node-a8-181.grenoble.iot-lab.info',\n",
       " 'node-a8-119.grenoble.iot-lab.info',\n",
       " 'node-a8-142.grenoble.iot-lab.info',\n",
       " 'node-a8-16.grenoble.iot-lab.info',\n",
       " 'node-a8-116.grenoble.iot-lab.info',\n",
       " 'node-a8-127.grenoble.iot-lab.info',\n",
       " 'node-a8-170.grenoble.iot-lab.info',\n",
       " 'node-a8-14.grenoble.iot-lab.info',\n",
       " 'node-a8-193.grenoble.iot-lab.info',\n",
       " 'node-a8-106.grenoble.iot-lab.info',\n",
       " 'node-a8-126.grenoble.iot-lab.info',\n",
       " 'node-a8-13.grenoble.iot-lab.info',\n",
       " 'node-a8-189.grenoble.iot-lab.info',\n",
       " 'node-a8-157.grenoble.iot-lab.info',\n",
       " 'node-a8-113.grenoble.iot-lab.info',\n",
       " 'node-a8-117.grenoble.iot-lab.info',\n",
       " 'node-a8-154.grenoble.iot-lab.info',\n",
       " 'node-a8-195.grenoble.iot-lab.info',\n",
       " 'node-a8-173.grenoble.iot-lab.info',\n",
       " 'node-a8-147.grenoble.iot-lab.info',\n",
       " 'node-a8-135.grenoble.iot-lab.info',\n",
       " 'node-a8-151.grenoble.iot-lab.info',\n",
       " 'node-a8-187.grenoble.iot-lab.info',\n",
       " 'node-a8-125.grenoble.iot-lab.info',\n",
       " 'node-a8-108.grenoble.iot-lab.info',\n",
       " 'node-a8-161.grenoble.iot-lab.info',\n",
       " 'node-a8-155.grenoble.iot-lab.info',\n",
       " 'node-a8-107.grenoble.iot-lab.info',\n",
       " 'node-a8-131.grenoble.iot-lab.info',\n",
       " 'node-a8-146.grenoble.iot-lab.info',\n",
       " 'node-a8-121.grenoble.iot-lab.info',\n",
       " 'node-a8-171.grenoble.iot-lab.info',\n",
       " 'node-a8-104.grenoble.iot-lab.info',\n",
       " 'node-a8-137.grenoble.iot-lab.info',\n",
       " 'node-a8-163.grenoble.iot-lab.info',\n",
       " 'node-a8-10.grenoble.iot-lab.info',\n",
       " 'node-a8-115.grenoble.iot-lab.info',\n",
       " 'node-a8-179.grenoble.iot-lab.info',\n",
       " 'node-a8-144.grenoble.iot-lab.info',\n",
       " 'node-a8-175.grenoble.iot-lab.info',\n",
       " 'node-a8-152.grenoble.iot-lab.info',\n",
       " 'node-a8-1.grenoble.iot-lab.info',\n",
       " 'node-a8-118.grenoble.iot-lab.info',\n",
       " 'node-a8-191.grenoble.iot-lab.info',\n",
       " 'node-a8-169.grenoble.iot-lab.info',\n",
       " 'node-a8-176.grenoble.iot-lab.info',\n",
       " 'node-a8-139.grenoble.iot-lab.info',\n",
       " 'node-rpi3-5.grenoble.iot-lab.info',\n",
       " 'node-rpi3-1.grenoble.iot-lab.info',\n",
       " 'node-rpi3-3.grenoble.iot-lab.info',\n",
       " 'node-rpi3-4.grenoble.iot-lab.info',\n",
       " 'node-rpi3-2.grenoble.iot-lab.info']"
      ]
     },
     "execution_count": 6,
     "metadata": {},
     "output_type": "execute_result"
    }
   ],
   "source": [
    "linux_grenoble_1.nodes"
   ]
  },
  {
   "cell_type": "markdown",
   "id": "094fe3d2-5a83-4884-9943-38e7a11091c7",
   "metadata": {},
   "source": [
    "### Run Fetch Addresses"
   ]
  },
  {
   "cell_type": "code",
   "execution_count": 7,
   "id": "1a2caf02-aa38-4df2-9b12-95f97eec11a8",
   "metadata": {},
   "outputs": [
    {
     "name": "stdout",
     "output_type": "stream",
     "text": [
      "linux-grenoble: Starting initial fetch address run.\n",
      "linux-grenoble: Deleting the fetched addresses on site.\n",
      "linux-grenoble: Openning connection to grenoble\n",
      "linux-grenoble: Deleting the local addresses.\n",
      "linux-grenoble: Sending the nodes.txt.\n",
      "linux-grenoble: Deleting the local nodes.txt.\n",
      "Encountered a bad command exit code!\n",
      "\n",
      "Command: './experiment_data/387556/intermediate/grenoble/linux_1/nodes.txt'\n",
      "\n",
      "Exit code: 127\n",
      "\n",
      "Stdout: already printed\n",
      "\n",
      "Stderr:\n",
      "\n",
      "/bin/bash: ./experiment_data/387556/intermediate/grenoble/linux_1/nodes.txt: No such file or directory\n",
      "\n",
      "\n",
      "linux-grenoble: Deleting the nodes.txt addresses on grenoble.\n",
      "linux-grenoble: Openning connection to grenoble\n",
      "linux-grenoble: Writing nodes to local.\n",
      "linux-grenoble: Putting nodes on grenoble.\n",
      "linux-grenoble: Openning connection to grenoble\n",
      "linux-grenoble: Openning connection to grenoble\n",
      "linux-grenoble: Running fetch addresses on site.\n",
      "Site: grenoble\n",
      "Reading nodes from: ./linux_1/nodes.txt\n",
      "In fetch addresses.\n",
      "There are 89 number of hosts.\n",
      "Executing 8 iterations.\n",
      "Node per iteration: 10\n",
      "Openning connection to node-a8-11.grenoble.iot-lab.info\n",
      "Openning connection to node-a8-162.grenoble.iot-lab.info\n",
      "Openning connection to node-a8-122.grenoble.iot-lab.info\n",
      "Openning connection to node-a8-110.grenoble.iot-lab.info\n",
      "Openning connection to node-a8-156.grenoble.iot-lab.info\n",
      "Openning connection to node-a8-184.grenoble.iot-lab.info\n",
      "Openning connection to node-a8-194.grenoble.iot-lab.info\n",
      "Openning connection to node-a8-105.grenoble.iot-lab.info\n",
      "Openning connection to node-a8-185.grenoble.iot-lab.info\n",
      "Openning connection to node-a8-190.grenoble.iot-lab.info\n",
      "Starting iteration with: dict_keys(['node-a8-11.grenoble.iot-lab.info', 'node-a8-162.grenoble.iot-lab.info', 'node-a8-122.grenoble.iot-lab.info', 'node-a8-110.grenoble.iot-lab.info', 'node-a8-156.grenoble.iot-lab.info', 'node-a8-184.grenoble.iot-lab.info', 'node-a8-194.grenoble.iot-lab.info', 'node-a8-105.grenoble.iot-lab.info', 'node-a8-185.grenoble.iot-lab.info', 'node-a8-190.grenoble.iot-lab.info'])\n",
      "Closing connections to dict_keys(['node-a8-11.grenoble.iot-lab.info', 'node-a8-162.grenoble.iot-lab.info', 'node-a8-122.grenoble.iot-lab.info', 'node-a8-110.grenoble.iot-lab.info', 'node-a8-156.grenoble.iot-lab.info', 'node-a8-184.grenoble.iot-lab.info', 'node-a8-194.grenoble.iot-lab.info', 'node-a8-105.grenoble.iot-lab.info', 'node-a8-185.grenoble.iot-lab.info', 'node-a8-190.grenoble.iot-lab.info'])\n",
      "Node per iteration: 10\n",
      "Openning connection to node-a8-165.grenoble.iot-lab.info\n",
      "Openning connection to node-a8-124.grenoble.iot-lab.info\n",
      "Openning connection to node-a8-112.grenoble.iot-lab.info\n",
      "Openning connection to node-a8-109.grenoble.iot-lab.info\n",
      "Openning connection to node-a8-129.grenoble.iot-lab.info\n",
      "Openning connection to node-a8-103.grenoble.iot-lab.info\n",
      "Openning connection to node-a8-123.grenoble.iot-lab.info\n",
      "Openning connection to node-a8-134.grenoble.iot-lab.info\n",
      "Openning connection to node-a8-15.grenoble.iot-lab.info\n",
      "Openning connection to node-a8-183.grenoble.iot-lab.info\n",
      "Starting iteration with: dict_keys(['node-a8-165.grenoble.iot-lab.info', 'node-a8-124.grenoble.iot-lab.info', 'node-a8-112.grenoble.iot-lab.info', 'node-a8-109.grenoble.iot-lab.info', 'node-a8-129.grenoble.iot-lab.info', 'node-a8-103.grenoble.iot-lab.info', 'node-a8-123.grenoble.iot-lab.info', 'node-a8-134.grenoble.iot-lab.info', 'node-a8-15.grenoble.iot-lab.info', 'node-a8-183.grenoble.iot-lab.info'])\n",
      "Closing connections to dict_keys(['node-a8-165.grenoble.iot-lab.info', 'node-a8-124.grenoble.iot-lab.info', 'node-a8-112.grenoble.iot-lab.info', 'node-a8-109.grenoble.iot-lab.info', 'node-a8-129.grenoble.iot-lab.info', 'node-a8-103.grenoble.iot-lab.info', 'node-a8-123.grenoble.iot-lab.info', 'node-a8-134.grenoble.iot-lab.info', 'node-a8-15.grenoble.iot-lab.info', 'node-a8-183.grenoble.iot-lab.info'])\n",
      "Node per iteration: 10\n",
      "Openning connection to node-a8-182.grenoble.iot-lab.info\n",
      "Openning connection to node-a8-177.grenoble.iot-lab.info\n",
      "Openning connection to node-a8-19.grenoble.iot-lab.info\n",
      "Openning connection to node-a8-150.grenoble.iot-lab.info\n",
      "Openning connection to node-a8-166.grenoble.iot-lab.info\n",
      "Openning connection to node-a8-168.grenoble.iot-lab.info\n",
      "Openning connection to node-a8-18.grenoble.iot-lab.info\n",
      "Openning connection to node-a8-192.grenoble.iot-lab.info\n",
      "Openning connection to node-a8-12.grenoble.iot-lab.info\n",
      "Openning connection to node-a8-153.grenoble.iot-lab.info\n",
      "Starting iteration with: dict_keys(['node-a8-182.grenoble.iot-lab.info', 'node-a8-177.grenoble.iot-lab.info', 'node-a8-19.grenoble.iot-lab.info', 'node-a8-150.grenoble.iot-lab.info', 'node-a8-166.grenoble.iot-lab.info', 'node-a8-168.grenoble.iot-lab.info', 'node-a8-18.grenoble.iot-lab.info', 'node-a8-192.grenoble.iot-lab.info', 'node-a8-12.grenoble.iot-lab.info', 'node-a8-153.grenoble.iot-lab.info'])\n",
      "Closing connections to dict_keys(['node-a8-182.grenoble.iot-lab.info', 'node-a8-177.grenoble.iot-lab.info', 'node-a8-19.grenoble.iot-lab.info', 'node-a8-150.grenoble.iot-lab.info', 'node-a8-166.grenoble.iot-lab.info', 'node-a8-168.grenoble.iot-lab.info', 'node-a8-18.grenoble.iot-lab.info', 'node-a8-192.grenoble.iot-lab.info', 'node-a8-12.grenoble.iot-lab.info', 'node-a8-153.grenoble.iot-lab.info'])\n",
      "Node per iteration: 10\n",
      "Openning connection to node-a8-133.grenoble.iot-lab.info\n",
      "Openning connection to node-a8-120.grenoble.iot-lab.info\n",
      "Openning connection to node-a8-188.grenoble.iot-lab.info\n",
      "Openning connection to node-a8-136.grenoble.iot-lab.info\n",
      "Openning connection to node-a8-17.grenoble.iot-lab.info\n",
      "Openning connection to node-a8-128.grenoble.iot-lab.info\n",
      "Openning connection to node-a8-180.grenoble.iot-lab.info\n",
      "Openning connection to node-a8-181.grenoble.iot-lab.info\n",
      "Openning connection to node-a8-119.grenoble.iot-lab.info\n",
      "Openning connection to node-a8-142.grenoble.iot-lab.info\n",
      "Starting iteration with: dict_keys(['node-a8-133.grenoble.iot-lab.info', 'node-a8-120.grenoble.iot-lab.info', 'node-a8-188.grenoble.iot-lab.info', 'node-a8-136.grenoble.iot-lab.info', 'node-a8-17.grenoble.iot-lab.info', 'node-a8-128.grenoble.iot-lab.info', 'node-a8-180.grenoble.iot-lab.info', 'node-a8-181.grenoble.iot-lab.info', 'node-a8-119.grenoble.iot-lab.info', 'node-a8-142.grenoble.iot-lab.info'])\n",
      "Closing connections to dict_keys(['node-a8-133.grenoble.iot-lab.info', 'node-a8-120.grenoble.iot-lab.info', 'node-a8-188.grenoble.iot-lab.info', 'node-a8-136.grenoble.iot-lab.info', 'node-a8-17.grenoble.iot-lab.info', 'node-a8-128.grenoble.iot-lab.info', 'node-a8-180.grenoble.iot-lab.info', 'node-a8-181.grenoble.iot-lab.info', 'node-a8-119.grenoble.iot-lab.info', 'node-a8-142.grenoble.iot-lab.info'])\n",
      "Node per iteration: 10\n",
      "Openning connection to node-a8-16.grenoble.iot-lab.info\n",
      "Openning connection to node-a8-116.grenoble.iot-lab.info\n",
      "Openning connection to node-a8-127.grenoble.iot-lab.info\n",
      "Openning connection to node-a8-170.grenoble.iot-lab.info\n",
      "Openning connection to node-a8-14.grenoble.iot-lab.info\n",
      "Openning connection to node-a8-193.grenoble.iot-lab.info\n",
      "Openning connection to node-a8-106.grenoble.iot-lab.info\n",
      "Openning connection to node-a8-126.grenoble.iot-lab.info\n",
      "Openning connection to node-a8-13.grenoble.iot-lab.info\n",
      "Openning connection to node-a8-189.grenoble.iot-lab.info\n",
      "Starting iteration with: dict_keys(['node-a8-16.grenoble.iot-lab.info', 'node-a8-116.grenoble.iot-lab.info', 'node-a8-127.grenoble.iot-lab.info', 'node-a8-170.grenoble.iot-lab.info', 'node-a8-14.grenoble.iot-lab.info', 'node-a8-193.grenoble.iot-lab.info', 'node-a8-106.grenoble.iot-lab.info', 'node-a8-126.grenoble.iot-lab.info', 'node-a8-13.grenoble.iot-lab.info', 'node-a8-189.grenoble.iot-lab.info'])\n",
      "Closing connections to dict_keys(['node-a8-16.grenoble.iot-lab.info', 'node-a8-116.grenoble.iot-lab.info', 'node-a8-127.grenoble.iot-lab.info', 'node-a8-170.grenoble.iot-lab.info', 'node-a8-14.grenoble.iot-lab.info', 'node-a8-193.grenoble.iot-lab.info', 'node-a8-106.grenoble.iot-lab.info', 'node-a8-126.grenoble.iot-lab.info', 'node-a8-13.grenoble.iot-lab.info', 'node-a8-189.grenoble.iot-lab.info'])\n",
      "Node per iteration: 10\n",
      "Openning connection to node-a8-157.grenoble.iot-lab.info\n",
      "Openning connection to node-a8-113.grenoble.iot-lab.info\n",
      "Openning connection to node-a8-117.grenoble.iot-lab.info\n",
      "Openning connection to node-a8-154.grenoble.iot-lab.info\n",
      "Openning connection to node-a8-195.grenoble.iot-lab.info\n",
      "Openning connection to node-a8-173.grenoble.iot-lab.info\n",
      "Openning connection to node-a8-147.grenoble.iot-lab.info\n",
      "Openning connection to node-a8-135.grenoble.iot-lab.info\n",
      "Openning connection to node-a8-151.grenoble.iot-lab.info\n",
      "Openning connection to node-a8-187.grenoble.iot-lab.info\n",
      "Starting iteration with: dict_keys(['node-a8-157.grenoble.iot-lab.info', 'node-a8-113.grenoble.iot-lab.info', 'node-a8-117.grenoble.iot-lab.info', 'node-a8-154.grenoble.iot-lab.info', 'node-a8-195.grenoble.iot-lab.info', 'node-a8-173.grenoble.iot-lab.info', 'node-a8-147.grenoble.iot-lab.info', 'node-a8-135.grenoble.iot-lab.info', 'node-a8-151.grenoble.iot-lab.info', 'node-a8-187.grenoble.iot-lab.info'])\n",
      "Closing connections to dict_keys(['node-a8-157.grenoble.iot-lab.info', 'node-a8-113.grenoble.iot-lab.info', 'node-a8-117.grenoble.iot-lab.info', 'node-a8-154.grenoble.iot-lab.info', 'node-a8-195.grenoble.iot-lab.info', 'node-a8-173.grenoble.iot-lab.info', 'node-a8-147.grenoble.iot-lab.info', 'node-a8-135.grenoble.iot-lab.info', 'node-a8-151.grenoble.iot-lab.info', 'node-a8-187.grenoble.iot-lab.info'])\n",
      "Node per iteration: 10\n",
      "Openning connection to node-a8-125.grenoble.iot-lab.info\n",
      "Openning connection to node-a8-108.grenoble.iot-lab.info\n",
      "Openning connection to node-a8-161.grenoble.iot-lab.info\n",
      "Openning connection to node-a8-155.grenoble.iot-lab.info\n",
      "Openning connection to node-a8-107.grenoble.iot-lab.info\n",
      "Openning connection to node-a8-131.grenoble.iot-lab.info\n",
      "Openning connection to node-a8-146.grenoble.iot-lab.info\n",
      "Openning connection to node-a8-121.grenoble.iot-lab.info\n",
      "Openning connection to node-a8-171.grenoble.iot-lab.info\n",
      "Openning connection to node-a8-104.grenoble.iot-lab.info\n",
      "Starting iteration with: dict_keys(['node-a8-125.grenoble.iot-lab.info', 'node-a8-108.grenoble.iot-lab.info', 'node-a8-161.grenoble.iot-lab.info', 'node-a8-155.grenoble.iot-lab.info', 'node-a8-107.grenoble.iot-lab.info', 'node-a8-131.grenoble.iot-lab.info', 'node-a8-146.grenoble.iot-lab.info', 'node-a8-121.grenoble.iot-lab.info', 'node-a8-171.grenoble.iot-lab.info', 'node-a8-104.grenoble.iot-lab.info'])\n",
      "Closing connections to dict_keys(['node-a8-125.grenoble.iot-lab.info', 'node-a8-108.grenoble.iot-lab.info', 'node-a8-161.grenoble.iot-lab.info', 'node-a8-155.grenoble.iot-lab.info', 'node-a8-107.grenoble.iot-lab.info', 'node-a8-131.grenoble.iot-lab.info', 'node-a8-146.grenoble.iot-lab.info', 'node-a8-121.grenoble.iot-lab.info', 'node-a8-171.grenoble.iot-lab.info', 'node-a8-104.grenoble.iot-lab.info'])\n",
      "Node per iteration: 10\n",
      "Openning connection to node-a8-137.grenoble.iot-lab.info\n",
      "Openning connection to node-a8-163.grenoble.iot-lab.info\n",
      "Openning connection to node-a8-10.grenoble.iot-lab.info\n",
      "Openning connection to node-a8-115.grenoble.iot-lab.info\n",
      "Openning connection to node-a8-179.grenoble.iot-lab.info\n",
      "Openning connection to node-a8-144.grenoble.iot-lab.info\n",
      "Openning connection to node-a8-175.grenoble.iot-lab.info\n",
      "Openning connection to node-a8-152.grenoble.iot-lab.info\n",
      "Openning connection to node-a8-1.grenoble.iot-lab.info\n",
      "Openning connection to node-a8-118.grenoble.iot-lab.info\n",
      "Starting iteration with: dict_keys(['node-a8-137.grenoble.iot-lab.info', 'node-a8-163.grenoble.iot-lab.info', 'node-a8-10.grenoble.iot-lab.info', 'node-a8-115.grenoble.iot-lab.info', 'node-a8-179.grenoble.iot-lab.info', 'node-a8-144.grenoble.iot-lab.info', 'node-a8-175.grenoble.iot-lab.info', 'node-a8-152.grenoble.iot-lab.info', 'node-a8-1.grenoble.iot-lab.info', 'node-a8-118.grenoble.iot-lab.info'])\n",
      "Closing connections to dict_keys(['node-a8-137.grenoble.iot-lab.info', 'node-a8-163.grenoble.iot-lab.info', 'node-a8-10.grenoble.iot-lab.info', 'node-a8-115.grenoble.iot-lab.info', 'node-a8-179.grenoble.iot-lab.info', 'node-a8-144.grenoble.iot-lab.info', 'node-a8-175.grenoble.iot-lab.info', 'node-a8-152.grenoble.iot-lab.info', 'node-a8-1.grenoble.iot-lab.info', 'node-a8-118.grenoble.iot-lab.info'])\n",
      "Node per iteration: 9\n",
      "Openning connection to node-a8-191.grenoble.iot-lab.info\n",
      "Openning connection to node-a8-169.grenoble.iot-lab.info\n",
      "Openning connection to node-a8-176.grenoble.iot-lab.info\n",
      "Openning connection to node-a8-139.grenoble.iot-lab.info\n",
      "Openning connection to node-rpi3-5.grenoble.iot-lab.info\n",
      "Openning connection to node-rpi3-1.grenoble.iot-lab.info\n",
      "Openning connection to node-rpi3-3.grenoble.iot-lab.info\n",
      "Openning connection to node-rpi3-4.grenoble.iot-lab.info\n",
      "Openning connection to node-rpi3-2.grenoble.iot-lab.info\n",
      "Starting iteration with: dict_keys(['node-a8-191.grenoble.iot-lab.info', 'node-a8-169.grenoble.iot-lab.info', 'node-a8-176.grenoble.iot-lab.info', 'node-a8-139.grenoble.iot-lab.info', 'node-rpi3-5.grenoble.iot-lab.info', 'node-rpi3-1.grenoble.iot-lab.info', 'node-rpi3-3.grenoble.iot-lab.info', 'node-rpi3-4.grenoble.iot-lab.info', 'node-rpi3-2.grenoble.iot-lab.info'])\n",
      "Closing connections to dict_keys(['node-a8-191.grenoble.iot-lab.info', 'node-a8-169.grenoble.iot-lab.info', 'node-a8-176.grenoble.iot-lab.info', 'node-a8-139.grenoble.iot-lab.info', 'node-rpi3-5.grenoble.iot-lab.info', 'node-rpi3-1.grenoble.iot-lab.info', 'node-rpi3-3.grenoble.iot-lab.info', 'node-rpi3-4.grenoble.iot-lab.info', 'node-rpi3-2.grenoble.iot-lab.info'])\n",
      "SUCCESS\n",
      "linux-grenoble: Openning connection to grenoble\n",
      "Getting from:  ping_experiments/linux_1/node_ids_to_addresses.json\n",
      "grenoble.iot-lab.info\n"
     ]
    }
   ],
   "source": [
    "linux_grenoble_1.run_fetch_addresses()"
   ]
  },
  {
   "cell_type": "code",
   "execution_count": 8,
   "id": "10e95bd8-776b-4223-a40b-676b488a0376",
   "metadata": {},
   "outputs": [
    {
     "name": "stdout",
     "output_type": "stream",
     "text": [
      "linux-grenoble: Openning connection to grenoble\n",
      "Getting from:  ping_experiments/linux_1/node_ids_to_addresses.json\n",
      "grenoble.iot-lab.info\n",
      "linux-grenoble: 89 adresses received!\n"
     ]
    }
   ],
   "source": [
    "linux_grenoble_1.digest_new_addresses()"
   ]
  },
  {
   "cell_type": "code",
   "execution_count": 9,
   "id": "4e37dfa5-7a52-4bb0-8060-2a446c1b0eed",
   "metadata": {},
   "outputs": [
    {
     "data": {
      "text/plain": [
       "{'node-a8-11.grenoble.iot-lab.info': '2001:660:5307:3000::b',\n",
       " 'node-a8-162.grenoble.iot-lab.info': '2001:660:5307:3000::a2',\n",
       " 'node-a8-122.grenoble.iot-lab.info': '2001:660:5307:3000::7a',\n",
       " 'node-a8-110.grenoble.iot-lab.info': '2001:660:5307:3000::6e',\n",
       " 'node-a8-156.grenoble.iot-lab.info': '2001:660:5307:3000::9c',\n",
       " 'node-a8-184.grenoble.iot-lab.info': '2001:660:5307:3000::b8',\n",
       " 'node-a8-194.grenoble.iot-lab.info': '2001:660:5307:3000::c2',\n",
       " 'node-a8-105.grenoble.iot-lab.info': '2001:660:5307:3000::69',\n",
       " 'node-a8-185.grenoble.iot-lab.info': '2001:660:5307:3000::b9',\n",
       " 'node-a8-190.grenoble.iot-lab.info': '2001:660:5307:3000::be',\n",
       " 'node-a8-165.grenoble.iot-lab.info': '2001:660:5307:3000::a5',\n",
       " 'node-a8-124.grenoble.iot-lab.info': '2001:660:5307:3000::7c',\n",
       " 'node-a8-112.grenoble.iot-lab.info': '2001:660:5307:3000::70',\n",
       " 'node-a8-109.grenoble.iot-lab.info': '2001:660:5307:3000::6d',\n",
       " 'node-a8-129.grenoble.iot-lab.info': '2001:660:5307:3000::81',\n",
       " 'node-a8-103.grenoble.iot-lab.info': '2001:660:5307:3000::67',\n",
       " 'node-a8-123.grenoble.iot-lab.info': '2001:660:5307:3000::7b',\n",
       " 'node-a8-134.grenoble.iot-lab.info': '2001:660:5307:3000::86',\n",
       " 'node-a8-15.grenoble.iot-lab.info': '2001:660:5307:3000::f',\n",
       " 'node-a8-183.grenoble.iot-lab.info': '2001:660:5307:3000::b7',\n",
       " 'node-a8-182.grenoble.iot-lab.info': '2001:660:5307:3000::b6',\n",
       " 'node-a8-177.grenoble.iot-lab.info': '2001:660:5307:3000::b1',\n",
       " 'node-a8-19.grenoble.iot-lab.info': '2001:660:5307:3000::13',\n",
       " 'node-a8-150.grenoble.iot-lab.info': '2001:660:5307:3000::96',\n",
       " 'node-a8-166.grenoble.iot-lab.info': '2001:660:5307:3000::a6',\n",
       " 'node-a8-168.grenoble.iot-lab.info': '2001:660:5307:3000::a8',\n",
       " 'node-a8-18.grenoble.iot-lab.info': '2001:660:5307:3000::12',\n",
       " 'node-a8-192.grenoble.iot-lab.info': '2001:660:5307:3000::c0',\n",
       " 'node-a8-12.grenoble.iot-lab.info': '2001:660:5307:3000::c',\n",
       " 'node-a8-153.grenoble.iot-lab.info': '2001:660:5307:3000::99',\n",
       " 'node-a8-133.grenoble.iot-lab.info': '2001:660:5307:3000::85',\n",
       " 'node-a8-120.grenoble.iot-lab.info': '2001:660:5307:3000::78',\n",
       " 'node-a8-188.grenoble.iot-lab.info': '2001:660:5307:3000::bc',\n",
       " 'node-a8-136.grenoble.iot-lab.info': '2001:660:5307:3000::88',\n",
       " 'node-a8-17.grenoble.iot-lab.info': '2001:660:5307:3000::11',\n",
       " 'node-a8-128.grenoble.iot-lab.info': '2001:660:5307:3000::80',\n",
       " 'node-a8-180.grenoble.iot-lab.info': '2001:660:5307:3000::b4',\n",
       " 'node-a8-181.grenoble.iot-lab.info': '2001:660:5307:3000::b5',\n",
       " 'node-a8-119.grenoble.iot-lab.info': '2001:660:5307:3000::77',\n",
       " 'node-a8-142.grenoble.iot-lab.info': '2001:660:5307:3000::8e',\n",
       " 'node-a8-16.grenoble.iot-lab.info': '2001:660:5307:3000::10',\n",
       " 'node-a8-116.grenoble.iot-lab.info': '2001:660:5307:3000::74',\n",
       " 'node-a8-127.grenoble.iot-lab.info': '2001:660:5307:3000::7f',\n",
       " 'node-a8-170.grenoble.iot-lab.info': '2001:660:5307:3000::aa',\n",
       " 'node-a8-14.grenoble.iot-lab.info': '2001:660:5307:3000::e',\n",
       " 'node-a8-193.grenoble.iot-lab.info': '2001:660:5307:3000::c1',\n",
       " 'node-a8-106.grenoble.iot-lab.info': '2001:660:5307:3000::6a',\n",
       " 'node-a8-126.grenoble.iot-lab.info': '2001:660:5307:3000::7e',\n",
       " 'node-a8-13.grenoble.iot-lab.info': '2001:660:5307:3000::d',\n",
       " 'node-a8-189.grenoble.iot-lab.info': '2001:660:5307:3000::bd',\n",
       " 'node-a8-157.grenoble.iot-lab.info': '2001:660:5307:3000::9d',\n",
       " 'node-a8-113.grenoble.iot-lab.info': '2001:660:5307:3000::71',\n",
       " 'node-a8-117.grenoble.iot-lab.info': '2001:660:5307:3000::75',\n",
       " 'node-a8-154.grenoble.iot-lab.info': '2001:660:5307:3000::9a',\n",
       " 'node-a8-195.grenoble.iot-lab.info': '2001:660:5307:3000::c3',\n",
       " 'node-a8-173.grenoble.iot-lab.info': '2001:660:5307:3000::ad',\n",
       " 'node-a8-147.grenoble.iot-lab.info': '2001:660:5307:3000::93',\n",
       " 'node-a8-135.grenoble.iot-lab.info': '2001:660:5307:3000::87',\n",
       " 'node-a8-151.grenoble.iot-lab.info': '2001:660:5307:3000::97',\n",
       " 'node-a8-187.grenoble.iot-lab.info': '2001:660:5307:3000::bb',\n",
       " 'node-a8-125.grenoble.iot-lab.info': '2001:660:5307:3000::7d',\n",
       " 'node-a8-108.grenoble.iot-lab.info': '2001:660:5307:3000::6c',\n",
       " 'node-a8-161.grenoble.iot-lab.info': '2001:660:5307:3000::a1',\n",
       " 'node-a8-155.grenoble.iot-lab.info': '2001:660:5307:3000::9b',\n",
       " 'node-a8-107.grenoble.iot-lab.info': '2001:660:5307:3000::6b',\n",
       " 'node-a8-131.grenoble.iot-lab.info': '2001:660:5307:3000::83',\n",
       " 'node-a8-146.grenoble.iot-lab.info': '2001:660:5307:3000::92',\n",
       " 'node-a8-121.grenoble.iot-lab.info': '2001:660:5307:3000::79',\n",
       " 'node-a8-171.grenoble.iot-lab.info': '2001:660:5307:3000::ab',\n",
       " 'node-a8-104.grenoble.iot-lab.info': '2001:660:5307:3000::68',\n",
       " 'node-a8-137.grenoble.iot-lab.info': '2001:660:5307:3000::89',\n",
       " 'node-a8-163.grenoble.iot-lab.info': '2001:660:5307:3000::a3',\n",
       " 'node-a8-10.grenoble.iot-lab.info': '2001:660:5307:3000::a',\n",
       " 'node-a8-115.grenoble.iot-lab.info': '2001:660:5307:3000::73',\n",
       " 'node-a8-179.grenoble.iot-lab.info': '2001:660:5307:3000::b3',\n",
       " 'node-a8-144.grenoble.iot-lab.info': '2001:660:5307:3000::90',\n",
       " 'node-a8-175.grenoble.iot-lab.info': '2001:660:5307:3000::af',\n",
       " 'node-a8-152.grenoble.iot-lab.info': '2001:660:5307:3000::98',\n",
       " 'node-a8-1.grenoble.iot-lab.info': '2001:660:5307:3000::1',\n",
       " 'node-a8-118.grenoble.iot-lab.info': '2001:660:5307:3000::76',\n",
       " 'node-a8-191.grenoble.iot-lab.info': '2001:660:5307:3000::bf',\n",
       " 'node-a8-169.grenoble.iot-lab.info': '2001:660:5307:3000::a9',\n",
       " 'node-a8-176.grenoble.iot-lab.info': '2001:660:5307:3000::b0',\n",
       " 'node-a8-139.grenoble.iot-lab.info': '2001:660:5307:3000::8b',\n",
       " 'node-rpi3-5.grenoble.iot-lab.info': '2001:660:5307:3000::e9',\n",
       " 'node-rpi3-1.grenoble.iot-lab.info': '2001:660:5307:3000::e5',\n",
       " 'node-rpi3-3.grenoble.iot-lab.info': '2001:660:5307:3000::e7',\n",
       " 'node-rpi3-4.grenoble.iot-lab.info': '2001:660:5307:3000::e8',\n",
       " 'node-rpi3-2.grenoble.iot-lab.info': '2001:660:5307:3000::e6'}"
      ]
     },
     "execution_count": 9,
     "metadata": {},
     "output_type": "execute_result"
    }
   ],
   "source": [
    "linux_grenoble_1.nodes_to_global_addresses"
   ]
  },
  {
   "cell_type": "code",
   "execution_count": 10,
   "id": "09b0f136-e57f-4888-9318-49eab345da15",
   "metadata": {},
   "outputs": [
    {
     "data": {
      "text/plain": [
       "{}"
      ]
     },
     "execution_count": 10,
     "metadata": {},
     "output_type": "execute_result"
    }
   ],
   "source": [
    "linux_grenoble_1.awaiting_nodes_to_global_addresses"
   ]
  },
  {
   "cell_type": "code",
   "execution_count": 11,
   "id": "4c19f3d5-27b3-4450-a575-06cd93440ffb",
   "metadata": {},
   "outputs": [
    {
     "name": "stdout",
     "output_type": "stream",
     "text": [
      "Stored 'linux_grenoble_1' (LinuxCoordinator)\n"
     ]
    }
   ],
   "source": [
    "%store linux_grenoble_1"
   ]
  },
  {
   "cell_type": "markdown",
   "id": "218d50b4-b0a9-498e-a8ad-c6ff03d47bd9",
   "metadata": {},
   "source": [
    "### Retry Fetch Addresses"
   ]
  },
  {
   "cell_type": "code",
   "execution_count": 10,
   "id": "cafec517-0f8d-459c-bca1-7fdb1ec7f8cd",
   "metadata": {},
   "outputs": [
    {
     "name": "stdout",
     "output_type": "stream",
     "text": [
      "linux-strasbourg: All addresses are compelete, nothing to rerun.\n"
     ]
    }
   ],
   "source": [
    "linux_grenoble_1.retry_fetch_addresses()"
   ]
  },
  {
   "cell_type": "code",
   "execution_count": 11,
   "id": "6508027e-06e7-4e8c-af3f-e28bfdb5c416",
   "metadata": {},
   "outputs": [
    {
     "data": {
      "text/plain": [
       "188"
      ]
     },
     "execution_count": 11,
     "metadata": {},
     "output_type": "execute_result"
    }
   ],
   "source": [
    "len(linux_grenoble_1.nodes_to_global_addresses.keys())"
   ]
  },
  {
   "cell_type": "code",
   "execution_count": 7,
   "id": "cbac7244-4573-4208-83ec-59e6da66534c",
   "metadata": {},
   "outputs": [
    {
     "name": "stdout",
     "output_type": "stream",
     "text": [
      "linux-strasbourg: Openning connection to strasbourg\n",
      "Getting from:  ping_experiments/linux/node_ids_to_addresses.json\n",
      "strasbourg.iot-lab.info\n",
      "linux-strasbourg: 2 adresses received!\n"
     ]
    }
   ],
   "source": [
    "linux_grenoble_1.digest_new_addresses()"
   ]
  },
  {
   "cell_type": "markdown",
   "id": "98edc054-38d1-4817-8b18-403745776e9b",
   "metadata": {},
   "source": [
    "### Store back the last state of the object"
   ]
  },
  {
   "cell_type": "code",
   "execution_count": 11,
   "id": "722c563b-ded5-45cb-9722-74106588f625",
   "metadata": {},
   "outputs": [
    {
     "name": "stdout",
     "output_type": "stream",
     "text": [
      "Stored 'linux_strasbourg' (LinuxCoordinator)\n"
     ]
    }
   ],
   "source": [
    "%store linux_grenoble_1"
   ]
  },
  {
   "cell_type": "markdown",
   "id": "f878aa81-924c-4d49-a707-8c3407e4e108",
   "metadata": {},
   "source": [
    "### Finished, rerun this for new fetch address round"
   ]
  },
  {
   "cell_type": "code",
   "execution_count": 1,
   "id": "29989c99-62ea-4c3d-a009-68a4698743bf",
   "metadata": {},
   "outputs": [
    {
     "data": {
      "text/plain": [
       "['node-a8-1.paris.iot-lab.info',\n",
       " 'node-a8-11.paris.iot-lab.info',\n",
       " 'node-a8-12.paris.iot-lab.info',\n",
       " 'node-a8-13.paris.iot-lab.info',\n",
       " 'node-a8-15.paris.iot-lab.info',\n",
       " 'node-a8-16.paris.iot-lab.info',\n",
       " 'node-a8-17.paris.iot-lab.info',\n",
       " 'node-a8-18.paris.iot-lab.info',\n",
       " 'node-a8-19.paris.iot-lab.info',\n",
       " 'node-a8-2.paris.iot-lab.info',\n",
       " 'node-a8-20.paris.iot-lab.info',\n",
       " 'node-a8-21.paris.iot-lab.info',\n",
       " 'node-a8-22.paris.iot-lab.info',\n",
       " 'node-a8-23.paris.iot-lab.info',\n",
       " 'node-a8-24.paris.iot-lab.info',\n",
       " 'node-a8-25.paris.iot-lab.info',\n",
       " 'node-a8-26.paris.iot-lab.info',\n",
       " 'node-a8-27.paris.iot-lab.info',\n",
       " 'node-a8-28.paris.iot-lab.info',\n",
       " 'node-a8-29.paris.iot-lab.info',\n",
       " 'node-a8-3.paris.iot-lab.info',\n",
       " 'node-a8-30.paris.iot-lab.info',\n",
       " 'node-a8-32.paris.iot-lab.info',\n",
       " 'node-a8-33.paris.iot-lab.info',\n",
       " 'node-a8-34.paris.iot-lab.info',\n",
       " 'node-a8-35.paris.iot-lab.info',\n",
       " 'node-a8-36.paris.iot-lab.info',\n",
       " 'node-a8-37.paris.iot-lab.info',\n",
       " 'node-a8-38.paris.iot-lab.info',\n",
       " 'node-a8-39.paris.iot-lab.info',\n",
       " 'node-a8-4.paris.iot-lab.info',\n",
       " 'node-a8-40.paris.iot-lab.info',\n",
       " 'node-a8-41.paris.iot-lab.info',\n",
       " 'node-a8-42.paris.iot-lab.info',\n",
       " 'node-a8-43.paris.iot-lab.info',\n",
       " 'node-a8-44.paris.iot-lab.info',\n",
       " 'node-a8-45.paris.iot-lab.info',\n",
       " 'node-a8-46.paris.iot-lab.info',\n",
       " 'node-a8-47.paris.iot-lab.info',\n",
       " 'node-a8-48.paris.iot-lab.info',\n",
       " 'node-a8-49.paris.iot-lab.info',\n",
       " 'node-a8-5.paris.iot-lab.info',\n",
       " 'node-a8-50.paris.iot-lab.info',\n",
       " 'node-a8-51.paris.iot-lab.info',\n",
       " 'node-a8-52.paris.iot-lab.info',\n",
       " 'node-a8-53.paris.iot-lab.info',\n",
       " 'node-a8-54.paris.iot-lab.info',\n",
       " 'node-a8-55.paris.iot-lab.info',\n",
       " 'node-a8-56.paris.iot-lab.info',\n",
       " 'node-a8-57.paris.iot-lab.info',\n",
       " 'node-a8-58.paris.iot-lab.info',\n",
       " 'node-a8-59.paris.iot-lab.info',\n",
       " 'node-a8-6.paris.iot-lab.info',\n",
       " 'node-a8-60.paris.iot-lab.info',\n",
       " 'node-a8-61.paris.iot-lab.info',\n",
       " 'node-a8-62.paris.iot-lab.info',\n",
       " 'node-a8-7.paris.iot-lab.info',\n",
       " 'node-a8-9.paris.iot-lab.info']"
      ]
     },
     "execution_count": 1,
     "metadata": {},
     "output_type": "execute_result"
    }
   ],
   "source": [
    "nodes = ['node-a8-1.paris.iot-lab.info',   \n",
    "         'node-a8-11.paris.iot-lab.info', 'node-a8-12.paris.iot-lab.info',                   \n",
    "         'node-a8-13.paris.iot-lab.info', 'node-a8-15.paris.iot-lab.info',                   \n",
    "         'node-a8-16.paris.iot-lab.info', 'node-a8-17.paris.iot-lab.info',                   \n",
    "         'node-a8-18.paris.iot-lab.info', 'node-a8-19.paris.iot-lab.info',                   \n",
    "         'node-a8-2.paris.iot-lab.info', 'node-a8-20.paris.iot-lab.info',                    \n",
    "         'node-a8-21.paris.iot-lab.info', 'node-a8-22.paris.iot-lab.info',                   \n",
    "         'node-a8-23.paris.iot-lab.info', 'node-a8-24.paris.iot-lab.info',                   \n",
    "         'node-a8-25.paris.iot-lab.info', 'node-a8-26.paris.iot-lab.info',                   \n",
    "         'node-a8-27.paris.iot-lab.info', 'node-a8-28.paris.iot-lab.info',                   \n",
    "         'node-a8-29.paris.iot-lab.info', 'node-a8-3.paris.iot-lab.info',                    \n",
    "         'node-a8-30.paris.iot-lab.info', 'node-a8-32.paris.iot-lab.info',                   \n",
    "         'node-a8-33.paris.iot-lab.info', 'node-a8-34.paris.iot-lab.info',                   \n",
    "         'node-a8-35.paris.iot-lab.info', 'node-a8-36.paris.iot-lab.info',                   \n",
    "         'node-a8-37.paris.iot-lab.info', 'node-a8-38.paris.iot-lab.info',                   \n",
    "         'node-a8-39.paris.iot-lab.info', 'node-a8-4.paris.iot-lab.info',                    \n",
    "         'node-a8-40.paris.iot-lab.info', 'node-a8-41.paris.iot-lab.info',                   \n",
    "         'node-a8-42.paris.iot-lab.info', 'node-a8-43.paris.iot-lab.info',                   \n",
    "         'node-a8-44.paris.iot-lab.info', 'node-a8-45.paris.iot-lab.info',                   \n",
    "         'node-a8-46.paris.iot-lab.info', 'node-a8-47.paris.iot-lab.info',                   \n",
    "         'node-a8-48.paris.iot-lab.info', 'node-a8-49.paris.iot-lab.info',                   \n",
    "         'node-a8-5.paris.iot-lab.info', 'node-a8-50.paris.iot-lab.info',                    \n",
    "         'node-a8-51.paris.iot-lab.info', 'node-a8-52.paris.iot-lab.info',                   \n",
    "         'node-a8-53.paris.iot-lab.info', 'node-a8-54.paris.iot-lab.info',                   \n",
    "         'node-a8-55.paris.iot-lab.info', 'node-a8-56.paris.iot-lab.info',                   \n",
    "         'node-a8-57.paris.iot-lab.info', 'node-a8-58.paris.iot-lab.info',                   \n",
    "         'node-a8-59.paris.iot-lab.info', 'node-a8-6.paris.iot-lab.info',                    \n",
    "         'node-a8-60.paris.iot-lab.info', 'node-a8-61.paris.iot-lab.info',                   \n",
    "         'node-a8-62.paris.iot-lab.info', 'node-a8-7.paris.iot-lab.info',                    \n",
    "         'node-a8-9.paris.iot-lab.info']   \n",
    "\n",
    "nodes"
   ]
  },
  {
   "cell_type": "code",
   "execution_count": null,
   "id": "d6453935-0583-4094-bcdc-f879fc0ae8a7",
   "metadata": {},
   "outputs": [],
   "source": []
  }
 ],
 "metadata": {
  "kernelspec": {
   "display_name": "Python 3 (ipykernel)",
   "language": "python",
   "name": "python3"
  },
  "language_info": {
   "codemirror_mode": {
    "name": "ipython",
    "version": 3
   },
   "file_extension": ".py",
   "mimetype": "text/x-python",
   "name": "python",
   "nbconvert_exporter": "python",
   "pygments_lexer": "ipython3",
   "version": "3.10.13"
  }
 },
 "nbformat": 4,
 "nbformat_minor": 5
}
