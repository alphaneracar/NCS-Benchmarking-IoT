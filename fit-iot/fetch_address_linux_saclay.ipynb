{
 "cells": [
  {
   "cell_type": "markdown",
   "id": "18667d47-2ea6-409b-a427-6d88561dcea5",
   "metadata": {},
   "source": [
    "## Refresh code in each 2 secs"
   ]
  },
  {
   "cell_type": "code",
   "execution_count": 1,
   "id": "0f62688d-c1c2-453b-adee-0702c1606de1",
   "metadata": {},
   "outputs": [],
   "source": [
    "%load_ext autoreload\n",
    "%autoreload 2"
   ]
  },
  {
   "cell_type": "markdown",
   "id": "140ff01e-4bf8-4cf8-890d-4ed32a6f04d7",
   "metadata": {},
   "source": [
    "### Store site coordinators"
   ]
  },
  {
   "cell_type": "code",
   "execution_count": 2,
   "id": "670c848b-906e-49de-b3a9-9903ecd8c7ab",
   "metadata": {},
   "outputs": [],
   "source": [
    "%store -r site_coordinators"
   ]
  },
  {
   "cell_type": "code",
   "execution_count": 3,
   "id": "369847ba-ce5b-4899-a748-20732be85191",
   "metadata": {},
   "outputs": [],
   "source": [
    "linux_saclay=site_coordinators[\"linux_saclay_1\"]"
   ]
  },
  {
   "cell_type": "markdown",
   "id": "e6a37995-63a8-4776-b880-9e434f204f52",
   "metadata": {},
   "source": [
    "### Initialize fetch address"
   ]
  },
  {
   "cell_type": "code",
   "execution_count": 4,
   "id": "695502e3-fd4f-4246-afc4-4bb9f4f0b071",
   "metadata": {},
   "outputs": [
    {
     "name": "stdout",
     "output_type": "stream",
     "text": [
      "linux-saclay: Initializing the awaiting_addresses dictionary.\n"
     ]
    }
   ],
   "source": [
    "#TODO: Call this in object\n",
    "linux_saclay.initialize_awaiting_address_dict()"
   ]
  },
  {
   "cell_type": "code",
   "execution_count": 5,
   "id": "887d8af5-d8b7-40b4-9347-ba5490417767",
   "metadata": {},
   "outputs": [],
   "source": [
    "## RERUN BR"
   ]
  },
  {
   "cell_type": "code",
   "execution_count": null,
   "id": "1ba6b2e1-0a30-49e9-8e35-3f97ab119b0a",
   "metadata": {},
   "outputs": [],
   "source": []
  },
  {
   "cell_type": "markdown",
   "id": "094fe3d2-5a83-4884-9943-38e7a11091c7",
   "metadata": {},
   "source": [
    "### Run Fetch Addresses"
   ]
  },
  {
   "cell_type": "code",
   "execution_count": 6,
   "id": "1a2caf02-aa38-4df2-9b12-95f97eec11a8",
   "metadata": {},
   "outputs": [
    {
     "name": "stdout",
     "output_type": "stream",
     "text": [
      "linux-saclay: Starting initial fetch address run.\n",
      "linux-saclay: Deleting the fetched addresses on site.\n",
      "linux-saclay: Openning connection to saclay\n",
      "linux-saclay: Deleting the local addresses.\n",
      "linux-saclay: Sending the nodes.txt.\n",
      "linux-saclay: Deleting the local nodes.txt.\n",
      "Encountered a bad command exit code!\n",
      "\n",
      "Command: './experiment_data/387556/intermediate/saclay/linux_1/nodes.txt'\n",
      "\n",
      "Exit code: 127\n",
      "\n",
      "Stdout: already printed\n",
      "\n",
      "Stderr:\n",
      "\n",
      "/bin/bash: ./experiment_data/387556/intermediate/saclay/linux_1/nodes.txt: No such file or directory\n",
      "\n",
      "\n",
      "linux-saclay: Deleting the nodes.txt addresses on saclay.\n",
      "linux-saclay: Openning connection to saclay\n",
      "linux-saclay: Writing nodes to local.\n",
      "linux-saclay: Putting nodes on saclay.\n",
      "linux-saclay: Openning connection to saclay\n",
      "linux-saclay: Openning connection to saclay\n",
      "linux-saclay: Running fetch addresses on site.\n",
      "Site: saclay\n",
      "Reading nodes from: ./linux_1/nodes.txt\n",
      "In fetch addresses.\n",
      "There are 45 number of hosts.\n",
      "Executing 4 iterations.\n",
      "Node per iteration: 10\n",
      "Openning connection to node-a8-70.saclay.iot-lab.info\n",
      "Openning connection to node-a8-31.saclay.iot-lab.info\n",
      "Openning connection to node-a8-45.saclay.iot-lab.info\n",
      "Openning connection to node-a8-46.saclay.iot-lab.info\n",
      "Openning connection to node-a8-16.saclay.iot-lab.info\n",
      "Openning connection to node-a8-90.saclay.iot-lab.info\n",
      "Openning connection to node-a8-39.saclay.iot-lab.info\n",
      "Openning connection to node-a8-44.saclay.iot-lab.info\n",
      "Openning connection to node-a8-76.saclay.iot-lab.info\n",
      "Openning connection to node-a8-67.saclay.iot-lab.info\n",
      "Starting iteration with: dict_keys(['node-a8-70.saclay.iot-lab.info', 'node-a8-31.saclay.iot-lab.info', 'node-a8-45.saclay.iot-lab.info', 'node-a8-46.saclay.iot-lab.info', 'node-a8-16.saclay.iot-lab.info', 'node-a8-90.saclay.iot-lab.info', 'node-a8-39.saclay.iot-lab.info', 'node-a8-44.saclay.iot-lab.info', 'node-a8-76.saclay.iot-lab.info', 'node-a8-67.saclay.iot-lab.info'])\n",
      "Closing connections to dict_keys(['node-a8-70.saclay.iot-lab.info', 'node-a8-31.saclay.iot-lab.info', 'node-a8-45.saclay.iot-lab.info', 'node-a8-46.saclay.iot-lab.info', 'node-a8-16.saclay.iot-lab.info', 'node-a8-90.saclay.iot-lab.info', 'node-a8-39.saclay.iot-lab.info', 'node-a8-44.saclay.iot-lab.info', 'node-a8-76.saclay.iot-lab.info', 'node-a8-67.saclay.iot-lab.info'])\n",
      "Node per iteration: 10\n",
      "Openning connection to node-a8-62.saclay.iot-lab.info\n",
      "Openning connection to node-a8-73.saclay.iot-lab.info\n",
      "Openning connection to node-a8-71.saclay.iot-lab.info\n",
      "Openning connection to node-a8-17.saclay.iot-lab.info\n",
      "Openning connection to node-a8-92.saclay.iot-lab.info\n",
      "Openning connection to node-a8-2.saclay.iot-lab.info\n",
      "Openning connection to node-a8-40.saclay.iot-lab.info\n",
      "Openning connection to node-a8-74.saclay.iot-lab.info\n",
      "Openning connection to node-a8-66.saclay.iot-lab.info\n",
      "Openning connection to node-a8-78.saclay.iot-lab.info\n",
      "Starting iteration with: dict_keys(['node-a8-62.saclay.iot-lab.info', 'node-a8-73.saclay.iot-lab.info', 'node-a8-71.saclay.iot-lab.info', 'node-a8-17.saclay.iot-lab.info', 'node-a8-92.saclay.iot-lab.info', 'node-a8-2.saclay.iot-lab.info', 'node-a8-40.saclay.iot-lab.info', 'node-a8-74.saclay.iot-lab.info', 'node-a8-66.saclay.iot-lab.info', 'node-a8-78.saclay.iot-lab.info'])\n",
      "Closing connections to dict_keys(['node-a8-62.saclay.iot-lab.info', 'node-a8-73.saclay.iot-lab.info', 'node-a8-71.saclay.iot-lab.info', 'node-a8-17.saclay.iot-lab.info', 'node-a8-92.saclay.iot-lab.info', 'node-a8-2.saclay.iot-lab.info', 'node-a8-40.saclay.iot-lab.info', 'node-a8-74.saclay.iot-lab.info', 'node-a8-66.saclay.iot-lab.info', 'node-a8-78.saclay.iot-lab.info'])\n",
      "Node per iteration: 10\n",
      "Openning connection to node-a8-79.saclay.iot-lab.info\n",
      "Openning connection to node-a8-106.saclay.iot-lab.info\n",
      "Openning connection to node-a8-38.saclay.iot-lab.info\n",
      "Openning connection to node-a8-87.saclay.iot-lab.info\n",
      "Openning connection to node-a8-11.saclay.iot-lab.info\n",
      "Openning connection to node-a8-61.saclay.iot-lab.info\n",
      "Openning connection to node-a8-77.saclay.iot-lab.info\n",
      "Openning connection to node-a8-34.saclay.iot-lab.info\n",
      "Openning connection to node-a8-36.saclay.iot-lab.info\n",
      "Openning connection to node-a8-14.saclay.iot-lab.info\n",
      "Starting iteration with: dict_keys(['node-a8-79.saclay.iot-lab.info', 'node-a8-106.saclay.iot-lab.info', 'node-a8-38.saclay.iot-lab.info', 'node-a8-87.saclay.iot-lab.info', 'node-a8-11.saclay.iot-lab.info', 'node-a8-61.saclay.iot-lab.info', 'node-a8-77.saclay.iot-lab.info', 'node-a8-34.saclay.iot-lab.info', 'node-a8-36.saclay.iot-lab.info', 'node-a8-14.saclay.iot-lab.info'])\n",
      "Closing connections to dict_keys(['node-a8-79.saclay.iot-lab.info', 'node-a8-106.saclay.iot-lab.info', 'node-a8-38.saclay.iot-lab.info', 'node-a8-87.saclay.iot-lab.info', 'node-a8-11.saclay.iot-lab.info', 'node-a8-61.saclay.iot-lab.info', 'node-a8-77.saclay.iot-lab.info', 'node-a8-34.saclay.iot-lab.info', 'node-a8-36.saclay.iot-lab.info', 'node-a8-14.saclay.iot-lab.info'])\n",
      "Node per iteration: 10\n",
      "Openning connection to node-a8-103.saclay.iot-lab.info\n",
      "Openning connection to node-a8-69.saclay.iot-lab.info\n",
      "Openning connection to node-a8-48.saclay.iot-lab.info\n",
      "Openning connection to node-a8-5.saclay.iot-lab.info\n",
      "Openning connection to node-a8-41.saclay.iot-lab.info\n",
      "Openning connection to node-a8-10.saclay.iot-lab.info\n",
      "Openning connection to node-a8-47.saclay.iot-lab.info\n",
      "Openning connection to node-a8-72.saclay.iot-lab.info\n",
      "Openning connection to node-a8-1.saclay.iot-lab.info\n",
      "Openning connection to node-a8-75.saclay.iot-lab.info\n",
      "Starting iteration with: dict_keys(['node-a8-103.saclay.iot-lab.info', 'node-a8-69.saclay.iot-lab.info', 'node-a8-48.saclay.iot-lab.info', 'node-a8-5.saclay.iot-lab.info', 'node-a8-41.saclay.iot-lab.info', 'node-a8-10.saclay.iot-lab.info', 'node-a8-47.saclay.iot-lab.info', 'node-a8-72.saclay.iot-lab.info', 'node-a8-1.saclay.iot-lab.info', 'node-a8-75.saclay.iot-lab.info'])\n",
      "Closing connections to dict_keys(['node-a8-103.saclay.iot-lab.info', 'node-a8-69.saclay.iot-lab.info', 'node-a8-48.saclay.iot-lab.info', 'node-a8-5.saclay.iot-lab.info', 'node-a8-41.saclay.iot-lab.info', 'node-a8-10.saclay.iot-lab.info', 'node-a8-47.saclay.iot-lab.info', 'node-a8-72.saclay.iot-lab.info', 'node-a8-1.saclay.iot-lab.info', 'node-a8-75.saclay.iot-lab.info'])\n",
      "Node per iteration: 5\n",
      "Openning connection to node-a8-42.saclay.iot-lab.info\n",
      "Openning connection to node-a8-63.saclay.iot-lab.info\n",
      "Openning connection to node-a8-43.saclay.iot-lab.info\n",
      "Openning connection to node-a8-64.saclay.iot-lab.info\n",
      "Openning connection to node-a8-91.saclay.iot-lab.info\n",
      "Starting iteration with: dict_keys(['node-a8-42.saclay.iot-lab.info', 'node-a8-63.saclay.iot-lab.info', 'node-a8-43.saclay.iot-lab.info', 'node-a8-64.saclay.iot-lab.info', 'node-a8-91.saclay.iot-lab.info'])\n",
      "Closing connections to dict_keys(['node-a8-42.saclay.iot-lab.info', 'node-a8-63.saclay.iot-lab.info', 'node-a8-43.saclay.iot-lab.info', 'node-a8-64.saclay.iot-lab.info', 'node-a8-91.saclay.iot-lab.info'])\n",
      "SUCCESS\n",
      "linux-saclay: Openning connection to saclay\n",
      "Getting from:  ping_experiments/linux_1/node_ids_to_addresses.json\n",
      "saclay.iot-lab.info\n"
     ]
    }
   ],
   "source": [
    "linux_saclay.run_fetch_addresses()"
   ]
  },
  {
   "cell_type": "code",
   "execution_count": 7,
   "id": "10e95bd8-776b-4223-a40b-676b488a0376",
   "metadata": {},
   "outputs": [
    {
     "name": "stdout",
     "output_type": "stream",
     "text": [
      "linux-saclay: Openning connection to saclay\n",
      "Getting from:  ping_experiments/linux_1/node_ids_to_addresses.json\n",
      "saclay.iot-lab.info\n",
      "linux-saclay: 45 adresses received!\n"
     ]
    }
   ],
   "source": [
    "linux_saclay.digest_new_addresses()"
   ]
  },
  {
   "cell_type": "code",
   "execution_count": 8,
   "id": "4e37dfa5-7a52-4bb0-8060-2a446c1b0eed",
   "metadata": {},
   "outputs": [
    {
     "data": {
      "text/plain": [
       "{'node-a8-70.saclay.iot-lab.info': '2001:660:3207:400::46',\n",
       " 'node-a8-31.saclay.iot-lab.info': '2001:660:3207:400::1f',\n",
       " 'node-a8-45.saclay.iot-lab.info': '2001:660:3207:400::2d',\n",
       " 'node-a8-46.saclay.iot-lab.info': '2001:660:3207:400::2e',\n",
       " 'node-a8-16.saclay.iot-lab.info': '2001:660:3207:400::10',\n",
       " 'node-a8-90.saclay.iot-lab.info': '2001:660:3207:400::5a',\n",
       " 'node-a8-39.saclay.iot-lab.info': '2001:660:3207:400::27',\n",
       " 'node-a8-44.saclay.iot-lab.info': '2001:660:3207:400::2c',\n",
       " 'node-a8-76.saclay.iot-lab.info': '2001:660:3207:400::4c',\n",
       " 'node-a8-67.saclay.iot-lab.info': '2001:660:3207:400::43',\n",
       " 'node-a8-62.saclay.iot-lab.info': '2001:660:3207:400::3e',\n",
       " 'node-a8-73.saclay.iot-lab.info': '2001:660:3207:400::49',\n",
       " 'node-a8-71.saclay.iot-lab.info': '2001:660:3207:400::47',\n",
       " 'node-a8-17.saclay.iot-lab.info': '2001:660:3207:400::11',\n",
       " 'node-a8-92.saclay.iot-lab.info': '2001:660:3207:400::5c',\n",
       " 'node-a8-2.saclay.iot-lab.info': '2001:660:3207:400::2',\n",
       " 'node-a8-40.saclay.iot-lab.info': '2001:660:3207:400::28',\n",
       " 'node-a8-74.saclay.iot-lab.info': '2001:660:3207:400::4a',\n",
       " 'node-a8-66.saclay.iot-lab.info': '2001:660:3207:400::42',\n",
       " 'node-a8-78.saclay.iot-lab.info': '2001:660:3207:400::4e',\n",
       " 'node-a8-79.saclay.iot-lab.info': '2001:660:3207:400::4f',\n",
       " 'node-a8-106.saclay.iot-lab.info': '2001:660:3207:400::6a',\n",
       " 'node-a8-38.saclay.iot-lab.info': '2001:660:3207:400::26',\n",
       " 'node-a8-87.saclay.iot-lab.info': '2001:660:3207:400::57',\n",
       " 'node-a8-11.saclay.iot-lab.info': '2001:660:3207:400::b',\n",
       " 'node-a8-61.saclay.iot-lab.info': '2001:660:3207:400::3d',\n",
       " 'node-a8-77.saclay.iot-lab.info': '2001:660:3207:400::4d',\n",
       " 'node-a8-34.saclay.iot-lab.info': '2001:660:3207:400::22',\n",
       " 'node-a8-36.saclay.iot-lab.info': '2001:660:3207:400::24',\n",
       " 'node-a8-14.saclay.iot-lab.info': '2001:660:3207:400::e',\n",
       " 'node-a8-103.saclay.iot-lab.info': '2001:660:3207:400::67',\n",
       " 'node-a8-69.saclay.iot-lab.info': '2001:660:3207:400::45',\n",
       " 'node-a8-48.saclay.iot-lab.info': '2001:660:3207:400::30',\n",
       " 'node-a8-5.saclay.iot-lab.info': '2001:660:3207:400::5',\n",
       " 'node-a8-41.saclay.iot-lab.info': '2001:660:3207:400::29',\n",
       " 'node-a8-10.saclay.iot-lab.info': '2001:660:3207:400::a',\n",
       " 'node-a8-47.saclay.iot-lab.info': '2001:660:3207:400::2f',\n",
       " 'node-a8-72.saclay.iot-lab.info': '2001:660:3207:400::48',\n",
       " 'node-a8-1.saclay.iot-lab.info': '2001:660:3207:400::1',\n",
       " 'node-a8-75.saclay.iot-lab.info': '2001:660:3207:400::4b',\n",
       " 'node-a8-42.saclay.iot-lab.info': '2001:660:3207:400::2a',\n",
       " 'node-a8-63.saclay.iot-lab.info': '2001:660:3207:400::3f',\n",
       " 'node-a8-43.saclay.iot-lab.info': '2001:660:3207:400::2b',\n",
       " 'node-a8-64.saclay.iot-lab.info': '2001:660:3207:400::40',\n",
       " 'node-a8-91.saclay.iot-lab.info': '2001:660:3207:400::5b'}"
      ]
     },
     "execution_count": 8,
     "metadata": {},
     "output_type": "execute_result"
    }
   ],
   "source": [
    "linux_saclay.nodes_to_global_addresses"
   ]
  },
  {
   "cell_type": "code",
   "execution_count": 9,
   "id": "09b0f136-e57f-4888-9318-49eab345da15",
   "metadata": {},
   "outputs": [
    {
     "data": {
      "text/plain": [
       "{}"
      ]
     },
     "execution_count": 9,
     "metadata": {},
     "output_type": "execute_result"
    }
   ],
   "source": [
    "linux_saclay.awaiting_nodes_to_global_addresses"
   ]
  },
  {
   "cell_type": "code",
   "execution_count": 10,
   "id": "4c19f3d5-27b3-4450-a575-06cd93440ffb",
   "metadata": {},
   "outputs": [
    {
     "name": "stdout",
     "output_type": "stream",
     "text": [
      "Stored 'linux_saclay' (LinuxCoordinator)\n"
     ]
    }
   ],
   "source": [
    "%store linux_saclay"
   ]
  },
  {
   "cell_type": "markdown",
   "id": "218d50b4-b0a9-498e-a8ad-c6ff03d47bd9",
   "metadata": {},
   "source": [
    "### Retry Fetch Addresses"
   ]
  },
  {
   "cell_type": "code",
   "execution_count": 10,
   "id": "cafec517-0f8d-459c-bca1-7fdb1ec7f8cd",
   "metadata": {},
   "outputs": [
    {
     "name": "stdout",
     "output_type": "stream",
     "text": [
      "linux-strasbourg: All addresses are compelete, nothing to rerun.\n"
     ]
    }
   ],
   "source": [
    "linux_saclay.retry_fetch_addresses()"
   ]
  },
  {
   "cell_type": "code",
   "execution_count": 7,
   "id": "6508027e-06e7-4e8c-af3f-e28bfdb5c416",
   "metadata": {},
   "outputs": [
    {
     "data": {
      "text/plain": [
       "{'node-a8-8.strasbourg.iot-lab.info': '2a07:2e40:fffe:c0::8',\n",
       " 'node-a8-9.strasbourg.iot-lab.info': '2a07:2e40:fffe:c0::9'}"
      ]
     },
     "execution_count": 7,
     "metadata": {},
     "output_type": "execute_result"
    }
   ],
   "source": [
    "linux_saclay.nodes_to_global_addresses"
   ]
  },
  {
   "cell_type": "code",
   "execution_count": 7,
   "id": "cbac7244-4573-4208-83ec-59e6da66534c",
   "metadata": {},
   "outputs": [
    {
     "name": "stdout",
     "output_type": "stream",
     "text": [
      "linux-strasbourg: Openning connection to strasbourg\n",
      "Getting from:  ping_experiments/linux/node_ids_to_addresses.json\n",
      "strasbourg.iot-lab.info\n",
      "linux-strasbourg: 2 adresses received!\n"
     ]
    }
   ],
   "source": [
    "linux_saclay.digest_new_addresses()"
   ]
  },
  {
   "cell_type": "markdown",
   "id": "98edc054-38d1-4817-8b18-403745776e9b",
   "metadata": {},
   "source": [
    "### Store back the last state of the object"
   ]
  },
  {
   "cell_type": "code",
   "execution_count": 11,
   "id": "722c563b-ded5-45cb-9722-74106588f625",
   "metadata": {},
   "outputs": [
    {
     "name": "stdout",
     "output_type": "stream",
     "text": [
      "Stored 'linux_strasbourg' (LinuxCoordinator)\n"
     ]
    }
   ],
   "source": [
    "%store linux_saclay"
   ]
  },
  {
   "cell_type": "markdown",
   "id": "f878aa81-924c-4d49-a707-8c3407e4e108",
   "metadata": {},
   "source": [
    "### Finished, rerun this for new fetch address round"
   ]
  },
  {
   "cell_type": "code",
   "execution_count": 1,
   "id": "29989c99-62ea-4c3d-a009-68a4698743bf",
   "metadata": {},
   "outputs": [
    {
     "data": {
      "text/plain": [
       "['node-a8-1.paris.iot-lab.info',\n",
       " 'node-a8-11.paris.iot-lab.info',\n",
       " 'node-a8-12.paris.iot-lab.info',\n",
       " 'node-a8-13.paris.iot-lab.info',\n",
       " 'node-a8-15.paris.iot-lab.info',\n",
       " 'node-a8-16.paris.iot-lab.info',\n",
       " 'node-a8-17.paris.iot-lab.info',\n",
       " 'node-a8-18.paris.iot-lab.info',\n",
       " 'node-a8-19.paris.iot-lab.info',\n",
       " 'node-a8-2.paris.iot-lab.info',\n",
       " 'node-a8-20.paris.iot-lab.info',\n",
       " 'node-a8-21.paris.iot-lab.info',\n",
       " 'node-a8-22.paris.iot-lab.info',\n",
       " 'node-a8-23.paris.iot-lab.info',\n",
       " 'node-a8-24.paris.iot-lab.info',\n",
       " 'node-a8-25.paris.iot-lab.info',\n",
       " 'node-a8-26.paris.iot-lab.info',\n",
       " 'node-a8-27.paris.iot-lab.info',\n",
       " 'node-a8-28.paris.iot-lab.info',\n",
       " 'node-a8-29.paris.iot-lab.info',\n",
       " 'node-a8-3.paris.iot-lab.info',\n",
       " 'node-a8-30.paris.iot-lab.info',\n",
       " 'node-a8-32.paris.iot-lab.info',\n",
       " 'node-a8-33.paris.iot-lab.info',\n",
       " 'node-a8-34.paris.iot-lab.info',\n",
       " 'node-a8-35.paris.iot-lab.info',\n",
       " 'node-a8-36.paris.iot-lab.info',\n",
       " 'node-a8-37.paris.iot-lab.info',\n",
       " 'node-a8-38.paris.iot-lab.info',\n",
       " 'node-a8-39.paris.iot-lab.info',\n",
       " 'node-a8-4.paris.iot-lab.info',\n",
       " 'node-a8-40.paris.iot-lab.info',\n",
       " 'node-a8-41.paris.iot-lab.info',\n",
       " 'node-a8-42.paris.iot-lab.info',\n",
       " 'node-a8-43.paris.iot-lab.info',\n",
       " 'node-a8-44.paris.iot-lab.info',\n",
       " 'node-a8-45.paris.iot-lab.info',\n",
       " 'node-a8-46.paris.iot-lab.info',\n",
       " 'node-a8-47.paris.iot-lab.info',\n",
       " 'node-a8-48.paris.iot-lab.info',\n",
       " 'node-a8-49.paris.iot-lab.info',\n",
       " 'node-a8-5.paris.iot-lab.info',\n",
       " 'node-a8-50.paris.iot-lab.info',\n",
       " 'node-a8-51.paris.iot-lab.info',\n",
       " 'node-a8-52.paris.iot-lab.info',\n",
       " 'node-a8-53.paris.iot-lab.info',\n",
       " 'node-a8-54.paris.iot-lab.info',\n",
       " 'node-a8-55.paris.iot-lab.info',\n",
       " 'node-a8-56.paris.iot-lab.info',\n",
       " 'node-a8-57.paris.iot-lab.info',\n",
       " 'node-a8-58.paris.iot-lab.info',\n",
       " 'node-a8-59.paris.iot-lab.info',\n",
       " 'node-a8-6.paris.iot-lab.info',\n",
       " 'node-a8-60.paris.iot-lab.info',\n",
       " 'node-a8-61.paris.iot-lab.info',\n",
       " 'node-a8-62.paris.iot-lab.info',\n",
       " 'node-a8-7.paris.iot-lab.info',\n",
       " 'node-a8-9.paris.iot-lab.info']"
      ]
     },
     "execution_count": 1,
     "metadata": {},
     "output_type": "execute_result"
    }
   ],
   "source": [
    "nodes = ['node-a8-1.paris.iot-lab.info',   \n",
    "         'node-a8-11.paris.iot-lab.info', 'node-a8-12.paris.iot-lab.info',                   \n",
    "         'node-a8-13.paris.iot-lab.info', 'node-a8-15.paris.iot-lab.info',                   \n",
    "         'node-a8-16.paris.iot-lab.info', 'node-a8-17.paris.iot-lab.info',                   \n",
    "         'node-a8-18.paris.iot-lab.info', 'node-a8-19.paris.iot-lab.info',                   \n",
    "         'node-a8-2.paris.iot-lab.info', 'node-a8-20.paris.iot-lab.info',                    \n",
    "         'node-a8-21.paris.iot-lab.info', 'node-a8-22.paris.iot-lab.info',                   \n",
    "         'node-a8-23.paris.iot-lab.info', 'node-a8-24.paris.iot-lab.info',                   \n",
    "         'node-a8-25.paris.iot-lab.info', 'node-a8-26.paris.iot-lab.info',                   \n",
    "         'node-a8-27.paris.iot-lab.info', 'node-a8-28.paris.iot-lab.info',                   \n",
    "         'node-a8-29.paris.iot-lab.info', 'node-a8-3.paris.iot-lab.info',                    \n",
    "         'node-a8-30.paris.iot-lab.info', 'node-a8-32.paris.iot-lab.info',                   \n",
    "         'node-a8-33.paris.iot-lab.info', 'node-a8-34.paris.iot-lab.info',                   \n",
    "         'node-a8-35.paris.iot-lab.info', 'node-a8-36.paris.iot-lab.info',                   \n",
    "         'node-a8-37.paris.iot-lab.info', 'node-a8-38.paris.iot-lab.info',                   \n",
    "         'node-a8-39.paris.iot-lab.info', 'node-a8-4.paris.iot-lab.info',                    \n",
    "         'node-a8-40.paris.iot-lab.info', 'node-a8-41.paris.iot-lab.info',                   \n",
    "         'node-a8-42.paris.iot-lab.info', 'node-a8-43.paris.iot-lab.info',                   \n",
    "         'node-a8-44.paris.iot-lab.info', 'node-a8-45.paris.iot-lab.info',                   \n",
    "         'node-a8-46.paris.iot-lab.info', 'node-a8-47.paris.iot-lab.info',                   \n",
    "         'node-a8-48.paris.iot-lab.info', 'node-a8-49.paris.iot-lab.info',                   \n",
    "         'node-a8-5.paris.iot-lab.info', 'node-a8-50.paris.iot-lab.info',                    \n",
    "         'node-a8-51.paris.iot-lab.info', 'node-a8-52.paris.iot-lab.info',                   \n",
    "         'node-a8-53.paris.iot-lab.info', 'node-a8-54.paris.iot-lab.info',                   \n",
    "         'node-a8-55.paris.iot-lab.info', 'node-a8-56.paris.iot-lab.info',                   \n",
    "         'node-a8-57.paris.iot-lab.info', 'node-a8-58.paris.iot-lab.info',                   \n",
    "         'node-a8-59.paris.iot-lab.info', 'node-a8-6.paris.iot-lab.info',                    \n",
    "         'node-a8-60.paris.iot-lab.info', 'node-a8-61.paris.iot-lab.info',                   \n",
    "         'node-a8-62.paris.iot-lab.info', 'node-a8-7.paris.iot-lab.info',                    \n",
    "         'node-a8-9.paris.iot-lab.info']   \n",
    "\n",
    "nodes"
   ]
  },
  {
   "cell_type": "code",
   "execution_count": null,
   "id": "d6453935-0583-4094-bcdc-f879fc0ae8a7",
   "metadata": {},
   "outputs": [],
   "source": []
  }
 ],
 "metadata": {
  "kernelspec": {
   "display_name": "Python 3 (ipykernel)",
   "language": "python",
   "name": "python3"
  },
  "language_info": {
   "codemirror_mode": {
    "name": "ipython",
    "version": 3
   },
   "file_extension": ".py",
   "mimetype": "text/x-python",
   "name": "python",
   "nbconvert_exporter": "python",
   "pygments_lexer": "ipython3",
   "version": "3.10.13"
  }
 },
 "nbformat": 4,
 "nbformat_minor": 5
}
