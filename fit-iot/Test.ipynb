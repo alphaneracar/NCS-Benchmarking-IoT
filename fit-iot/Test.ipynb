{
 "cells": [
  {
   "cell_type": "code",
   "execution_count": 1,
   "id": "4e0b9f64-a112-44af-af39-a2b2c48cd6c1",
   "metadata": {},
   "outputs": [],
   "source": [
    "import invoke"
   ]
  },
  {
   "cell_type": "code",
   "execution_count": 4,
   "id": "b59bc9bc-27f2-4243-bf8a-d444adbf79d5",
   "metadata": {},
   "outputs": [
    {
     "name": "stdout",
     "output_type": "stream",
     "text": [
      "yes\n"
     ]
    }
   ],
   "source": [
    "invoke.run(\"rm -rf trivial.txt\", hide=True)\n",
    "print(\"yes\")"
   ]
  },
  {
   "cell_type": "code",
   "execution_count": null,
   "id": "7ff107fc-86ad-446f-902c-40ff335f2465",
   "metadata": {},
   "outputs": [],
   "source": []
  }
 ],
 "metadata": {
  "kernelspec": {
   "display_name": "Python 3 (ipykernel)",
   "language": "python",
   "name": "python3"
  },
  "language_info": {
   "codemirror_mode": {
    "name": "ipython",
    "version": 3
   },
   "file_extension": ".py",
   "mimetype": "text/x-python",
   "name": "python",
   "nbconvert_exporter": "python",
   "pygments_lexer": "ipython3",
   "version": "3.10.13"
  }
 },
 "nbformat": 4,
 "nbformat_minor": 5
}
