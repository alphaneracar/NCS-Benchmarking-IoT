{
 "cells": [
  {
   "cell_type": "code",
   "execution_count": 1,
   "id": "3af6d2cd-a8cc-49a6-b5c5-f45922e62614",
   "metadata": {},
   "outputs": [
    {
     "name": "stderr",
     "output_type": "stream",
     "text": [
      "[WARNING]: failed to patch stdout/stderr for fork-safety: 'OutStream' object\n",
      "has no attribute 'buffer'\n",
      "[WARNING]: failed to reconfigure stdout/stderr with the replace error handler:\n",
      "'OutStream' object has no attribute 'reconfigure'\n"
     ]
    },
    {
     "data": {
      "text/html": [
       "<pre style=\"white-space:pre;overflow-x:auto;line-height:normal;font-family:Menlo,'DejaVu Sans Mono',consolas,'Courier New',monospace\">\n",
       "  _____        ___  ____  _ _ _\n",
       " | ____|_ __  / _ \\/ ___|| (_) |__\n",
       " |  _| | '_ \\| | | \\___ \\| | | '_ \\\n",
       " | |___| | | | |_| |___) | | | |_) |\n",
       " |_____|_| |_|\\___/|____/|_|_|_.__/  8.1.5\n",
       "\n",
       "\n",
       "\n",
       "</pre>\n"
      ],
      "text/plain": [
       "\n",
       "  _____        ___  ____  _ _ _\n",
       " | ____|_ __  / _ \\/ ___|| (_) |__\n",
       " |  _| | '_ \\| | | \\___ \\| | | '_ \\\n",
       " | |___| | | | |_| |___) | | | |_) |\n",
       " |_____|_| |_|\\___/|____/|_|_|_.__/  8.1.5\n",
       "\n",
       "\n",
       "\n"
      ]
     },
     "metadata": {},
     "output_type": "display_data"
    },
    {
     "data": {
      "text/html": [
       "<pre style=\"white-space:pre;overflow-x:auto;line-height:normal;font-family:Menlo,'DejaVu Sans Mono',consolas,'Courier New',monospace\">\n",
       "<span style=\"color: #808000; text-decoration-color: #808000; font-weight: bold\"> • </span>Documentation: <a href=\"https://discovery.gitlabpages.inria.fr/enoslib/\" target=\"_blank\"><span style=\"color: #0000ff; text-decoration-color: #0000ff\">https://discovery.gitlabpages.inria.fr/enoslib/</span></a>                            \n",
       "<span style=\"color: #808000; text-decoration-color: #808000; font-weight: bold\"> • </span>Source: <a href=\"https://gitlab.inria.fr/discovery/enoslib\" target=\"_blank\"><span style=\"color: #0000ff; text-decoration-color: #0000ff\">https://gitlab.inria.fr/discovery/enoslib</span></a>                                         \n",
       "<span style=\"color: #808000; text-decoration-color: #808000; font-weight: bold\"> • </span>Chat: <a href=\"https://framateam.org/enoslib\" target=\"_blank\"><span style=\"color: #0000ff; text-decoration-color: #0000ff\">https://framateam.org/enoslib</span></a>                                                       \n",
       "</pre>\n"
      ],
      "text/plain": [
       "\n",
       "\u001b[1;33m • \u001b[0mDocumentation: \u001b]8;id=569517;https://discovery.gitlabpages.inria.fr/enoslib/\u001b\\\u001b[94mhttps://discovery.gitlabpages.inria.fr/enoslib/\u001b[0m\u001b]8;;\u001b\\                            \n",
       "\u001b[1;33m • \u001b[0mSource: \u001b]8;id=290159;https://gitlab.inria.fr/discovery/enoslib\u001b\\\u001b[94mhttps://gitlab.inria.fr/discovery/enoslib\u001b[0m\u001b]8;;\u001b\\                                         \n",
       "\u001b[1;33m • \u001b[0mChat: \u001b]8;id=552608;https://framateam.org/enoslib\u001b\\\u001b[94mhttps://framateam.org/enoslib\u001b[0m\u001b]8;;\u001b\\                                                       \n"
      ]
     },
     "metadata": {},
     "output_type": "display_data"
    },
    {
     "data": {
      "text/html": [
       "<pre style=\"white-space:pre;overflow-x:auto;line-height:normal;font-family:Menlo,'DejaVu Sans Mono',consolas,'Courier New',monospace\"><span style=\"font-style: italic\">                         Dependency check                         </span>\n",
       "┏━━━━━━━━━━━━━━━┳━━━━━━━━━━━━━━━┳━━━━━━━━━━━━━━━━━━━━━━━━━━━━━━━━┓\n",
       "┃<span style=\"font-weight: bold\"> Provider      </span>┃<span style=\"font-weight: bold\">    Status     </span>┃<span style=\"font-weight: bold\"> Hint                           </span>┃\n",
       "┡━━━━━━━━━━━━━━━╇━━━━━━━━━━━━━━━╇━━━━━━━━━━━━━━━━━━━━━━━━━━━━━━━━┩\n",
       "│ Chameleon     │ <span style=\"color: #000080; text-decoration-color: #000080\">NOT INSTALLED</span> │ pip install enoslib[chameleon] │\n",
       "│ ChameleonKVM  │ <span style=\"color: #000080; text-decoration-color: #000080\">NOT INSTALLED</span> │ pip install enoslib[chameleon] │\n",
       "│ ChameleonEdge │ <span style=\"color: #000080; text-decoration-color: #000080\">NOT INSTALLED</span> │ pip install enoslib[chameleon] │\n",
       "│ Distem        │ <span style=\"color: #000080; text-decoration-color: #000080\">NOT INSTALLED</span> │ pip install enoslib[distem]    │\n",
       "│ IOT-lab       │   <span style=\"color: #008000; text-decoration-color: #008000\">INSTALLED</span>   │                                │\n",
       "│ Grid'5000     │   <span style=\"color: #008000; text-decoration-color: #008000\">INSTALLED</span>   │                                │\n",
       "│ Openstack     │ <span style=\"color: #000080; text-decoration-color: #000080\">NOT INSTALLED</span> │ pip install enoslib[chameleon] │\n",
       "│ Vagrant       │ <span style=\"color: #000080; text-decoration-color: #000080\">NOT INSTALLED</span> │ pip install enoslib[vagrant]   │\n",
       "│ VMonG5k       │   <span style=\"color: #008000; text-decoration-color: #008000\">INSTALLED</span>   │                                │\n",
       "└───────────────┴───────────────┴────────────────────────────────┘\n",
       "</pre>\n"
      ],
      "text/plain": [
       "\u001b[3m                         Dependency check                         \u001b[0m\n",
       "┏━━━━━━━━━━━━━━━┳━━━━━━━━━━━━━━━┳━━━━━━━━━━━━━━━━━━━━━━━━━━━━━━━━┓\n",
       "┃\u001b[1m \u001b[0m\u001b[1mProvider     \u001b[0m\u001b[1m \u001b[0m┃\u001b[1m \u001b[0m\u001b[1m   Status    \u001b[0m\u001b[1m \u001b[0m┃\u001b[1m \u001b[0m\u001b[1mHint                          \u001b[0m\u001b[1m \u001b[0m┃\n",
       "┡━━━━━━━━━━━━━━━╇━━━━━━━━━━━━━━━╇━━━━━━━━━━━━━━━━━━━━━━━━━━━━━━━━┩\n",
       "│ Chameleon     │ \u001b[34mNOT INSTALLED\u001b[0m │ pip install enoslib[chameleon] │\n",
       "│ ChameleonKVM  │ \u001b[34mNOT INSTALLED\u001b[0m │ pip install enoslib[chameleon] │\n",
       "│ ChameleonEdge │ \u001b[34mNOT INSTALLED\u001b[0m │ pip install enoslib[chameleon] │\n",
       "│ Distem        │ \u001b[34mNOT INSTALLED\u001b[0m │ pip install enoslib[distem]    │\n",
       "│ IOT-lab       │   \u001b[32mINSTALLED\u001b[0m   │                                │\n",
       "│ Grid'5000     │   \u001b[32mINSTALLED\u001b[0m   │                                │\n",
       "│ Openstack     │ \u001b[34mNOT INSTALLED\u001b[0m │ pip install enoslib[chameleon] │\n",
       "│ Vagrant       │ \u001b[34mNOT INSTALLED\u001b[0m │ pip install enoslib[vagrant]   │\n",
       "│ VMonG5k       │   \u001b[32mINSTALLED\u001b[0m   │                                │\n",
       "└───────────────┴───────────────┴────────────────────────────────┘\n"
      ]
     },
     "metadata": {},
     "output_type": "display_data"
    },
    {
     "data": {
      "text/html": [
       "<pre style=\"white-space:pre;overflow-x:auto;line-height:normal;font-family:Menlo,'DejaVu Sans Mono',consolas,'Courier New',monospace\"><span style=\"color: #800000; text-decoration-color: #800000\">WARNING </span> <span style=\"font-weight: bold\">[</span>Errno <span style=\"color: #008080; text-decoration-color: #008080; font-weight: bold\">2</span><span style=\"font-weight: bold\">]</span> No such file or directory:                                 <a href=\"file:///home/alphan/projects/python_scripts/clean-rtt/venv/lib/python3.10/site-packages/grid5000/__init__.py\" target=\"_blank\"><span style=\"color: #7f7f7f; text-decoration-color: #7f7f7f\">__init__.py</span></a><span style=\"color: #7f7f7f; text-decoration-color: #7f7f7f\">:</span><a href=\"file:///home/alphan/projects/python_scripts/clean-rtt/venv/lib/python3.10/site-packages/grid5000/__init__.py#133\" target=\"_blank\"><span style=\"color: #7f7f7f; text-decoration-color: #7f7f7f\">133</span></a>\n",
       "         <span style=\"color: #008000; text-decoration-color: #008000\">'/home/alphan/.python-grid5000.yaml'</span>                                 <span style=\"color: #7f7f7f; text-decoration-color: #7f7f7f\">               </span>\n",
       "</pre>\n"
      ],
      "text/plain": [
       "\u001b[31mWARNING \u001b[0m \u001b[1m[\u001b[0mErrno \u001b[1;36m2\u001b[0m\u001b[1m]\u001b[0m No such file or directory:                                 \u001b]8;id=76072;file:///home/alphan/projects/python_scripts/clean-rtt/venv/lib/python3.10/site-packages/grid5000/__init__.py\u001b\\\u001b[2m__init__.py\u001b[0m\u001b]8;;\u001b\\\u001b[2m:\u001b[0m\u001b]8;id=96443;file:///home/alphan/projects/python_scripts/clean-rtt/venv/lib/python3.10/site-packages/grid5000/__init__.py#133\u001b\\\u001b[2m133\u001b[0m\u001b]8;;\u001b\\\n",
       "         \u001b[32m'/home/alphan/.python-grid5000.yaml'\u001b[0m                                 \u001b[2m               \u001b[0m\n"
      ]
     },
     "metadata": {},
     "output_type": "display_data"
    },
    {
     "data": {
      "text/html": [
       "<pre style=\"white-space:pre;overflow-x:auto;line-height:normal;font-family:Menlo,'DejaVu Sans Mono',consolas,'Courier New',monospace\"><span style=\"color: #000080; text-decoration-color: #000080\">INFO    </span> <span style=\"color: #808000; text-decoration-color: #808000\">...</span>Falling back to anonymous connection                              <a href=\"file:///home/alphan/projects/python_scripts/clean-rtt/venv/lib/python3.10/site-packages/grid5000/__init__.py\" target=\"_blank\"><span style=\"color: #7f7f7f; text-decoration-color: #7f7f7f\">__init__.py</span></a><span style=\"color: #7f7f7f; text-decoration-color: #7f7f7f\">:</span><a href=\"file:///home/alphan/projects/python_scripts/clean-rtt/venv/lib/python3.10/site-packages/grid5000/__init__.py#134\" target=\"_blank\"><span style=\"color: #7f7f7f; text-decoration-color: #7f7f7f\">134</span></a>\n",
       "</pre>\n"
      ],
      "text/plain": [
       "\u001b[34mINFO    \u001b[0m \u001b[33m...\u001b[0mFalling back to anonymous connection                              \u001b]8;id=802265;file:///home/alphan/projects/python_scripts/clean-rtt/venv/lib/python3.10/site-packages/grid5000/__init__.py\u001b\\\u001b[2m__init__.py\u001b[0m\u001b]8;;\u001b\\\u001b[2m:\u001b[0m\u001b]8;id=443545;file:///home/alphan/projects/python_scripts/clean-rtt/venv/lib/python3.10/site-packages/grid5000/__init__.py#134\u001b\\\u001b[2m134\u001b[0m\u001b]8;;\u001b\\\n"
      ]
     },
     "metadata": {},
     "output_type": "display_data"
    },
    {
     "data": {
      "text/html": [
       "<pre style=\"white-space:pre;overflow-x:auto;line-height:normal;font-family:Menlo,'DejaVu Sans Mono',consolas,'Courier New',monospace\"><span style=\"color: #800000; text-decoration-color: #800000; font-weight: bold\">ERROR   </span> Unreachable hosts: <span style=\"font-weight: bold\">[</span><span style=\"color: #800080; text-decoration-color: #800080; font-weight: bold\">_AnsibleExecutionRecord</span><span style=\"font-weight: bold\">(</span><span style=\"color: #808000; text-decoration-color: #808000\">host</span>=<span style=\"color: #008000; text-decoration-color: #008000\">'access.grid5000.fr'</span>,   <a href=\"file:///home/alphan/projects/python_scripts/clean-rtt/venv/lib/python3.10/site-packages/enoslib/api.py\" target=\"_blank\"><span style=\"color: #7f7f7f; text-decoration-color: #7f7f7f\">api.py</span></a><span style=\"color: #7f7f7f; text-decoration-color: #7f7f7f\">:</span><a href=\"file:///home/alphan/projects/python_scripts/clean-rtt/venv/lib/python3.10/site-packages/enoslib/api.py#1191\" target=\"_blank\"><span style=\"color: #7f7f7f; text-decoration-color: #7f7f7f\">1191</span></a>\n",
       "         <span style=\"color: #808000; text-decoration-color: #808000\">status</span>=<span style=\"color: #008000; text-decoration-color: #008000\">'UNREACHABLE'</span>, <span style=\"color: #808000; text-decoration-color: #808000\">task</span>=<span style=\"color: #008000; text-decoration-color: #008000\">'Connecting to alphan@access.grid5000.fr'</span>,    <span style=\"color: #7f7f7f; text-decoration-color: #7f7f7f\">           </span>\n",
       "         <span style=\"color: #808000; text-decoration-color: #808000\">payload</span>=<span style=\"font-weight: bold\">{</span><span style=\"color: #008000; text-decoration-color: #008000\">'unreachable'</span>: <span style=\"color: #00ff00; text-decoration-color: #00ff00; font-style: italic\">True</span>, <span style=\"color: #008000; text-decoration-color: #008000\">'msg'</span>: <span style=\"color: #008000; text-decoration-color: #008000\">\"Failed to connect to the host via </span> <span style=\"color: #7f7f7f; text-decoration-color: #7f7f7f\">           </span>\n",
       "         <span style=\"color: #008000; text-decoration-color: #008000\">ssh: Warning: Permanently added 'access.grid5000.fr,194.254.60.33' </span>      <span style=\"color: #7f7f7f; text-decoration-color: #7f7f7f\">           </span>\n",
       "         <span style=\"color: #008000; text-decoration-color: #008000\">(ECDSA) to the list of known hosts.\\r\\nalphan@access.grid5000.fr: </span>       <span style=\"color: #7f7f7f; text-decoration-color: #7f7f7f\">           </span>\n",
       "         <span style=\"color: #008000; text-decoration-color: #008000\">Permission denied (publickey).\"</span>, <span style=\"color: #008000; text-decoration-color: #008000\">'changed'</span>: <span style=\"color: #ff0000; text-decoration-color: #ff0000; font-style: italic\">False</span><span style=\"font-weight: bold\">})]</span>                     <span style=\"color: #7f7f7f; text-decoration-color: #7f7f7f\">           </span>\n",
       "</pre>\n"
      ],
      "text/plain": [
       "\u001b[1;31mERROR   \u001b[0m Unreachable hosts: \u001b[1m[\u001b[0m\u001b[1;35m_AnsibleExecutionRecord\u001b[0m\u001b[1m(\u001b[0m\u001b[33mhost\u001b[0m=\u001b[32m'access.grid5000.fr'\u001b[0m,   \u001b]8;id=343463;file:///home/alphan/projects/python_scripts/clean-rtt/venv/lib/python3.10/site-packages/enoslib/api.py\u001b\\\u001b[2mapi.py\u001b[0m\u001b]8;;\u001b\\\u001b[2m:\u001b[0m\u001b]8;id=768581;file:///home/alphan/projects/python_scripts/clean-rtt/venv/lib/python3.10/site-packages/enoslib/api.py#1191\u001b\\\u001b[2m1191\u001b[0m\u001b]8;;\u001b\\\n",
       "         \u001b[33mstatus\u001b[0m=\u001b[32m'UNREACHABLE'\u001b[0m, \u001b[33mtask\u001b[0m=\u001b[32m'Connecting to alphan@access.grid5000.fr'\u001b[0m,    \u001b[2m           \u001b[0m\n",
       "         \u001b[33mpayload\u001b[0m=\u001b[1m{\u001b[0m\u001b[32m'unreachable'\u001b[0m: \u001b[3;92mTrue\u001b[0m, \u001b[32m'msg'\u001b[0m: \u001b[32m\"Failed to connect to the host via \u001b[0m \u001b[2m           \u001b[0m\n",
       "         \u001b[32mssh: Warning: Permanently added 'access.grid5000.fr,194.254.60.33' \u001b[0m      \u001b[2m           \u001b[0m\n",
       "         \u001b[32m(\u001b[0m\u001b[32mECDSA\u001b[0m\u001b[32m)\u001b[0m\u001b[32m to the list of known hosts.\\r\\nalphan@access.grid5000.fr: \u001b[0m       \u001b[2m           \u001b[0m\n",
       "         \u001b[32mPermission denied \u001b[0m\u001b[32m(\u001b[0m\u001b[32mpublickey\u001b[0m\u001b[32m)\u001b[0m\u001b[32m.\"\u001b[0m, \u001b[32m'changed'\u001b[0m: \u001b[3;91mFalse\u001b[0m\u001b[1m}\u001b[0m\u001b[1m)\u001b[0m\u001b[1m]\u001b[0m                     \u001b[2m           \u001b[0m\n"
      ]
     },
     "metadata": {},
     "output_type": "display_data"
    },
    {
     "data": {
      "text/html": [
       "<pre style=\"white-space:pre;overflow-x:auto;line-height:normal;font-family:Menlo,'DejaVu Sans Mono',consolas,'Courier New',monospace\"><span style=\"font-style: italic\">                            Connectivity check                            </span>\n",
       "┏━━━━━━━━━━━┳━━━━━━━━━━━━┳━━━━━━━━━━━━━━┳━━━━━━━━━━━━━━━━━━━━━━━━━━━━━━━━┓\n",
       "┃<span style=\"font-weight: bold\"> Provider  </span>┃<span style=\"font-weight: bold\"> Key        </span>┃<span style=\"font-weight: bold\"> Connectivity </span>┃<span style=\"font-weight: bold\"> Hint                           </span>┃\n",
       "┡━━━━━━━━━━━╇━━━━━━━━━━━━╇━━━━━━━━━━━━━━╇━━━━━━━━━━━━━━━━━━━━━━━━━━━━━━━━┩\n",
       "│ IOT-lab   │ api:conf   │      ✅      │                                │\n",
       "│ IOT-lab   │ ssh:access │      ✅      │                                │\n",
       "│ IOT-lab   │ api:access │      ✅      │                                │\n",
       "│ Grid'5000 │ ssh:access │      ❌      │ Failed to connect to the host… │\n",
       "│           │            │              │ alphan@access.grid5000.fr: Pe… │\n",
       "│ VMonG5k   │ access     │      ❔      │ Check G5k status               │\n",
       "└───────────┴────────────┴──────────────┴────────────────────────────────┘\n",
       "</pre>\n"
      ],
      "text/plain": [
       "\u001b[3m                            Connectivity check                            \u001b[0m\n",
       "┏━━━━━━━━━━━┳━━━━━━━━━━━━┳━━━━━━━━━━━━━━┳━━━━━━━━━━━━━━━━━━━━━━━━━━━━━━━━┓\n",
       "┃\u001b[1m \u001b[0m\u001b[1mProvider \u001b[0m\u001b[1m \u001b[0m┃\u001b[1m \u001b[0m\u001b[1mKey       \u001b[0m\u001b[1m \u001b[0m┃\u001b[1m \u001b[0m\u001b[1mConnectivity\u001b[0m\u001b[1m \u001b[0m┃\u001b[1m \u001b[0m\u001b[1mHint                          \u001b[0m\u001b[1m \u001b[0m┃\n",
       "┡━━━━━━━━━━━╇━━━━━━━━━━━━╇━━━━━━━━━━━━━━╇━━━━━━━━━━━━━━━━━━━━━━━━━━━━━━━━┩\n",
       "│ IOT-lab   │ api:conf   │      ✅      │                                │\n",
       "│ IOT-lab   │ ssh:access │      ✅      │                                │\n",
       "│ IOT-lab   │ api:access │      ✅      │                                │\n",
       "│ Grid'5000 │ ssh:access │      ❌      │ Failed to connect to the host… │\n",
       "│           │            │              │ alphan@access.grid5000.fr: Pe… │\n",
       "│ VMonG5k   │ access     │      ❔      │ Check G5k status               │\n",
       "└───────────┴────────────┴──────────────┴────────────────────────────────┘\n"
      ]
     },
     "metadata": {},
     "output_type": "display_data"
    }
   ],
   "source": [
    "#%store -r linux_strasbourg\n",
    "#%store -r linux_grenoble_1\n",
    "#%store -r linux_grenoble_2\n",
    "#%store -r linux_paris\n",
    "#%store -r linux_saclay\n",
    "%store -r central\n",
    "\n",
    "linux_strasbourg = central.site_coordinators['linux_strasbourg_1']\n",
    "#central.site_coordinators['m3_grenoble'] = m3_grenoble\n",
    "linux_grenoble_1 = central.site_coordinators['linux_grenoble_1'] \n",
    "linux_grenoble_2 = central.site_coordinators['linux_grenoble_2'] \n",
    "linux_paris = central.site_coordinators['linux_paris_1'] \n",
    "linux_saclay = central.site_coordinators['linux_saclay_1'] "
   ]
  },
  {
   "cell_type": "code",
   "execution_count": 2,
   "id": "50d42a18-2a38-48e2-a203-2174d28e3b10",
   "metadata": {},
   "outputs": [
    {
     "name": "stdout",
     "output_type": "stream",
     "text": [
      "linux-grenoble: Resetting the ping measurements to initial state.\n",
      "linux-grenoble: Initializing the awaiting_ping_measurements dictionary.\n",
      "linux-grenoble: Deleting the fetched addresses on site.\n",
      "linux-grenoble: Openning connection to grenoble\n"
     ]
    },
    {
     "data": {
      "text/html": [
       "<pre style=\"white-space:pre;overflow-x:auto;line-height:normal;font-family:Menlo,'DejaVu Sans Mono',consolas,'Courier New',monospace\"><span style=\"color: #000080; text-decoration-color: #000080\">INFO    </span> Connected <span style=\"font-weight: bold\">(</span>version <span style=\"color: #008080; text-decoration-color: #008080; font-weight: bold\">2.0</span>, client OpenSSH_7.9p1<span style=\"font-weight: bold\">)</span>                      <a href=\"file:///home/alphan/projects/python_scripts/clean-rtt/venv/lib/python3.10/site-packages/paramiko/transport.py\" target=\"_blank\"><span style=\"color: #7f7f7f; text-decoration-color: #7f7f7f\">transport.py</span></a><span style=\"color: #7f7f7f; text-decoration-color: #7f7f7f\">:</span><a href=\"file:///home/alphan/projects/python_scripts/clean-rtt/venv/lib/python3.10/site-packages/paramiko/transport.py#1893\" target=\"_blank\"><span style=\"color: #7f7f7f; text-decoration-color: #7f7f7f\">1893</span></a>\n",
       "</pre>\n"
      ],
      "text/plain": [
       "\u001b[34mINFO    \u001b[0m Connected \u001b[1m(\u001b[0mversion \u001b[1;36m2.0\u001b[0m, client OpenSSH_7.9p1\u001b[1m)\u001b[0m                      \u001b]8;id=513706;file:///home/alphan/projects/python_scripts/clean-rtt/venv/lib/python3.10/site-packages/paramiko/transport.py\u001b\\\u001b[2mtransport.py\u001b[0m\u001b]8;;\u001b\\\u001b[2m:\u001b[0m\u001b]8;id=836062;file:///home/alphan/projects/python_scripts/clean-rtt/venv/lib/python3.10/site-packages/paramiko/transport.py#1893\u001b\\\u001b[2m1893\u001b[0m\u001b]8;;\u001b\\\n"
      ]
     },
     "metadata": {},
     "output_type": "display_data"
    },
    {
     "data": {
      "text/html": [
       "<pre style=\"white-space:pre;overflow-x:auto;line-height:normal;font-family:Menlo,'DejaVu Sans Mono',consolas,'Courier New',monospace\"><span style=\"color: #000080; text-decoration-color: #000080\">INFO    </span> Authentication <span style=\"font-weight: bold\">(</span>publickey<span style=\"font-weight: bold\">)</span> successful!                             <a href=\"file:///home/alphan/projects/python_scripts/clean-rtt/venv/lib/python3.10/site-packages/paramiko/transport.py\" target=\"_blank\"><span style=\"color: #7f7f7f; text-decoration-color: #7f7f7f\">transport.py</span></a><span style=\"color: #7f7f7f; text-decoration-color: #7f7f7f\">:</span><a href=\"file:///home/alphan/projects/python_scripts/clean-rtt/venv/lib/python3.10/site-packages/paramiko/transport.py#1893\" target=\"_blank\"><span style=\"color: #7f7f7f; text-decoration-color: #7f7f7f\">1893</span></a>\n",
       "</pre>\n"
      ],
      "text/plain": [
       "\u001b[34mINFO    \u001b[0m Authentication \u001b[1m(\u001b[0mpublickey\u001b[1m)\u001b[0m successful!                             \u001b]8;id=703657;file:///home/alphan/projects/python_scripts/clean-rtt/venv/lib/python3.10/site-packages/paramiko/transport.py\u001b\\\u001b[2mtransport.py\u001b[0m\u001b]8;;\u001b\\\u001b[2m:\u001b[0m\u001b]8;id=630537;file:///home/alphan/projects/python_scripts/clean-rtt/venv/lib/python3.10/site-packages/paramiko/transport.py#1893\u001b\\\u001b[2m1893\u001b[0m\u001b]8;;\u001b\\\n"
      ]
     },
     "metadata": {},
     "output_type": "display_data"
    },
    {
     "name": "stdout",
     "output_type": "stream",
     "text": [
      "linux-grenoble: Putting the all_nodes_to_addresses.json to site.\n",
      "linux-grenoble: Openning connection to grenoble\n"
     ]
    },
    {
     "data": {
      "text/html": [
       "<pre style=\"white-space:pre;overflow-x:auto;line-height:normal;font-family:Menlo,'DejaVu Sans Mono',consolas,'Courier New',monospace\"><span style=\"color: #000080; text-decoration-color: #000080\">INFO    </span> Connected <span style=\"font-weight: bold\">(</span>version <span style=\"color: #008080; text-decoration-color: #008080; font-weight: bold\">2.0</span>, client OpenSSH_7.9p1<span style=\"font-weight: bold\">)</span>                      <a href=\"file:///home/alphan/projects/python_scripts/clean-rtt/venv/lib/python3.10/site-packages/paramiko/transport.py\" target=\"_blank\"><span style=\"color: #7f7f7f; text-decoration-color: #7f7f7f\">transport.py</span></a><span style=\"color: #7f7f7f; text-decoration-color: #7f7f7f\">:</span><a href=\"file:///home/alphan/projects/python_scripts/clean-rtt/venv/lib/python3.10/site-packages/paramiko/transport.py#1893\" target=\"_blank\"><span style=\"color: #7f7f7f; text-decoration-color: #7f7f7f\">1893</span></a>\n",
       "</pre>\n"
      ],
      "text/plain": [
       "\u001b[34mINFO    \u001b[0m Connected \u001b[1m(\u001b[0mversion \u001b[1;36m2.0\u001b[0m, client OpenSSH_7.9p1\u001b[1m)\u001b[0m                      \u001b]8;id=677105;file:///home/alphan/projects/python_scripts/clean-rtt/venv/lib/python3.10/site-packages/paramiko/transport.py\u001b\\\u001b[2mtransport.py\u001b[0m\u001b]8;;\u001b\\\u001b[2m:\u001b[0m\u001b]8;id=363372;file:///home/alphan/projects/python_scripts/clean-rtt/venv/lib/python3.10/site-packages/paramiko/transport.py#1893\u001b\\\u001b[2m1893\u001b[0m\u001b]8;;\u001b\\\n"
      ]
     },
     "metadata": {},
     "output_type": "display_data"
    },
    {
     "data": {
      "text/html": [
       "<pre style=\"white-space:pre;overflow-x:auto;line-height:normal;font-family:Menlo,'DejaVu Sans Mono',consolas,'Courier New',monospace\"><span style=\"color: #000080; text-decoration-color: #000080\">INFO    </span> Authentication <span style=\"font-weight: bold\">(</span>publickey<span style=\"font-weight: bold\">)</span> successful!                             <a href=\"file:///home/alphan/projects/python_scripts/clean-rtt/venv/lib/python3.10/site-packages/paramiko/transport.py\" target=\"_blank\"><span style=\"color: #7f7f7f; text-decoration-color: #7f7f7f\">transport.py</span></a><span style=\"color: #7f7f7f; text-decoration-color: #7f7f7f\">:</span><a href=\"file:///home/alphan/projects/python_scripts/clean-rtt/venv/lib/python3.10/site-packages/paramiko/transport.py#1893\" target=\"_blank\"><span style=\"color: #7f7f7f; text-decoration-color: #7f7f7f\">1893</span></a>\n",
       "</pre>\n"
      ],
      "text/plain": [
       "\u001b[34mINFO    \u001b[0m Authentication \u001b[1m(\u001b[0mpublickey\u001b[1m)\u001b[0m successful!                             \u001b]8;id=439186;file:///home/alphan/projects/python_scripts/clean-rtt/venv/lib/python3.10/site-packages/paramiko/transport.py\u001b\\\u001b[2mtransport.py\u001b[0m\u001b]8;;\u001b\\\u001b[2m:\u001b[0m\u001b]8;id=477506;file:///home/alphan/projects/python_scripts/clean-rtt/venv/lib/python3.10/site-packages/paramiko/transport.py#1893\u001b\\\u001b[2m1893\u001b[0m\u001b]8;;\u001b\\\n"
      ]
     },
     "metadata": {},
     "output_type": "display_data"
    },
    {
     "data": {
      "text/html": [
       "<pre style=\"white-space:pre;overflow-x:auto;line-height:normal;font-family:Menlo,'DejaVu Sans Mono',consolas,'Courier New',monospace\"><span style=\"color: #000080; text-decoration-color: #000080\">INFO    </span> <span style=\"font-weight: bold\">[</span>chan <span style=\"color: #008080; text-decoration-color: #008080; font-weight: bold\">0</span><span style=\"font-weight: bold\">]</span> Opened sftp connection <span style=\"font-weight: bold\">(</span>server version <span style=\"color: #008080; text-decoration-color: #008080; font-weight: bold\">3</span><span style=\"font-weight: bold\">)</span>                       <a href=\"file:///home/alphan/projects/python_scripts/clean-rtt/venv/lib/python3.10/site-packages/paramiko/sftp.py\" target=\"_blank\"><span style=\"color: #7f7f7f; text-decoration-color: #7f7f7f\">sftp.py</span></a><span style=\"color: #7f7f7f; text-decoration-color: #7f7f7f\">:</span><a href=\"file:///home/alphan/projects/python_scripts/clean-rtt/venv/lib/python3.10/site-packages/paramiko/sftp.py#169\" target=\"_blank\"><span style=\"color: #7f7f7f; text-decoration-color: #7f7f7f\">169</span></a>\n",
       "</pre>\n"
      ],
      "text/plain": [
       "\u001b[34mINFO    \u001b[0m \u001b[1m[\u001b[0mchan \u001b[1;36m0\u001b[0m\u001b[1m]\u001b[0m Opened sftp connection \u001b[1m(\u001b[0mserver version \u001b[1;36m3\u001b[0m\u001b[1m)\u001b[0m                       \u001b]8;id=124595;file:///home/alphan/projects/python_scripts/clean-rtt/venv/lib/python3.10/site-packages/paramiko/sftp.py\u001b\\\u001b[2msftp.py\u001b[0m\u001b]8;;\u001b\\\u001b[2m:\u001b[0m\u001b]8;id=675879;file:///home/alphan/projects/python_scripts/clean-rtt/venv/lib/python3.10/site-packages/paramiko/sftp.py#169\u001b\\\u001b[2m169\u001b[0m\u001b]8;;\u001b\\\n"
      ]
     },
     "metadata": {},
     "output_type": "display_data"
    },
    {
     "data": {
      "text/html": [
       "<pre style=\"white-space:pre;overflow-x:auto;line-height:normal;font-family:Menlo,'DejaVu Sans Mono',consolas,'Courier New',monospace\"><span style=\"color: #000080; text-decoration-color: #000080\">INFO    </span> <span style=\"font-weight: bold\">[</span>chan <span style=\"color: #008080; text-decoration-color: #008080; font-weight: bold\">0</span><span style=\"font-weight: bold\">]</span> sftp session closed.                                            <a href=\"file:///home/alphan/projects/python_scripts/clean-rtt/venv/lib/python3.10/site-packages/paramiko/sftp.py\" target=\"_blank\"><span style=\"color: #7f7f7f; text-decoration-color: #7f7f7f\">sftp.py</span></a><span style=\"color: #7f7f7f; text-decoration-color: #7f7f7f\">:</span><a href=\"file:///home/alphan/projects/python_scripts/clean-rtt/venv/lib/python3.10/site-packages/paramiko/sftp.py#169\" target=\"_blank\"><span style=\"color: #7f7f7f; text-decoration-color: #7f7f7f\">169</span></a>\n",
       "</pre>\n"
      ],
      "text/plain": [
       "\u001b[34mINFO    \u001b[0m \u001b[1m[\u001b[0mchan \u001b[1;36m0\u001b[0m\u001b[1m]\u001b[0m sftp session closed.                                            \u001b]8;id=715774;file:///home/alphan/projects/python_scripts/clean-rtt/venv/lib/python3.10/site-packages/paramiko/sftp.py\u001b\\\u001b[2msftp.py\u001b[0m\u001b]8;;\u001b\\\u001b[2m:\u001b[0m\u001b]8;id=94277;file:///home/alphan/projects/python_scripts/clean-rtt/venv/lib/python3.10/site-packages/paramiko/sftp.py#169\u001b\\\u001b[2m169\u001b[0m\u001b]8;;\u001b\\\n"
      ]
     },
     "metadata": {},
     "output_type": "display_data"
    },
    {
     "name": "stdout",
     "output_type": "stream",
     "text": [
      "linux-grenoble: Resetting the ping measurements to initial state.\n",
      "linux-grenoble: Initializing the awaiting_ping_measurements dictionary.\n",
      "linux-grenoble: Deleting the fetched addresses on site.\n",
      "linux-grenoble: Openning connection to grenoble\n"
     ]
    },
    {
     "data": {
      "text/html": [
       "<pre style=\"white-space:pre;overflow-x:auto;line-height:normal;font-family:Menlo,'DejaVu Sans Mono',consolas,'Courier New',monospace\"><span style=\"color: #000080; text-decoration-color: #000080\">INFO    </span> Connected <span style=\"font-weight: bold\">(</span>version <span style=\"color: #008080; text-decoration-color: #008080; font-weight: bold\">2.0</span>, client OpenSSH_7.9p1<span style=\"font-weight: bold\">)</span>                      <a href=\"file:///home/alphan/projects/python_scripts/clean-rtt/venv/lib/python3.10/site-packages/paramiko/transport.py\" target=\"_blank\"><span style=\"color: #7f7f7f; text-decoration-color: #7f7f7f\">transport.py</span></a><span style=\"color: #7f7f7f; text-decoration-color: #7f7f7f\">:</span><a href=\"file:///home/alphan/projects/python_scripts/clean-rtt/venv/lib/python3.10/site-packages/paramiko/transport.py#1893\" target=\"_blank\"><span style=\"color: #7f7f7f; text-decoration-color: #7f7f7f\">1893</span></a>\n",
       "</pre>\n"
      ],
      "text/plain": [
       "\u001b[34mINFO    \u001b[0m Connected \u001b[1m(\u001b[0mversion \u001b[1;36m2.0\u001b[0m, client OpenSSH_7.9p1\u001b[1m)\u001b[0m                      \u001b]8;id=622403;file:///home/alphan/projects/python_scripts/clean-rtt/venv/lib/python3.10/site-packages/paramiko/transport.py\u001b\\\u001b[2mtransport.py\u001b[0m\u001b]8;;\u001b\\\u001b[2m:\u001b[0m\u001b]8;id=377206;file:///home/alphan/projects/python_scripts/clean-rtt/venv/lib/python3.10/site-packages/paramiko/transport.py#1893\u001b\\\u001b[2m1893\u001b[0m\u001b]8;;\u001b\\\n"
      ]
     },
     "metadata": {},
     "output_type": "display_data"
    },
    {
     "data": {
      "text/html": [
       "<pre style=\"white-space:pre;overflow-x:auto;line-height:normal;font-family:Menlo,'DejaVu Sans Mono',consolas,'Courier New',monospace\"><span style=\"color: #000080; text-decoration-color: #000080\">INFO    </span> Authentication <span style=\"font-weight: bold\">(</span>publickey<span style=\"font-weight: bold\">)</span> successful!                             <a href=\"file:///home/alphan/projects/python_scripts/clean-rtt/venv/lib/python3.10/site-packages/paramiko/transport.py\" target=\"_blank\"><span style=\"color: #7f7f7f; text-decoration-color: #7f7f7f\">transport.py</span></a><span style=\"color: #7f7f7f; text-decoration-color: #7f7f7f\">:</span><a href=\"file:///home/alphan/projects/python_scripts/clean-rtt/venv/lib/python3.10/site-packages/paramiko/transport.py#1893\" target=\"_blank\"><span style=\"color: #7f7f7f; text-decoration-color: #7f7f7f\">1893</span></a>\n",
       "</pre>\n"
      ],
      "text/plain": [
       "\u001b[34mINFO    \u001b[0m Authentication \u001b[1m(\u001b[0mpublickey\u001b[1m)\u001b[0m successful!                             \u001b]8;id=661052;file:///home/alphan/projects/python_scripts/clean-rtt/venv/lib/python3.10/site-packages/paramiko/transport.py\u001b\\\u001b[2mtransport.py\u001b[0m\u001b]8;;\u001b\\\u001b[2m:\u001b[0m\u001b]8;id=685712;file:///home/alphan/projects/python_scripts/clean-rtt/venv/lib/python3.10/site-packages/paramiko/transport.py#1893\u001b\\\u001b[2m1893\u001b[0m\u001b]8;;\u001b\\\n"
      ]
     },
     "metadata": {},
     "output_type": "display_data"
    },
    {
     "name": "stdout",
     "output_type": "stream",
     "text": [
      "linux-grenoble: Putting the all_nodes_to_addresses.json to site.\n",
      "linux-grenoble: Openning connection to grenoble\n"
     ]
    },
    {
     "data": {
      "text/html": [
       "<pre style=\"white-space:pre;overflow-x:auto;line-height:normal;font-family:Menlo,'DejaVu Sans Mono',consolas,'Courier New',monospace\"><span style=\"color: #000080; text-decoration-color: #000080\">INFO    </span> Connected <span style=\"font-weight: bold\">(</span>version <span style=\"color: #008080; text-decoration-color: #008080; font-weight: bold\">2.0</span>, client OpenSSH_7.9p1<span style=\"font-weight: bold\">)</span>                      <a href=\"file:///home/alphan/projects/python_scripts/clean-rtt/venv/lib/python3.10/site-packages/paramiko/transport.py\" target=\"_blank\"><span style=\"color: #7f7f7f; text-decoration-color: #7f7f7f\">transport.py</span></a><span style=\"color: #7f7f7f; text-decoration-color: #7f7f7f\">:</span><a href=\"file:///home/alphan/projects/python_scripts/clean-rtt/venv/lib/python3.10/site-packages/paramiko/transport.py#1893\" target=\"_blank\"><span style=\"color: #7f7f7f; text-decoration-color: #7f7f7f\">1893</span></a>\n",
       "</pre>\n"
      ],
      "text/plain": [
       "\u001b[34mINFO    \u001b[0m Connected \u001b[1m(\u001b[0mversion \u001b[1;36m2.0\u001b[0m, client OpenSSH_7.9p1\u001b[1m)\u001b[0m                      \u001b]8;id=651113;file:///home/alphan/projects/python_scripts/clean-rtt/venv/lib/python3.10/site-packages/paramiko/transport.py\u001b\\\u001b[2mtransport.py\u001b[0m\u001b]8;;\u001b\\\u001b[2m:\u001b[0m\u001b]8;id=93621;file:///home/alphan/projects/python_scripts/clean-rtt/venv/lib/python3.10/site-packages/paramiko/transport.py#1893\u001b\\\u001b[2m1893\u001b[0m\u001b]8;;\u001b\\\n"
      ]
     },
     "metadata": {},
     "output_type": "display_data"
    },
    {
     "data": {
      "text/html": [
       "<pre style=\"white-space:pre;overflow-x:auto;line-height:normal;font-family:Menlo,'DejaVu Sans Mono',consolas,'Courier New',monospace\"><span style=\"color: #000080; text-decoration-color: #000080\">INFO    </span> Authentication <span style=\"font-weight: bold\">(</span>publickey<span style=\"font-weight: bold\">)</span> successful!                             <a href=\"file:///home/alphan/projects/python_scripts/clean-rtt/venv/lib/python3.10/site-packages/paramiko/transport.py\" target=\"_blank\"><span style=\"color: #7f7f7f; text-decoration-color: #7f7f7f\">transport.py</span></a><span style=\"color: #7f7f7f; text-decoration-color: #7f7f7f\">:</span><a href=\"file:///home/alphan/projects/python_scripts/clean-rtt/venv/lib/python3.10/site-packages/paramiko/transport.py#1893\" target=\"_blank\"><span style=\"color: #7f7f7f; text-decoration-color: #7f7f7f\">1893</span></a>\n",
       "</pre>\n"
      ],
      "text/plain": [
       "\u001b[34mINFO    \u001b[0m Authentication \u001b[1m(\u001b[0mpublickey\u001b[1m)\u001b[0m successful!                             \u001b]8;id=974707;file:///home/alphan/projects/python_scripts/clean-rtt/venv/lib/python3.10/site-packages/paramiko/transport.py\u001b\\\u001b[2mtransport.py\u001b[0m\u001b]8;;\u001b\\\u001b[2m:\u001b[0m\u001b]8;id=507558;file:///home/alphan/projects/python_scripts/clean-rtt/venv/lib/python3.10/site-packages/paramiko/transport.py#1893\u001b\\\u001b[2m1893\u001b[0m\u001b]8;;\u001b\\\n"
      ]
     },
     "metadata": {},
     "output_type": "display_data"
    },
    {
     "data": {
      "text/html": [
       "<pre style=\"white-space:pre;overflow-x:auto;line-height:normal;font-family:Menlo,'DejaVu Sans Mono',consolas,'Courier New',monospace\"><span style=\"color: #000080; text-decoration-color: #000080\">INFO    </span> <span style=\"font-weight: bold\">[</span>chan <span style=\"color: #008080; text-decoration-color: #008080; font-weight: bold\">0</span><span style=\"font-weight: bold\">]</span> Opened sftp connection <span style=\"font-weight: bold\">(</span>server version <span style=\"color: #008080; text-decoration-color: #008080; font-weight: bold\">3</span><span style=\"font-weight: bold\">)</span>                       <a href=\"file:///home/alphan/projects/python_scripts/clean-rtt/venv/lib/python3.10/site-packages/paramiko/sftp.py\" target=\"_blank\"><span style=\"color: #7f7f7f; text-decoration-color: #7f7f7f\">sftp.py</span></a><span style=\"color: #7f7f7f; text-decoration-color: #7f7f7f\">:</span><a href=\"file:///home/alphan/projects/python_scripts/clean-rtt/venv/lib/python3.10/site-packages/paramiko/sftp.py#169\" target=\"_blank\"><span style=\"color: #7f7f7f; text-decoration-color: #7f7f7f\">169</span></a>\n",
       "</pre>\n"
      ],
      "text/plain": [
       "\u001b[34mINFO    \u001b[0m \u001b[1m[\u001b[0mchan \u001b[1;36m0\u001b[0m\u001b[1m]\u001b[0m Opened sftp connection \u001b[1m(\u001b[0mserver version \u001b[1;36m3\u001b[0m\u001b[1m)\u001b[0m                       \u001b]8;id=562909;file:///home/alphan/projects/python_scripts/clean-rtt/venv/lib/python3.10/site-packages/paramiko/sftp.py\u001b\\\u001b[2msftp.py\u001b[0m\u001b]8;;\u001b\\\u001b[2m:\u001b[0m\u001b]8;id=765382;file:///home/alphan/projects/python_scripts/clean-rtt/venv/lib/python3.10/site-packages/paramiko/sftp.py#169\u001b\\\u001b[2m169\u001b[0m\u001b]8;;\u001b\\\n"
      ]
     },
     "metadata": {},
     "output_type": "display_data"
    },
    {
     "data": {
      "text/html": [
       "<pre style=\"white-space:pre;overflow-x:auto;line-height:normal;font-family:Menlo,'DejaVu Sans Mono',consolas,'Courier New',monospace\"><span style=\"color: #000080; text-decoration-color: #000080\">INFO    </span> <span style=\"font-weight: bold\">[</span>chan <span style=\"color: #008080; text-decoration-color: #008080; font-weight: bold\">0</span><span style=\"font-weight: bold\">]</span> sftp session closed.                                            <a href=\"file:///home/alphan/projects/python_scripts/clean-rtt/venv/lib/python3.10/site-packages/paramiko/sftp.py\" target=\"_blank\"><span style=\"color: #7f7f7f; text-decoration-color: #7f7f7f\">sftp.py</span></a><span style=\"color: #7f7f7f; text-decoration-color: #7f7f7f\">:</span><a href=\"file:///home/alphan/projects/python_scripts/clean-rtt/venv/lib/python3.10/site-packages/paramiko/sftp.py#169\" target=\"_blank\"><span style=\"color: #7f7f7f; text-decoration-color: #7f7f7f\">169</span></a>\n",
       "</pre>\n"
      ],
      "text/plain": [
       "\u001b[34mINFO    \u001b[0m \u001b[1m[\u001b[0mchan \u001b[1;36m0\u001b[0m\u001b[1m]\u001b[0m sftp session closed.                                            \u001b]8;id=965782;file:///home/alphan/projects/python_scripts/clean-rtt/venv/lib/python3.10/site-packages/paramiko/sftp.py\u001b\\\u001b[2msftp.py\u001b[0m\u001b]8;;\u001b\\\u001b[2m:\u001b[0m\u001b]8;id=78920;file:///home/alphan/projects/python_scripts/clean-rtt/venv/lib/python3.10/site-packages/paramiko/sftp.py#169\u001b\\\u001b[2m169\u001b[0m\u001b]8;;\u001b\\\n"
      ]
     },
     "metadata": {},
     "output_type": "display_data"
    },
    {
     "name": "stdout",
     "output_type": "stream",
     "text": [
      "linux-paris: Resetting the ping measurements to initial state.\n",
      "linux-paris: Initializing the awaiting_ping_measurements dictionary.\n",
      "linux-paris: Deleting the fetched addresses on site.\n",
      "linux-paris: Openning connection to paris\n"
     ]
    },
    {
     "data": {
      "text/html": [
       "<pre style=\"white-space:pre;overflow-x:auto;line-height:normal;font-family:Menlo,'DejaVu Sans Mono',consolas,'Courier New',monospace\"><span style=\"color: #000080; text-decoration-color: #000080\">INFO    </span> Connected <span style=\"font-weight: bold\">(</span>version <span style=\"color: #008080; text-decoration-color: #008080; font-weight: bold\">2.0</span>, client OpenSSH_7.9p1<span style=\"font-weight: bold\">)</span>                      <a href=\"file:///home/alphan/projects/python_scripts/clean-rtt/venv/lib/python3.10/site-packages/paramiko/transport.py\" target=\"_blank\"><span style=\"color: #7f7f7f; text-decoration-color: #7f7f7f\">transport.py</span></a><span style=\"color: #7f7f7f; text-decoration-color: #7f7f7f\">:</span><a href=\"file:///home/alphan/projects/python_scripts/clean-rtt/venv/lib/python3.10/site-packages/paramiko/transport.py#1893\" target=\"_blank\"><span style=\"color: #7f7f7f; text-decoration-color: #7f7f7f\">1893</span></a>\n",
       "</pre>\n"
      ],
      "text/plain": [
       "\u001b[34mINFO    \u001b[0m Connected \u001b[1m(\u001b[0mversion \u001b[1;36m2.0\u001b[0m, client OpenSSH_7.9p1\u001b[1m)\u001b[0m                      \u001b]8;id=994610;file:///home/alphan/projects/python_scripts/clean-rtt/venv/lib/python3.10/site-packages/paramiko/transport.py\u001b\\\u001b[2mtransport.py\u001b[0m\u001b]8;;\u001b\\\u001b[2m:\u001b[0m\u001b]8;id=819308;file:///home/alphan/projects/python_scripts/clean-rtt/venv/lib/python3.10/site-packages/paramiko/transport.py#1893\u001b\\\u001b[2m1893\u001b[0m\u001b]8;;\u001b\\\n"
      ]
     },
     "metadata": {},
     "output_type": "display_data"
    },
    {
     "data": {
      "text/html": [
       "<pre style=\"white-space:pre;overflow-x:auto;line-height:normal;font-family:Menlo,'DejaVu Sans Mono',consolas,'Courier New',monospace\"><span style=\"color: #000080; text-decoration-color: #000080\">INFO    </span> Authentication <span style=\"font-weight: bold\">(</span>publickey<span style=\"font-weight: bold\">)</span> successful!                             <a href=\"file:///home/alphan/projects/python_scripts/clean-rtt/venv/lib/python3.10/site-packages/paramiko/transport.py\" target=\"_blank\"><span style=\"color: #7f7f7f; text-decoration-color: #7f7f7f\">transport.py</span></a><span style=\"color: #7f7f7f; text-decoration-color: #7f7f7f\">:</span><a href=\"file:///home/alphan/projects/python_scripts/clean-rtt/venv/lib/python3.10/site-packages/paramiko/transport.py#1893\" target=\"_blank\"><span style=\"color: #7f7f7f; text-decoration-color: #7f7f7f\">1893</span></a>\n",
       "</pre>\n"
      ],
      "text/plain": [
       "\u001b[34mINFO    \u001b[0m Authentication \u001b[1m(\u001b[0mpublickey\u001b[1m)\u001b[0m successful!                             \u001b]8;id=928929;file:///home/alphan/projects/python_scripts/clean-rtt/venv/lib/python3.10/site-packages/paramiko/transport.py\u001b\\\u001b[2mtransport.py\u001b[0m\u001b]8;;\u001b\\\u001b[2m:\u001b[0m\u001b]8;id=238676;file:///home/alphan/projects/python_scripts/clean-rtt/venv/lib/python3.10/site-packages/paramiko/transport.py#1893\u001b\\\u001b[2m1893\u001b[0m\u001b]8;;\u001b\\\n"
      ]
     },
     "metadata": {},
     "output_type": "display_data"
    },
    {
     "name": "stdout",
     "output_type": "stream",
     "text": [
      "linux-paris: Putting the all_nodes_to_addresses.json to site.\n",
      "linux-paris: Openning connection to paris\n"
     ]
    },
    {
     "data": {
      "text/html": [
       "<pre style=\"white-space:pre;overflow-x:auto;line-height:normal;font-family:Menlo,'DejaVu Sans Mono',consolas,'Courier New',monospace\"><span style=\"color: #000080; text-decoration-color: #000080\">INFO    </span> Connected <span style=\"font-weight: bold\">(</span>version <span style=\"color: #008080; text-decoration-color: #008080; font-weight: bold\">2.0</span>, client OpenSSH_7.9p1<span style=\"font-weight: bold\">)</span>                      <a href=\"file:///home/alphan/projects/python_scripts/clean-rtt/venv/lib/python3.10/site-packages/paramiko/transport.py\" target=\"_blank\"><span style=\"color: #7f7f7f; text-decoration-color: #7f7f7f\">transport.py</span></a><span style=\"color: #7f7f7f; text-decoration-color: #7f7f7f\">:</span><a href=\"file:///home/alphan/projects/python_scripts/clean-rtt/venv/lib/python3.10/site-packages/paramiko/transport.py#1893\" target=\"_blank\"><span style=\"color: #7f7f7f; text-decoration-color: #7f7f7f\">1893</span></a>\n",
       "</pre>\n"
      ],
      "text/plain": [
       "\u001b[34mINFO    \u001b[0m Connected \u001b[1m(\u001b[0mversion \u001b[1;36m2.0\u001b[0m, client OpenSSH_7.9p1\u001b[1m)\u001b[0m                      \u001b]8;id=959848;file:///home/alphan/projects/python_scripts/clean-rtt/venv/lib/python3.10/site-packages/paramiko/transport.py\u001b\\\u001b[2mtransport.py\u001b[0m\u001b]8;;\u001b\\\u001b[2m:\u001b[0m\u001b]8;id=287671;file:///home/alphan/projects/python_scripts/clean-rtt/venv/lib/python3.10/site-packages/paramiko/transport.py#1893\u001b\\\u001b[2m1893\u001b[0m\u001b]8;;\u001b\\\n"
      ]
     },
     "metadata": {},
     "output_type": "display_data"
    },
    {
     "data": {
      "text/html": [
       "<pre style=\"white-space:pre;overflow-x:auto;line-height:normal;font-family:Menlo,'DejaVu Sans Mono',consolas,'Courier New',monospace\"><span style=\"color: #000080; text-decoration-color: #000080\">INFO    </span> Authentication <span style=\"font-weight: bold\">(</span>publickey<span style=\"font-weight: bold\">)</span> successful!                             <a href=\"file:///home/alphan/projects/python_scripts/clean-rtt/venv/lib/python3.10/site-packages/paramiko/transport.py\" target=\"_blank\"><span style=\"color: #7f7f7f; text-decoration-color: #7f7f7f\">transport.py</span></a><span style=\"color: #7f7f7f; text-decoration-color: #7f7f7f\">:</span><a href=\"file:///home/alphan/projects/python_scripts/clean-rtt/venv/lib/python3.10/site-packages/paramiko/transport.py#1893\" target=\"_blank\"><span style=\"color: #7f7f7f; text-decoration-color: #7f7f7f\">1893</span></a>\n",
       "</pre>\n"
      ],
      "text/plain": [
       "\u001b[34mINFO    \u001b[0m Authentication \u001b[1m(\u001b[0mpublickey\u001b[1m)\u001b[0m successful!                             \u001b]8;id=143080;file:///home/alphan/projects/python_scripts/clean-rtt/venv/lib/python3.10/site-packages/paramiko/transport.py\u001b\\\u001b[2mtransport.py\u001b[0m\u001b]8;;\u001b\\\u001b[2m:\u001b[0m\u001b]8;id=300514;file:///home/alphan/projects/python_scripts/clean-rtt/venv/lib/python3.10/site-packages/paramiko/transport.py#1893\u001b\\\u001b[2m1893\u001b[0m\u001b]8;;\u001b\\\n"
      ]
     },
     "metadata": {},
     "output_type": "display_data"
    },
    {
     "data": {
      "text/html": [
       "<pre style=\"white-space:pre;overflow-x:auto;line-height:normal;font-family:Menlo,'DejaVu Sans Mono',consolas,'Courier New',monospace\"><span style=\"color: #000080; text-decoration-color: #000080\">INFO    </span> <span style=\"font-weight: bold\">[</span>chan <span style=\"color: #008080; text-decoration-color: #008080; font-weight: bold\">0</span><span style=\"font-weight: bold\">]</span> Opened sftp connection <span style=\"font-weight: bold\">(</span>server version <span style=\"color: #008080; text-decoration-color: #008080; font-weight: bold\">3</span><span style=\"font-weight: bold\">)</span>                       <a href=\"file:///home/alphan/projects/python_scripts/clean-rtt/venv/lib/python3.10/site-packages/paramiko/sftp.py\" target=\"_blank\"><span style=\"color: #7f7f7f; text-decoration-color: #7f7f7f\">sftp.py</span></a><span style=\"color: #7f7f7f; text-decoration-color: #7f7f7f\">:</span><a href=\"file:///home/alphan/projects/python_scripts/clean-rtt/venv/lib/python3.10/site-packages/paramiko/sftp.py#169\" target=\"_blank\"><span style=\"color: #7f7f7f; text-decoration-color: #7f7f7f\">169</span></a>\n",
       "</pre>\n"
      ],
      "text/plain": [
       "\u001b[34mINFO    \u001b[0m \u001b[1m[\u001b[0mchan \u001b[1;36m0\u001b[0m\u001b[1m]\u001b[0m Opened sftp connection \u001b[1m(\u001b[0mserver version \u001b[1;36m3\u001b[0m\u001b[1m)\u001b[0m                       \u001b]8;id=39599;file:///home/alphan/projects/python_scripts/clean-rtt/venv/lib/python3.10/site-packages/paramiko/sftp.py\u001b\\\u001b[2msftp.py\u001b[0m\u001b]8;;\u001b\\\u001b[2m:\u001b[0m\u001b]8;id=780774;file:///home/alphan/projects/python_scripts/clean-rtt/venv/lib/python3.10/site-packages/paramiko/sftp.py#169\u001b\\\u001b[2m169\u001b[0m\u001b]8;;\u001b\\\n"
      ]
     },
     "metadata": {},
     "output_type": "display_data"
    },
    {
     "data": {
      "text/html": [
       "<pre style=\"white-space:pre;overflow-x:auto;line-height:normal;font-family:Menlo,'DejaVu Sans Mono',consolas,'Courier New',monospace\"><span style=\"color: #000080; text-decoration-color: #000080\">INFO    </span> <span style=\"font-weight: bold\">[</span>chan <span style=\"color: #008080; text-decoration-color: #008080; font-weight: bold\">0</span><span style=\"font-weight: bold\">]</span> sftp session closed.                                            <a href=\"file:///home/alphan/projects/python_scripts/clean-rtt/venv/lib/python3.10/site-packages/paramiko/sftp.py\" target=\"_blank\"><span style=\"color: #7f7f7f; text-decoration-color: #7f7f7f\">sftp.py</span></a><span style=\"color: #7f7f7f; text-decoration-color: #7f7f7f\">:</span><a href=\"file:///home/alphan/projects/python_scripts/clean-rtt/venv/lib/python3.10/site-packages/paramiko/sftp.py#169\" target=\"_blank\"><span style=\"color: #7f7f7f; text-decoration-color: #7f7f7f\">169</span></a>\n",
       "</pre>\n"
      ],
      "text/plain": [
       "\u001b[34mINFO    \u001b[0m \u001b[1m[\u001b[0mchan \u001b[1;36m0\u001b[0m\u001b[1m]\u001b[0m sftp session closed.                                            \u001b]8;id=778094;file:///home/alphan/projects/python_scripts/clean-rtt/venv/lib/python3.10/site-packages/paramiko/sftp.py\u001b\\\u001b[2msftp.py\u001b[0m\u001b]8;;\u001b\\\u001b[2m:\u001b[0m\u001b]8;id=361872;file:///home/alphan/projects/python_scripts/clean-rtt/venv/lib/python3.10/site-packages/paramiko/sftp.py#169\u001b\\\u001b[2m169\u001b[0m\u001b]8;;\u001b\\\n"
      ]
     },
     "metadata": {},
     "output_type": "display_data"
    },
    {
     "name": "stdout",
     "output_type": "stream",
     "text": [
      "linux-saclay: Resetting the ping measurements to initial state.\n",
      "linux-saclay: Initializing the awaiting_ping_measurements dictionary.\n",
      "linux-saclay: Deleting the fetched addresses on site.\n",
      "linux-saclay: Openning connection to saclay\n"
     ]
    },
    {
     "data": {
      "text/html": [
       "<pre style=\"white-space:pre;overflow-x:auto;line-height:normal;font-family:Menlo,'DejaVu Sans Mono',consolas,'Courier New',monospace\"><span style=\"color: #000080; text-decoration-color: #000080\">INFO    </span> Connected <span style=\"font-weight: bold\">(</span>version <span style=\"color: #008080; text-decoration-color: #008080; font-weight: bold\">2.0</span>, client OpenSSH_7.9p1<span style=\"font-weight: bold\">)</span>                      <a href=\"file:///home/alphan/projects/python_scripts/clean-rtt/venv/lib/python3.10/site-packages/paramiko/transport.py\" target=\"_blank\"><span style=\"color: #7f7f7f; text-decoration-color: #7f7f7f\">transport.py</span></a><span style=\"color: #7f7f7f; text-decoration-color: #7f7f7f\">:</span><a href=\"file:///home/alphan/projects/python_scripts/clean-rtt/venv/lib/python3.10/site-packages/paramiko/transport.py#1893\" target=\"_blank\"><span style=\"color: #7f7f7f; text-decoration-color: #7f7f7f\">1893</span></a>\n",
       "</pre>\n"
      ],
      "text/plain": [
       "\u001b[34mINFO    \u001b[0m Connected \u001b[1m(\u001b[0mversion \u001b[1;36m2.0\u001b[0m, client OpenSSH_7.9p1\u001b[1m)\u001b[0m                      \u001b]8;id=458536;file:///home/alphan/projects/python_scripts/clean-rtt/venv/lib/python3.10/site-packages/paramiko/transport.py\u001b\\\u001b[2mtransport.py\u001b[0m\u001b]8;;\u001b\\\u001b[2m:\u001b[0m\u001b]8;id=586306;file:///home/alphan/projects/python_scripts/clean-rtt/venv/lib/python3.10/site-packages/paramiko/transport.py#1893\u001b\\\u001b[2m1893\u001b[0m\u001b]8;;\u001b\\\n"
      ]
     },
     "metadata": {},
     "output_type": "display_data"
    },
    {
     "data": {
      "text/html": [
       "<pre style=\"white-space:pre;overflow-x:auto;line-height:normal;font-family:Menlo,'DejaVu Sans Mono',consolas,'Courier New',monospace\"><span style=\"color: #000080; text-decoration-color: #000080\">INFO    </span> Authentication <span style=\"font-weight: bold\">(</span>publickey<span style=\"font-weight: bold\">)</span> successful!                             <a href=\"file:///home/alphan/projects/python_scripts/clean-rtt/venv/lib/python3.10/site-packages/paramiko/transport.py\" target=\"_blank\"><span style=\"color: #7f7f7f; text-decoration-color: #7f7f7f\">transport.py</span></a><span style=\"color: #7f7f7f; text-decoration-color: #7f7f7f\">:</span><a href=\"file:///home/alphan/projects/python_scripts/clean-rtt/venv/lib/python3.10/site-packages/paramiko/transport.py#1893\" target=\"_blank\"><span style=\"color: #7f7f7f; text-decoration-color: #7f7f7f\">1893</span></a>\n",
       "</pre>\n"
      ],
      "text/plain": [
       "\u001b[34mINFO    \u001b[0m Authentication \u001b[1m(\u001b[0mpublickey\u001b[1m)\u001b[0m successful!                             \u001b]8;id=455524;file:///home/alphan/projects/python_scripts/clean-rtt/venv/lib/python3.10/site-packages/paramiko/transport.py\u001b\\\u001b[2mtransport.py\u001b[0m\u001b]8;;\u001b\\\u001b[2m:\u001b[0m\u001b]8;id=838702;file:///home/alphan/projects/python_scripts/clean-rtt/venv/lib/python3.10/site-packages/paramiko/transport.py#1893\u001b\\\u001b[2m1893\u001b[0m\u001b]8;;\u001b\\\n"
      ]
     },
     "metadata": {},
     "output_type": "display_data"
    },
    {
     "name": "stdout",
     "output_type": "stream",
     "text": [
      "linux-saclay: Putting the all_nodes_to_addresses.json to site.\n",
      "linux-saclay: Openning connection to saclay\n"
     ]
    },
    {
     "data": {
      "text/html": [
       "<pre style=\"white-space:pre;overflow-x:auto;line-height:normal;font-family:Menlo,'DejaVu Sans Mono',consolas,'Courier New',monospace\"><span style=\"color: #000080; text-decoration-color: #000080\">INFO    </span> Connected <span style=\"font-weight: bold\">(</span>version <span style=\"color: #008080; text-decoration-color: #008080; font-weight: bold\">2.0</span>, client OpenSSH_7.9p1<span style=\"font-weight: bold\">)</span>                      <a href=\"file:///home/alphan/projects/python_scripts/clean-rtt/venv/lib/python3.10/site-packages/paramiko/transport.py\" target=\"_blank\"><span style=\"color: #7f7f7f; text-decoration-color: #7f7f7f\">transport.py</span></a><span style=\"color: #7f7f7f; text-decoration-color: #7f7f7f\">:</span><a href=\"file:///home/alphan/projects/python_scripts/clean-rtt/venv/lib/python3.10/site-packages/paramiko/transport.py#1893\" target=\"_blank\"><span style=\"color: #7f7f7f; text-decoration-color: #7f7f7f\">1893</span></a>\n",
       "</pre>\n"
      ],
      "text/plain": [
       "\u001b[34mINFO    \u001b[0m Connected \u001b[1m(\u001b[0mversion \u001b[1;36m2.0\u001b[0m, client OpenSSH_7.9p1\u001b[1m)\u001b[0m                      \u001b]8;id=874278;file:///home/alphan/projects/python_scripts/clean-rtt/venv/lib/python3.10/site-packages/paramiko/transport.py\u001b\\\u001b[2mtransport.py\u001b[0m\u001b]8;;\u001b\\\u001b[2m:\u001b[0m\u001b]8;id=62917;file:///home/alphan/projects/python_scripts/clean-rtt/venv/lib/python3.10/site-packages/paramiko/transport.py#1893\u001b\\\u001b[2m1893\u001b[0m\u001b]8;;\u001b\\\n"
      ]
     },
     "metadata": {},
     "output_type": "display_data"
    },
    {
     "data": {
      "text/html": [
       "<pre style=\"white-space:pre;overflow-x:auto;line-height:normal;font-family:Menlo,'DejaVu Sans Mono',consolas,'Courier New',monospace\"><span style=\"color: #000080; text-decoration-color: #000080\">INFO    </span> Authentication <span style=\"font-weight: bold\">(</span>publickey<span style=\"font-weight: bold\">)</span> successful!                             <a href=\"file:///home/alphan/projects/python_scripts/clean-rtt/venv/lib/python3.10/site-packages/paramiko/transport.py\" target=\"_blank\"><span style=\"color: #7f7f7f; text-decoration-color: #7f7f7f\">transport.py</span></a><span style=\"color: #7f7f7f; text-decoration-color: #7f7f7f\">:</span><a href=\"file:///home/alphan/projects/python_scripts/clean-rtt/venv/lib/python3.10/site-packages/paramiko/transport.py#1893\" target=\"_blank\"><span style=\"color: #7f7f7f; text-decoration-color: #7f7f7f\">1893</span></a>\n",
       "</pre>\n"
      ],
      "text/plain": [
       "\u001b[34mINFO    \u001b[0m Authentication \u001b[1m(\u001b[0mpublickey\u001b[1m)\u001b[0m successful!                             \u001b]8;id=93206;file:///home/alphan/projects/python_scripts/clean-rtt/venv/lib/python3.10/site-packages/paramiko/transport.py\u001b\\\u001b[2mtransport.py\u001b[0m\u001b]8;;\u001b\\\u001b[2m:\u001b[0m\u001b]8;id=982375;file:///home/alphan/projects/python_scripts/clean-rtt/venv/lib/python3.10/site-packages/paramiko/transport.py#1893\u001b\\\u001b[2m1893\u001b[0m\u001b]8;;\u001b\\\n"
      ]
     },
     "metadata": {},
     "output_type": "display_data"
    },
    {
     "data": {
      "text/html": [
       "<pre style=\"white-space:pre;overflow-x:auto;line-height:normal;font-family:Menlo,'DejaVu Sans Mono',consolas,'Courier New',monospace\"><span style=\"color: #000080; text-decoration-color: #000080\">INFO    </span> <span style=\"font-weight: bold\">[</span>chan <span style=\"color: #008080; text-decoration-color: #008080; font-weight: bold\">0</span><span style=\"font-weight: bold\">]</span> Opened sftp connection <span style=\"font-weight: bold\">(</span>server version <span style=\"color: #008080; text-decoration-color: #008080; font-weight: bold\">3</span><span style=\"font-weight: bold\">)</span>                       <a href=\"file:///home/alphan/projects/python_scripts/clean-rtt/venv/lib/python3.10/site-packages/paramiko/sftp.py\" target=\"_blank\"><span style=\"color: #7f7f7f; text-decoration-color: #7f7f7f\">sftp.py</span></a><span style=\"color: #7f7f7f; text-decoration-color: #7f7f7f\">:</span><a href=\"file:///home/alphan/projects/python_scripts/clean-rtt/venv/lib/python3.10/site-packages/paramiko/sftp.py#169\" target=\"_blank\"><span style=\"color: #7f7f7f; text-decoration-color: #7f7f7f\">169</span></a>\n",
       "</pre>\n"
      ],
      "text/plain": [
       "\u001b[34mINFO    \u001b[0m \u001b[1m[\u001b[0mchan \u001b[1;36m0\u001b[0m\u001b[1m]\u001b[0m Opened sftp connection \u001b[1m(\u001b[0mserver version \u001b[1;36m3\u001b[0m\u001b[1m)\u001b[0m                       \u001b]8;id=900448;file:///home/alphan/projects/python_scripts/clean-rtt/venv/lib/python3.10/site-packages/paramiko/sftp.py\u001b\\\u001b[2msftp.py\u001b[0m\u001b]8;;\u001b\\\u001b[2m:\u001b[0m\u001b]8;id=371106;file:///home/alphan/projects/python_scripts/clean-rtt/venv/lib/python3.10/site-packages/paramiko/sftp.py#169\u001b\\\u001b[2m169\u001b[0m\u001b]8;;\u001b\\\n"
      ]
     },
     "metadata": {},
     "output_type": "display_data"
    },
    {
     "data": {
      "text/html": [
       "<pre style=\"white-space:pre;overflow-x:auto;line-height:normal;font-family:Menlo,'DejaVu Sans Mono',consolas,'Courier New',monospace\"><span style=\"color: #000080; text-decoration-color: #000080\">INFO    </span> <span style=\"font-weight: bold\">[</span>chan <span style=\"color: #008080; text-decoration-color: #008080; font-weight: bold\">0</span><span style=\"font-weight: bold\">]</span> sftp session closed.                                            <a href=\"file:///home/alphan/projects/python_scripts/clean-rtt/venv/lib/python3.10/site-packages/paramiko/sftp.py\" target=\"_blank\"><span style=\"color: #7f7f7f; text-decoration-color: #7f7f7f\">sftp.py</span></a><span style=\"color: #7f7f7f; text-decoration-color: #7f7f7f\">:</span><a href=\"file:///home/alphan/projects/python_scripts/clean-rtt/venv/lib/python3.10/site-packages/paramiko/sftp.py#169\" target=\"_blank\"><span style=\"color: #7f7f7f; text-decoration-color: #7f7f7f\">169</span></a>\n",
       "</pre>\n"
      ],
      "text/plain": [
       "\u001b[34mINFO    \u001b[0m \u001b[1m[\u001b[0mchan \u001b[1;36m0\u001b[0m\u001b[1m]\u001b[0m sftp session closed.                                            \u001b]8;id=278803;file:///home/alphan/projects/python_scripts/clean-rtt/venv/lib/python3.10/site-packages/paramiko/sftp.py\u001b\\\u001b[2msftp.py\u001b[0m\u001b]8;;\u001b\\\u001b[2m:\u001b[0m\u001b]8;id=332700;file:///home/alphan/projects/python_scripts/clean-rtt/venv/lib/python3.10/site-packages/paramiko/sftp.py#169\u001b\\\u001b[2m169\u001b[0m\u001b]8;;\u001b\\\n"
      ]
     },
     "metadata": {},
     "output_type": "display_data"
    },
    {
     "name": "stdout",
     "output_type": "stream",
     "text": [
      "linux-strasbourg: Resetting the ping measurements to initial state.\n",
      "linux-strasbourg: Initializing the awaiting_ping_measurements dictionary.\n",
      "linux-strasbourg: Deleting the fetched addresses on site.\n",
      "linux-strasbourg: Openning connection to strasbourg\n"
     ]
    },
    {
     "data": {
      "text/html": [
       "<pre style=\"white-space:pre;overflow-x:auto;line-height:normal;font-family:Menlo,'DejaVu Sans Mono',consolas,'Courier New',monospace\"><span style=\"color: #000080; text-decoration-color: #000080\">INFO    </span> Connected <span style=\"font-weight: bold\">(</span>version <span style=\"color: #008080; text-decoration-color: #008080; font-weight: bold\">2.0</span>, client OpenSSH_7.9p1<span style=\"font-weight: bold\">)</span>                      <a href=\"file:///home/alphan/projects/python_scripts/clean-rtt/venv/lib/python3.10/site-packages/paramiko/transport.py\" target=\"_blank\"><span style=\"color: #7f7f7f; text-decoration-color: #7f7f7f\">transport.py</span></a><span style=\"color: #7f7f7f; text-decoration-color: #7f7f7f\">:</span><a href=\"file:///home/alphan/projects/python_scripts/clean-rtt/venv/lib/python3.10/site-packages/paramiko/transport.py#1893\" target=\"_blank\"><span style=\"color: #7f7f7f; text-decoration-color: #7f7f7f\">1893</span></a>\n",
       "</pre>\n"
      ],
      "text/plain": [
       "\u001b[34mINFO    \u001b[0m Connected \u001b[1m(\u001b[0mversion \u001b[1;36m2.0\u001b[0m, client OpenSSH_7.9p1\u001b[1m)\u001b[0m                      \u001b]8;id=177324;file:///home/alphan/projects/python_scripts/clean-rtt/venv/lib/python3.10/site-packages/paramiko/transport.py\u001b\\\u001b[2mtransport.py\u001b[0m\u001b]8;;\u001b\\\u001b[2m:\u001b[0m\u001b]8;id=127378;file:///home/alphan/projects/python_scripts/clean-rtt/venv/lib/python3.10/site-packages/paramiko/transport.py#1893\u001b\\\u001b[2m1893\u001b[0m\u001b]8;;\u001b\\\n"
      ]
     },
     "metadata": {},
     "output_type": "display_data"
    },
    {
     "data": {
      "text/html": [
       "<pre style=\"white-space:pre;overflow-x:auto;line-height:normal;font-family:Menlo,'DejaVu Sans Mono',consolas,'Courier New',monospace\"><span style=\"color: #000080; text-decoration-color: #000080\">INFO    </span> Authentication <span style=\"font-weight: bold\">(</span>publickey<span style=\"font-weight: bold\">)</span> successful!                             <a href=\"file:///home/alphan/projects/python_scripts/clean-rtt/venv/lib/python3.10/site-packages/paramiko/transport.py\" target=\"_blank\"><span style=\"color: #7f7f7f; text-decoration-color: #7f7f7f\">transport.py</span></a><span style=\"color: #7f7f7f; text-decoration-color: #7f7f7f\">:</span><a href=\"file:///home/alphan/projects/python_scripts/clean-rtt/venv/lib/python3.10/site-packages/paramiko/transport.py#1893\" target=\"_blank\"><span style=\"color: #7f7f7f; text-decoration-color: #7f7f7f\">1893</span></a>\n",
       "</pre>\n"
      ],
      "text/plain": [
       "\u001b[34mINFO    \u001b[0m Authentication \u001b[1m(\u001b[0mpublickey\u001b[1m)\u001b[0m successful!                             \u001b]8;id=18973;file:///home/alphan/projects/python_scripts/clean-rtt/venv/lib/python3.10/site-packages/paramiko/transport.py\u001b\\\u001b[2mtransport.py\u001b[0m\u001b]8;;\u001b\\\u001b[2m:\u001b[0m\u001b]8;id=710163;file:///home/alphan/projects/python_scripts/clean-rtt/venv/lib/python3.10/site-packages/paramiko/transport.py#1893\u001b\\\u001b[2m1893\u001b[0m\u001b]8;;\u001b\\\n"
      ]
     },
     "metadata": {},
     "output_type": "display_data"
    },
    {
     "name": "stdout",
     "output_type": "stream",
     "text": [
      "linux-strasbourg: Putting the all_nodes_to_addresses.json to site.\n",
      "linux-strasbourg: Openning connection to strasbourg\n"
     ]
    },
    {
     "data": {
      "text/html": [
       "<pre style=\"white-space:pre;overflow-x:auto;line-height:normal;font-family:Menlo,'DejaVu Sans Mono',consolas,'Courier New',monospace\"><span style=\"color: #000080; text-decoration-color: #000080\">INFO    </span> Connected <span style=\"font-weight: bold\">(</span>version <span style=\"color: #008080; text-decoration-color: #008080; font-weight: bold\">2.0</span>, client OpenSSH_7.9p1<span style=\"font-weight: bold\">)</span>                      <a href=\"file:///home/alphan/projects/python_scripts/clean-rtt/venv/lib/python3.10/site-packages/paramiko/transport.py\" target=\"_blank\"><span style=\"color: #7f7f7f; text-decoration-color: #7f7f7f\">transport.py</span></a><span style=\"color: #7f7f7f; text-decoration-color: #7f7f7f\">:</span><a href=\"file:///home/alphan/projects/python_scripts/clean-rtt/venv/lib/python3.10/site-packages/paramiko/transport.py#1893\" target=\"_blank\"><span style=\"color: #7f7f7f; text-decoration-color: #7f7f7f\">1893</span></a>\n",
       "</pre>\n"
      ],
      "text/plain": [
       "\u001b[34mINFO    \u001b[0m Connected \u001b[1m(\u001b[0mversion \u001b[1;36m2.0\u001b[0m, client OpenSSH_7.9p1\u001b[1m)\u001b[0m                      \u001b]8;id=275882;file:///home/alphan/projects/python_scripts/clean-rtt/venv/lib/python3.10/site-packages/paramiko/transport.py\u001b\\\u001b[2mtransport.py\u001b[0m\u001b]8;;\u001b\\\u001b[2m:\u001b[0m\u001b]8;id=115899;file:///home/alphan/projects/python_scripts/clean-rtt/venv/lib/python3.10/site-packages/paramiko/transport.py#1893\u001b\\\u001b[2m1893\u001b[0m\u001b]8;;\u001b\\\n"
      ]
     },
     "metadata": {},
     "output_type": "display_data"
    },
    {
     "data": {
      "text/html": [
       "<pre style=\"white-space:pre;overflow-x:auto;line-height:normal;font-family:Menlo,'DejaVu Sans Mono',consolas,'Courier New',monospace\"><span style=\"color: #000080; text-decoration-color: #000080\">INFO    </span> Authentication <span style=\"font-weight: bold\">(</span>publickey<span style=\"font-weight: bold\">)</span> successful!                             <a href=\"file:///home/alphan/projects/python_scripts/clean-rtt/venv/lib/python3.10/site-packages/paramiko/transport.py\" target=\"_blank\"><span style=\"color: #7f7f7f; text-decoration-color: #7f7f7f\">transport.py</span></a><span style=\"color: #7f7f7f; text-decoration-color: #7f7f7f\">:</span><a href=\"file:///home/alphan/projects/python_scripts/clean-rtt/venv/lib/python3.10/site-packages/paramiko/transport.py#1893\" target=\"_blank\"><span style=\"color: #7f7f7f; text-decoration-color: #7f7f7f\">1893</span></a>\n",
       "</pre>\n"
      ],
      "text/plain": [
       "\u001b[34mINFO    \u001b[0m Authentication \u001b[1m(\u001b[0mpublickey\u001b[1m)\u001b[0m successful!                             \u001b]8;id=161635;file:///home/alphan/projects/python_scripts/clean-rtt/venv/lib/python3.10/site-packages/paramiko/transport.py\u001b\\\u001b[2mtransport.py\u001b[0m\u001b]8;;\u001b\\\u001b[2m:\u001b[0m\u001b]8;id=618616;file:///home/alphan/projects/python_scripts/clean-rtt/venv/lib/python3.10/site-packages/paramiko/transport.py#1893\u001b\\\u001b[2m1893\u001b[0m\u001b]8;;\u001b\\\n"
      ]
     },
     "metadata": {},
     "output_type": "display_data"
    },
    {
     "data": {
      "text/html": [
       "<pre style=\"white-space:pre;overflow-x:auto;line-height:normal;font-family:Menlo,'DejaVu Sans Mono',consolas,'Courier New',monospace\"><span style=\"color: #000080; text-decoration-color: #000080\">INFO    </span> <span style=\"font-weight: bold\">[</span>chan <span style=\"color: #008080; text-decoration-color: #008080; font-weight: bold\">0</span><span style=\"font-weight: bold\">]</span> Opened sftp connection <span style=\"font-weight: bold\">(</span>server version <span style=\"color: #008080; text-decoration-color: #008080; font-weight: bold\">3</span><span style=\"font-weight: bold\">)</span>                       <a href=\"file:///home/alphan/projects/python_scripts/clean-rtt/venv/lib/python3.10/site-packages/paramiko/sftp.py\" target=\"_blank\"><span style=\"color: #7f7f7f; text-decoration-color: #7f7f7f\">sftp.py</span></a><span style=\"color: #7f7f7f; text-decoration-color: #7f7f7f\">:</span><a href=\"file:///home/alphan/projects/python_scripts/clean-rtt/venv/lib/python3.10/site-packages/paramiko/sftp.py#169\" target=\"_blank\"><span style=\"color: #7f7f7f; text-decoration-color: #7f7f7f\">169</span></a>\n",
       "</pre>\n"
      ],
      "text/plain": [
       "\u001b[34mINFO    \u001b[0m \u001b[1m[\u001b[0mchan \u001b[1;36m0\u001b[0m\u001b[1m]\u001b[0m Opened sftp connection \u001b[1m(\u001b[0mserver version \u001b[1;36m3\u001b[0m\u001b[1m)\u001b[0m                       \u001b]8;id=265285;file:///home/alphan/projects/python_scripts/clean-rtt/venv/lib/python3.10/site-packages/paramiko/sftp.py\u001b\\\u001b[2msftp.py\u001b[0m\u001b]8;;\u001b\\\u001b[2m:\u001b[0m\u001b]8;id=769593;file:///home/alphan/projects/python_scripts/clean-rtt/venv/lib/python3.10/site-packages/paramiko/sftp.py#169\u001b\\\u001b[2m169\u001b[0m\u001b]8;;\u001b\\\n"
      ]
     },
     "metadata": {},
     "output_type": "display_data"
    },
    {
     "data": {
      "text/html": [
       "<pre style=\"white-space:pre;overflow-x:auto;line-height:normal;font-family:Menlo,'DejaVu Sans Mono',consolas,'Courier New',monospace\"><span style=\"color: #000080; text-decoration-color: #000080\">INFO    </span> <span style=\"font-weight: bold\">[</span>chan <span style=\"color: #008080; text-decoration-color: #008080; font-weight: bold\">0</span><span style=\"font-weight: bold\">]</span> sftp session closed.                                            <a href=\"file:///home/alphan/projects/python_scripts/clean-rtt/venv/lib/python3.10/site-packages/paramiko/sftp.py\" target=\"_blank\"><span style=\"color: #7f7f7f; text-decoration-color: #7f7f7f\">sftp.py</span></a><span style=\"color: #7f7f7f; text-decoration-color: #7f7f7f\">:</span><a href=\"file:///home/alphan/projects/python_scripts/clean-rtt/venv/lib/python3.10/site-packages/paramiko/sftp.py#169\" target=\"_blank\"><span style=\"color: #7f7f7f; text-decoration-color: #7f7f7f\">169</span></a>\n",
       "</pre>\n"
      ],
      "text/plain": [
       "\u001b[34mINFO    \u001b[0m \u001b[1m[\u001b[0mchan \u001b[1;36m0\u001b[0m\u001b[1m]\u001b[0m sftp session closed.                                            \u001b]8;id=873255;file:///home/alphan/projects/python_scripts/clean-rtt/venv/lib/python3.10/site-packages/paramiko/sftp.py\u001b\\\u001b[2msftp.py\u001b[0m\u001b]8;;\u001b\\\u001b[2m:\u001b[0m\u001b]8;id=175103;file:///home/alphan/projects/python_scripts/clean-rtt/venv/lib/python3.10/site-packages/paramiko/sftp.py#169\u001b\\\u001b[2m169\u001b[0m\u001b]8;;\u001b\\\n"
      ]
     },
     "metadata": {},
     "output_type": "display_data"
    }
   ],
   "source": [
    "linux_grenoble_1.refresh_ping_measurement()\n",
    "linux_grenoble_2.refresh_ping_measurement()\n",
    "linux_paris.refresh_ping_measurement()\n",
    "linux_saclay.refresh_ping_measurement()\n",
    "linux_strasbourg.refresh_ping_measurement()"
   ]
  },
  {
   "cell_type": "code",
   "execution_count": 3,
   "id": "fa5ab57c-9710-41cb-a43f-3b68f17f6122",
   "metadata": {},
   "outputs": [
    {
     "name": "stdout",
     "output_type": "stream",
     "text": [
      "linux-grenoble: Starting the initial ping round.\n",
      "linux-grenoble: Sending the nodes.txt.\n",
      "linux-grenoble: Deleting the local nodes.txt.\n",
      "Encountered a bad command exit code!\n",
      "\n",
      "Command: './experiment_data/387427/intermediate/grenoble/linux_1/nodes.txt'\n",
      "\n",
      "Exit code: 126\n",
      "\n",
      "Stdout: already printed\n",
      "\n",
      "Stderr:\n",
      "\n",
      "/bin/bash: ./experiment_data/387427/intermediate/grenoble/linux_1/nodes.txt: Permission denied\n",
      "\n",
      "\n",
      "linux-grenoble: Deleting the nodes.txt addresses on grenoble.\n",
      "linux-grenoble: Openning connection to grenoble\n"
     ]
    },
    {
     "data": {
      "text/html": [
       "<pre style=\"white-space:pre;overflow-x:auto;line-height:normal;font-family:Menlo,'DejaVu Sans Mono',consolas,'Courier New',monospace\"><span style=\"color: #000080; text-decoration-color: #000080\">INFO    </span> Connected <span style=\"font-weight: bold\">(</span>version <span style=\"color: #008080; text-decoration-color: #008080; font-weight: bold\">2.0</span>, client OpenSSH_7.9p1<span style=\"font-weight: bold\">)</span>                      <a href=\"file:///home/alphan/projects/python_scripts/clean-rtt/venv/lib/python3.10/site-packages/paramiko/transport.py\" target=\"_blank\"><span style=\"color: #7f7f7f; text-decoration-color: #7f7f7f\">transport.py</span></a><span style=\"color: #7f7f7f; text-decoration-color: #7f7f7f\">:</span><a href=\"file:///home/alphan/projects/python_scripts/clean-rtt/venv/lib/python3.10/site-packages/paramiko/transport.py#1893\" target=\"_blank\"><span style=\"color: #7f7f7f; text-decoration-color: #7f7f7f\">1893</span></a>\n",
       "</pre>\n"
      ],
      "text/plain": [
       "\u001b[34mINFO    \u001b[0m Connected \u001b[1m(\u001b[0mversion \u001b[1;36m2.0\u001b[0m, client OpenSSH_7.9p1\u001b[1m)\u001b[0m                      \u001b]8;id=227229;file:///home/alphan/projects/python_scripts/clean-rtt/venv/lib/python3.10/site-packages/paramiko/transport.py\u001b\\\u001b[2mtransport.py\u001b[0m\u001b]8;;\u001b\\\u001b[2m:\u001b[0m\u001b]8;id=480809;file:///home/alphan/projects/python_scripts/clean-rtt/venv/lib/python3.10/site-packages/paramiko/transport.py#1893\u001b\\\u001b[2m1893\u001b[0m\u001b]8;;\u001b\\\n"
      ]
     },
     "metadata": {},
     "output_type": "display_data"
    },
    {
     "data": {
      "text/html": [
       "<pre style=\"white-space:pre;overflow-x:auto;line-height:normal;font-family:Menlo,'DejaVu Sans Mono',consolas,'Courier New',monospace\"><span style=\"color: #000080; text-decoration-color: #000080\">INFO    </span> Authentication <span style=\"font-weight: bold\">(</span>publickey<span style=\"font-weight: bold\">)</span> successful!                             <a href=\"file:///home/alphan/projects/python_scripts/clean-rtt/venv/lib/python3.10/site-packages/paramiko/transport.py\" target=\"_blank\"><span style=\"color: #7f7f7f; text-decoration-color: #7f7f7f\">transport.py</span></a><span style=\"color: #7f7f7f; text-decoration-color: #7f7f7f\">:</span><a href=\"file:///home/alphan/projects/python_scripts/clean-rtt/venv/lib/python3.10/site-packages/paramiko/transport.py#1893\" target=\"_blank\"><span style=\"color: #7f7f7f; text-decoration-color: #7f7f7f\">1893</span></a>\n",
       "</pre>\n"
      ],
      "text/plain": [
       "\u001b[34mINFO    \u001b[0m Authentication \u001b[1m(\u001b[0mpublickey\u001b[1m)\u001b[0m successful!                             \u001b]8;id=940313;file:///home/alphan/projects/python_scripts/clean-rtt/venv/lib/python3.10/site-packages/paramiko/transport.py\u001b\\\u001b[2mtransport.py\u001b[0m\u001b]8;;\u001b\\\u001b[2m:\u001b[0m\u001b]8;id=870266;file:///home/alphan/projects/python_scripts/clean-rtt/venv/lib/python3.10/site-packages/paramiko/transport.py#1893\u001b\\\u001b[2m1893\u001b[0m\u001b]8;;\u001b\\\n"
      ]
     },
     "metadata": {},
     "output_type": "display_data"
    },
    {
     "name": "stdout",
     "output_type": "stream",
     "text": [
      "linux-grenoble: Writing nodes to local.\n",
      "linux-grenoble: Putting nodes on grenoble.\n",
      "linux-grenoble: Openning connection to grenoble\n"
     ]
    },
    {
     "data": {
      "text/html": [
       "<pre style=\"white-space:pre;overflow-x:auto;line-height:normal;font-family:Menlo,'DejaVu Sans Mono',consolas,'Courier New',monospace\"><span style=\"color: #000080; text-decoration-color: #000080\">INFO    </span> Connected <span style=\"font-weight: bold\">(</span>version <span style=\"color: #008080; text-decoration-color: #008080; font-weight: bold\">2.0</span>, client OpenSSH_7.9p1<span style=\"font-weight: bold\">)</span>                      <a href=\"file:///home/alphan/projects/python_scripts/clean-rtt/venv/lib/python3.10/site-packages/paramiko/transport.py\" target=\"_blank\"><span style=\"color: #7f7f7f; text-decoration-color: #7f7f7f\">transport.py</span></a><span style=\"color: #7f7f7f; text-decoration-color: #7f7f7f\">:</span><a href=\"file:///home/alphan/projects/python_scripts/clean-rtt/venv/lib/python3.10/site-packages/paramiko/transport.py#1893\" target=\"_blank\"><span style=\"color: #7f7f7f; text-decoration-color: #7f7f7f\">1893</span></a>\n",
       "</pre>\n"
      ],
      "text/plain": [
       "\u001b[34mINFO    \u001b[0m Connected \u001b[1m(\u001b[0mversion \u001b[1;36m2.0\u001b[0m, client OpenSSH_7.9p1\u001b[1m)\u001b[0m                      \u001b]8;id=21917;file:///home/alphan/projects/python_scripts/clean-rtt/venv/lib/python3.10/site-packages/paramiko/transport.py\u001b\\\u001b[2mtransport.py\u001b[0m\u001b]8;;\u001b\\\u001b[2m:\u001b[0m\u001b]8;id=68498;file:///home/alphan/projects/python_scripts/clean-rtt/venv/lib/python3.10/site-packages/paramiko/transport.py#1893\u001b\\\u001b[2m1893\u001b[0m\u001b]8;;\u001b\\\n"
      ]
     },
     "metadata": {},
     "output_type": "display_data"
    },
    {
     "data": {
      "text/html": [
       "<pre style=\"white-space:pre;overflow-x:auto;line-height:normal;font-family:Menlo,'DejaVu Sans Mono',consolas,'Courier New',monospace\"><span style=\"color: #000080; text-decoration-color: #000080\">INFO    </span> Authentication <span style=\"font-weight: bold\">(</span>publickey<span style=\"font-weight: bold\">)</span> successful!                             <a href=\"file:///home/alphan/projects/python_scripts/clean-rtt/venv/lib/python3.10/site-packages/paramiko/transport.py\" target=\"_blank\"><span style=\"color: #7f7f7f; text-decoration-color: #7f7f7f\">transport.py</span></a><span style=\"color: #7f7f7f; text-decoration-color: #7f7f7f\">:</span><a href=\"file:///home/alphan/projects/python_scripts/clean-rtt/venv/lib/python3.10/site-packages/paramiko/transport.py#1893\" target=\"_blank\"><span style=\"color: #7f7f7f; text-decoration-color: #7f7f7f\">1893</span></a>\n",
       "</pre>\n"
      ],
      "text/plain": [
       "\u001b[34mINFO    \u001b[0m Authentication \u001b[1m(\u001b[0mpublickey\u001b[1m)\u001b[0m successful!                             \u001b]8;id=986346;file:///home/alphan/projects/python_scripts/clean-rtt/venv/lib/python3.10/site-packages/paramiko/transport.py\u001b\\\u001b[2mtransport.py\u001b[0m\u001b]8;;\u001b\\\u001b[2m:\u001b[0m\u001b]8;id=253067;file:///home/alphan/projects/python_scripts/clean-rtt/venv/lib/python3.10/site-packages/paramiko/transport.py#1893\u001b\\\u001b[2m1893\u001b[0m\u001b]8;;\u001b\\\n"
      ]
     },
     "metadata": {},
     "output_type": "display_data"
    },
    {
     "data": {
      "text/html": [
       "<pre style=\"white-space:pre;overflow-x:auto;line-height:normal;font-family:Menlo,'DejaVu Sans Mono',consolas,'Courier New',monospace\"><span style=\"color: #000080; text-decoration-color: #000080\">INFO    </span> <span style=\"font-weight: bold\">[</span>chan <span style=\"color: #008080; text-decoration-color: #008080; font-weight: bold\">0</span><span style=\"font-weight: bold\">]</span> Opened sftp connection <span style=\"font-weight: bold\">(</span>server version <span style=\"color: #008080; text-decoration-color: #008080; font-weight: bold\">3</span><span style=\"font-weight: bold\">)</span>                       <a href=\"file:///home/alphan/projects/python_scripts/clean-rtt/venv/lib/python3.10/site-packages/paramiko/sftp.py\" target=\"_blank\"><span style=\"color: #7f7f7f; text-decoration-color: #7f7f7f\">sftp.py</span></a><span style=\"color: #7f7f7f; text-decoration-color: #7f7f7f\">:</span><a href=\"file:///home/alphan/projects/python_scripts/clean-rtt/venv/lib/python3.10/site-packages/paramiko/sftp.py#169\" target=\"_blank\"><span style=\"color: #7f7f7f; text-decoration-color: #7f7f7f\">169</span></a>\n",
       "</pre>\n"
      ],
      "text/plain": [
       "\u001b[34mINFO    \u001b[0m \u001b[1m[\u001b[0mchan \u001b[1;36m0\u001b[0m\u001b[1m]\u001b[0m Opened sftp connection \u001b[1m(\u001b[0mserver version \u001b[1;36m3\u001b[0m\u001b[1m)\u001b[0m                       \u001b]8;id=344073;file:///home/alphan/projects/python_scripts/clean-rtt/venv/lib/python3.10/site-packages/paramiko/sftp.py\u001b\\\u001b[2msftp.py\u001b[0m\u001b]8;;\u001b\\\u001b[2m:\u001b[0m\u001b]8;id=276562;file:///home/alphan/projects/python_scripts/clean-rtt/venv/lib/python3.10/site-packages/paramiko/sftp.py#169\u001b\\\u001b[2m169\u001b[0m\u001b]8;;\u001b\\\n"
      ]
     },
     "metadata": {},
     "output_type": "display_data"
    },
    {
     "data": {
      "text/html": [
       "<pre style=\"white-space:pre;overflow-x:auto;line-height:normal;font-family:Menlo,'DejaVu Sans Mono',consolas,'Courier New',monospace\"><span style=\"color: #000080; text-decoration-color: #000080\">INFO    </span> <span style=\"font-weight: bold\">[</span>chan <span style=\"color: #008080; text-decoration-color: #008080; font-weight: bold\">0</span><span style=\"font-weight: bold\">]</span> sftp session closed.                                            <a href=\"file:///home/alphan/projects/python_scripts/clean-rtt/venv/lib/python3.10/site-packages/paramiko/sftp.py\" target=\"_blank\"><span style=\"color: #7f7f7f; text-decoration-color: #7f7f7f\">sftp.py</span></a><span style=\"color: #7f7f7f; text-decoration-color: #7f7f7f\">:</span><a href=\"file:///home/alphan/projects/python_scripts/clean-rtt/venv/lib/python3.10/site-packages/paramiko/sftp.py#169\" target=\"_blank\"><span style=\"color: #7f7f7f; text-decoration-color: #7f7f7f\">169</span></a>\n",
       "</pre>\n"
      ],
      "text/plain": [
       "\u001b[34mINFO    \u001b[0m \u001b[1m[\u001b[0mchan \u001b[1;36m0\u001b[0m\u001b[1m]\u001b[0m sftp session closed.                                            \u001b]8;id=277147;file:///home/alphan/projects/python_scripts/clean-rtt/venv/lib/python3.10/site-packages/paramiko/sftp.py\u001b\\\u001b[2msftp.py\u001b[0m\u001b]8;;\u001b\\\u001b[2m:\u001b[0m\u001b]8;id=519124;file:///home/alphan/projects/python_scripts/clean-rtt/venv/lib/python3.10/site-packages/paramiko/sftp.py#169\u001b\\\u001b[2m169\u001b[0m\u001b]8;;\u001b\\\n"
      ]
     },
     "metadata": {},
     "output_type": "display_data"
    },
    {
     "name": "stdout",
     "output_type": "stream",
     "text": [
      "linux-grenoble: Openning connection to grenoble\n"
     ]
    },
    {
     "data": {
      "text/html": [
       "<pre style=\"white-space:pre;overflow-x:auto;line-height:normal;font-family:Menlo,'DejaVu Sans Mono',consolas,'Courier New',monospace\"><span style=\"color: #000080; text-decoration-color: #000080\">INFO    </span> Connected <span style=\"font-weight: bold\">(</span>version <span style=\"color: #008080; text-decoration-color: #008080; font-weight: bold\">2.0</span>, client OpenSSH_7.9p1<span style=\"font-weight: bold\">)</span>                      <a href=\"file:///home/alphan/projects/python_scripts/clean-rtt/venv/lib/python3.10/site-packages/paramiko/transport.py\" target=\"_blank\"><span style=\"color: #7f7f7f; text-decoration-color: #7f7f7f\">transport.py</span></a><span style=\"color: #7f7f7f; text-decoration-color: #7f7f7f\">:</span><a href=\"file:///home/alphan/projects/python_scripts/clean-rtt/venv/lib/python3.10/site-packages/paramiko/transport.py#1893\" target=\"_blank\"><span style=\"color: #7f7f7f; text-decoration-color: #7f7f7f\">1893</span></a>\n",
       "</pre>\n"
      ],
      "text/plain": [
       "\u001b[34mINFO    \u001b[0m Connected \u001b[1m(\u001b[0mversion \u001b[1;36m2.0\u001b[0m, client OpenSSH_7.9p1\u001b[1m)\u001b[0m                      \u001b]8;id=521445;file:///home/alphan/projects/python_scripts/clean-rtt/venv/lib/python3.10/site-packages/paramiko/transport.py\u001b\\\u001b[2mtransport.py\u001b[0m\u001b]8;;\u001b\\\u001b[2m:\u001b[0m\u001b]8;id=535656;file:///home/alphan/projects/python_scripts/clean-rtt/venv/lib/python3.10/site-packages/paramiko/transport.py#1893\u001b\\\u001b[2m1893\u001b[0m\u001b]8;;\u001b\\\n"
      ]
     },
     "metadata": {},
     "output_type": "display_data"
    },
    {
     "data": {
      "text/html": [
       "<pre style=\"white-space:pre;overflow-x:auto;line-height:normal;font-family:Menlo,'DejaVu Sans Mono',consolas,'Courier New',monospace\"><span style=\"color: #000080; text-decoration-color: #000080\">INFO    </span> Authentication <span style=\"font-weight: bold\">(</span>publickey<span style=\"font-weight: bold\">)</span> successful!                             <a href=\"file:///home/alphan/projects/python_scripts/clean-rtt/venv/lib/python3.10/site-packages/paramiko/transport.py\" target=\"_blank\"><span style=\"color: #7f7f7f; text-decoration-color: #7f7f7f\">transport.py</span></a><span style=\"color: #7f7f7f; text-decoration-color: #7f7f7f\">:</span><a href=\"file:///home/alphan/projects/python_scripts/clean-rtt/venv/lib/python3.10/site-packages/paramiko/transport.py#1893\" target=\"_blank\"><span style=\"color: #7f7f7f; text-decoration-color: #7f7f7f\">1893</span></a>\n",
       "</pre>\n"
      ],
      "text/plain": [
       "\u001b[34mINFO    \u001b[0m Authentication \u001b[1m(\u001b[0mpublickey\u001b[1m)\u001b[0m successful!                             \u001b]8;id=486014;file:///home/alphan/projects/python_scripts/clean-rtt/venv/lib/python3.10/site-packages/paramiko/transport.py\u001b\\\u001b[2mtransport.py\u001b[0m\u001b]8;;\u001b\\\u001b[2m:\u001b[0m\u001b]8;id=971243;file:///home/alphan/projects/python_scripts/clean-rtt/venv/lib/python3.10/site-packages/paramiko/transport.py#1893\u001b\\\u001b[2m1893\u001b[0m\u001b]8;;\u001b\\\n"
      ]
     },
     "metadata": {},
     "output_type": "display_data"
    },
    {
     "name": "stdout",
     "output_type": "stream",
     "text": [
      "linux-grenoble: Starting the initial ping round.\n",
      "linux-grenoble: Sending the nodes.txt.\n",
      "linux-grenoble: Deleting the local nodes.txt.\n",
      "Encountered a bad command exit code!\n",
      "\n",
      "Command: './experiment_data/387427/intermediate/grenoble/linux_2/nodes.txt'\n",
      "\n",
      "Exit code: 126\n",
      "\n",
      "Stdout: already printed\n",
      "\n",
      "Stderr:\n",
      "\n",
      "/bin/bash: ./experiment_data/387427/intermediate/grenoble/linux_2/nodes.txt: Permission denied\n",
      "\n",
      "\n",
      "linux-grenoble: Deleting the nodes.txt addresses on grenoble.\n",
      "linux-grenoble: Openning connection to grenoble\n"
     ]
    },
    {
     "data": {
      "text/html": [
       "<pre style=\"white-space:pre;overflow-x:auto;line-height:normal;font-family:Menlo,'DejaVu Sans Mono',consolas,'Courier New',monospace\"><span style=\"color: #000080; text-decoration-color: #000080\">INFO    </span> Connected <span style=\"font-weight: bold\">(</span>version <span style=\"color: #008080; text-decoration-color: #008080; font-weight: bold\">2.0</span>, client OpenSSH_7.9p1<span style=\"font-weight: bold\">)</span>                      <a href=\"file:///home/alphan/projects/python_scripts/clean-rtt/venv/lib/python3.10/site-packages/paramiko/transport.py\" target=\"_blank\"><span style=\"color: #7f7f7f; text-decoration-color: #7f7f7f\">transport.py</span></a><span style=\"color: #7f7f7f; text-decoration-color: #7f7f7f\">:</span><a href=\"file:///home/alphan/projects/python_scripts/clean-rtt/venv/lib/python3.10/site-packages/paramiko/transport.py#1893\" target=\"_blank\"><span style=\"color: #7f7f7f; text-decoration-color: #7f7f7f\">1893</span></a>\n",
       "</pre>\n"
      ],
      "text/plain": [
       "\u001b[34mINFO    \u001b[0m Connected \u001b[1m(\u001b[0mversion \u001b[1;36m2.0\u001b[0m, client OpenSSH_7.9p1\u001b[1m)\u001b[0m                      \u001b]8;id=233188;file:///home/alphan/projects/python_scripts/clean-rtt/venv/lib/python3.10/site-packages/paramiko/transport.py\u001b\\\u001b[2mtransport.py\u001b[0m\u001b]8;;\u001b\\\u001b[2m:\u001b[0m\u001b]8;id=471567;file:///home/alphan/projects/python_scripts/clean-rtt/venv/lib/python3.10/site-packages/paramiko/transport.py#1893\u001b\\\u001b[2m1893\u001b[0m\u001b]8;;\u001b\\\n"
      ]
     },
     "metadata": {},
     "output_type": "display_data"
    },
    {
     "data": {
      "text/html": [
       "<pre style=\"white-space:pre;overflow-x:auto;line-height:normal;font-family:Menlo,'DejaVu Sans Mono',consolas,'Courier New',monospace\"><span style=\"color: #000080; text-decoration-color: #000080\">INFO    </span> Authentication <span style=\"font-weight: bold\">(</span>publickey<span style=\"font-weight: bold\">)</span> successful!                             <a href=\"file:///home/alphan/projects/python_scripts/clean-rtt/venv/lib/python3.10/site-packages/paramiko/transport.py\" target=\"_blank\"><span style=\"color: #7f7f7f; text-decoration-color: #7f7f7f\">transport.py</span></a><span style=\"color: #7f7f7f; text-decoration-color: #7f7f7f\">:</span><a href=\"file:///home/alphan/projects/python_scripts/clean-rtt/venv/lib/python3.10/site-packages/paramiko/transport.py#1893\" target=\"_blank\"><span style=\"color: #7f7f7f; text-decoration-color: #7f7f7f\">1893</span></a>\n",
       "</pre>\n"
      ],
      "text/plain": [
       "\u001b[34mINFO    \u001b[0m Authentication \u001b[1m(\u001b[0mpublickey\u001b[1m)\u001b[0m successful!                             \u001b]8;id=875832;file:///home/alphan/projects/python_scripts/clean-rtt/venv/lib/python3.10/site-packages/paramiko/transport.py\u001b\\\u001b[2mtransport.py\u001b[0m\u001b]8;;\u001b\\\u001b[2m:\u001b[0m\u001b]8;id=629513;file:///home/alphan/projects/python_scripts/clean-rtt/venv/lib/python3.10/site-packages/paramiko/transport.py#1893\u001b\\\u001b[2m1893\u001b[0m\u001b]8;;\u001b\\\n"
      ]
     },
     "metadata": {},
     "output_type": "display_data"
    },
    {
     "name": "stdout",
     "output_type": "stream",
     "text": [
      "linux-grenoble: Writing nodes to local.\n",
      "linux-grenoble: Putting nodes on grenoble.\n",
      "linux-grenoble: Openning connection to grenoble\n"
     ]
    },
    {
     "data": {
      "text/html": [
       "<pre style=\"white-space:pre;overflow-x:auto;line-height:normal;font-family:Menlo,'DejaVu Sans Mono',consolas,'Courier New',monospace\"><span style=\"color: #000080; text-decoration-color: #000080\">INFO    </span> Connected <span style=\"font-weight: bold\">(</span>version <span style=\"color: #008080; text-decoration-color: #008080; font-weight: bold\">2.0</span>, client OpenSSH_7.9p1<span style=\"font-weight: bold\">)</span>                      <a href=\"file:///home/alphan/projects/python_scripts/clean-rtt/venv/lib/python3.10/site-packages/paramiko/transport.py\" target=\"_blank\"><span style=\"color: #7f7f7f; text-decoration-color: #7f7f7f\">transport.py</span></a><span style=\"color: #7f7f7f; text-decoration-color: #7f7f7f\">:</span><a href=\"file:///home/alphan/projects/python_scripts/clean-rtt/venv/lib/python3.10/site-packages/paramiko/transport.py#1893\" target=\"_blank\"><span style=\"color: #7f7f7f; text-decoration-color: #7f7f7f\">1893</span></a>\n",
       "</pre>\n"
      ],
      "text/plain": [
       "\u001b[34mINFO    \u001b[0m Connected \u001b[1m(\u001b[0mversion \u001b[1;36m2.0\u001b[0m, client OpenSSH_7.9p1\u001b[1m)\u001b[0m                      \u001b]8;id=448344;file:///home/alphan/projects/python_scripts/clean-rtt/venv/lib/python3.10/site-packages/paramiko/transport.py\u001b\\\u001b[2mtransport.py\u001b[0m\u001b]8;;\u001b\\\u001b[2m:\u001b[0m\u001b]8;id=56619;file:///home/alphan/projects/python_scripts/clean-rtt/venv/lib/python3.10/site-packages/paramiko/transport.py#1893\u001b\\\u001b[2m1893\u001b[0m\u001b]8;;\u001b\\\n"
      ]
     },
     "metadata": {},
     "output_type": "display_data"
    },
    {
     "data": {
      "text/html": [
       "<pre style=\"white-space:pre;overflow-x:auto;line-height:normal;font-family:Menlo,'DejaVu Sans Mono',consolas,'Courier New',monospace\"><span style=\"color: #000080; text-decoration-color: #000080\">INFO    </span> Authentication <span style=\"font-weight: bold\">(</span>publickey<span style=\"font-weight: bold\">)</span> successful!                             <a href=\"file:///home/alphan/projects/python_scripts/clean-rtt/venv/lib/python3.10/site-packages/paramiko/transport.py\" target=\"_blank\"><span style=\"color: #7f7f7f; text-decoration-color: #7f7f7f\">transport.py</span></a><span style=\"color: #7f7f7f; text-decoration-color: #7f7f7f\">:</span><a href=\"file:///home/alphan/projects/python_scripts/clean-rtt/venv/lib/python3.10/site-packages/paramiko/transport.py#1893\" target=\"_blank\"><span style=\"color: #7f7f7f; text-decoration-color: #7f7f7f\">1893</span></a>\n",
       "</pre>\n"
      ],
      "text/plain": [
       "\u001b[34mINFO    \u001b[0m Authentication \u001b[1m(\u001b[0mpublickey\u001b[1m)\u001b[0m successful!                             \u001b]8;id=109061;file:///home/alphan/projects/python_scripts/clean-rtt/venv/lib/python3.10/site-packages/paramiko/transport.py\u001b\\\u001b[2mtransport.py\u001b[0m\u001b]8;;\u001b\\\u001b[2m:\u001b[0m\u001b]8;id=948756;file:///home/alphan/projects/python_scripts/clean-rtt/venv/lib/python3.10/site-packages/paramiko/transport.py#1893\u001b\\\u001b[2m1893\u001b[0m\u001b]8;;\u001b\\\n"
      ]
     },
     "metadata": {},
     "output_type": "display_data"
    },
    {
     "data": {
      "text/html": [
       "<pre style=\"white-space:pre;overflow-x:auto;line-height:normal;font-family:Menlo,'DejaVu Sans Mono',consolas,'Courier New',monospace\"><span style=\"color: #000080; text-decoration-color: #000080\">INFO    </span> <span style=\"font-weight: bold\">[</span>chan <span style=\"color: #008080; text-decoration-color: #008080; font-weight: bold\">0</span><span style=\"font-weight: bold\">]</span> Opened sftp connection <span style=\"font-weight: bold\">(</span>server version <span style=\"color: #008080; text-decoration-color: #008080; font-weight: bold\">3</span><span style=\"font-weight: bold\">)</span>                       <a href=\"file:///home/alphan/projects/python_scripts/clean-rtt/venv/lib/python3.10/site-packages/paramiko/sftp.py\" target=\"_blank\"><span style=\"color: #7f7f7f; text-decoration-color: #7f7f7f\">sftp.py</span></a><span style=\"color: #7f7f7f; text-decoration-color: #7f7f7f\">:</span><a href=\"file:///home/alphan/projects/python_scripts/clean-rtt/venv/lib/python3.10/site-packages/paramiko/sftp.py#169\" target=\"_blank\"><span style=\"color: #7f7f7f; text-decoration-color: #7f7f7f\">169</span></a>\n",
       "</pre>\n"
      ],
      "text/plain": [
       "\u001b[34mINFO    \u001b[0m \u001b[1m[\u001b[0mchan \u001b[1;36m0\u001b[0m\u001b[1m]\u001b[0m Opened sftp connection \u001b[1m(\u001b[0mserver version \u001b[1;36m3\u001b[0m\u001b[1m)\u001b[0m                       \u001b]8;id=162141;file:///home/alphan/projects/python_scripts/clean-rtt/venv/lib/python3.10/site-packages/paramiko/sftp.py\u001b\\\u001b[2msftp.py\u001b[0m\u001b]8;;\u001b\\\u001b[2m:\u001b[0m\u001b]8;id=53677;file:///home/alphan/projects/python_scripts/clean-rtt/venv/lib/python3.10/site-packages/paramiko/sftp.py#169\u001b\\\u001b[2m169\u001b[0m\u001b]8;;\u001b\\\n"
      ]
     },
     "metadata": {},
     "output_type": "display_data"
    },
    {
     "data": {
      "text/html": [
       "<pre style=\"white-space:pre;overflow-x:auto;line-height:normal;font-family:Menlo,'DejaVu Sans Mono',consolas,'Courier New',monospace\"><span style=\"color: #000080; text-decoration-color: #000080\">INFO    </span> <span style=\"font-weight: bold\">[</span>chan <span style=\"color: #008080; text-decoration-color: #008080; font-weight: bold\">0</span><span style=\"font-weight: bold\">]</span> sftp session closed.                                            <a href=\"file:///home/alphan/projects/python_scripts/clean-rtt/venv/lib/python3.10/site-packages/paramiko/sftp.py\" target=\"_blank\"><span style=\"color: #7f7f7f; text-decoration-color: #7f7f7f\">sftp.py</span></a><span style=\"color: #7f7f7f; text-decoration-color: #7f7f7f\">:</span><a href=\"file:///home/alphan/projects/python_scripts/clean-rtt/venv/lib/python3.10/site-packages/paramiko/sftp.py#169\" target=\"_blank\"><span style=\"color: #7f7f7f; text-decoration-color: #7f7f7f\">169</span></a>\n",
       "</pre>\n"
      ],
      "text/plain": [
       "\u001b[34mINFO    \u001b[0m \u001b[1m[\u001b[0mchan \u001b[1;36m0\u001b[0m\u001b[1m]\u001b[0m sftp session closed.                                            \u001b]8;id=767659;file:///home/alphan/projects/python_scripts/clean-rtt/venv/lib/python3.10/site-packages/paramiko/sftp.py\u001b\\\u001b[2msftp.py\u001b[0m\u001b]8;;\u001b\\\u001b[2m:\u001b[0m\u001b]8;id=982535;file:///home/alphan/projects/python_scripts/clean-rtt/venv/lib/python3.10/site-packages/paramiko/sftp.py#169\u001b\\\u001b[2m169\u001b[0m\u001b]8;;\u001b\\\n"
      ]
     },
     "metadata": {},
     "output_type": "display_data"
    },
    {
     "name": "stdout",
     "output_type": "stream",
     "text": [
      "linux-grenoble: Openning connection to grenoble\n"
     ]
    },
    {
     "data": {
      "text/html": [
       "<pre style=\"white-space:pre;overflow-x:auto;line-height:normal;font-family:Menlo,'DejaVu Sans Mono',consolas,'Courier New',monospace\"><span style=\"color: #000080; text-decoration-color: #000080\">INFO    </span> Connected <span style=\"font-weight: bold\">(</span>version <span style=\"color: #008080; text-decoration-color: #008080; font-weight: bold\">2.0</span>, client OpenSSH_7.9p1<span style=\"font-weight: bold\">)</span>                      <a href=\"file:///home/alphan/projects/python_scripts/clean-rtt/venv/lib/python3.10/site-packages/paramiko/transport.py\" target=\"_blank\"><span style=\"color: #7f7f7f; text-decoration-color: #7f7f7f\">transport.py</span></a><span style=\"color: #7f7f7f; text-decoration-color: #7f7f7f\">:</span><a href=\"file:///home/alphan/projects/python_scripts/clean-rtt/venv/lib/python3.10/site-packages/paramiko/transport.py#1893\" target=\"_blank\"><span style=\"color: #7f7f7f; text-decoration-color: #7f7f7f\">1893</span></a>\n",
       "</pre>\n"
      ],
      "text/plain": [
       "\u001b[34mINFO    \u001b[0m Connected \u001b[1m(\u001b[0mversion \u001b[1;36m2.0\u001b[0m, client OpenSSH_7.9p1\u001b[1m)\u001b[0m                      \u001b]8;id=177545;file:///home/alphan/projects/python_scripts/clean-rtt/venv/lib/python3.10/site-packages/paramiko/transport.py\u001b\\\u001b[2mtransport.py\u001b[0m\u001b]8;;\u001b\\\u001b[2m:\u001b[0m\u001b]8;id=435353;file:///home/alphan/projects/python_scripts/clean-rtt/venv/lib/python3.10/site-packages/paramiko/transport.py#1893\u001b\\\u001b[2m1893\u001b[0m\u001b]8;;\u001b\\\n"
      ]
     },
     "metadata": {},
     "output_type": "display_data"
    },
    {
     "data": {
      "text/html": [
       "<pre style=\"white-space:pre;overflow-x:auto;line-height:normal;font-family:Menlo,'DejaVu Sans Mono',consolas,'Courier New',monospace\"><span style=\"color: #000080; text-decoration-color: #000080\">INFO    </span> Authentication <span style=\"font-weight: bold\">(</span>publickey<span style=\"font-weight: bold\">)</span> successful!                             <a href=\"file:///home/alphan/projects/python_scripts/clean-rtt/venv/lib/python3.10/site-packages/paramiko/transport.py\" target=\"_blank\"><span style=\"color: #7f7f7f; text-decoration-color: #7f7f7f\">transport.py</span></a><span style=\"color: #7f7f7f; text-decoration-color: #7f7f7f\">:</span><a href=\"file:///home/alphan/projects/python_scripts/clean-rtt/venv/lib/python3.10/site-packages/paramiko/transport.py#1893\" target=\"_blank\"><span style=\"color: #7f7f7f; text-decoration-color: #7f7f7f\">1893</span></a>\n",
       "</pre>\n"
      ],
      "text/plain": [
       "\u001b[34mINFO    \u001b[0m Authentication \u001b[1m(\u001b[0mpublickey\u001b[1m)\u001b[0m successful!                             \u001b]8;id=502839;file:///home/alphan/projects/python_scripts/clean-rtt/venv/lib/python3.10/site-packages/paramiko/transport.py\u001b\\\u001b[2mtransport.py\u001b[0m\u001b]8;;\u001b\\\u001b[2m:\u001b[0m\u001b]8;id=807717;file:///home/alphan/projects/python_scripts/clean-rtt/venv/lib/python3.10/site-packages/paramiko/transport.py#1893\u001b\\\u001b[2m1893\u001b[0m\u001b]8;;\u001b\\\n"
      ]
     },
     "metadata": {},
     "output_type": "display_data"
    },
    {
     "name": "stdout",
     "output_type": "stream",
     "text": [
      "linux-paris: Starting the initial ping round.\n",
      "linux-paris: Sending the nodes.txt.\n",
      "linux-paris: Deleting the local nodes.txt.\n",
      "Encountered a bad command exit code!\n",
      "\n",
      "Command: './experiment_data/387427/intermediate/paris/linux_1/nodes.txt'\n",
      "\n",
      "Exit code: 126\n",
      "\n",
      "Stdout: already printed\n",
      "\n",
      "Stderr:\n",
      "\n",
      "/bin/bash: ./experiment_data/387427/intermediate/paris/linux_1/nodes.txt: Permission denied\n",
      "\n",
      "\n",
      "linux-paris: Deleting the nodes.txt addresses on paris.\n",
      "linux-paris: Openning connection to paris\n"
     ]
    },
    {
     "data": {
      "text/html": [
       "<pre style=\"white-space:pre;overflow-x:auto;line-height:normal;font-family:Menlo,'DejaVu Sans Mono',consolas,'Courier New',monospace\"><span style=\"color: #000080; text-decoration-color: #000080\">INFO    </span> Connected <span style=\"font-weight: bold\">(</span>version <span style=\"color: #008080; text-decoration-color: #008080; font-weight: bold\">2.0</span>, client OpenSSH_7.9p1<span style=\"font-weight: bold\">)</span>                      <a href=\"file:///home/alphan/projects/python_scripts/clean-rtt/venv/lib/python3.10/site-packages/paramiko/transport.py\" target=\"_blank\"><span style=\"color: #7f7f7f; text-decoration-color: #7f7f7f\">transport.py</span></a><span style=\"color: #7f7f7f; text-decoration-color: #7f7f7f\">:</span><a href=\"file:///home/alphan/projects/python_scripts/clean-rtt/venv/lib/python3.10/site-packages/paramiko/transport.py#1893\" target=\"_blank\"><span style=\"color: #7f7f7f; text-decoration-color: #7f7f7f\">1893</span></a>\n",
       "</pre>\n"
      ],
      "text/plain": [
       "\u001b[34mINFO    \u001b[0m Connected \u001b[1m(\u001b[0mversion \u001b[1;36m2.0\u001b[0m, client OpenSSH_7.9p1\u001b[1m)\u001b[0m                      \u001b]8;id=268030;file:///home/alphan/projects/python_scripts/clean-rtt/venv/lib/python3.10/site-packages/paramiko/transport.py\u001b\\\u001b[2mtransport.py\u001b[0m\u001b]8;;\u001b\\\u001b[2m:\u001b[0m\u001b]8;id=254733;file:///home/alphan/projects/python_scripts/clean-rtt/venv/lib/python3.10/site-packages/paramiko/transport.py#1893\u001b\\\u001b[2m1893\u001b[0m\u001b]8;;\u001b\\\n"
      ]
     },
     "metadata": {},
     "output_type": "display_data"
    },
    {
     "data": {
      "text/html": [
       "<pre style=\"white-space:pre;overflow-x:auto;line-height:normal;font-family:Menlo,'DejaVu Sans Mono',consolas,'Courier New',monospace\"><span style=\"color: #000080; text-decoration-color: #000080\">INFO    </span> Authentication <span style=\"font-weight: bold\">(</span>publickey<span style=\"font-weight: bold\">)</span> successful!                             <a href=\"file:///home/alphan/projects/python_scripts/clean-rtt/venv/lib/python3.10/site-packages/paramiko/transport.py\" target=\"_blank\"><span style=\"color: #7f7f7f; text-decoration-color: #7f7f7f\">transport.py</span></a><span style=\"color: #7f7f7f; text-decoration-color: #7f7f7f\">:</span><a href=\"file:///home/alphan/projects/python_scripts/clean-rtt/venv/lib/python3.10/site-packages/paramiko/transport.py#1893\" target=\"_blank\"><span style=\"color: #7f7f7f; text-decoration-color: #7f7f7f\">1893</span></a>\n",
       "</pre>\n"
      ],
      "text/plain": [
       "\u001b[34mINFO    \u001b[0m Authentication \u001b[1m(\u001b[0mpublickey\u001b[1m)\u001b[0m successful!                             \u001b]8;id=831620;file:///home/alphan/projects/python_scripts/clean-rtt/venv/lib/python3.10/site-packages/paramiko/transport.py\u001b\\\u001b[2mtransport.py\u001b[0m\u001b]8;;\u001b\\\u001b[2m:\u001b[0m\u001b]8;id=358012;file:///home/alphan/projects/python_scripts/clean-rtt/venv/lib/python3.10/site-packages/paramiko/transport.py#1893\u001b\\\u001b[2m1893\u001b[0m\u001b]8;;\u001b\\\n"
      ]
     },
     "metadata": {},
     "output_type": "display_data"
    },
    {
     "name": "stdout",
     "output_type": "stream",
     "text": [
      "linux-paris: Writing nodes to local.\n",
      "linux-paris: Putting nodes on paris.\n",
      "linux-paris: Openning connection to paris\n"
     ]
    },
    {
     "data": {
      "text/html": [
       "<pre style=\"white-space:pre;overflow-x:auto;line-height:normal;font-family:Menlo,'DejaVu Sans Mono',consolas,'Courier New',monospace\"><span style=\"color: #000080; text-decoration-color: #000080\">INFO    </span> Connected <span style=\"font-weight: bold\">(</span>version <span style=\"color: #008080; text-decoration-color: #008080; font-weight: bold\">2.0</span>, client OpenSSH_7.9p1<span style=\"font-weight: bold\">)</span>                      <a href=\"file:///home/alphan/projects/python_scripts/clean-rtt/venv/lib/python3.10/site-packages/paramiko/transport.py\" target=\"_blank\"><span style=\"color: #7f7f7f; text-decoration-color: #7f7f7f\">transport.py</span></a><span style=\"color: #7f7f7f; text-decoration-color: #7f7f7f\">:</span><a href=\"file:///home/alphan/projects/python_scripts/clean-rtt/venv/lib/python3.10/site-packages/paramiko/transport.py#1893\" target=\"_blank\"><span style=\"color: #7f7f7f; text-decoration-color: #7f7f7f\">1893</span></a>\n",
       "</pre>\n"
      ],
      "text/plain": [
       "\u001b[34mINFO    \u001b[0m Connected \u001b[1m(\u001b[0mversion \u001b[1;36m2.0\u001b[0m, client OpenSSH_7.9p1\u001b[1m)\u001b[0m                      \u001b]8;id=193066;file:///home/alphan/projects/python_scripts/clean-rtt/venv/lib/python3.10/site-packages/paramiko/transport.py\u001b\\\u001b[2mtransport.py\u001b[0m\u001b]8;;\u001b\\\u001b[2m:\u001b[0m\u001b]8;id=280425;file:///home/alphan/projects/python_scripts/clean-rtt/venv/lib/python3.10/site-packages/paramiko/transport.py#1893\u001b\\\u001b[2m1893\u001b[0m\u001b]8;;\u001b\\\n"
      ]
     },
     "metadata": {},
     "output_type": "display_data"
    },
    {
     "data": {
      "text/html": [
       "<pre style=\"white-space:pre;overflow-x:auto;line-height:normal;font-family:Menlo,'DejaVu Sans Mono',consolas,'Courier New',monospace\"><span style=\"color: #000080; text-decoration-color: #000080\">INFO    </span> Authentication <span style=\"font-weight: bold\">(</span>publickey<span style=\"font-weight: bold\">)</span> successful!                             <a href=\"file:///home/alphan/projects/python_scripts/clean-rtt/venv/lib/python3.10/site-packages/paramiko/transport.py\" target=\"_blank\"><span style=\"color: #7f7f7f; text-decoration-color: #7f7f7f\">transport.py</span></a><span style=\"color: #7f7f7f; text-decoration-color: #7f7f7f\">:</span><a href=\"file:///home/alphan/projects/python_scripts/clean-rtt/venv/lib/python3.10/site-packages/paramiko/transport.py#1893\" target=\"_blank\"><span style=\"color: #7f7f7f; text-decoration-color: #7f7f7f\">1893</span></a>\n",
       "</pre>\n"
      ],
      "text/plain": [
       "\u001b[34mINFO    \u001b[0m Authentication \u001b[1m(\u001b[0mpublickey\u001b[1m)\u001b[0m successful!                             \u001b]8;id=388936;file:///home/alphan/projects/python_scripts/clean-rtt/venv/lib/python3.10/site-packages/paramiko/transport.py\u001b\\\u001b[2mtransport.py\u001b[0m\u001b]8;;\u001b\\\u001b[2m:\u001b[0m\u001b]8;id=111214;file:///home/alphan/projects/python_scripts/clean-rtt/venv/lib/python3.10/site-packages/paramiko/transport.py#1893\u001b\\\u001b[2m1893\u001b[0m\u001b]8;;\u001b\\\n"
      ]
     },
     "metadata": {},
     "output_type": "display_data"
    },
    {
     "data": {
      "text/html": [
       "<pre style=\"white-space:pre;overflow-x:auto;line-height:normal;font-family:Menlo,'DejaVu Sans Mono',consolas,'Courier New',monospace\"><span style=\"color: #000080; text-decoration-color: #000080\">INFO    </span> <span style=\"font-weight: bold\">[</span>chan <span style=\"color: #008080; text-decoration-color: #008080; font-weight: bold\">0</span><span style=\"font-weight: bold\">]</span> Opened sftp connection <span style=\"font-weight: bold\">(</span>server version <span style=\"color: #008080; text-decoration-color: #008080; font-weight: bold\">3</span><span style=\"font-weight: bold\">)</span>                       <a href=\"file:///home/alphan/projects/python_scripts/clean-rtt/venv/lib/python3.10/site-packages/paramiko/sftp.py\" target=\"_blank\"><span style=\"color: #7f7f7f; text-decoration-color: #7f7f7f\">sftp.py</span></a><span style=\"color: #7f7f7f; text-decoration-color: #7f7f7f\">:</span><a href=\"file:///home/alphan/projects/python_scripts/clean-rtt/venv/lib/python3.10/site-packages/paramiko/sftp.py#169\" target=\"_blank\"><span style=\"color: #7f7f7f; text-decoration-color: #7f7f7f\">169</span></a>\n",
       "</pre>\n"
      ],
      "text/plain": [
       "\u001b[34mINFO    \u001b[0m \u001b[1m[\u001b[0mchan \u001b[1;36m0\u001b[0m\u001b[1m]\u001b[0m Opened sftp connection \u001b[1m(\u001b[0mserver version \u001b[1;36m3\u001b[0m\u001b[1m)\u001b[0m                       \u001b]8;id=677260;file:///home/alphan/projects/python_scripts/clean-rtt/venv/lib/python3.10/site-packages/paramiko/sftp.py\u001b\\\u001b[2msftp.py\u001b[0m\u001b]8;;\u001b\\\u001b[2m:\u001b[0m\u001b]8;id=777140;file:///home/alphan/projects/python_scripts/clean-rtt/venv/lib/python3.10/site-packages/paramiko/sftp.py#169\u001b\\\u001b[2m169\u001b[0m\u001b]8;;\u001b\\\n"
      ]
     },
     "metadata": {},
     "output_type": "display_data"
    },
    {
     "data": {
      "text/html": [
       "<pre style=\"white-space:pre;overflow-x:auto;line-height:normal;font-family:Menlo,'DejaVu Sans Mono',consolas,'Courier New',monospace\"><span style=\"color: #000080; text-decoration-color: #000080\">INFO    </span> <span style=\"font-weight: bold\">[</span>chan <span style=\"color: #008080; text-decoration-color: #008080; font-weight: bold\">0</span><span style=\"font-weight: bold\">]</span> sftp session closed.                                            <a href=\"file:///home/alphan/projects/python_scripts/clean-rtt/venv/lib/python3.10/site-packages/paramiko/sftp.py\" target=\"_blank\"><span style=\"color: #7f7f7f; text-decoration-color: #7f7f7f\">sftp.py</span></a><span style=\"color: #7f7f7f; text-decoration-color: #7f7f7f\">:</span><a href=\"file:///home/alphan/projects/python_scripts/clean-rtt/venv/lib/python3.10/site-packages/paramiko/sftp.py#169\" target=\"_blank\"><span style=\"color: #7f7f7f; text-decoration-color: #7f7f7f\">169</span></a>\n",
       "</pre>\n"
      ],
      "text/plain": [
       "\u001b[34mINFO    \u001b[0m \u001b[1m[\u001b[0mchan \u001b[1;36m0\u001b[0m\u001b[1m]\u001b[0m sftp session closed.                                            \u001b]8;id=413040;file:///home/alphan/projects/python_scripts/clean-rtt/venv/lib/python3.10/site-packages/paramiko/sftp.py\u001b\\\u001b[2msftp.py\u001b[0m\u001b]8;;\u001b\\\u001b[2m:\u001b[0m\u001b]8;id=416734;file:///home/alphan/projects/python_scripts/clean-rtt/venv/lib/python3.10/site-packages/paramiko/sftp.py#169\u001b\\\u001b[2m169\u001b[0m\u001b]8;;\u001b\\\n"
      ]
     },
     "metadata": {},
     "output_type": "display_data"
    },
    {
     "name": "stdout",
     "output_type": "stream",
     "text": [
      "linux-paris: Openning connection to paris\n"
     ]
    },
    {
     "data": {
      "text/html": [
       "<pre style=\"white-space:pre;overflow-x:auto;line-height:normal;font-family:Menlo,'DejaVu Sans Mono',consolas,'Courier New',monospace\"><span style=\"color: #000080; text-decoration-color: #000080\">INFO    </span> Connected <span style=\"font-weight: bold\">(</span>version <span style=\"color: #008080; text-decoration-color: #008080; font-weight: bold\">2.0</span>, client OpenSSH_7.9p1<span style=\"font-weight: bold\">)</span>                      <a href=\"file:///home/alphan/projects/python_scripts/clean-rtt/venv/lib/python3.10/site-packages/paramiko/transport.py\" target=\"_blank\"><span style=\"color: #7f7f7f; text-decoration-color: #7f7f7f\">transport.py</span></a><span style=\"color: #7f7f7f; text-decoration-color: #7f7f7f\">:</span><a href=\"file:///home/alphan/projects/python_scripts/clean-rtt/venv/lib/python3.10/site-packages/paramiko/transport.py#1893\" target=\"_blank\"><span style=\"color: #7f7f7f; text-decoration-color: #7f7f7f\">1893</span></a>\n",
       "</pre>\n"
      ],
      "text/plain": [
       "\u001b[34mINFO    \u001b[0m Connected \u001b[1m(\u001b[0mversion \u001b[1;36m2.0\u001b[0m, client OpenSSH_7.9p1\u001b[1m)\u001b[0m                      \u001b]8;id=696374;file:///home/alphan/projects/python_scripts/clean-rtt/venv/lib/python3.10/site-packages/paramiko/transport.py\u001b\\\u001b[2mtransport.py\u001b[0m\u001b]8;;\u001b\\\u001b[2m:\u001b[0m\u001b]8;id=812045;file:///home/alphan/projects/python_scripts/clean-rtt/venv/lib/python3.10/site-packages/paramiko/transport.py#1893\u001b\\\u001b[2m1893\u001b[0m\u001b]8;;\u001b\\\n"
      ]
     },
     "metadata": {},
     "output_type": "display_data"
    },
    {
     "data": {
      "text/html": [
       "<pre style=\"white-space:pre;overflow-x:auto;line-height:normal;font-family:Menlo,'DejaVu Sans Mono',consolas,'Courier New',monospace\"><span style=\"color: #000080; text-decoration-color: #000080\">INFO    </span> Authentication <span style=\"font-weight: bold\">(</span>publickey<span style=\"font-weight: bold\">)</span> successful!                             <a href=\"file:///home/alphan/projects/python_scripts/clean-rtt/venv/lib/python3.10/site-packages/paramiko/transport.py\" target=\"_blank\"><span style=\"color: #7f7f7f; text-decoration-color: #7f7f7f\">transport.py</span></a><span style=\"color: #7f7f7f; text-decoration-color: #7f7f7f\">:</span><a href=\"file:///home/alphan/projects/python_scripts/clean-rtt/venv/lib/python3.10/site-packages/paramiko/transport.py#1893\" target=\"_blank\"><span style=\"color: #7f7f7f; text-decoration-color: #7f7f7f\">1893</span></a>\n",
       "</pre>\n"
      ],
      "text/plain": [
       "\u001b[34mINFO    \u001b[0m Authentication \u001b[1m(\u001b[0mpublickey\u001b[1m)\u001b[0m successful!                             \u001b]8;id=982259;file:///home/alphan/projects/python_scripts/clean-rtt/venv/lib/python3.10/site-packages/paramiko/transport.py\u001b\\\u001b[2mtransport.py\u001b[0m\u001b]8;;\u001b\\\u001b[2m:\u001b[0m\u001b]8;id=385534;file:///home/alphan/projects/python_scripts/clean-rtt/venv/lib/python3.10/site-packages/paramiko/transport.py#1893\u001b\\\u001b[2m1893\u001b[0m\u001b]8;;\u001b\\\n"
      ]
     },
     "metadata": {},
     "output_type": "display_data"
    },
    {
     "name": "stdout",
     "output_type": "stream",
     "text": [
      "linux-saclay: Starting the initial ping round.\n",
      "linux-saclay: Sending the nodes.txt.\n",
      "linux-saclay: Deleting the local nodes.txt.\n",
      "Encountered a bad command exit code!\n",
      "\n",
      "Command: './experiment_data/387427/intermediate/saclay/linux_1/nodes.txt'\n",
      "\n",
      "Exit code: 126\n",
      "\n",
      "Stdout: already printed\n",
      "\n",
      "Stderr:\n",
      "\n",
      "/bin/bash: ./experiment_data/387427/intermediate/saclay/linux_1/nodes.txt: Permission denied\n",
      "\n",
      "\n",
      "linux-saclay: Deleting the nodes.txt addresses on saclay.\n",
      "linux-saclay: Openning connection to saclay\n"
     ]
    },
    {
     "data": {
      "text/html": [
       "<pre style=\"white-space:pre;overflow-x:auto;line-height:normal;font-family:Menlo,'DejaVu Sans Mono',consolas,'Courier New',monospace\"><span style=\"color: #000080; text-decoration-color: #000080\">INFO    </span> Connected <span style=\"font-weight: bold\">(</span>version <span style=\"color: #008080; text-decoration-color: #008080; font-weight: bold\">2.0</span>, client OpenSSH_7.9p1<span style=\"font-weight: bold\">)</span>                      <a href=\"file:///home/alphan/projects/python_scripts/clean-rtt/venv/lib/python3.10/site-packages/paramiko/transport.py\" target=\"_blank\"><span style=\"color: #7f7f7f; text-decoration-color: #7f7f7f\">transport.py</span></a><span style=\"color: #7f7f7f; text-decoration-color: #7f7f7f\">:</span><a href=\"file:///home/alphan/projects/python_scripts/clean-rtt/venv/lib/python3.10/site-packages/paramiko/transport.py#1893\" target=\"_blank\"><span style=\"color: #7f7f7f; text-decoration-color: #7f7f7f\">1893</span></a>\n",
       "</pre>\n"
      ],
      "text/plain": [
       "\u001b[34mINFO    \u001b[0m Connected \u001b[1m(\u001b[0mversion \u001b[1;36m2.0\u001b[0m, client OpenSSH_7.9p1\u001b[1m)\u001b[0m                      \u001b]8;id=504291;file:///home/alphan/projects/python_scripts/clean-rtt/venv/lib/python3.10/site-packages/paramiko/transport.py\u001b\\\u001b[2mtransport.py\u001b[0m\u001b]8;;\u001b\\\u001b[2m:\u001b[0m\u001b]8;id=919264;file:///home/alphan/projects/python_scripts/clean-rtt/venv/lib/python3.10/site-packages/paramiko/transport.py#1893\u001b\\\u001b[2m1893\u001b[0m\u001b]8;;\u001b\\\n"
      ]
     },
     "metadata": {},
     "output_type": "display_data"
    },
    {
     "data": {
      "text/html": [
       "<pre style=\"white-space:pre;overflow-x:auto;line-height:normal;font-family:Menlo,'DejaVu Sans Mono',consolas,'Courier New',monospace\"><span style=\"color: #000080; text-decoration-color: #000080\">INFO    </span> Authentication <span style=\"font-weight: bold\">(</span>publickey<span style=\"font-weight: bold\">)</span> successful!                             <a href=\"file:///home/alphan/projects/python_scripts/clean-rtt/venv/lib/python3.10/site-packages/paramiko/transport.py\" target=\"_blank\"><span style=\"color: #7f7f7f; text-decoration-color: #7f7f7f\">transport.py</span></a><span style=\"color: #7f7f7f; text-decoration-color: #7f7f7f\">:</span><a href=\"file:///home/alphan/projects/python_scripts/clean-rtt/venv/lib/python3.10/site-packages/paramiko/transport.py#1893\" target=\"_blank\"><span style=\"color: #7f7f7f; text-decoration-color: #7f7f7f\">1893</span></a>\n",
       "</pre>\n"
      ],
      "text/plain": [
       "\u001b[34mINFO    \u001b[0m Authentication \u001b[1m(\u001b[0mpublickey\u001b[1m)\u001b[0m successful!                             \u001b]8;id=765728;file:///home/alphan/projects/python_scripts/clean-rtt/venv/lib/python3.10/site-packages/paramiko/transport.py\u001b\\\u001b[2mtransport.py\u001b[0m\u001b]8;;\u001b\\\u001b[2m:\u001b[0m\u001b]8;id=373103;file:///home/alphan/projects/python_scripts/clean-rtt/venv/lib/python3.10/site-packages/paramiko/transport.py#1893\u001b\\\u001b[2m1893\u001b[0m\u001b]8;;\u001b\\\n"
      ]
     },
     "metadata": {},
     "output_type": "display_data"
    },
    {
     "name": "stdout",
     "output_type": "stream",
     "text": [
      "linux-saclay: Writing nodes to local.\n",
      "linux-saclay: Putting nodes on saclay.\n",
      "linux-saclay: Openning connection to saclay\n"
     ]
    },
    {
     "data": {
      "text/html": [
       "<pre style=\"white-space:pre;overflow-x:auto;line-height:normal;font-family:Menlo,'DejaVu Sans Mono',consolas,'Courier New',monospace\"><span style=\"color: #000080; text-decoration-color: #000080\">INFO    </span> Connected <span style=\"font-weight: bold\">(</span>version <span style=\"color: #008080; text-decoration-color: #008080; font-weight: bold\">2.0</span>, client OpenSSH_7.9p1<span style=\"font-weight: bold\">)</span>                      <a href=\"file:///home/alphan/projects/python_scripts/clean-rtt/venv/lib/python3.10/site-packages/paramiko/transport.py\" target=\"_blank\"><span style=\"color: #7f7f7f; text-decoration-color: #7f7f7f\">transport.py</span></a><span style=\"color: #7f7f7f; text-decoration-color: #7f7f7f\">:</span><a href=\"file:///home/alphan/projects/python_scripts/clean-rtt/venv/lib/python3.10/site-packages/paramiko/transport.py#1893\" target=\"_blank\"><span style=\"color: #7f7f7f; text-decoration-color: #7f7f7f\">1893</span></a>\n",
       "</pre>\n"
      ],
      "text/plain": [
       "\u001b[34mINFO    \u001b[0m Connected \u001b[1m(\u001b[0mversion \u001b[1;36m2.0\u001b[0m, client OpenSSH_7.9p1\u001b[1m)\u001b[0m                      \u001b]8;id=946371;file:///home/alphan/projects/python_scripts/clean-rtt/venv/lib/python3.10/site-packages/paramiko/transport.py\u001b\\\u001b[2mtransport.py\u001b[0m\u001b]8;;\u001b\\\u001b[2m:\u001b[0m\u001b]8;id=154436;file:///home/alphan/projects/python_scripts/clean-rtt/venv/lib/python3.10/site-packages/paramiko/transport.py#1893\u001b\\\u001b[2m1893\u001b[0m\u001b]8;;\u001b\\\n"
      ]
     },
     "metadata": {},
     "output_type": "display_data"
    },
    {
     "data": {
      "text/html": [
       "<pre style=\"white-space:pre;overflow-x:auto;line-height:normal;font-family:Menlo,'DejaVu Sans Mono',consolas,'Courier New',monospace\"><span style=\"color: #000080; text-decoration-color: #000080\">INFO    </span> Authentication <span style=\"font-weight: bold\">(</span>publickey<span style=\"font-weight: bold\">)</span> successful!                             <a href=\"file:///home/alphan/projects/python_scripts/clean-rtt/venv/lib/python3.10/site-packages/paramiko/transport.py\" target=\"_blank\"><span style=\"color: #7f7f7f; text-decoration-color: #7f7f7f\">transport.py</span></a><span style=\"color: #7f7f7f; text-decoration-color: #7f7f7f\">:</span><a href=\"file:///home/alphan/projects/python_scripts/clean-rtt/venv/lib/python3.10/site-packages/paramiko/transport.py#1893\" target=\"_blank\"><span style=\"color: #7f7f7f; text-decoration-color: #7f7f7f\">1893</span></a>\n",
       "</pre>\n"
      ],
      "text/plain": [
       "\u001b[34mINFO    \u001b[0m Authentication \u001b[1m(\u001b[0mpublickey\u001b[1m)\u001b[0m successful!                             \u001b]8;id=262112;file:///home/alphan/projects/python_scripts/clean-rtt/venv/lib/python3.10/site-packages/paramiko/transport.py\u001b\\\u001b[2mtransport.py\u001b[0m\u001b]8;;\u001b\\\u001b[2m:\u001b[0m\u001b]8;id=889835;file:///home/alphan/projects/python_scripts/clean-rtt/venv/lib/python3.10/site-packages/paramiko/transport.py#1893\u001b\\\u001b[2m1893\u001b[0m\u001b]8;;\u001b\\\n"
      ]
     },
     "metadata": {},
     "output_type": "display_data"
    },
    {
     "data": {
      "text/html": [
       "<pre style=\"white-space:pre;overflow-x:auto;line-height:normal;font-family:Menlo,'DejaVu Sans Mono',consolas,'Courier New',monospace\"><span style=\"color: #000080; text-decoration-color: #000080\">INFO    </span> <span style=\"font-weight: bold\">[</span>chan <span style=\"color: #008080; text-decoration-color: #008080; font-weight: bold\">0</span><span style=\"font-weight: bold\">]</span> Opened sftp connection <span style=\"font-weight: bold\">(</span>server version <span style=\"color: #008080; text-decoration-color: #008080; font-weight: bold\">3</span><span style=\"font-weight: bold\">)</span>                       <a href=\"file:///home/alphan/projects/python_scripts/clean-rtt/venv/lib/python3.10/site-packages/paramiko/sftp.py\" target=\"_blank\"><span style=\"color: #7f7f7f; text-decoration-color: #7f7f7f\">sftp.py</span></a><span style=\"color: #7f7f7f; text-decoration-color: #7f7f7f\">:</span><a href=\"file:///home/alphan/projects/python_scripts/clean-rtt/venv/lib/python3.10/site-packages/paramiko/sftp.py#169\" target=\"_blank\"><span style=\"color: #7f7f7f; text-decoration-color: #7f7f7f\">169</span></a>\n",
       "</pre>\n"
      ],
      "text/plain": [
       "\u001b[34mINFO    \u001b[0m \u001b[1m[\u001b[0mchan \u001b[1;36m0\u001b[0m\u001b[1m]\u001b[0m Opened sftp connection \u001b[1m(\u001b[0mserver version \u001b[1;36m3\u001b[0m\u001b[1m)\u001b[0m                       \u001b]8;id=137902;file:///home/alphan/projects/python_scripts/clean-rtt/venv/lib/python3.10/site-packages/paramiko/sftp.py\u001b\\\u001b[2msftp.py\u001b[0m\u001b]8;;\u001b\\\u001b[2m:\u001b[0m\u001b]8;id=289402;file:///home/alphan/projects/python_scripts/clean-rtt/venv/lib/python3.10/site-packages/paramiko/sftp.py#169\u001b\\\u001b[2m169\u001b[0m\u001b]8;;\u001b\\\n"
      ]
     },
     "metadata": {},
     "output_type": "display_data"
    },
    {
     "data": {
      "text/html": [
       "<pre style=\"white-space:pre;overflow-x:auto;line-height:normal;font-family:Menlo,'DejaVu Sans Mono',consolas,'Courier New',monospace\"><span style=\"color: #000080; text-decoration-color: #000080\">INFO    </span> <span style=\"font-weight: bold\">[</span>chan <span style=\"color: #008080; text-decoration-color: #008080; font-weight: bold\">0</span><span style=\"font-weight: bold\">]</span> sftp session closed.                                            <a href=\"file:///home/alphan/projects/python_scripts/clean-rtt/venv/lib/python3.10/site-packages/paramiko/sftp.py\" target=\"_blank\"><span style=\"color: #7f7f7f; text-decoration-color: #7f7f7f\">sftp.py</span></a><span style=\"color: #7f7f7f; text-decoration-color: #7f7f7f\">:</span><a href=\"file:///home/alphan/projects/python_scripts/clean-rtt/venv/lib/python3.10/site-packages/paramiko/sftp.py#169\" target=\"_blank\"><span style=\"color: #7f7f7f; text-decoration-color: #7f7f7f\">169</span></a>\n",
       "</pre>\n"
      ],
      "text/plain": [
       "\u001b[34mINFO    \u001b[0m \u001b[1m[\u001b[0mchan \u001b[1;36m0\u001b[0m\u001b[1m]\u001b[0m sftp session closed.                                            \u001b]8;id=997166;file:///home/alphan/projects/python_scripts/clean-rtt/venv/lib/python3.10/site-packages/paramiko/sftp.py\u001b\\\u001b[2msftp.py\u001b[0m\u001b]8;;\u001b\\\u001b[2m:\u001b[0m\u001b]8;id=878792;file:///home/alphan/projects/python_scripts/clean-rtt/venv/lib/python3.10/site-packages/paramiko/sftp.py#169\u001b\\\u001b[2m169\u001b[0m\u001b]8;;\u001b\\\n"
      ]
     },
     "metadata": {},
     "output_type": "display_data"
    },
    {
     "name": "stdout",
     "output_type": "stream",
     "text": [
      "linux-saclay: Openning connection to saclay\n"
     ]
    },
    {
     "data": {
      "text/html": [
       "<pre style=\"white-space:pre;overflow-x:auto;line-height:normal;font-family:Menlo,'DejaVu Sans Mono',consolas,'Courier New',monospace\"><span style=\"color: #000080; text-decoration-color: #000080\">INFO    </span> Connected <span style=\"font-weight: bold\">(</span>version <span style=\"color: #008080; text-decoration-color: #008080; font-weight: bold\">2.0</span>, client OpenSSH_7.9p1<span style=\"font-weight: bold\">)</span>                      <a href=\"file:///home/alphan/projects/python_scripts/clean-rtt/venv/lib/python3.10/site-packages/paramiko/transport.py\" target=\"_blank\"><span style=\"color: #7f7f7f; text-decoration-color: #7f7f7f\">transport.py</span></a><span style=\"color: #7f7f7f; text-decoration-color: #7f7f7f\">:</span><a href=\"file:///home/alphan/projects/python_scripts/clean-rtt/venv/lib/python3.10/site-packages/paramiko/transport.py#1893\" target=\"_blank\"><span style=\"color: #7f7f7f; text-decoration-color: #7f7f7f\">1893</span></a>\n",
       "</pre>\n"
      ],
      "text/plain": [
       "\u001b[34mINFO    \u001b[0m Connected \u001b[1m(\u001b[0mversion \u001b[1;36m2.0\u001b[0m, client OpenSSH_7.9p1\u001b[1m)\u001b[0m                      \u001b]8;id=885084;file:///home/alphan/projects/python_scripts/clean-rtt/venv/lib/python3.10/site-packages/paramiko/transport.py\u001b\\\u001b[2mtransport.py\u001b[0m\u001b]8;;\u001b\\\u001b[2m:\u001b[0m\u001b]8;id=985477;file:///home/alphan/projects/python_scripts/clean-rtt/venv/lib/python3.10/site-packages/paramiko/transport.py#1893\u001b\\\u001b[2m1893\u001b[0m\u001b]8;;\u001b\\\n"
      ]
     },
     "metadata": {},
     "output_type": "display_data"
    },
    {
     "data": {
      "text/html": [
       "<pre style=\"white-space:pre;overflow-x:auto;line-height:normal;font-family:Menlo,'DejaVu Sans Mono',consolas,'Courier New',monospace\"><span style=\"color: #000080; text-decoration-color: #000080\">INFO    </span> Authentication <span style=\"font-weight: bold\">(</span>publickey<span style=\"font-weight: bold\">)</span> successful!                             <a href=\"file:///home/alphan/projects/python_scripts/clean-rtt/venv/lib/python3.10/site-packages/paramiko/transport.py\" target=\"_blank\"><span style=\"color: #7f7f7f; text-decoration-color: #7f7f7f\">transport.py</span></a><span style=\"color: #7f7f7f; text-decoration-color: #7f7f7f\">:</span><a href=\"file:///home/alphan/projects/python_scripts/clean-rtt/venv/lib/python3.10/site-packages/paramiko/transport.py#1893\" target=\"_blank\"><span style=\"color: #7f7f7f; text-decoration-color: #7f7f7f\">1893</span></a>\n",
       "</pre>\n"
      ],
      "text/plain": [
       "\u001b[34mINFO    \u001b[0m Authentication \u001b[1m(\u001b[0mpublickey\u001b[1m)\u001b[0m successful!                             \u001b]8;id=962742;file:///home/alphan/projects/python_scripts/clean-rtt/venv/lib/python3.10/site-packages/paramiko/transport.py\u001b\\\u001b[2mtransport.py\u001b[0m\u001b]8;;\u001b\\\u001b[2m:\u001b[0m\u001b]8;id=387885;file:///home/alphan/projects/python_scripts/clean-rtt/venv/lib/python3.10/site-packages/paramiko/transport.py#1893\u001b\\\u001b[2m1893\u001b[0m\u001b]8;;\u001b\\\n"
      ]
     },
     "metadata": {},
     "output_type": "display_data"
    },
    {
     "name": "stdout",
     "output_type": "stream",
     "text": [
      "linux-strasbourg: Starting the initial ping round.\n",
      "linux-strasbourg: Sending the nodes.txt.\n",
      "linux-strasbourg: Deleting the local nodes.txt.\n",
      "Encountered a bad command exit code!\n",
      "\n",
      "Command: './experiment_data/387427/intermediate/strasbourg/linux_1/nodes.txt'\n",
      "\n",
      "Exit code: 126\n",
      "\n",
      "Stdout: already printed\n",
      "\n",
      "Stderr:\n",
      "\n",
      "/bin/bash: ./experiment_data/387427/intermediate/strasbourg/linux_1/nodes.txt: Permission denied\n",
      "\n",
      "\n",
      "linux-strasbourg: Deleting the nodes.txt addresses on strasbourg.\n",
      "linux-strasbourg: Openning connection to strasbourg\n"
     ]
    },
    {
     "data": {
      "text/html": [
       "<pre style=\"white-space:pre;overflow-x:auto;line-height:normal;font-family:Menlo,'DejaVu Sans Mono',consolas,'Courier New',monospace\"><span style=\"color: #000080; text-decoration-color: #000080\">INFO    </span> Connected <span style=\"font-weight: bold\">(</span>version <span style=\"color: #008080; text-decoration-color: #008080; font-weight: bold\">2.0</span>, client OpenSSH_7.9p1<span style=\"font-weight: bold\">)</span>                      <a href=\"file:///home/alphan/projects/python_scripts/clean-rtt/venv/lib/python3.10/site-packages/paramiko/transport.py\" target=\"_blank\"><span style=\"color: #7f7f7f; text-decoration-color: #7f7f7f\">transport.py</span></a><span style=\"color: #7f7f7f; text-decoration-color: #7f7f7f\">:</span><a href=\"file:///home/alphan/projects/python_scripts/clean-rtt/venv/lib/python3.10/site-packages/paramiko/transport.py#1893\" target=\"_blank\"><span style=\"color: #7f7f7f; text-decoration-color: #7f7f7f\">1893</span></a>\n",
       "</pre>\n"
      ],
      "text/plain": [
       "\u001b[34mINFO    \u001b[0m Connected \u001b[1m(\u001b[0mversion \u001b[1;36m2.0\u001b[0m, client OpenSSH_7.9p1\u001b[1m)\u001b[0m                      \u001b]8;id=716115;file:///home/alphan/projects/python_scripts/clean-rtt/venv/lib/python3.10/site-packages/paramiko/transport.py\u001b\\\u001b[2mtransport.py\u001b[0m\u001b]8;;\u001b\\\u001b[2m:\u001b[0m\u001b]8;id=294341;file:///home/alphan/projects/python_scripts/clean-rtt/venv/lib/python3.10/site-packages/paramiko/transport.py#1893\u001b\\\u001b[2m1893\u001b[0m\u001b]8;;\u001b\\\n"
      ]
     },
     "metadata": {},
     "output_type": "display_data"
    },
    {
     "data": {
      "text/html": [
       "<pre style=\"white-space:pre;overflow-x:auto;line-height:normal;font-family:Menlo,'DejaVu Sans Mono',consolas,'Courier New',monospace\"><span style=\"color: #000080; text-decoration-color: #000080\">INFO    </span> Authentication <span style=\"font-weight: bold\">(</span>publickey<span style=\"font-weight: bold\">)</span> successful!                             <a href=\"file:///home/alphan/projects/python_scripts/clean-rtt/venv/lib/python3.10/site-packages/paramiko/transport.py\" target=\"_blank\"><span style=\"color: #7f7f7f; text-decoration-color: #7f7f7f\">transport.py</span></a><span style=\"color: #7f7f7f; text-decoration-color: #7f7f7f\">:</span><a href=\"file:///home/alphan/projects/python_scripts/clean-rtt/venv/lib/python3.10/site-packages/paramiko/transport.py#1893\" target=\"_blank\"><span style=\"color: #7f7f7f; text-decoration-color: #7f7f7f\">1893</span></a>\n",
       "</pre>\n"
      ],
      "text/plain": [
       "\u001b[34mINFO    \u001b[0m Authentication \u001b[1m(\u001b[0mpublickey\u001b[1m)\u001b[0m successful!                             \u001b]8;id=606217;file:///home/alphan/projects/python_scripts/clean-rtt/venv/lib/python3.10/site-packages/paramiko/transport.py\u001b\\\u001b[2mtransport.py\u001b[0m\u001b]8;;\u001b\\\u001b[2m:\u001b[0m\u001b]8;id=926980;file:///home/alphan/projects/python_scripts/clean-rtt/venv/lib/python3.10/site-packages/paramiko/transport.py#1893\u001b\\\u001b[2m1893\u001b[0m\u001b]8;;\u001b\\\n"
      ]
     },
     "metadata": {},
     "output_type": "display_data"
    },
    {
     "name": "stdout",
     "output_type": "stream",
     "text": [
      "linux-strasbourg: Writing nodes to local.\n",
      "linux-strasbourg: Putting nodes on strasbourg.\n",
      "linux-strasbourg: Openning connection to strasbourg\n"
     ]
    },
    {
     "data": {
      "text/html": [
       "<pre style=\"white-space:pre;overflow-x:auto;line-height:normal;font-family:Menlo,'DejaVu Sans Mono',consolas,'Courier New',monospace\"><span style=\"color: #000080; text-decoration-color: #000080\">INFO    </span> Connected <span style=\"font-weight: bold\">(</span>version <span style=\"color: #008080; text-decoration-color: #008080; font-weight: bold\">2.0</span>, client OpenSSH_7.9p1<span style=\"font-weight: bold\">)</span>                      <a href=\"file:///home/alphan/projects/python_scripts/clean-rtt/venv/lib/python3.10/site-packages/paramiko/transport.py\" target=\"_blank\"><span style=\"color: #7f7f7f; text-decoration-color: #7f7f7f\">transport.py</span></a><span style=\"color: #7f7f7f; text-decoration-color: #7f7f7f\">:</span><a href=\"file:///home/alphan/projects/python_scripts/clean-rtt/venv/lib/python3.10/site-packages/paramiko/transport.py#1893\" target=\"_blank\"><span style=\"color: #7f7f7f; text-decoration-color: #7f7f7f\">1893</span></a>\n",
       "</pre>\n"
      ],
      "text/plain": [
       "\u001b[34mINFO    \u001b[0m Connected \u001b[1m(\u001b[0mversion \u001b[1;36m2.0\u001b[0m, client OpenSSH_7.9p1\u001b[1m)\u001b[0m                      \u001b]8;id=477990;file:///home/alphan/projects/python_scripts/clean-rtt/venv/lib/python3.10/site-packages/paramiko/transport.py\u001b\\\u001b[2mtransport.py\u001b[0m\u001b]8;;\u001b\\\u001b[2m:\u001b[0m\u001b]8;id=770500;file:///home/alphan/projects/python_scripts/clean-rtt/venv/lib/python3.10/site-packages/paramiko/transport.py#1893\u001b\\\u001b[2m1893\u001b[0m\u001b]8;;\u001b\\\n"
      ]
     },
     "metadata": {},
     "output_type": "display_data"
    },
    {
     "data": {
      "text/html": [
       "<pre style=\"white-space:pre;overflow-x:auto;line-height:normal;font-family:Menlo,'DejaVu Sans Mono',consolas,'Courier New',monospace\"><span style=\"color: #000080; text-decoration-color: #000080\">INFO    </span> Authentication <span style=\"font-weight: bold\">(</span>publickey<span style=\"font-weight: bold\">)</span> successful!                             <a href=\"file:///home/alphan/projects/python_scripts/clean-rtt/venv/lib/python3.10/site-packages/paramiko/transport.py\" target=\"_blank\"><span style=\"color: #7f7f7f; text-decoration-color: #7f7f7f\">transport.py</span></a><span style=\"color: #7f7f7f; text-decoration-color: #7f7f7f\">:</span><a href=\"file:///home/alphan/projects/python_scripts/clean-rtt/venv/lib/python3.10/site-packages/paramiko/transport.py#1893\" target=\"_blank\"><span style=\"color: #7f7f7f; text-decoration-color: #7f7f7f\">1893</span></a>\n",
       "</pre>\n"
      ],
      "text/plain": [
       "\u001b[34mINFO    \u001b[0m Authentication \u001b[1m(\u001b[0mpublickey\u001b[1m)\u001b[0m successful!                             \u001b]8;id=508160;file:///home/alphan/projects/python_scripts/clean-rtt/venv/lib/python3.10/site-packages/paramiko/transport.py\u001b\\\u001b[2mtransport.py\u001b[0m\u001b]8;;\u001b\\\u001b[2m:\u001b[0m\u001b]8;id=458588;file:///home/alphan/projects/python_scripts/clean-rtt/venv/lib/python3.10/site-packages/paramiko/transport.py#1893\u001b\\\u001b[2m1893\u001b[0m\u001b]8;;\u001b\\\n"
      ]
     },
     "metadata": {},
     "output_type": "display_data"
    },
    {
     "data": {
      "text/html": [
       "<pre style=\"white-space:pre;overflow-x:auto;line-height:normal;font-family:Menlo,'DejaVu Sans Mono',consolas,'Courier New',monospace\"><span style=\"color: #000080; text-decoration-color: #000080\">INFO    </span> <span style=\"font-weight: bold\">[</span>chan <span style=\"color: #008080; text-decoration-color: #008080; font-weight: bold\">0</span><span style=\"font-weight: bold\">]</span> Opened sftp connection <span style=\"font-weight: bold\">(</span>server version <span style=\"color: #008080; text-decoration-color: #008080; font-weight: bold\">3</span><span style=\"font-weight: bold\">)</span>                       <a href=\"file:///home/alphan/projects/python_scripts/clean-rtt/venv/lib/python3.10/site-packages/paramiko/sftp.py\" target=\"_blank\"><span style=\"color: #7f7f7f; text-decoration-color: #7f7f7f\">sftp.py</span></a><span style=\"color: #7f7f7f; text-decoration-color: #7f7f7f\">:</span><a href=\"file:///home/alphan/projects/python_scripts/clean-rtt/venv/lib/python3.10/site-packages/paramiko/sftp.py#169\" target=\"_blank\"><span style=\"color: #7f7f7f; text-decoration-color: #7f7f7f\">169</span></a>\n",
       "</pre>\n"
      ],
      "text/plain": [
       "\u001b[34mINFO    \u001b[0m \u001b[1m[\u001b[0mchan \u001b[1;36m0\u001b[0m\u001b[1m]\u001b[0m Opened sftp connection \u001b[1m(\u001b[0mserver version \u001b[1;36m3\u001b[0m\u001b[1m)\u001b[0m                       \u001b]8;id=126344;file:///home/alphan/projects/python_scripts/clean-rtt/venv/lib/python3.10/site-packages/paramiko/sftp.py\u001b\\\u001b[2msftp.py\u001b[0m\u001b]8;;\u001b\\\u001b[2m:\u001b[0m\u001b]8;id=733364;file:///home/alphan/projects/python_scripts/clean-rtt/venv/lib/python3.10/site-packages/paramiko/sftp.py#169\u001b\\\u001b[2m169\u001b[0m\u001b]8;;\u001b\\\n"
      ]
     },
     "metadata": {},
     "output_type": "display_data"
    },
    {
     "data": {
      "text/html": [
       "<pre style=\"white-space:pre;overflow-x:auto;line-height:normal;font-family:Menlo,'DejaVu Sans Mono',consolas,'Courier New',monospace\"><span style=\"color: #000080; text-decoration-color: #000080\">INFO    </span> <span style=\"font-weight: bold\">[</span>chan <span style=\"color: #008080; text-decoration-color: #008080; font-weight: bold\">0</span><span style=\"font-weight: bold\">]</span> sftp session closed.                                            <a href=\"file:///home/alphan/projects/python_scripts/clean-rtt/venv/lib/python3.10/site-packages/paramiko/sftp.py\" target=\"_blank\"><span style=\"color: #7f7f7f; text-decoration-color: #7f7f7f\">sftp.py</span></a><span style=\"color: #7f7f7f; text-decoration-color: #7f7f7f\">:</span><a href=\"file:///home/alphan/projects/python_scripts/clean-rtt/venv/lib/python3.10/site-packages/paramiko/sftp.py#169\" target=\"_blank\"><span style=\"color: #7f7f7f; text-decoration-color: #7f7f7f\">169</span></a>\n",
       "</pre>\n"
      ],
      "text/plain": [
       "\u001b[34mINFO    \u001b[0m \u001b[1m[\u001b[0mchan \u001b[1;36m0\u001b[0m\u001b[1m]\u001b[0m sftp session closed.                                            \u001b]8;id=211852;file:///home/alphan/projects/python_scripts/clean-rtt/venv/lib/python3.10/site-packages/paramiko/sftp.py\u001b\\\u001b[2msftp.py\u001b[0m\u001b]8;;\u001b\\\u001b[2m:\u001b[0m\u001b]8;id=63507;file:///home/alphan/projects/python_scripts/clean-rtt/venv/lib/python3.10/site-packages/paramiko/sftp.py#169\u001b\\\u001b[2m169\u001b[0m\u001b]8;;\u001b\\\n"
      ]
     },
     "metadata": {},
     "output_type": "display_data"
    },
    {
     "name": "stdout",
     "output_type": "stream",
     "text": [
      "linux-strasbourg: Openning connection to strasbourg\n"
     ]
    },
    {
     "data": {
      "text/html": [
       "<pre style=\"white-space:pre;overflow-x:auto;line-height:normal;font-family:Menlo,'DejaVu Sans Mono',consolas,'Courier New',monospace\"><span style=\"color: #000080; text-decoration-color: #000080\">INFO    </span> Connected <span style=\"font-weight: bold\">(</span>version <span style=\"color: #008080; text-decoration-color: #008080; font-weight: bold\">2.0</span>, client OpenSSH_7.9p1<span style=\"font-weight: bold\">)</span>                      <a href=\"file:///home/alphan/projects/python_scripts/clean-rtt/venv/lib/python3.10/site-packages/paramiko/transport.py\" target=\"_blank\"><span style=\"color: #7f7f7f; text-decoration-color: #7f7f7f\">transport.py</span></a><span style=\"color: #7f7f7f; text-decoration-color: #7f7f7f\">:</span><a href=\"file:///home/alphan/projects/python_scripts/clean-rtt/venv/lib/python3.10/site-packages/paramiko/transport.py#1893\" target=\"_blank\"><span style=\"color: #7f7f7f; text-decoration-color: #7f7f7f\">1893</span></a>\n",
       "</pre>\n"
      ],
      "text/plain": [
       "\u001b[34mINFO    \u001b[0m Connected \u001b[1m(\u001b[0mversion \u001b[1;36m2.0\u001b[0m, client OpenSSH_7.9p1\u001b[1m)\u001b[0m                      \u001b]8;id=407285;file:///home/alphan/projects/python_scripts/clean-rtt/venv/lib/python3.10/site-packages/paramiko/transport.py\u001b\\\u001b[2mtransport.py\u001b[0m\u001b]8;;\u001b\\\u001b[2m:\u001b[0m\u001b]8;id=65149;file:///home/alphan/projects/python_scripts/clean-rtt/venv/lib/python3.10/site-packages/paramiko/transport.py#1893\u001b\\\u001b[2m1893\u001b[0m\u001b]8;;\u001b\\\n"
      ]
     },
     "metadata": {},
     "output_type": "display_data"
    },
    {
     "data": {
      "text/html": [
       "<pre style=\"white-space:pre;overflow-x:auto;line-height:normal;font-family:Menlo,'DejaVu Sans Mono',consolas,'Courier New',monospace\"><span style=\"color: #000080; text-decoration-color: #000080\">INFO    </span> Authentication <span style=\"font-weight: bold\">(</span>publickey<span style=\"font-weight: bold\">)</span> successful!                             <a href=\"file:///home/alphan/projects/python_scripts/clean-rtt/venv/lib/python3.10/site-packages/paramiko/transport.py\" target=\"_blank\"><span style=\"color: #7f7f7f; text-decoration-color: #7f7f7f\">transport.py</span></a><span style=\"color: #7f7f7f; text-decoration-color: #7f7f7f\">:</span><a href=\"file:///home/alphan/projects/python_scripts/clean-rtt/venv/lib/python3.10/site-packages/paramiko/transport.py#1893\" target=\"_blank\"><span style=\"color: #7f7f7f; text-decoration-color: #7f7f7f\">1893</span></a>\n",
       "</pre>\n"
      ],
      "text/plain": [
       "\u001b[34mINFO    \u001b[0m Authentication \u001b[1m(\u001b[0mpublickey\u001b[1m)\u001b[0m successful!                             \u001b]8;id=469680;file:///home/alphan/projects/python_scripts/clean-rtt/venv/lib/python3.10/site-packages/paramiko/transport.py\u001b\\\u001b[2mtransport.py\u001b[0m\u001b]8;;\u001b\\\u001b[2m:\u001b[0m\u001b]8;id=449455;file:///home/alphan/projects/python_scripts/clean-rtt/venv/lib/python3.10/site-packages/paramiko/transport.py#1893\u001b\\\u001b[2m1893\u001b[0m\u001b]8;;\u001b\\\n"
      ]
     },
     "metadata": {},
     "output_type": "display_data"
    }
   ],
   "source": [
    "promise_grenoble_1 = linux_grenoble_1.async_run_ping_measurement()\n",
    "promise_grenoble_2 = linux_grenoble_2.async_run_ping_measurement()\n",
    "promise_paris = linux_paris.async_run_ping_measurement()\n",
    "promise_saclay = linux_saclay.async_run_ping_measurement()\n",
    "promise_strasbourg = linux_strasbourg.async_run_ping_measurement()"
   ]
  },
  {
   "cell_type": "code",
   "execution_count": 4,
   "id": "49a54101-29ef-4d86-b3c8-5a6b727ea460",
   "metadata": {},
   "outputs": [
    {
     "name": "stdout",
     "output_type": "stream",
     "text": [
      "linux-paris: Joining the promise..\n",
      "linux-saclay: Joining the promise..\n",
      "linux-strasbourg: Joining the promise..\n",
      "linux-grenoble: Joining the promise..\n",
      "linux-grenoble: Joining the promise..\n"
     ]
    }
   ],
   "source": [
    "linux_paris.read_async_run_ping_measurement(promise_paris)\n",
    "linux_saclay.read_async_run_ping_measurement(promise_saclay)\n",
    "linux_strasbourg.read_async_run_ping_measurement(promise_strasbourg)\n",
    "linux_grenoble_1.read_async_run_ping_measurement(promise_grenoble_1)\n",
    "linux_grenoble_2.read_async_run_ping_measurement(promise_grenoble_2)"
   ]
  },
  {
   "cell_type": "code",
   "execution_count": 17,
   "id": "571b6cd3-214b-4a77-9824-f3549b4ee887",
   "metadata": {},
   "outputs": [
    {
     "data": {
      "text/plain": [
       "{}"
      ]
     },
     "execution_count": 17,
     "metadata": {},
     "output_type": "execute_result"
    }
   ],
   "source": [
    "linux_grenoble_1.awaiting_ping_measurements"
   ]
  },
  {
   "cell_type": "code",
   "execution_count": 5,
   "id": "9b9105c3-1f81-4b7f-8f0e-2a0099628234",
   "metadata": {},
   "outputs": [
    {
     "name": "stdout",
     "output_type": "stream",
     "text": [
      "linux-paris: Getting the ping results.\n",
      "linux-paris: Openning connection to paris\n",
      "/home/alphan/projects/python_scripts/clean-rtt\n",
      "remote path: ~/ping_experiments/linux_1/ping_measurements.json\n"
     ]
    },
    {
     "data": {
      "text/html": [
       "<pre style=\"white-space:pre;overflow-x:auto;line-height:normal;font-family:Menlo,'DejaVu Sans Mono',consolas,'Courier New',monospace\"><span style=\"color: #000080; text-decoration-color: #000080\">INFO    </span> Connected <span style=\"font-weight: bold\">(</span>version <span style=\"color: #008080; text-decoration-color: #008080; font-weight: bold\">2.0</span>, client OpenSSH_7.9p1<span style=\"font-weight: bold\">)</span>                      <a href=\"file:///home/alphan/projects/python_scripts/clean-rtt/venv/lib/python3.10/site-packages/paramiko/transport.py\" target=\"_blank\"><span style=\"color: #7f7f7f; text-decoration-color: #7f7f7f\">transport.py</span></a><span style=\"color: #7f7f7f; text-decoration-color: #7f7f7f\">:</span><a href=\"file:///home/alphan/projects/python_scripts/clean-rtt/venv/lib/python3.10/site-packages/paramiko/transport.py#1893\" target=\"_blank\"><span style=\"color: #7f7f7f; text-decoration-color: #7f7f7f\">1893</span></a>\n",
       "</pre>\n"
      ],
      "text/plain": [
       "\u001b[34mINFO    \u001b[0m Connected \u001b[1m(\u001b[0mversion \u001b[1;36m2.0\u001b[0m, client OpenSSH_7.9p1\u001b[1m)\u001b[0m                      \u001b]8;id=711384;file:///home/alphan/projects/python_scripts/clean-rtt/venv/lib/python3.10/site-packages/paramiko/transport.py\u001b\\\u001b[2mtransport.py\u001b[0m\u001b]8;;\u001b\\\u001b[2m:\u001b[0m\u001b]8;id=482196;file:///home/alphan/projects/python_scripts/clean-rtt/venv/lib/python3.10/site-packages/paramiko/transport.py#1893\u001b\\\u001b[2m1893\u001b[0m\u001b]8;;\u001b\\\n"
      ]
     },
     "metadata": {},
     "output_type": "display_data"
    },
    {
     "data": {
      "text/html": [
       "<pre style=\"white-space:pre;overflow-x:auto;line-height:normal;font-family:Menlo,'DejaVu Sans Mono',consolas,'Courier New',monospace\"><span style=\"color: #000080; text-decoration-color: #000080\">INFO    </span> Authentication <span style=\"font-weight: bold\">(</span>publickey<span style=\"font-weight: bold\">)</span> successful!                             <a href=\"file:///home/alphan/projects/python_scripts/clean-rtt/venv/lib/python3.10/site-packages/paramiko/transport.py\" target=\"_blank\"><span style=\"color: #7f7f7f; text-decoration-color: #7f7f7f\">transport.py</span></a><span style=\"color: #7f7f7f; text-decoration-color: #7f7f7f\">:</span><a href=\"file:///home/alphan/projects/python_scripts/clean-rtt/venv/lib/python3.10/site-packages/paramiko/transport.py#1893\" target=\"_blank\"><span style=\"color: #7f7f7f; text-decoration-color: #7f7f7f\">1893</span></a>\n",
       "</pre>\n"
      ],
      "text/plain": [
       "\u001b[34mINFO    \u001b[0m Authentication \u001b[1m(\u001b[0mpublickey\u001b[1m)\u001b[0m successful!                             \u001b]8;id=665411;file:///home/alphan/projects/python_scripts/clean-rtt/venv/lib/python3.10/site-packages/paramiko/transport.py\u001b\\\u001b[2mtransport.py\u001b[0m\u001b]8;;\u001b\\\u001b[2m:\u001b[0m\u001b]8;id=573825;file:///home/alphan/projects/python_scripts/clean-rtt/venv/lib/python3.10/site-packages/paramiko/transport.py#1893\u001b\\\u001b[2m1893\u001b[0m\u001b]8;;\u001b\\\n"
      ]
     },
     "metadata": {},
     "output_type": "display_data"
    },
    {
     "data": {
      "text/html": [
       "<pre style=\"white-space:pre;overflow-x:auto;line-height:normal;font-family:Menlo,'DejaVu Sans Mono',consolas,'Courier New',monospace\"><span style=\"color: #000080; text-decoration-color: #000080\">INFO    </span> <span style=\"font-weight: bold\">[</span>chan <span style=\"color: #008080; text-decoration-color: #008080; font-weight: bold\">0</span><span style=\"font-weight: bold\">]</span> Opened sftp connection <span style=\"font-weight: bold\">(</span>server version <span style=\"color: #008080; text-decoration-color: #008080; font-weight: bold\">3</span><span style=\"font-weight: bold\">)</span>                       <a href=\"file:///home/alphan/projects/python_scripts/clean-rtt/venv/lib/python3.10/site-packages/paramiko/sftp.py\" target=\"_blank\"><span style=\"color: #7f7f7f; text-decoration-color: #7f7f7f\">sftp.py</span></a><span style=\"color: #7f7f7f; text-decoration-color: #7f7f7f\">:</span><a href=\"file:///home/alphan/projects/python_scripts/clean-rtt/venv/lib/python3.10/site-packages/paramiko/sftp.py#169\" target=\"_blank\"><span style=\"color: #7f7f7f; text-decoration-color: #7f7f7f\">169</span></a>\n",
       "</pre>\n"
      ],
      "text/plain": [
       "\u001b[34mINFO    \u001b[0m \u001b[1m[\u001b[0mchan \u001b[1;36m0\u001b[0m\u001b[1m]\u001b[0m Opened sftp connection \u001b[1m(\u001b[0mserver version \u001b[1;36m3\u001b[0m\u001b[1m)\u001b[0m                       \u001b]8;id=735340;file:///home/alphan/projects/python_scripts/clean-rtt/venv/lib/python3.10/site-packages/paramiko/sftp.py\u001b\\\u001b[2msftp.py\u001b[0m\u001b]8;;\u001b\\\u001b[2m:\u001b[0m\u001b]8;id=695218;file:///home/alphan/projects/python_scripts/clean-rtt/venv/lib/python3.10/site-packages/paramiko/sftp.py#169\u001b\\\u001b[2m169\u001b[0m\u001b]8;;\u001b\\\n"
      ]
     },
     "metadata": {},
     "output_type": "display_data"
    },
    {
     "data": {
      "text/html": [
       "<pre style=\"white-space:pre;overflow-x:auto;line-height:normal;font-family:Menlo,'DejaVu Sans Mono',consolas,'Courier New',monospace\"><span style=\"color: #000080; text-decoration-color: #000080\">INFO    </span> <span style=\"font-weight: bold\">[</span>chan <span style=\"color: #008080; text-decoration-color: #008080; font-weight: bold\">0</span><span style=\"font-weight: bold\">]</span> sftp session closed.                                            <a href=\"file:///home/alphan/projects/python_scripts/clean-rtt/venv/lib/python3.10/site-packages/paramiko/sftp.py\" target=\"_blank\"><span style=\"color: #7f7f7f; text-decoration-color: #7f7f7f\">sftp.py</span></a><span style=\"color: #7f7f7f; text-decoration-color: #7f7f7f\">:</span><a href=\"file:///home/alphan/projects/python_scripts/clean-rtt/venv/lib/python3.10/site-packages/paramiko/sftp.py#169\" target=\"_blank\"><span style=\"color: #7f7f7f; text-decoration-color: #7f7f7f\">169</span></a>\n",
       "</pre>\n"
      ],
      "text/plain": [
       "\u001b[34mINFO    \u001b[0m \u001b[1m[\u001b[0mchan \u001b[1;36m0\u001b[0m\u001b[1m]\u001b[0m sftp session closed.                                            \u001b]8;id=439049;file:///home/alphan/projects/python_scripts/clean-rtt/venv/lib/python3.10/site-packages/paramiko/sftp.py\u001b\\\u001b[2msftp.py\u001b[0m\u001b]8;;\u001b\\\u001b[2m:\u001b[0m\u001b]8;id=353994;file:///home/alphan/projects/python_scripts/clean-rtt/venv/lib/python3.10/site-packages/paramiko/sftp.py#169\u001b\\\u001b[2m169\u001b[0m\u001b]8;;\u001b\\\n"
      ]
     },
     "metadata": {},
     "output_type": "display_data"
    },
    {
     "name": "stdout",
     "output_type": "stream",
     "text": [
      "linux-paris: Reading the ping results.\n",
      "linux-paris: 16775 measurements received!\n",
      "linux-paris: Deleting the fetched ping measurements on site.\n",
      "linux-paris: Openning connection to paris\n"
     ]
    },
    {
     "data": {
      "text/html": [
       "<pre style=\"white-space:pre;overflow-x:auto;line-height:normal;font-family:Menlo,'DejaVu Sans Mono',consolas,'Courier New',monospace\"><span style=\"color: #000080; text-decoration-color: #000080\">INFO    </span> Connected <span style=\"font-weight: bold\">(</span>version <span style=\"color: #008080; text-decoration-color: #008080; font-weight: bold\">2.0</span>, client OpenSSH_7.9p1<span style=\"font-weight: bold\">)</span>                      <a href=\"file:///home/alphan/projects/python_scripts/clean-rtt/venv/lib/python3.10/site-packages/paramiko/transport.py\" target=\"_blank\"><span style=\"color: #7f7f7f; text-decoration-color: #7f7f7f\">transport.py</span></a><span style=\"color: #7f7f7f; text-decoration-color: #7f7f7f\">:</span><a href=\"file:///home/alphan/projects/python_scripts/clean-rtt/venv/lib/python3.10/site-packages/paramiko/transport.py#1893\" target=\"_blank\"><span style=\"color: #7f7f7f; text-decoration-color: #7f7f7f\">1893</span></a>\n",
       "</pre>\n"
      ],
      "text/plain": [
       "\u001b[34mINFO    \u001b[0m Connected \u001b[1m(\u001b[0mversion \u001b[1;36m2.0\u001b[0m, client OpenSSH_7.9p1\u001b[1m)\u001b[0m                      \u001b]8;id=196995;file:///home/alphan/projects/python_scripts/clean-rtt/venv/lib/python3.10/site-packages/paramiko/transport.py\u001b\\\u001b[2mtransport.py\u001b[0m\u001b]8;;\u001b\\\u001b[2m:\u001b[0m\u001b]8;id=66577;file:///home/alphan/projects/python_scripts/clean-rtt/venv/lib/python3.10/site-packages/paramiko/transport.py#1893\u001b\\\u001b[2m1893\u001b[0m\u001b]8;;\u001b\\\n"
      ]
     },
     "metadata": {},
     "output_type": "display_data"
    },
    {
     "data": {
      "text/html": [
       "<pre style=\"white-space:pre;overflow-x:auto;line-height:normal;font-family:Menlo,'DejaVu Sans Mono',consolas,'Courier New',monospace\"><span style=\"color: #000080; text-decoration-color: #000080\">INFO    </span> Authentication <span style=\"font-weight: bold\">(</span>publickey<span style=\"font-weight: bold\">)</span> successful!                             <a href=\"file:///home/alphan/projects/python_scripts/clean-rtt/venv/lib/python3.10/site-packages/paramiko/transport.py\" target=\"_blank\"><span style=\"color: #7f7f7f; text-decoration-color: #7f7f7f\">transport.py</span></a><span style=\"color: #7f7f7f; text-decoration-color: #7f7f7f\">:</span><a href=\"file:///home/alphan/projects/python_scripts/clean-rtt/venv/lib/python3.10/site-packages/paramiko/transport.py#1893\" target=\"_blank\"><span style=\"color: #7f7f7f; text-decoration-color: #7f7f7f\">1893</span></a>\n",
       "</pre>\n"
      ],
      "text/plain": [
       "\u001b[34mINFO    \u001b[0m Authentication \u001b[1m(\u001b[0mpublickey\u001b[1m)\u001b[0m successful!                             \u001b]8;id=105737;file:///home/alphan/projects/python_scripts/clean-rtt/venv/lib/python3.10/site-packages/paramiko/transport.py\u001b\\\u001b[2mtransport.py\u001b[0m\u001b]8;;\u001b\\\u001b[2m:\u001b[0m\u001b]8;id=568500;file:///home/alphan/projects/python_scripts/clean-rtt/venv/lib/python3.10/site-packages/paramiko/transport.py#1893\u001b\\\u001b[2m1893\u001b[0m\u001b]8;;\u001b\\\n"
      ]
     },
     "metadata": {},
     "output_type": "display_data"
    },
    {
     "name": "stdout",
     "output_type": "stream",
     "text": [
      "linux-paris: Deleting the local fetched ping measurements.\n",
      "linux-saclay: Getting the ping results.\n",
      "linux-saclay: Openning connection to saclay\n",
      "/home/alphan/projects/python_scripts/clean-rtt\n",
      "remote path: ~/ping_experiments/linux_1/ping_measurements.json\n"
     ]
    },
    {
     "data": {
      "text/html": [
       "<pre style=\"white-space:pre;overflow-x:auto;line-height:normal;font-family:Menlo,'DejaVu Sans Mono',consolas,'Courier New',monospace\"><span style=\"color: #000080; text-decoration-color: #000080\">INFO    </span> Connected <span style=\"font-weight: bold\">(</span>version <span style=\"color: #008080; text-decoration-color: #008080; font-weight: bold\">2.0</span>, client OpenSSH_7.9p1<span style=\"font-weight: bold\">)</span>                      <a href=\"file:///home/alphan/projects/python_scripts/clean-rtt/venv/lib/python3.10/site-packages/paramiko/transport.py\" target=\"_blank\"><span style=\"color: #7f7f7f; text-decoration-color: #7f7f7f\">transport.py</span></a><span style=\"color: #7f7f7f; text-decoration-color: #7f7f7f\">:</span><a href=\"file:///home/alphan/projects/python_scripts/clean-rtt/venv/lib/python3.10/site-packages/paramiko/transport.py#1893\" target=\"_blank\"><span style=\"color: #7f7f7f; text-decoration-color: #7f7f7f\">1893</span></a>\n",
       "</pre>\n"
      ],
      "text/plain": [
       "\u001b[34mINFO    \u001b[0m Connected \u001b[1m(\u001b[0mversion \u001b[1;36m2.0\u001b[0m, client OpenSSH_7.9p1\u001b[1m)\u001b[0m                      \u001b]8;id=143146;file:///home/alphan/projects/python_scripts/clean-rtt/venv/lib/python3.10/site-packages/paramiko/transport.py\u001b\\\u001b[2mtransport.py\u001b[0m\u001b]8;;\u001b\\\u001b[2m:\u001b[0m\u001b]8;id=502439;file:///home/alphan/projects/python_scripts/clean-rtt/venv/lib/python3.10/site-packages/paramiko/transport.py#1893\u001b\\\u001b[2m1893\u001b[0m\u001b]8;;\u001b\\\n"
      ]
     },
     "metadata": {},
     "output_type": "display_data"
    },
    {
     "data": {
      "text/html": [
       "<pre style=\"white-space:pre;overflow-x:auto;line-height:normal;font-family:Menlo,'DejaVu Sans Mono',consolas,'Courier New',monospace\"><span style=\"color: #000080; text-decoration-color: #000080\">INFO    </span> Authentication <span style=\"font-weight: bold\">(</span>publickey<span style=\"font-weight: bold\">)</span> successful!                             <a href=\"file:///home/alphan/projects/python_scripts/clean-rtt/venv/lib/python3.10/site-packages/paramiko/transport.py\" target=\"_blank\"><span style=\"color: #7f7f7f; text-decoration-color: #7f7f7f\">transport.py</span></a><span style=\"color: #7f7f7f; text-decoration-color: #7f7f7f\">:</span><a href=\"file:///home/alphan/projects/python_scripts/clean-rtt/venv/lib/python3.10/site-packages/paramiko/transport.py#1893\" target=\"_blank\"><span style=\"color: #7f7f7f; text-decoration-color: #7f7f7f\">1893</span></a>\n",
       "</pre>\n"
      ],
      "text/plain": [
       "\u001b[34mINFO    \u001b[0m Authentication \u001b[1m(\u001b[0mpublickey\u001b[1m)\u001b[0m successful!                             \u001b]8;id=754772;file:///home/alphan/projects/python_scripts/clean-rtt/venv/lib/python3.10/site-packages/paramiko/transport.py\u001b\\\u001b[2mtransport.py\u001b[0m\u001b]8;;\u001b\\\u001b[2m:\u001b[0m\u001b]8;id=370002;file:///home/alphan/projects/python_scripts/clean-rtt/venv/lib/python3.10/site-packages/paramiko/transport.py#1893\u001b\\\u001b[2m1893\u001b[0m\u001b]8;;\u001b\\\n"
      ]
     },
     "metadata": {},
     "output_type": "display_data"
    },
    {
     "data": {
      "text/html": [
       "<pre style=\"white-space:pre;overflow-x:auto;line-height:normal;font-family:Menlo,'DejaVu Sans Mono',consolas,'Courier New',monospace\"><span style=\"color: #000080; text-decoration-color: #000080\">INFO    </span> <span style=\"font-weight: bold\">[</span>chan <span style=\"color: #008080; text-decoration-color: #008080; font-weight: bold\">0</span><span style=\"font-weight: bold\">]</span> Opened sftp connection <span style=\"font-weight: bold\">(</span>server version <span style=\"color: #008080; text-decoration-color: #008080; font-weight: bold\">3</span><span style=\"font-weight: bold\">)</span>                       <a href=\"file:///home/alphan/projects/python_scripts/clean-rtt/venv/lib/python3.10/site-packages/paramiko/sftp.py\" target=\"_blank\"><span style=\"color: #7f7f7f; text-decoration-color: #7f7f7f\">sftp.py</span></a><span style=\"color: #7f7f7f; text-decoration-color: #7f7f7f\">:</span><a href=\"file:///home/alphan/projects/python_scripts/clean-rtt/venv/lib/python3.10/site-packages/paramiko/sftp.py#169\" target=\"_blank\"><span style=\"color: #7f7f7f; text-decoration-color: #7f7f7f\">169</span></a>\n",
       "</pre>\n"
      ],
      "text/plain": [
       "\u001b[34mINFO    \u001b[0m \u001b[1m[\u001b[0mchan \u001b[1;36m0\u001b[0m\u001b[1m]\u001b[0m Opened sftp connection \u001b[1m(\u001b[0mserver version \u001b[1;36m3\u001b[0m\u001b[1m)\u001b[0m                       \u001b]8;id=244805;file:///home/alphan/projects/python_scripts/clean-rtt/venv/lib/python3.10/site-packages/paramiko/sftp.py\u001b\\\u001b[2msftp.py\u001b[0m\u001b]8;;\u001b\\\u001b[2m:\u001b[0m\u001b]8;id=515515;file:///home/alphan/projects/python_scripts/clean-rtt/venv/lib/python3.10/site-packages/paramiko/sftp.py#169\u001b\\\u001b[2m169\u001b[0m\u001b]8;;\u001b\\\n"
      ]
     },
     "metadata": {},
     "output_type": "display_data"
    },
    {
     "data": {
      "text/html": [
       "<pre style=\"white-space:pre;overflow-x:auto;line-height:normal;font-family:Menlo,'DejaVu Sans Mono',consolas,'Courier New',monospace\"><span style=\"color: #000080; text-decoration-color: #000080\">INFO    </span> <span style=\"font-weight: bold\">[</span>chan <span style=\"color: #008080; text-decoration-color: #008080; font-weight: bold\">0</span><span style=\"font-weight: bold\">]</span> sftp session closed.                                            <a href=\"file:///home/alphan/projects/python_scripts/clean-rtt/venv/lib/python3.10/site-packages/paramiko/sftp.py\" target=\"_blank\"><span style=\"color: #7f7f7f; text-decoration-color: #7f7f7f\">sftp.py</span></a><span style=\"color: #7f7f7f; text-decoration-color: #7f7f7f\">:</span><a href=\"file:///home/alphan/projects/python_scripts/clean-rtt/venv/lib/python3.10/site-packages/paramiko/sftp.py#169\" target=\"_blank\"><span style=\"color: #7f7f7f; text-decoration-color: #7f7f7f\">169</span></a>\n",
       "</pre>\n"
      ],
      "text/plain": [
       "\u001b[34mINFO    \u001b[0m \u001b[1m[\u001b[0mchan \u001b[1;36m0\u001b[0m\u001b[1m]\u001b[0m sftp session closed.                                            \u001b]8;id=909042;file:///home/alphan/projects/python_scripts/clean-rtt/venv/lib/python3.10/site-packages/paramiko/sftp.py\u001b\\\u001b[2msftp.py\u001b[0m\u001b]8;;\u001b\\\u001b[2m:\u001b[0m\u001b]8;id=52662;file:///home/alphan/projects/python_scripts/clean-rtt/venv/lib/python3.10/site-packages/paramiko/sftp.py#169\u001b\\\u001b[2m169\u001b[0m\u001b]8;;\u001b\\\n"
      ]
     },
     "metadata": {},
     "output_type": "display_data"
    },
    {
     "name": "stdout",
     "output_type": "stream",
     "text": [
      "linux-saclay: Reading the ping results.\n",
      "linux-saclay: 14030 measurements received!\n",
      "linux-saclay: Deleting the fetched ping measurements on site.\n",
      "linux-saclay: Openning connection to saclay\n"
     ]
    },
    {
     "data": {
      "text/html": [
       "<pre style=\"white-space:pre;overflow-x:auto;line-height:normal;font-family:Menlo,'DejaVu Sans Mono',consolas,'Courier New',monospace\"><span style=\"color: #000080; text-decoration-color: #000080\">INFO    </span> Connected <span style=\"font-weight: bold\">(</span>version <span style=\"color: #008080; text-decoration-color: #008080; font-weight: bold\">2.0</span>, client OpenSSH_7.9p1<span style=\"font-weight: bold\">)</span>                      <a href=\"file:///home/alphan/projects/python_scripts/clean-rtt/venv/lib/python3.10/site-packages/paramiko/transport.py\" target=\"_blank\"><span style=\"color: #7f7f7f; text-decoration-color: #7f7f7f\">transport.py</span></a><span style=\"color: #7f7f7f; text-decoration-color: #7f7f7f\">:</span><a href=\"file:///home/alphan/projects/python_scripts/clean-rtt/venv/lib/python3.10/site-packages/paramiko/transport.py#1893\" target=\"_blank\"><span style=\"color: #7f7f7f; text-decoration-color: #7f7f7f\">1893</span></a>\n",
       "</pre>\n"
      ],
      "text/plain": [
       "\u001b[34mINFO    \u001b[0m Connected \u001b[1m(\u001b[0mversion \u001b[1;36m2.0\u001b[0m, client OpenSSH_7.9p1\u001b[1m)\u001b[0m                      \u001b]8;id=601147;file:///home/alphan/projects/python_scripts/clean-rtt/venv/lib/python3.10/site-packages/paramiko/transport.py\u001b\\\u001b[2mtransport.py\u001b[0m\u001b]8;;\u001b\\\u001b[2m:\u001b[0m\u001b]8;id=539705;file:///home/alphan/projects/python_scripts/clean-rtt/venv/lib/python3.10/site-packages/paramiko/transport.py#1893\u001b\\\u001b[2m1893\u001b[0m\u001b]8;;\u001b\\\n"
      ]
     },
     "metadata": {},
     "output_type": "display_data"
    },
    {
     "data": {
      "text/html": [
       "<pre style=\"white-space:pre;overflow-x:auto;line-height:normal;font-family:Menlo,'DejaVu Sans Mono',consolas,'Courier New',monospace\"><span style=\"color: #000080; text-decoration-color: #000080\">INFO    </span> Authentication <span style=\"font-weight: bold\">(</span>publickey<span style=\"font-weight: bold\">)</span> successful!                             <a href=\"file:///home/alphan/projects/python_scripts/clean-rtt/venv/lib/python3.10/site-packages/paramiko/transport.py\" target=\"_blank\"><span style=\"color: #7f7f7f; text-decoration-color: #7f7f7f\">transport.py</span></a><span style=\"color: #7f7f7f; text-decoration-color: #7f7f7f\">:</span><a href=\"file:///home/alphan/projects/python_scripts/clean-rtt/venv/lib/python3.10/site-packages/paramiko/transport.py#1893\" target=\"_blank\"><span style=\"color: #7f7f7f; text-decoration-color: #7f7f7f\">1893</span></a>\n",
       "</pre>\n"
      ],
      "text/plain": [
       "\u001b[34mINFO    \u001b[0m Authentication \u001b[1m(\u001b[0mpublickey\u001b[1m)\u001b[0m successful!                             \u001b]8;id=63401;file:///home/alphan/projects/python_scripts/clean-rtt/venv/lib/python3.10/site-packages/paramiko/transport.py\u001b\\\u001b[2mtransport.py\u001b[0m\u001b]8;;\u001b\\\u001b[2m:\u001b[0m\u001b]8;id=712874;file:///home/alphan/projects/python_scripts/clean-rtt/venv/lib/python3.10/site-packages/paramiko/transport.py#1893\u001b\\\u001b[2m1893\u001b[0m\u001b]8;;\u001b\\\n"
      ]
     },
     "metadata": {},
     "output_type": "display_data"
    },
    {
     "name": "stdout",
     "output_type": "stream",
     "text": [
      "linux-saclay: Deleting the local fetched ping measurements.\n",
      "linux-strasbourg: Getting the ping results.\n",
      "linux-strasbourg: Openning connection to strasbourg\n",
      "/home/alphan/projects/python_scripts/clean-rtt\n",
      "remote path: ~/ping_experiments/linux_1/ping_measurements.json\n"
     ]
    },
    {
     "data": {
      "text/html": [
       "<pre style=\"white-space:pre;overflow-x:auto;line-height:normal;font-family:Menlo,'DejaVu Sans Mono',consolas,'Courier New',monospace\"><span style=\"color: #000080; text-decoration-color: #000080\">INFO    </span> Connected <span style=\"font-weight: bold\">(</span>version <span style=\"color: #008080; text-decoration-color: #008080; font-weight: bold\">2.0</span>, client OpenSSH_7.9p1<span style=\"font-weight: bold\">)</span>                      <a href=\"file:///home/alphan/projects/python_scripts/clean-rtt/venv/lib/python3.10/site-packages/paramiko/transport.py\" target=\"_blank\"><span style=\"color: #7f7f7f; text-decoration-color: #7f7f7f\">transport.py</span></a><span style=\"color: #7f7f7f; text-decoration-color: #7f7f7f\">:</span><a href=\"file:///home/alphan/projects/python_scripts/clean-rtt/venv/lib/python3.10/site-packages/paramiko/transport.py#1893\" target=\"_blank\"><span style=\"color: #7f7f7f; text-decoration-color: #7f7f7f\">1893</span></a>\n",
       "</pre>\n"
      ],
      "text/plain": [
       "\u001b[34mINFO    \u001b[0m Connected \u001b[1m(\u001b[0mversion \u001b[1;36m2.0\u001b[0m, client OpenSSH_7.9p1\u001b[1m)\u001b[0m                      \u001b]8;id=783689;file:///home/alphan/projects/python_scripts/clean-rtt/venv/lib/python3.10/site-packages/paramiko/transport.py\u001b\\\u001b[2mtransport.py\u001b[0m\u001b]8;;\u001b\\\u001b[2m:\u001b[0m\u001b]8;id=218177;file:///home/alphan/projects/python_scripts/clean-rtt/venv/lib/python3.10/site-packages/paramiko/transport.py#1893\u001b\\\u001b[2m1893\u001b[0m\u001b]8;;\u001b\\\n"
      ]
     },
     "metadata": {},
     "output_type": "display_data"
    },
    {
     "data": {
      "text/html": [
       "<pre style=\"white-space:pre;overflow-x:auto;line-height:normal;font-family:Menlo,'DejaVu Sans Mono',consolas,'Courier New',monospace\"><span style=\"color: #000080; text-decoration-color: #000080\">INFO    </span> Authentication <span style=\"font-weight: bold\">(</span>publickey<span style=\"font-weight: bold\">)</span> successful!                             <a href=\"file:///home/alphan/projects/python_scripts/clean-rtt/venv/lib/python3.10/site-packages/paramiko/transport.py\" target=\"_blank\"><span style=\"color: #7f7f7f; text-decoration-color: #7f7f7f\">transport.py</span></a><span style=\"color: #7f7f7f; text-decoration-color: #7f7f7f\">:</span><a href=\"file:///home/alphan/projects/python_scripts/clean-rtt/venv/lib/python3.10/site-packages/paramiko/transport.py#1893\" target=\"_blank\"><span style=\"color: #7f7f7f; text-decoration-color: #7f7f7f\">1893</span></a>\n",
       "</pre>\n"
      ],
      "text/plain": [
       "\u001b[34mINFO    \u001b[0m Authentication \u001b[1m(\u001b[0mpublickey\u001b[1m)\u001b[0m successful!                             \u001b]8;id=739535;file:///home/alphan/projects/python_scripts/clean-rtt/venv/lib/python3.10/site-packages/paramiko/transport.py\u001b\\\u001b[2mtransport.py\u001b[0m\u001b]8;;\u001b\\\u001b[2m:\u001b[0m\u001b]8;id=689627;file:///home/alphan/projects/python_scripts/clean-rtt/venv/lib/python3.10/site-packages/paramiko/transport.py#1893\u001b\\\u001b[2m1893\u001b[0m\u001b]8;;\u001b\\\n"
      ]
     },
     "metadata": {},
     "output_type": "display_data"
    },
    {
     "data": {
      "text/html": [
       "<pre style=\"white-space:pre;overflow-x:auto;line-height:normal;font-family:Menlo,'DejaVu Sans Mono',consolas,'Courier New',monospace\"><span style=\"color: #000080; text-decoration-color: #000080\">INFO    </span> <span style=\"font-weight: bold\">[</span>chan <span style=\"color: #008080; text-decoration-color: #008080; font-weight: bold\">0</span><span style=\"font-weight: bold\">]</span> Opened sftp connection <span style=\"font-weight: bold\">(</span>server version <span style=\"color: #008080; text-decoration-color: #008080; font-weight: bold\">3</span><span style=\"font-weight: bold\">)</span>                       <a href=\"file:///home/alphan/projects/python_scripts/clean-rtt/venv/lib/python3.10/site-packages/paramiko/sftp.py\" target=\"_blank\"><span style=\"color: #7f7f7f; text-decoration-color: #7f7f7f\">sftp.py</span></a><span style=\"color: #7f7f7f; text-decoration-color: #7f7f7f\">:</span><a href=\"file:///home/alphan/projects/python_scripts/clean-rtt/venv/lib/python3.10/site-packages/paramiko/sftp.py#169\" target=\"_blank\"><span style=\"color: #7f7f7f; text-decoration-color: #7f7f7f\">169</span></a>\n",
       "</pre>\n"
      ],
      "text/plain": [
       "\u001b[34mINFO    \u001b[0m \u001b[1m[\u001b[0mchan \u001b[1;36m0\u001b[0m\u001b[1m]\u001b[0m Opened sftp connection \u001b[1m(\u001b[0mserver version \u001b[1;36m3\u001b[0m\u001b[1m)\u001b[0m                       \u001b]8;id=119501;file:///home/alphan/projects/python_scripts/clean-rtt/venv/lib/python3.10/site-packages/paramiko/sftp.py\u001b\\\u001b[2msftp.py\u001b[0m\u001b]8;;\u001b\\\u001b[2m:\u001b[0m\u001b]8;id=816154;file:///home/alphan/projects/python_scripts/clean-rtt/venv/lib/python3.10/site-packages/paramiko/sftp.py#169\u001b\\\u001b[2m169\u001b[0m\u001b]8;;\u001b\\\n"
      ]
     },
     "metadata": {},
     "output_type": "display_data"
    },
    {
     "data": {
      "text/html": [
       "<pre style=\"white-space:pre;overflow-x:auto;line-height:normal;font-family:Menlo,'DejaVu Sans Mono',consolas,'Courier New',monospace\"><span style=\"color: #000080; text-decoration-color: #000080\">INFO    </span> <span style=\"font-weight: bold\">[</span>chan <span style=\"color: #008080; text-decoration-color: #008080; font-weight: bold\">0</span><span style=\"font-weight: bold\">]</span> sftp session closed.                                            <a href=\"file:///home/alphan/projects/python_scripts/clean-rtt/venv/lib/python3.10/site-packages/paramiko/sftp.py\" target=\"_blank\"><span style=\"color: #7f7f7f; text-decoration-color: #7f7f7f\">sftp.py</span></a><span style=\"color: #7f7f7f; text-decoration-color: #7f7f7f\">:</span><a href=\"file:///home/alphan/projects/python_scripts/clean-rtt/venv/lib/python3.10/site-packages/paramiko/sftp.py#169\" target=\"_blank\"><span style=\"color: #7f7f7f; text-decoration-color: #7f7f7f\">169</span></a>\n",
       "</pre>\n"
      ],
      "text/plain": [
       "\u001b[34mINFO    \u001b[0m \u001b[1m[\u001b[0mchan \u001b[1;36m0\u001b[0m\u001b[1m]\u001b[0m sftp session closed.                                            \u001b]8;id=92957;file:///home/alphan/projects/python_scripts/clean-rtt/venv/lib/python3.10/site-packages/paramiko/sftp.py\u001b\\\u001b[2msftp.py\u001b[0m\u001b]8;;\u001b\\\u001b[2m:\u001b[0m\u001b]8;id=939116;file:///home/alphan/projects/python_scripts/clean-rtt/venv/lib/python3.10/site-packages/paramiko/sftp.py#169\u001b\\\u001b[2m169\u001b[0m\u001b]8;;\u001b\\\n"
      ]
     },
     "metadata": {},
     "output_type": "display_data"
    },
    {
     "name": "stdout",
     "output_type": "stream",
     "text": [
      "linux-strasbourg: Reading the ping results.\n",
      "linux-strasbourg: 4575 measurements received!\n",
      "linux-strasbourg: Deleting the fetched ping measurements on site.\n",
      "linux-strasbourg: Openning connection to strasbourg\n"
     ]
    },
    {
     "data": {
      "text/html": [
       "<pre style=\"white-space:pre;overflow-x:auto;line-height:normal;font-family:Menlo,'DejaVu Sans Mono',consolas,'Courier New',monospace\"><span style=\"color: #000080; text-decoration-color: #000080\">INFO    </span> Connected <span style=\"font-weight: bold\">(</span>version <span style=\"color: #008080; text-decoration-color: #008080; font-weight: bold\">2.0</span>, client OpenSSH_7.9p1<span style=\"font-weight: bold\">)</span>                      <a href=\"file:///home/alphan/projects/python_scripts/clean-rtt/venv/lib/python3.10/site-packages/paramiko/transport.py\" target=\"_blank\"><span style=\"color: #7f7f7f; text-decoration-color: #7f7f7f\">transport.py</span></a><span style=\"color: #7f7f7f; text-decoration-color: #7f7f7f\">:</span><a href=\"file:///home/alphan/projects/python_scripts/clean-rtt/venv/lib/python3.10/site-packages/paramiko/transport.py#1893\" target=\"_blank\"><span style=\"color: #7f7f7f; text-decoration-color: #7f7f7f\">1893</span></a>\n",
       "</pre>\n"
      ],
      "text/plain": [
       "\u001b[34mINFO    \u001b[0m Connected \u001b[1m(\u001b[0mversion \u001b[1;36m2.0\u001b[0m, client OpenSSH_7.9p1\u001b[1m)\u001b[0m                      \u001b]8;id=470842;file:///home/alphan/projects/python_scripts/clean-rtt/venv/lib/python3.10/site-packages/paramiko/transport.py\u001b\\\u001b[2mtransport.py\u001b[0m\u001b]8;;\u001b\\\u001b[2m:\u001b[0m\u001b]8;id=310840;file:///home/alphan/projects/python_scripts/clean-rtt/venv/lib/python3.10/site-packages/paramiko/transport.py#1893\u001b\\\u001b[2m1893\u001b[0m\u001b]8;;\u001b\\\n"
      ]
     },
     "metadata": {},
     "output_type": "display_data"
    },
    {
     "data": {
      "text/html": [
       "<pre style=\"white-space:pre;overflow-x:auto;line-height:normal;font-family:Menlo,'DejaVu Sans Mono',consolas,'Courier New',monospace\"><span style=\"color: #000080; text-decoration-color: #000080\">INFO    </span> Authentication <span style=\"font-weight: bold\">(</span>publickey<span style=\"font-weight: bold\">)</span> successful!                             <a href=\"file:///home/alphan/projects/python_scripts/clean-rtt/venv/lib/python3.10/site-packages/paramiko/transport.py\" target=\"_blank\"><span style=\"color: #7f7f7f; text-decoration-color: #7f7f7f\">transport.py</span></a><span style=\"color: #7f7f7f; text-decoration-color: #7f7f7f\">:</span><a href=\"file:///home/alphan/projects/python_scripts/clean-rtt/venv/lib/python3.10/site-packages/paramiko/transport.py#1893\" target=\"_blank\"><span style=\"color: #7f7f7f; text-decoration-color: #7f7f7f\">1893</span></a>\n",
       "</pre>\n"
      ],
      "text/plain": [
       "\u001b[34mINFO    \u001b[0m Authentication \u001b[1m(\u001b[0mpublickey\u001b[1m)\u001b[0m successful!                             \u001b]8;id=426046;file:///home/alphan/projects/python_scripts/clean-rtt/venv/lib/python3.10/site-packages/paramiko/transport.py\u001b\\\u001b[2mtransport.py\u001b[0m\u001b]8;;\u001b\\\u001b[2m:\u001b[0m\u001b]8;id=91897;file:///home/alphan/projects/python_scripts/clean-rtt/venv/lib/python3.10/site-packages/paramiko/transport.py#1893\u001b\\\u001b[2m1893\u001b[0m\u001b]8;;\u001b\\\n"
      ]
     },
     "metadata": {},
     "output_type": "display_data"
    },
    {
     "name": "stdout",
     "output_type": "stream",
     "text": [
      "linux-strasbourg: Deleting the local fetched ping measurements.\n",
      "linux-grenoble: Getting the ping results.\n",
      "linux-grenoble: Openning connection to grenoble\n",
      "/home/alphan/projects/python_scripts/clean-rtt\n",
      "remote path: ~/ping_experiments/linux_1/ping_measurements.json\n"
     ]
    },
    {
     "data": {
      "text/html": [
       "<pre style=\"white-space:pre;overflow-x:auto;line-height:normal;font-family:Menlo,'DejaVu Sans Mono',consolas,'Courier New',monospace\"><span style=\"color: #000080; text-decoration-color: #000080\">INFO    </span> Connected <span style=\"font-weight: bold\">(</span>version <span style=\"color: #008080; text-decoration-color: #008080; font-weight: bold\">2.0</span>, client OpenSSH_7.9p1<span style=\"font-weight: bold\">)</span>                      <a href=\"file:///home/alphan/projects/python_scripts/clean-rtt/venv/lib/python3.10/site-packages/paramiko/transport.py\" target=\"_blank\"><span style=\"color: #7f7f7f; text-decoration-color: #7f7f7f\">transport.py</span></a><span style=\"color: #7f7f7f; text-decoration-color: #7f7f7f\">:</span><a href=\"file:///home/alphan/projects/python_scripts/clean-rtt/venv/lib/python3.10/site-packages/paramiko/transport.py#1893\" target=\"_blank\"><span style=\"color: #7f7f7f; text-decoration-color: #7f7f7f\">1893</span></a>\n",
       "</pre>\n"
      ],
      "text/plain": [
       "\u001b[34mINFO    \u001b[0m Connected \u001b[1m(\u001b[0mversion \u001b[1;36m2.0\u001b[0m, client OpenSSH_7.9p1\u001b[1m)\u001b[0m                      \u001b]8;id=919956;file:///home/alphan/projects/python_scripts/clean-rtt/venv/lib/python3.10/site-packages/paramiko/transport.py\u001b\\\u001b[2mtransport.py\u001b[0m\u001b]8;;\u001b\\\u001b[2m:\u001b[0m\u001b]8;id=639703;file:///home/alphan/projects/python_scripts/clean-rtt/venv/lib/python3.10/site-packages/paramiko/transport.py#1893\u001b\\\u001b[2m1893\u001b[0m\u001b]8;;\u001b\\\n"
      ]
     },
     "metadata": {},
     "output_type": "display_data"
    },
    {
     "data": {
      "text/html": [
       "<pre style=\"white-space:pre;overflow-x:auto;line-height:normal;font-family:Menlo,'DejaVu Sans Mono',consolas,'Courier New',monospace\"><span style=\"color: #000080; text-decoration-color: #000080\">INFO    </span> Authentication <span style=\"font-weight: bold\">(</span>publickey<span style=\"font-weight: bold\">)</span> successful!                             <a href=\"file:///home/alphan/projects/python_scripts/clean-rtt/venv/lib/python3.10/site-packages/paramiko/transport.py\" target=\"_blank\"><span style=\"color: #7f7f7f; text-decoration-color: #7f7f7f\">transport.py</span></a><span style=\"color: #7f7f7f; text-decoration-color: #7f7f7f\">:</span><a href=\"file:///home/alphan/projects/python_scripts/clean-rtt/venv/lib/python3.10/site-packages/paramiko/transport.py#1893\" target=\"_blank\"><span style=\"color: #7f7f7f; text-decoration-color: #7f7f7f\">1893</span></a>\n",
       "</pre>\n"
      ],
      "text/plain": [
       "\u001b[34mINFO    \u001b[0m Authentication \u001b[1m(\u001b[0mpublickey\u001b[1m)\u001b[0m successful!                             \u001b]8;id=426686;file:///home/alphan/projects/python_scripts/clean-rtt/venv/lib/python3.10/site-packages/paramiko/transport.py\u001b\\\u001b[2mtransport.py\u001b[0m\u001b]8;;\u001b\\\u001b[2m:\u001b[0m\u001b]8;id=906754;file:///home/alphan/projects/python_scripts/clean-rtt/venv/lib/python3.10/site-packages/paramiko/transport.py#1893\u001b\\\u001b[2m1893\u001b[0m\u001b]8;;\u001b\\\n"
      ]
     },
     "metadata": {},
     "output_type": "display_data"
    },
    {
     "data": {
      "text/html": [
       "<pre style=\"white-space:pre;overflow-x:auto;line-height:normal;font-family:Menlo,'DejaVu Sans Mono',consolas,'Courier New',monospace\"><span style=\"color: #000080; text-decoration-color: #000080\">INFO    </span> <span style=\"font-weight: bold\">[</span>chan <span style=\"color: #008080; text-decoration-color: #008080; font-weight: bold\">0</span><span style=\"font-weight: bold\">]</span> Opened sftp connection <span style=\"font-weight: bold\">(</span>server version <span style=\"color: #008080; text-decoration-color: #008080; font-weight: bold\">3</span><span style=\"font-weight: bold\">)</span>                       <a href=\"file:///home/alphan/projects/python_scripts/clean-rtt/venv/lib/python3.10/site-packages/paramiko/sftp.py\" target=\"_blank\"><span style=\"color: #7f7f7f; text-decoration-color: #7f7f7f\">sftp.py</span></a><span style=\"color: #7f7f7f; text-decoration-color: #7f7f7f\">:</span><a href=\"file:///home/alphan/projects/python_scripts/clean-rtt/venv/lib/python3.10/site-packages/paramiko/sftp.py#169\" target=\"_blank\"><span style=\"color: #7f7f7f; text-decoration-color: #7f7f7f\">169</span></a>\n",
       "</pre>\n"
      ],
      "text/plain": [
       "\u001b[34mINFO    \u001b[0m \u001b[1m[\u001b[0mchan \u001b[1;36m0\u001b[0m\u001b[1m]\u001b[0m Opened sftp connection \u001b[1m(\u001b[0mserver version \u001b[1;36m3\u001b[0m\u001b[1m)\u001b[0m                       \u001b]8;id=228545;file:///home/alphan/projects/python_scripts/clean-rtt/venv/lib/python3.10/site-packages/paramiko/sftp.py\u001b\\\u001b[2msftp.py\u001b[0m\u001b]8;;\u001b\\\u001b[2m:\u001b[0m\u001b]8;id=396114;file:///home/alphan/projects/python_scripts/clean-rtt/venv/lib/python3.10/site-packages/paramiko/sftp.py#169\u001b\\\u001b[2m169\u001b[0m\u001b]8;;\u001b\\\n"
      ]
     },
     "metadata": {},
     "output_type": "display_data"
    },
    {
     "data": {
      "text/html": [
       "<pre style=\"white-space:pre;overflow-x:auto;line-height:normal;font-family:Menlo,'DejaVu Sans Mono',consolas,'Courier New',monospace\"><span style=\"color: #000080; text-decoration-color: #000080\">INFO    </span> <span style=\"font-weight: bold\">[</span>chan <span style=\"color: #008080; text-decoration-color: #008080; font-weight: bold\">0</span><span style=\"font-weight: bold\">]</span> sftp session closed.                                            <a href=\"file:///home/alphan/projects/python_scripts/clean-rtt/venv/lib/python3.10/site-packages/paramiko/sftp.py\" target=\"_blank\"><span style=\"color: #7f7f7f; text-decoration-color: #7f7f7f\">sftp.py</span></a><span style=\"color: #7f7f7f; text-decoration-color: #7f7f7f\">:</span><a href=\"file:///home/alphan/projects/python_scripts/clean-rtt/venv/lib/python3.10/site-packages/paramiko/sftp.py#169\" target=\"_blank\"><span style=\"color: #7f7f7f; text-decoration-color: #7f7f7f\">169</span></a>\n",
       "</pre>\n"
      ],
      "text/plain": [
       "\u001b[34mINFO    \u001b[0m \u001b[1m[\u001b[0mchan \u001b[1;36m0\u001b[0m\u001b[1m]\u001b[0m sftp session closed.                                            \u001b]8;id=636164;file:///home/alphan/projects/python_scripts/clean-rtt/venv/lib/python3.10/site-packages/paramiko/sftp.py\u001b\\\u001b[2msftp.py\u001b[0m\u001b]8;;\u001b\\\u001b[2m:\u001b[0m\u001b]8;id=506852;file:///home/alphan/projects/python_scripts/clean-rtt/venv/lib/python3.10/site-packages/paramiko/sftp.py#169\u001b\\\u001b[2m169\u001b[0m\u001b]8;;\u001b\\\n"
      ]
     },
     "metadata": {},
     "output_type": "display_data"
    },
    {
     "name": "stdout",
     "output_type": "stream",
     "text": [
      "linux-grenoble: Reading the ping results.\n",
      "linux-grenoble: 27450 measurements received!\n",
      "linux-grenoble: Deleting the fetched ping measurements on site.\n",
      "linux-grenoble: Openning connection to grenoble\n"
     ]
    },
    {
     "data": {
      "text/html": [
       "<pre style=\"white-space:pre;overflow-x:auto;line-height:normal;font-family:Menlo,'DejaVu Sans Mono',consolas,'Courier New',monospace\"><span style=\"color: #000080; text-decoration-color: #000080\">INFO    </span> Connected <span style=\"font-weight: bold\">(</span>version <span style=\"color: #008080; text-decoration-color: #008080; font-weight: bold\">2.0</span>, client OpenSSH_7.9p1<span style=\"font-weight: bold\">)</span>                      <a href=\"file:///home/alphan/projects/python_scripts/clean-rtt/venv/lib/python3.10/site-packages/paramiko/transport.py\" target=\"_blank\"><span style=\"color: #7f7f7f; text-decoration-color: #7f7f7f\">transport.py</span></a><span style=\"color: #7f7f7f; text-decoration-color: #7f7f7f\">:</span><a href=\"file:///home/alphan/projects/python_scripts/clean-rtt/venv/lib/python3.10/site-packages/paramiko/transport.py#1893\" target=\"_blank\"><span style=\"color: #7f7f7f; text-decoration-color: #7f7f7f\">1893</span></a>\n",
       "</pre>\n"
      ],
      "text/plain": [
       "\u001b[34mINFO    \u001b[0m Connected \u001b[1m(\u001b[0mversion \u001b[1;36m2.0\u001b[0m, client OpenSSH_7.9p1\u001b[1m)\u001b[0m                      \u001b]8;id=981898;file:///home/alphan/projects/python_scripts/clean-rtt/venv/lib/python3.10/site-packages/paramiko/transport.py\u001b\\\u001b[2mtransport.py\u001b[0m\u001b]8;;\u001b\\\u001b[2m:\u001b[0m\u001b]8;id=382525;file:///home/alphan/projects/python_scripts/clean-rtt/venv/lib/python3.10/site-packages/paramiko/transport.py#1893\u001b\\\u001b[2m1893\u001b[0m\u001b]8;;\u001b\\\n"
      ]
     },
     "metadata": {},
     "output_type": "display_data"
    },
    {
     "data": {
      "text/html": [
       "<pre style=\"white-space:pre;overflow-x:auto;line-height:normal;font-family:Menlo,'DejaVu Sans Mono',consolas,'Courier New',monospace\"><span style=\"color: #000080; text-decoration-color: #000080\">INFO    </span> Authentication <span style=\"font-weight: bold\">(</span>publickey<span style=\"font-weight: bold\">)</span> successful!                             <a href=\"file:///home/alphan/projects/python_scripts/clean-rtt/venv/lib/python3.10/site-packages/paramiko/transport.py\" target=\"_blank\"><span style=\"color: #7f7f7f; text-decoration-color: #7f7f7f\">transport.py</span></a><span style=\"color: #7f7f7f; text-decoration-color: #7f7f7f\">:</span><a href=\"file:///home/alphan/projects/python_scripts/clean-rtt/venv/lib/python3.10/site-packages/paramiko/transport.py#1893\" target=\"_blank\"><span style=\"color: #7f7f7f; text-decoration-color: #7f7f7f\">1893</span></a>\n",
       "</pre>\n"
      ],
      "text/plain": [
       "\u001b[34mINFO    \u001b[0m Authentication \u001b[1m(\u001b[0mpublickey\u001b[1m)\u001b[0m successful!                             \u001b]8;id=92039;file:///home/alphan/projects/python_scripts/clean-rtt/venv/lib/python3.10/site-packages/paramiko/transport.py\u001b\\\u001b[2mtransport.py\u001b[0m\u001b]8;;\u001b\\\u001b[2m:\u001b[0m\u001b]8;id=175471;file:///home/alphan/projects/python_scripts/clean-rtt/venv/lib/python3.10/site-packages/paramiko/transport.py#1893\u001b\\\u001b[2m1893\u001b[0m\u001b]8;;\u001b\\\n"
      ]
     },
     "metadata": {},
     "output_type": "display_data"
    },
    {
     "name": "stdout",
     "output_type": "stream",
     "text": [
      "linux-grenoble: Deleting the local fetched ping measurements.\n",
      "linux-grenoble: Getting the ping results.\n",
      "linux-grenoble: Openning connection to grenoble\n",
      "/home/alphan/projects/python_scripts/clean-rtt\n",
      "remote path: ~/ping_experiments/linux_2/ping_measurements.json\n"
     ]
    },
    {
     "data": {
      "text/html": [
       "<pre style=\"white-space:pre;overflow-x:auto;line-height:normal;font-family:Menlo,'DejaVu Sans Mono',consolas,'Courier New',monospace\"><span style=\"color: #000080; text-decoration-color: #000080\">INFO    </span> Connected <span style=\"font-weight: bold\">(</span>version <span style=\"color: #008080; text-decoration-color: #008080; font-weight: bold\">2.0</span>, client OpenSSH_7.9p1<span style=\"font-weight: bold\">)</span>                      <a href=\"file:///home/alphan/projects/python_scripts/clean-rtt/venv/lib/python3.10/site-packages/paramiko/transport.py\" target=\"_blank\"><span style=\"color: #7f7f7f; text-decoration-color: #7f7f7f\">transport.py</span></a><span style=\"color: #7f7f7f; text-decoration-color: #7f7f7f\">:</span><a href=\"file:///home/alphan/projects/python_scripts/clean-rtt/venv/lib/python3.10/site-packages/paramiko/transport.py#1893\" target=\"_blank\"><span style=\"color: #7f7f7f; text-decoration-color: #7f7f7f\">1893</span></a>\n",
       "</pre>\n"
      ],
      "text/plain": [
       "\u001b[34mINFO    \u001b[0m Connected \u001b[1m(\u001b[0mversion \u001b[1;36m2.0\u001b[0m, client OpenSSH_7.9p1\u001b[1m)\u001b[0m                      \u001b]8;id=586258;file:///home/alphan/projects/python_scripts/clean-rtt/venv/lib/python3.10/site-packages/paramiko/transport.py\u001b\\\u001b[2mtransport.py\u001b[0m\u001b]8;;\u001b\\\u001b[2m:\u001b[0m\u001b]8;id=906178;file:///home/alphan/projects/python_scripts/clean-rtt/venv/lib/python3.10/site-packages/paramiko/transport.py#1893\u001b\\\u001b[2m1893\u001b[0m\u001b]8;;\u001b\\\n"
      ]
     },
     "metadata": {},
     "output_type": "display_data"
    },
    {
     "data": {
      "text/html": [
       "<pre style=\"white-space:pre;overflow-x:auto;line-height:normal;font-family:Menlo,'DejaVu Sans Mono',consolas,'Courier New',monospace\"><span style=\"color: #000080; text-decoration-color: #000080\">INFO    </span> Authentication <span style=\"font-weight: bold\">(</span>publickey<span style=\"font-weight: bold\">)</span> successful!                             <a href=\"file:///home/alphan/projects/python_scripts/clean-rtt/venv/lib/python3.10/site-packages/paramiko/transport.py\" target=\"_blank\"><span style=\"color: #7f7f7f; text-decoration-color: #7f7f7f\">transport.py</span></a><span style=\"color: #7f7f7f; text-decoration-color: #7f7f7f\">:</span><a href=\"file:///home/alphan/projects/python_scripts/clean-rtt/venv/lib/python3.10/site-packages/paramiko/transport.py#1893\" target=\"_blank\"><span style=\"color: #7f7f7f; text-decoration-color: #7f7f7f\">1893</span></a>\n",
       "</pre>\n"
      ],
      "text/plain": [
       "\u001b[34mINFO    \u001b[0m Authentication \u001b[1m(\u001b[0mpublickey\u001b[1m)\u001b[0m successful!                             \u001b]8;id=754449;file:///home/alphan/projects/python_scripts/clean-rtt/venv/lib/python3.10/site-packages/paramiko/transport.py\u001b\\\u001b[2mtransport.py\u001b[0m\u001b]8;;\u001b\\\u001b[2m:\u001b[0m\u001b]8;id=998797;file:///home/alphan/projects/python_scripts/clean-rtt/venv/lib/python3.10/site-packages/paramiko/transport.py#1893\u001b\\\u001b[2m1893\u001b[0m\u001b]8;;\u001b\\\n"
      ]
     },
     "metadata": {},
     "output_type": "display_data"
    },
    {
     "data": {
      "text/html": [
       "<pre style=\"white-space:pre;overflow-x:auto;line-height:normal;font-family:Menlo,'DejaVu Sans Mono',consolas,'Courier New',monospace\"><span style=\"color: #000080; text-decoration-color: #000080\">INFO    </span> <span style=\"font-weight: bold\">[</span>chan <span style=\"color: #008080; text-decoration-color: #008080; font-weight: bold\">0</span><span style=\"font-weight: bold\">]</span> Opened sftp connection <span style=\"font-weight: bold\">(</span>server version <span style=\"color: #008080; text-decoration-color: #008080; font-weight: bold\">3</span><span style=\"font-weight: bold\">)</span>                       <a href=\"file:///home/alphan/projects/python_scripts/clean-rtt/venv/lib/python3.10/site-packages/paramiko/sftp.py\" target=\"_blank\"><span style=\"color: #7f7f7f; text-decoration-color: #7f7f7f\">sftp.py</span></a><span style=\"color: #7f7f7f; text-decoration-color: #7f7f7f\">:</span><a href=\"file:///home/alphan/projects/python_scripts/clean-rtt/venv/lib/python3.10/site-packages/paramiko/sftp.py#169\" target=\"_blank\"><span style=\"color: #7f7f7f; text-decoration-color: #7f7f7f\">169</span></a>\n",
       "</pre>\n"
      ],
      "text/plain": [
       "\u001b[34mINFO    \u001b[0m \u001b[1m[\u001b[0mchan \u001b[1;36m0\u001b[0m\u001b[1m]\u001b[0m Opened sftp connection \u001b[1m(\u001b[0mserver version \u001b[1;36m3\u001b[0m\u001b[1m)\u001b[0m                       \u001b]8;id=619709;file:///home/alphan/projects/python_scripts/clean-rtt/venv/lib/python3.10/site-packages/paramiko/sftp.py\u001b\\\u001b[2msftp.py\u001b[0m\u001b]8;;\u001b\\\u001b[2m:\u001b[0m\u001b]8;id=410174;file:///home/alphan/projects/python_scripts/clean-rtt/venv/lib/python3.10/site-packages/paramiko/sftp.py#169\u001b\\\u001b[2m169\u001b[0m\u001b]8;;\u001b\\\n"
      ]
     },
     "metadata": {},
     "output_type": "display_data"
    },
    {
     "data": {
      "text/html": [
       "<pre style=\"white-space:pre;overflow-x:auto;line-height:normal;font-family:Menlo,'DejaVu Sans Mono',consolas,'Courier New',monospace\"><span style=\"color: #000080; text-decoration-color: #000080\">INFO    </span> <span style=\"font-weight: bold\">[</span>chan <span style=\"color: #008080; text-decoration-color: #008080; font-weight: bold\">0</span><span style=\"font-weight: bold\">]</span> sftp session closed.                                            <a href=\"file:///home/alphan/projects/python_scripts/clean-rtt/venv/lib/python3.10/site-packages/paramiko/sftp.py\" target=\"_blank\"><span style=\"color: #7f7f7f; text-decoration-color: #7f7f7f\">sftp.py</span></a><span style=\"color: #7f7f7f; text-decoration-color: #7f7f7f\">:</span><a href=\"file:///home/alphan/projects/python_scripts/clean-rtt/venv/lib/python3.10/site-packages/paramiko/sftp.py#169\" target=\"_blank\"><span style=\"color: #7f7f7f; text-decoration-color: #7f7f7f\">169</span></a>\n",
       "</pre>\n"
      ],
      "text/plain": [
       "\u001b[34mINFO    \u001b[0m \u001b[1m[\u001b[0mchan \u001b[1;36m0\u001b[0m\u001b[1m]\u001b[0m sftp session closed.                                            \u001b]8;id=879430;file:///home/alphan/projects/python_scripts/clean-rtt/venv/lib/python3.10/site-packages/paramiko/sftp.py\u001b\\\u001b[2msftp.py\u001b[0m\u001b]8;;\u001b\\\u001b[2m:\u001b[0m\u001b]8;id=768003;file:///home/alphan/projects/python_scripts/clean-rtt/venv/lib/python3.10/site-packages/paramiko/sftp.py#169\u001b\\\u001b[2m169\u001b[0m\u001b]8;;\u001b\\\n"
      ]
     },
     "metadata": {},
     "output_type": "display_data"
    },
    {
     "name": "stdout",
     "output_type": "stream",
     "text": [
      "linux-grenoble: Reading the ping results.\n",
      "linux-grenoble: 27450 measurements received!\n",
      "linux-grenoble: Deleting the fetched ping measurements on site.\n",
      "linux-grenoble: Openning connection to grenoble\n"
     ]
    },
    {
     "data": {
      "text/html": [
       "<pre style=\"white-space:pre;overflow-x:auto;line-height:normal;font-family:Menlo,'DejaVu Sans Mono',consolas,'Courier New',monospace\"><span style=\"color: #000080; text-decoration-color: #000080\">INFO    </span> Connected <span style=\"font-weight: bold\">(</span>version <span style=\"color: #008080; text-decoration-color: #008080; font-weight: bold\">2.0</span>, client OpenSSH_7.9p1<span style=\"font-weight: bold\">)</span>                      <a href=\"file:///home/alphan/projects/python_scripts/clean-rtt/venv/lib/python3.10/site-packages/paramiko/transport.py\" target=\"_blank\"><span style=\"color: #7f7f7f; text-decoration-color: #7f7f7f\">transport.py</span></a><span style=\"color: #7f7f7f; text-decoration-color: #7f7f7f\">:</span><a href=\"file:///home/alphan/projects/python_scripts/clean-rtt/venv/lib/python3.10/site-packages/paramiko/transport.py#1893\" target=\"_blank\"><span style=\"color: #7f7f7f; text-decoration-color: #7f7f7f\">1893</span></a>\n",
       "</pre>\n"
      ],
      "text/plain": [
       "\u001b[34mINFO    \u001b[0m Connected \u001b[1m(\u001b[0mversion \u001b[1;36m2.0\u001b[0m, client OpenSSH_7.9p1\u001b[1m)\u001b[0m                      \u001b]8;id=918053;file:///home/alphan/projects/python_scripts/clean-rtt/venv/lib/python3.10/site-packages/paramiko/transport.py\u001b\\\u001b[2mtransport.py\u001b[0m\u001b]8;;\u001b\\\u001b[2m:\u001b[0m\u001b]8;id=837960;file:///home/alphan/projects/python_scripts/clean-rtt/venv/lib/python3.10/site-packages/paramiko/transport.py#1893\u001b\\\u001b[2m1893\u001b[0m\u001b]8;;\u001b\\\n"
      ]
     },
     "metadata": {},
     "output_type": "display_data"
    },
    {
     "data": {
      "text/html": [
       "<pre style=\"white-space:pre;overflow-x:auto;line-height:normal;font-family:Menlo,'DejaVu Sans Mono',consolas,'Courier New',monospace\"><span style=\"color: #000080; text-decoration-color: #000080\">INFO    </span> Authentication <span style=\"font-weight: bold\">(</span>publickey<span style=\"font-weight: bold\">)</span> successful!                             <a href=\"file:///home/alphan/projects/python_scripts/clean-rtt/venv/lib/python3.10/site-packages/paramiko/transport.py\" target=\"_blank\"><span style=\"color: #7f7f7f; text-decoration-color: #7f7f7f\">transport.py</span></a><span style=\"color: #7f7f7f; text-decoration-color: #7f7f7f\">:</span><a href=\"file:///home/alphan/projects/python_scripts/clean-rtt/venv/lib/python3.10/site-packages/paramiko/transport.py#1893\" target=\"_blank\"><span style=\"color: #7f7f7f; text-decoration-color: #7f7f7f\">1893</span></a>\n",
       "</pre>\n"
      ],
      "text/plain": [
       "\u001b[34mINFO    \u001b[0m Authentication \u001b[1m(\u001b[0mpublickey\u001b[1m)\u001b[0m successful!                             \u001b]8;id=274015;file:///home/alphan/projects/python_scripts/clean-rtt/venv/lib/python3.10/site-packages/paramiko/transport.py\u001b\\\u001b[2mtransport.py\u001b[0m\u001b]8;;\u001b\\\u001b[2m:\u001b[0m\u001b]8;id=284811;file:///home/alphan/projects/python_scripts/clean-rtt/venv/lib/python3.10/site-packages/paramiko/transport.py#1893\u001b\\\u001b[2m1893\u001b[0m\u001b]8;;\u001b\\\n"
      ]
     },
     "metadata": {},
     "output_type": "display_data"
    },
    {
     "name": "stdout",
     "output_type": "stream",
     "text": [
      "linux-grenoble: Deleting the local fetched ping measurements.\n"
     ]
    }
   ],
   "source": [
    "promise_paris = linux_paris.digest_new_measurements()\n",
    "promise_saclay = linux_saclay.digest_new_measurements()\n",
    "promise_strasbourg = linux_strasbourg.digest_new_measurements()\n",
    "promise_grenoble_1 = linux_grenoble_1.digest_new_measurements()\n",
    "promise_grenoble_2 = linux_grenoble_2.digest_new_measurements()"
   ]
  },
  {
   "cell_type": "code",
   "execution_count": 7,
   "id": "d2618481-44c3-436a-9851-08a3d5439844",
   "metadata": {},
   "outputs": [
    {
     "name": "stdout",
     "output_type": "stream",
     "text": [
      "Measurements from linux_strasbourg_1 are complete.\n",
      "3 awaiting measurements for linux_saclay_1.\n",
      "14 awaiting measurements for linux_grenoble_1.\n",
      "2760 awaiting measurements for linux_grenoble_2.\n",
      "Measurements from linux_paris_1 are complete.\n"
     ]
    }
   ],
   "source": [
    "for k, v in central.site_coordinators.items():\n",
    "    if len(v.awaiting_ping_measurements) == 0:\n",
    "        print(f\"Measurements from {k} are complete.\")\n",
    "    else:\n",
    "        print(f\"{len(v.awaiting_ping_measurements)} awaiting measurements for {k}.\")"
   ]
  },
  {
   "cell_type": "code",
   "execution_count": 8,
   "id": "cdc25678-07d9-4ea7-b75a-d603a316f68d",
   "metadata": {},
   "outputs": [
    {
     "name": "stdout",
     "output_type": "stream",
     "text": [
      "linux-grenoble: Starting the retry ping round.\n",
      "linux-grenoble: Sending the missing measurements.json.\n",
      "linux-grenoble: Calculating the missing measurements..\n",
      "linux-grenoble: Deleting the missing ping measurements on site.\n",
      "linux-grenoble: Openning connection to grenoble\n"
     ]
    },
    {
     "data": {
      "text/html": [
       "<pre style=\"white-space:pre;overflow-x:auto;line-height:normal;font-family:Menlo,'DejaVu Sans Mono',consolas,'Courier New',monospace\"><span style=\"color: #000080; text-decoration-color: #000080\">INFO    </span> Connected <span style=\"font-weight: bold\">(</span>version <span style=\"color: #008080; text-decoration-color: #008080; font-weight: bold\">2.0</span>, client OpenSSH_7.9p1<span style=\"font-weight: bold\">)</span>                      <a href=\"file:///home/alphan/projects/python_scripts/clean-rtt/venv/lib/python3.10/site-packages/paramiko/transport.py\" target=\"_blank\"><span style=\"color: #7f7f7f; text-decoration-color: #7f7f7f\">transport.py</span></a><span style=\"color: #7f7f7f; text-decoration-color: #7f7f7f\">:</span><a href=\"file:///home/alphan/projects/python_scripts/clean-rtt/venv/lib/python3.10/site-packages/paramiko/transport.py#1893\" target=\"_blank\"><span style=\"color: #7f7f7f; text-decoration-color: #7f7f7f\">1893</span></a>\n",
       "</pre>\n"
      ],
      "text/plain": [
       "\u001b[34mINFO    \u001b[0m Connected \u001b[1m(\u001b[0mversion \u001b[1;36m2.0\u001b[0m, client OpenSSH_7.9p1\u001b[1m)\u001b[0m                      \u001b]8;id=770276;file:///home/alphan/projects/python_scripts/clean-rtt/venv/lib/python3.10/site-packages/paramiko/transport.py\u001b\\\u001b[2mtransport.py\u001b[0m\u001b]8;;\u001b\\\u001b[2m:\u001b[0m\u001b]8;id=590951;file:///home/alphan/projects/python_scripts/clean-rtt/venv/lib/python3.10/site-packages/paramiko/transport.py#1893\u001b\\\u001b[2m1893\u001b[0m\u001b]8;;\u001b\\\n"
      ]
     },
     "metadata": {},
     "output_type": "display_data"
    },
    {
     "data": {
      "text/html": [
       "<pre style=\"white-space:pre;overflow-x:auto;line-height:normal;font-family:Menlo,'DejaVu Sans Mono',consolas,'Courier New',monospace\"><span style=\"color: #000080; text-decoration-color: #000080\">INFO    </span> Authentication <span style=\"font-weight: bold\">(</span>publickey<span style=\"font-weight: bold\">)</span> successful!                             <a href=\"file:///home/alphan/projects/python_scripts/clean-rtt/venv/lib/python3.10/site-packages/paramiko/transport.py\" target=\"_blank\"><span style=\"color: #7f7f7f; text-decoration-color: #7f7f7f\">transport.py</span></a><span style=\"color: #7f7f7f; text-decoration-color: #7f7f7f\">:</span><a href=\"file:///home/alphan/projects/python_scripts/clean-rtt/venv/lib/python3.10/site-packages/paramiko/transport.py#1893\" target=\"_blank\"><span style=\"color: #7f7f7f; text-decoration-color: #7f7f7f\">1893</span></a>\n",
       "</pre>\n"
      ],
      "text/plain": [
       "\u001b[34mINFO    \u001b[0m Authentication \u001b[1m(\u001b[0mpublickey\u001b[1m)\u001b[0m successful!                             \u001b]8;id=126409;file:///home/alphan/projects/python_scripts/clean-rtt/venv/lib/python3.10/site-packages/paramiko/transport.py\u001b\\\u001b[2mtransport.py\u001b[0m\u001b]8;;\u001b\\\u001b[2m:\u001b[0m\u001b]8;id=731422;file:///home/alphan/projects/python_scripts/clean-rtt/venv/lib/python3.10/site-packages/paramiko/transport.py#1893\u001b\\\u001b[2m1893\u001b[0m\u001b]8;;\u001b\\\n"
      ]
     },
     "metadata": {},
     "output_type": "display_data"
    },
    {
     "name": "stdout",
     "output_type": "stream",
     "text": [
      "linux-grenoble: Deleting missing measurements on local.\n",
      "linux-grenoble: Writing missing measurements on local.\n",
      "linux-grenoble: Putting the missing_measurements.json to site.\n",
      "linux-grenoble: Openning connection to grenoble\n"
     ]
    },
    {
     "data": {
      "text/html": [
       "<pre style=\"white-space:pre;overflow-x:auto;line-height:normal;font-family:Menlo,'DejaVu Sans Mono',consolas,'Courier New',monospace\"><span style=\"color: #000080; text-decoration-color: #000080\">INFO    </span> Connected <span style=\"font-weight: bold\">(</span>version <span style=\"color: #008080; text-decoration-color: #008080; font-weight: bold\">2.0</span>, client OpenSSH_7.9p1<span style=\"font-weight: bold\">)</span>                      <a href=\"file:///home/alphan/projects/python_scripts/clean-rtt/venv/lib/python3.10/site-packages/paramiko/transport.py\" target=\"_blank\"><span style=\"color: #7f7f7f; text-decoration-color: #7f7f7f\">transport.py</span></a><span style=\"color: #7f7f7f; text-decoration-color: #7f7f7f\">:</span><a href=\"file:///home/alphan/projects/python_scripts/clean-rtt/venv/lib/python3.10/site-packages/paramiko/transport.py#1893\" target=\"_blank\"><span style=\"color: #7f7f7f; text-decoration-color: #7f7f7f\">1893</span></a>\n",
       "</pre>\n"
      ],
      "text/plain": [
       "\u001b[34mINFO    \u001b[0m Connected \u001b[1m(\u001b[0mversion \u001b[1;36m2.0\u001b[0m, client OpenSSH_7.9p1\u001b[1m)\u001b[0m                      \u001b]8;id=309849;file:///home/alphan/projects/python_scripts/clean-rtt/venv/lib/python3.10/site-packages/paramiko/transport.py\u001b\\\u001b[2mtransport.py\u001b[0m\u001b]8;;\u001b\\\u001b[2m:\u001b[0m\u001b]8;id=63101;file:///home/alphan/projects/python_scripts/clean-rtt/venv/lib/python3.10/site-packages/paramiko/transport.py#1893\u001b\\\u001b[2m1893\u001b[0m\u001b]8;;\u001b\\\n"
      ]
     },
     "metadata": {},
     "output_type": "display_data"
    },
    {
     "data": {
      "text/html": [
       "<pre style=\"white-space:pre;overflow-x:auto;line-height:normal;font-family:Menlo,'DejaVu Sans Mono',consolas,'Courier New',monospace\"><span style=\"color: #000080; text-decoration-color: #000080\">INFO    </span> Authentication <span style=\"font-weight: bold\">(</span>publickey<span style=\"font-weight: bold\">)</span> successful!                             <a href=\"file:///home/alphan/projects/python_scripts/clean-rtt/venv/lib/python3.10/site-packages/paramiko/transport.py\" target=\"_blank\"><span style=\"color: #7f7f7f; text-decoration-color: #7f7f7f\">transport.py</span></a><span style=\"color: #7f7f7f; text-decoration-color: #7f7f7f\">:</span><a href=\"file:///home/alphan/projects/python_scripts/clean-rtt/venv/lib/python3.10/site-packages/paramiko/transport.py#1893\" target=\"_blank\"><span style=\"color: #7f7f7f; text-decoration-color: #7f7f7f\">1893</span></a>\n",
       "</pre>\n"
      ],
      "text/plain": [
       "\u001b[34mINFO    \u001b[0m Authentication \u001b[1m(\u001b[0mpublickey\u001b[1m)\u001b[0m successful!                             \u001b]8;id=913757;file:///home/alphan/projects/python_scripts/clean-rtt/venv/lib/python3.10/site-packages/paramiko/transport.py\u001b\\\u001b[2mtransport.py\u001b[0m\u001b]8;;\u001b\\\u001b[2m:\u001b[0m\u001b]8;id=116925;file:///home/alphan/projects/python_scripts/clean-rtt/venv/lib/python3.10/site-packages/paramiko/transport.py#1893\u001b\\\u001b[2m1893\u001b[0m\u001b]8;;\u001b\\\n"
      ]
     },
     "metadata": {},
     "output_type": "display_data"
    },
    {
     "data": {
      "text/html": [
       "<pre style=\"white-space:pre;overflow-x:auto;line-height:normal;font-family:Menlo,'DejaVu Sans Mono',consolas,'Courier New',monospace\"><span style=\"color: #000080; text-decoration-color: #000080\">INFO    </span> <span style=\"font-weight: bold\">[</span>chan <span style=\"color: #008080; text-decoration-color: #008080; font-weight: bold\">0</span><span style=\"font-weight: bold\">]</span> Opened sftp connection <span style=\"font-weight: bold\">(</span>server version <span style=\"color: #008080; text-decoration-color: #008080; font-weight: bold\">3</span><span style=\"font-weight: bold\">)</span>                       <a href=\"file:///home/alphan/projects/python_scripts/clean-rtt/venv/lib/python3.10/site-packages/paramiko/sftp.py\" target=\"_blank\"><span style=\"color: #7f7f7f; text-decoration-color: #7f7f7f\">sftp.py</span></a><span style=\"color: #7f7f7f; text-decoration-color: #7f7f7f\">:</span><a href=\"file:///home/alphan/projects/python_scripts/clean-rtt/venv/lib/python3.10/site-packages/paramiko/sftp.py#169\" target=\"_blank\"><span style=\"color: #7f7f7f; text-decoration-color: #7f7f7f\">169</span></a>\n",
       "</pre>\n"
      ],
      "text/plain": [
       "\u001b[34mINFO    \u001b[0m \u001b[1m[\u001b[0mchan \u001b[1;36m0\u001b[0m\u001b[1m]\u001b[0m Opened sftp connection \u001b[1m(\u001b[0mserver version \u001b[1;36m3\u001b[0m\u001b[1m)\u001b[0m                       \u001b]8;id=650996;file:///home/alphan/projects/python_scripts/clean-rtt/venv/lib/python3.10/site-packages/paramiko/sftp.py\u001b\\\u001b[2msftp.py\u001b[0m\u001b]8;;\u001b\\\u001b[2m:\u001b[0m\u001b]8;id=694529;file:///home/alphan/projects/python_scripts/clean-rtt/venv/lib/python3.10/site-packages/paramiko/sftp.py#169\u001b\\\u001b[2m169\u001b[0m\u001b]8;;\u001b\\\n"
      ]
     },
     "metadata": {},
     "output_type": "display_data"
    },
    {
     "data": {
      "text/html": [
       "<pre style=\"white-space:pre;overflow-x:auto;line-height:normal;font-family:Menlo,'DejaVu Sans Mono',consolas,'Courier New',monospace\"><span style=\"color: #000080; text-decoration-color: #000080\">INFO    </span> <span style=\"font-weight: bold\">[</span>chan <span style=\"color: #008080; text-decoration-color: #008080; font-weight: bold\">0</span><span style=\"font-weight: bold\">]</span> sftp session closed.                                            <a href=\"file:///home/alphan/projects/python_scripts/clean-rtt/venv/lib/python3.10/site-packages/paramiko/sftp.py\" target=\"_blank\"><span style=\"color: #7f7f7f; text-decoration-color: #7f7f7f\">sftp.py</span></a><span style=\"color: #7f7f7f; text-decoration-color: #7f7f7f\">:</span><a href=\"file:///home/alphan/projects/python_scripts/clean-rtt/venv/lib/python3.10/site-packages/paramiko/sftp.py#169\" target=\"_blank\"><span style=\"color: #7f7f7f; text-decoration-color: #7f7f7f\">169</span></a>\n",
       "</pre>\n"
      ],
      "text/plain": [
       "\u001b[34mINFO    \u001b[0m \u001b[1m[\u001b[0mchan \u001b[1;36m0\u001b[0m\u001b[1m]\u001b[0m sftp session closed.                                            \u001b]8;id=687364;file:///home/alphan/projects/python_scripts/clean-rtt/venv/lib/python3.10/site-packages/paramiko/sftp.py\u001b\\\u001b[2msftp.py\u001b[0m\u001b]8;;\u001b\\\u001b[2m:\u001b[0m\u001b]8;id=413210;file:///home/alphan/projects/python_scripts/clean-rtt/venv/lib/python3.10/site-packages/paramiko/sftp.py#169\u001b\\\u001b[2m169\u001b[0m\u001b]8;;\u001b\\\n"
      ]
     },
     "metadata": {},
     "output_type": "display_data"
    },
    {
     "name": "stdout",
     "output_type": "stream",
     "text": [
      "linux-grenoble: Openning connection to grenoble\n"
     ]
    },
    {
     "data": {
      "text/html": [
       "<pre style=\"white-space:pre;overflow-x:auto;line-height:normal;font-family:Menlo,'DejaVu Sans Mono',consolas,'Courier New',monospace\"><span style=\"color: #000080; text-decoration-color: #000080\">INFO    </span> Connected <span style=\"font-weight: bold\">(</span>version <span style=\"color: #008080; text-decoration-color: #008080; font-weight: bold\">2.0</span>, client OpenSSH_7.9p1<span style=\"font-weight: bold\">)</span>                      <a href=\"file:///home/alphan/projects/python_scripts/clean-rtt/venv/lib/python3.10/site-packages/paramiko/transport.py\" target=\"_blank\"><span style=\"color: #7f7f7f; text-decoration-color: #7f7f7f\">transport.py</span></a><span style=\"color: #7f7f7f; text-decoration-color: #7f7f7f\">:</span><a href=\"file:///home/alphan/projects/python_scripts/clean-rtt/venv/lib/python3.10/site-packages/paramiko/transport.py#1893\" target=\"_blank\"><span style=\"color: #7f7f7f; text-decoration-color: #7f7f7f\">1893</span></a>\n",
       "</pre>\n"
      ],
      "text/plain": [
       "\u001b[34mINFO    \u001b[0m Connected \u001b[1m(\u001b[0mversion \u001b[1;36m2.0\u001b[0m, client OpenSSH_7.9p1\u001b[1m)\u001b[0m                      \u001b]8;id=63054;file:///home/alphan/projects/python_scripts/clean-rtt/venv/lib/python3.10/site-packages/paramiko/transport.py\u001b\\\u001b[2mtransport.py\u001b[0m\u001b]8;;\u001b\\\u001b[2m:\u001b[0m\u001b]8;id=672580;file:///home/alphan/projects/python_scripts/clean-rtt/venv/lib/python3.10/site-packages/paramiko/transport.py#1893\u001b\\\u001b[2m1893\u001b[0m\u001b]8;;\u001b\\\n"
      ]
     },
     "metadata": {},
     "output_type": "display_data"
    },
    {
     "data": {
      "text/html": [
       "<pre style=\"white-space:pre;overflow-x:auto;line-height:normal;font-family:Menlo,'DejaVu Sans Mono',consolas,'Courier New',monospace\"><span style=\"color: #000080; text-decoration-color: #000080\">INFO    </span> Authentication <span style=\"font-weight: bold\">(</span>publickey<span style=\"font-weight: bold\">)</span> successful!                             <a href=\"file:///home/alphan/projects/python_scripts/clean-rtt/venv/lib/python3.10/site-packages/paramiko/transport.py\" target=\"_blank\"><span style=\"color: #7f7f7f; text-decoration-color: #7f7f7f\">transport.py</span></a><span style=\"color: #7f7f7f; text-decoration-color: #7f7f7f\">:</span><a href=\"file:///home/alphan/projects/python_scripts/clean-rtt/venv/lib/python3.10/site-packages/paramiko/transport.py#1893\" target=\"_blank\"><span style=\"color: #7f7f7f; text-decoration-color: #7f7f7f\">1893</span></a>\n",
       "</pre>\n"
      ],
      "text/plain": [
       "\u001b[34mINFO    \u001b[0m Authentication \u001b[1m(\u001b[0mpublickey\u001b[1m)\u001b[0m successful!                             \u001b]8;id=450857;file:///home/alphan/projects/python_scripts/clean-rtt/venv/lib/python3.10/site-packages/paramiko/transport.py\u001b\\\u001b[2mtransport.py\u001b[0m\u001b]8;;\u001b\\\u001b[2m:\u001b[0m\u001b]8;id=661463;file:///home/alphan/projects/python_scripts/clean-rtt/venv/lib/python3.10/site-packages/paramiko/transport.py#1893\u001b\\\u001b[2m1893\u001b[0m\u001b]8;;\u001b\\\n"
      ]
     },
     "metadata": {},
     "output_type": "display_data"
    },
    {
     "name": "stdout",
     "output_type": "stream",
     "text": [
      "Site: grenoble\n",
      "Reading all nodes\n",
      "Starting retry ping with 24 sources..\n",
      "In retry ping with node-a8-53.grenoble.iot-lab.info\n",
      "Number of destinations: 1\n",
      "Openning connection to node-a8-53.grenoble.iot-lab.info\n",
      "{'2001:660:330f:a27f::4': '11.815'}\n",
      "0. range of node-a8-53.grenoble.iot-lab.info is finished in 3.977471113204956 secs.\n",
      "In retry ping with node-a8-63.grenoble.iot-lab.info\n",
      "Number of destinations: 1\n",
      "Openning connection to node-a8-63.grenoble.iot-lab.info\n",
      "{'2001:660:330f:a27f::4': '11.355'}\n",
      "0. range of node-a8-63.grenoble.iot-lab.info is finished in 3.9606664180755615 secs.\n",
      "In retry ping with node-a8-64.grenoble.iot-lab.info\n",
      "Number of destinations: 1\n",
      "Openning connection to node-a8-64.grenoble.iot-lab.info\n",
      "{'2001:660:330f:a27f::4': '11.427'}\n",
      "0. range of node-a8-64.grenoble.iot-lab.info is finished in 3.966923475265503 secs.\n",
      "In retry ping with node-a8-205.grenoble.iot-lab.info\n",
      "Number of destinations: 1\n",
      "Openning connection to node-a8-205.grenoble.iot-lab.info\n",
      "{'2001:660:330f:a27f::4': '11.543'}\n",
      "0. range of node-a8-205.grenoble.iot-lab.info is finished in 3.9142847061157227 secs.\n",
      "In retry ping with node-a8-71.grenoble.iot-lab.info\n",
      "Number of destinations: 1\n",
      "Openning connection to node-a8-71.grenoble.iot-lab.info\n",
      "{'2001:660:330f:a27f::4': '11.323'}\n",
      "0. range of node-a8-71.grenoble.iot-lab.info is finished in 3.94460129737854 secs.\n",
      "In retry ping with node-a8-202.grenoble.iot-lab.info\n",
      "Number of destinations: 1\n",
      "Openning connection to node-a8-202.grenoble.iot-lab.info\n",
      "{'2001:660:330f:a27f::4': '11.391'}\n",
      "0. range of node-a8-202.grenoble.iot-lab.info is finished in 3.9430549144744873 secs.\n",
      "In retry ping with node-a8-37.grenoble.iot-lab.info\n",
      "Number of destinations: 1\n",
      "Openning connection to node-a8-37.grenoble.iot-lab.info\n",
      "{'2001:660:330f:a27f::4': '11.342'}\n",
      "0. range of node-a8-37.grenoble.iot-lab.info is finished in 3.956188201904297 secs.\n",
      "In retry ping with node-a8-65.grenoble.iot-lab.info\n",
      "Number of destinations: 1\n",
      "Openning connection to node-a8-65.grenoble.iot-lab.info\n",
      "{'2001:660:330f:a27f::4': '11.600'}\n",
      "0. range of node-a8-65.grenoble.iot-lab.info is finished in 4.065532445907593 secs.\n",
      "In retry ping with node-a8-199.grenoble.iot-lab.info\n",
      "Number of destinations: 1\n",
      "Openning connection to node-a8-199.grenoble.iot-lab.info\n",
      "{'2001:660:330f:a27f::4': '11.404'}\n",
      "0. range of node-a8-199.grenoble.iot-lab.info is finished in 3.9606332778930664 secs.\n",
      "In retry ping with node-a8-61.grenoble.iot-lab.info\n",
      "Number of destinations: 1\n",
      "Openning connection to node-a8-61.grenoble.iot-lab.info\n",
      "{'2001:660:330f:a27f::4': '11.241'}\n",
      "0. range of node-a8-61.grenoble.iot-lab.info is finished in 3.9693307876586914 secs.\n",
      "In retry ping with node-a8-89.grenoble.iot-lab.info\n",
      "Number of destinations: 1\n",
      "Openning connection to node-a8-89.grenoble.iot-lab.info\n",
      "{'2001:660:330f:a27f::4': '12.273'}\n",
      "0. range of node-a8-89.grenoble.iot-lab.info is finished in 3.8977503776550293 secs.\n",
      "In retry ping with node-a8-80.grenoble.iot-lab.info\n",
      "Number of destinations: 1\n",
      "Openning connection to node-a8-80.grenoble.iot-lab.info\n",
      "{'2001:660:330f:a27f::4': '11.230'}\n",
      "0. range of node-a8-80.grenoble.iot-lab.info is finished in 3.9373483657836914 secs.\n",
      "In retry ping with node-a8-70.grenoble.iot-lab.info\n",
      "Number of destinations: 1\n",
      "Openning connection to node-a8-70.grenoble.iot-lab.info\n",
      "{'2001:660:330f:a27f::4': '11.298'}\n",
      "0. range of node-a8-70.grenoble.iot-lab.info is finished in 3.9078707695007324 secs.\n",
      "In retry ping with node-a8-95.grenoble.iot-lab.info\n",
      "Number of destinations: 1\n",
      "Openning connection to node-a8-95.grenoble.iot-lab.info\n",
      "{'2001:660:330f:a27f::4': '11.293'}\n",
      "0. range of node-a8-95.grenoble.iot-lab.info is finished in 4.638516902923584 secs.\n",
      "In retry ping with node-a8-44.grenoble.iot-lab.info\n",
      "Number of destinations: 1\n",
      "Openning connection to node-a8-44.grenoble.iot-lab.info\n",
      "{'2001:660:330f:a27f::4': '11.487'}\n",
      "0. range of node-a8-44.grenoble.iot-lab.info is finished in 3.92476224899292 secs.\n",
      "In retry ping with node-a8-22.grenoble.iot-lab.info\n",
      "Number of destinations: 305\n",
      "Openning connection to node-a8-22.grenoble.iot-lab.info\n",
      "{'2001:660:5307:30ff::5': '1.190', '2001:660:4403:47f::4': '13.889', '2001:660:330f:a27f::4': '11.038', '2001:660:3207:4bf::17': '11.894', '2a07:2e40:fffe:df::5': '11.679', '2a07:2e40:fffe:c0::3': '12.032', '2a07:2e40:fffe:c0::6': '12.140', '2a07:2e40:fffe:c0::7': '12.100', '2a07:2e40:fffe:c0::5': '12.129', '2a07:2e40:fffe:c0::a': '12.051', '2a07:2e40:fffe:c0::b': '12.085', '2a07:2e40:fffe:c0::9': '12.650', '2a07:2e40:fffe:c0::e': '12.149', '2a07:2e40:fffe:c0::c': '12.119', '2a07:2e40:fffe:c0::4': '12.053', '2a07:2e40:fffe:c0::2': '12.171', '2a07:2e40:fffe:c0::d': '12.924', '2a07:2e40:fffe:c0::8': '12.664', '2a07:2e40:fffe:c0::1': '12.136', '2001:660:3207:400::5b': '12.057'}\n",
      "0. range of node-a8-22.grenoble.iot-lab.info is finished in 4.682088851928711 secs.\n",
      "{'2001:660:3207:400::28': '12.143', '2001:660:3207:400::49': '11.980', '2001:660:3207:400::4a': '11.857', '2001:660:3207:400::67': '11.902', '2001:660:3207:400::48': '11.927', '2001:660:3207:400::2d': '11.723', '2001:660:3207:400::45': '11.897', '2001:660:3207:400::1f': '11.763', '2001:660:3207:400::2': '11.929', '2001:660:3207:400::b': '13.372', '2001:660:3207:400::10': '11.793', '2001:660:3207:400::11': '11.838', '2001:660:3207:400::22': '11.916', '2001:660:3207:400::5a': '11.937', '2001:660:3207:400::5c': '11.870', '2001:660:3207:400::3d': '11.891', '2001:660:3207:400::4b': '11.758', '2001:660:3207:400::4d': '12.009', '2001:660:3207:400::2c': '11.906', '2001:660:3207:400::30': '11.906'}\n",
      "1. range of node-a8-22.grenoble.iot-lab.info is finished in 4.209186553955078 secs.\n",
      "{'2001:660:3207:400::2b': '11.991', '2001:660:3207:400::4f': '11.741', '2001:660:3207:400::2a': '11.827', '2001:660:3207:400::3e': '11.781', '2001:660:3207:400::4c': '11.824', '2001:660:3207:400::47': '11.899', '2001:660:3207:400::26': '11.811', '2001:660:3207:400::43': '12.016', '2001:660:3207:400::27': '11.858', '2001:660:3207:400::42': '11.881', '2001:660:3207:400::24': '11.822', '2001:660:3207:400::3f': '11.907', '2001:660:3207:400::1': '11.824', '2001:660:3207:400::4e': '11.852', '2001:660:3207:400::5': '11.773', '2001:660:3207:400::6a': '11.727', '2001:660:3207:400::2f': '11.857', '2001:660:3207:400::e': '11.724', '2001:660:3207:400::57': '11.774', '2001:660:3207:400::2e': '11.910'}\n",
      "2. range of node-a8-22.grenoble.iot-lab.info is finished in 4.2280120849609375 secs.\n",
      "{'2001:660:3207:400::46': '12.063', '2001:660:3207:400::40': '11.855', '2001:660:3207:400::a': '11.931', '2001:660:3207:400::29': '11.912', '2001:660:5307:3000::b1': '0.899', '2001:660:5307:3000::78': '0.893', '2001:660:5307:3000::87': '0.909', '2001:660:5307:3000::93': '0.901', '2001:660:5307:3000::9c': '0.859', '2001:660:5307:3000::85': '0.876', '2001:660:5307:3000::69': '0.869', '2001:660:5307:3000::a5': '0.882', '2001:660:5307:3000::b3': '0.904', '2001:660:5307:3000::98': '0.946', '2001:660:5307:3000::d': '0.890', '2001:660:5307:3000::a2': '0.889', '2001:660:5307:3000::7a': '0.906', '2001:660:5307:3000::f': '0.873', '2001:660:5307:3000::96': '0.918', '2001:660:5307:3000::b6': '0.913'}\n",
      "3. range of node-a8-22.grenoble.iot-lab.info is finished in 4.214919090270996 secs.\n",
      "{'2001:660:5307:3000::6e': '0.854', '2001:660:5307:3000::c': '0.912', '2001:660:5307:3000::92': '0.956', '2001:660:5307:3000::bb': '0.894', '2001:660:5307:3000::b8': '0.863', '2001:660:5307:3000::a3': '0.881', '2001:660:5307:3000::c1': '0.912', '2001:660:5307:3000::80': '0.805', '2001:660:5307:3000::99': '0.866', '2001:660:5307:3000::7c': '0.846', '2001:660:5307:3000::ab': '0.870', '2001:660:5307:3000::74': '0.858', '2001:660:5307:3000::a8': '0.814', '2001:660:5307:3000::b0': '0.887', '2001:660:5307:3000::77': '0.808', '2001:660:5307:3000::67': '0.803', '2001:660:5307:3000::a9': '0.858', '2001:660:5307:3000::b4': '0.859', '2001:660:5307:3000::aa': '0.936', '2001:660:5307:3000::75': '0.911'}\n",
      "4. range of node-a8-22.grenoble.iot-lab.info is finished in 4.21748948097229 secs.\n",
      "{'2001:660:5307:3000::8e': '0.816', '2001:660:5307:3000::b5': '0.909', '2001:660:5307:3000::af': '0.833', '2001:660:5307:3000::10': '0.844', '2001:660:5307:3000::a6': '0.840', '2001:660:5307:3000::13': '0.855', '2001:660:5307:3000::b7': '0.826', '2001:660:5307:3000::9a': '0.882', '2001:660:5307:3000::68': '0.868', '2001:660:5307:3000::6c': '0.835', '2001:660:5307:3000::81': '0.903', '2001:660:5307:3000::c3': '0.942', '2001:660:5307:3000::a1': '0.793', '2001:660:5307:3000::6a': '0.899', '2001:660:5307:3000::8b': '0.863', '2001:660:5307:3000::73': '0.835', '2001:660:5307:3000::97': '0.863', '2001:660:5307:3000::9d': '0.886', '2001:660:5307:3000::1': '0.848', '2001:660:5307:3000::b9': '0.928'}\n",
      "5. range of node-a8-22.grenoble.iot-lab.info is finished in 4.193788766860962 secs.\n",
      "{'2001:660:5307:3000::be': '0.840', '2001:660:5307:3000::6d': '0.868', '2001:660:5307:3000::89': '0.878', '2001:660:5307:3000::e': '0.856', '2001:660:5307:3000::b': '0.791', '2001:660:5307:3000::88': '0.880', '2001:660:5307:3000::bd': '0.926', '2001:660:5307:3000::11': '0.826', '2001:660:5307:3000::9b': '0.859', '2001:660:5307:3000::7d': '0.865', '2001:660:5307:3000::c2': '0.858', '2001:660:5307:3000::7b': '0.809', '2001:660:5307:3000::90': '0.922', '2001:660:5307:3000::79': '0.872', '2001:660:5307:3000::ad': '0.852', '2001:660:5307:3000::71': '0.783', '2001:660:5307:3000::86': '0.879', '2001:660:5307:3000::7e': '0.785', '2001:660:5307:3000::bc': '0.877', '2001:660:5307:3000::c0': '0.853'}\n",
      "6. range of node-a8-22.grenoble.iot-lab.info is finished in 4.239995241165161 secs.\n",
      "{'2001:660:5307:3000::bf': '0.777', '2001:660:5307:3000::12': '0.808', '2001:660:5307:3000::7f': '0.843', '2001:660:5307:3000::6b': '0.799', '2001:660:5307:3000::a': '0.771', '2001:660:5307:3000::83': '0.808', '2001:660:5307:3000::70': '0.840', '2001:660:5307:3000::76': '0.852', '2001:660:5307:3000::e7': '0.958', '2001:660:5307:3000::e8': '0.995', '2001:660:5307:3000::e6': '1.102', '2001:660:5307:3000::e9': '1.012', '2001:660:5307:3000::e5': '0.983', '2001:660:5307:3000::35': '0.877', '2001:660:5307:3000::3f': '0.906', '2001:660:5307:3000::40': '0.849', '2001:660:5307:3000::cd': '0.910', '2001:660:5307:3000::47': '0.825', '2001:660:5307:3000::ca': '0.878', '2001:660:5307:3000::25': '0.851'}\n",
      "7. range of node-a8-22.grenoble.iot-lab.info is finished in 4.243808031082153 secs.\n",
      "{'2001:660:5307:3000::41': '0.803', '2001:660:5307:3000::c7': '0.895', '2001:660:5307:3000::3d': '1.199', '2001:660:5307:3000::59': '0.838', '2001:660:5307:3000::50': '0.869', '2001:660:5307:3000::46': '0.826', '2001:660:5307:3000::5f': '0.866', '2001:660:5307:3000::2c': '0.847', '2001:660:5307:3000::da': '0.899', '2001:660:5307:3000::32': '0.873', '2001:660:5307:3000::4a': '0.873', '2001:660:5307:3000::3e': '0.871', '2001:660:5307:3000::34': '0.822', '2001:660:5307:3000::1d': '0.807', '2001:660:5307:3000::17': '0.858', '2001:660:5307:3000::18': '0.829', '2001:660:5307:3000::24': '0.823', '2001:660:5307:3000::33': '0.901', '2001:660:5307:3000::4f': '0.904', '2001:660:5307:3000::56': '0.876'}\n",
      "8. range of node-a8-22.grenoble.iot-lab.info is finished in 4.262147665023804 secs.\n",
      "{'2001:660:5307:3000::21': '0.839', '2001:660:5307:3000::27': '0.892', '2001:660:5307:3000::d6': '0.911', '2001:660:5307:3000::5e': '0.862', '2001:660:5307:3000::29': '0.838', '2001:660:5307:3000::7': '0.871', '2001:660:5307:3000::d8': '0.842', '2001:660:5307:3000::53': '0.911', '2001:660:5307:3000::51': '0.916', '2001:660:5307:3000::db': '0.843', '2001:660:5307:3000::c9': '0.845', '2001:660:5307:3000::19': '0.840', '2001:660:5307:3000::2e': '0.836', '2001:660:5307:3000::4': '0.928', '2001:660:5307:3000::2d': '0.887', '2001:660:5307:3000::49': '0.905', '2001:660:5307:3000::c8': '0.817', '2001:660:5307:3000::d9': '0.902', '2001:660:5307:3000::df': '0.836', '2001:660:5307:3000::52': '0.888'}\n",
      "9. range of node-a8-22.grenoble.iot-lab.info is finished in 4.266188621520996 secs.\n",
      "{'2001:660:5307:3000::cf': '0.851', '2001:660:5307:3000::e0': '0.853', '2001:660:5307:3000::d0': '0.892', '2001:660:5307:3000::5': '0.821', '2001:660:5307:3000::44': '0.853', '2001:660:5307:3000::ce': '0.870', '2001:660:5307:3000::22': '0.939', '2001:660:5307:3000::c6': '0.879', '2001:660:5307:3000::2f': '0.947', '2001:660:5307:3000::c5': '0.900', '2001:660:5307:3000::cb': '0.861', '2001:660:5307:3000::9': '0.845', '2001:660:5307:3000::62': '0.910', '2001:660:5307:3000::5d': '0.883', '2001:660:5307:3000::d1': '0.894', '2001:660:5307:3000::e2': '0.888', '2001:660:5307:3000::28': '0.975', '2001:660:5307:3000::30': '0.883', '2001:660:5307:3000::3b': '0.886', '2001:660:5307:3000::45': '0.923'}\n",
      "10. range of node-a8-22.grenoble.iot-lab.info is finished in 4.238130331039429 secs.\n",
      "{'2001:660:5307:3000::5a': '0.920', '2001:660:5307:3000::8': '0.864', '2001:660:5307:3000::1b': '0.781', '2001:660:5307:3000::d4': '0.840', '2001:660:5307:3000::42': '0.850', '2001:660:5307:3000::63': '0.847', '2001:660:5307:3000::e4': '0.840', '2001:660:5307:3000::dc': '1.000', '2001:660:5307:3000::dd': '0.864', '2001:660:5307:3000::e1': '0.884', '2001:660:5307:3000::2b': '0.838', '2001:660:5307:3000::de': '0.910', '2001:660:5307:3000::31': '0.849', '2001:660:5307:3000::61': '0.896', '2001:660:5307:3000::43': '0.844', '2001:660:5307:3000::1f': '0.782', '2001:660:5307:3000::d5': '0.773', '2001:660:5307:3000::60': '0.860', '2001:660:5307:3000::58': '0.800', '2001:660:5307:3000::d2': '0.940'}\n",
      "11. range of node-a8-22.grenoble.iot-lab.info is finished in 4.230549573898315 secs.\n",
      "{'2001:660:5307:3000::2a': '0.799', '2001:660:5307:3000::1e': '1.111', '2001:660:5307:3000::55': '0.887', '2001:660:5307:3000::16': '0.336', '2001:660:5307:3000::d7': '0.506', '2001:660:5307:3000::54': '0.821', '2001:660:5307:3000::cc': '0.908', '2001:660:5307:3000::d3': '0.839', '2001:660:5307:3000::3': '0.830', '2001:660:5307:3000::39': '1.000', '2001:660:330f:a200::2f': '11.365', '2001:660:330f:a200::3e': '11.125', '2001:660:330f:a200::27': '11.243', '2001:660:330f:a200::6': '11.481', '2001:660:330f:a200::11': '11.111', '2001:660:330f:a200::30': '11.160', '2001:660:330f:a200::34': '11.145', '2001:660:330f:a200::36': '11.065', '2001:660:330f:a200::35': '11.134'}\n",
      "12. range of node-a8-22.grenoble.iot-lab.info is finished in 4.215365171432495 secs.\n",
      "{'2001:660:330f:a200::3': '11.153', '2001:660:330f:a200::3b': '11.219', '2001:660:330f:a200::9': '11.249', '2001:660:330f:a200::2': '11.178', '2001:660:330f:a200::5': '11.045', '2001:660:330f:a200::2b': '11.139', '2001:660:330f:a200::1c': '11.051', '2001:660:330f:a200::3a': '11.413', '2001:660:330f:a200::3c': '11.109', '2001:660:330f:a200::1': '11.139', '2001:660:330f:a200::38': '11.087', '2001:660:330f:a200::10': '11.023', '2001:660:330f:a200::15': '11.078', '2001:660:330f:a200::25': '11.154', '2001:660:330f:a200::b': '11.526', '2001:660:330f:a200::1a': '12.486', '2001:660:330f:a200::2a': '11.733', '2001:660:330f:a200::31': '11.120', '2001:660:330f:a200::2c': '11.108', '2001:660:330f:a200::22': '11.174'}\n",
      "13. range of node-a8-22.grenoble.iot-lab.info is finished in 4.2379820346832275 secs.\n",
      "{'2001:660:330f:a200::3d': '11.283', '2001:660:330f:a200::24': '11.070', '2001:660:330f:a200::14': '11.126', '2001:660:330f:a200::16': '11.049', '2001:660:330f:a200::33': '11.093', '2001:660:330f:a200::21': '13.496', '2001:660:330f:a200::26': '11.127', '2001:660:330f:a200::23': '11.169', '2001:660:330f:a200::13': '11.090', '2001:660:330f:a200::d': '11.153', '2001:660:330f:a200::20': '11.560', '2001:660:330f:a200::19': '11.147', '2001:660:330f:a200::1d': '11.062', '2001:660:330f:a200::32': '11.090', '2001:660:330f:a200::1e': '11.132', '2001:660:330f:a200::28': '11.013', '2001:660:330f:a200::7': '11.056', '2001:660:330f:a200::18': '11.076', '2001:660:330f:a200::17': '11.024', '2001:660:330f:a200::1b': '11.046'}\n",
      "14. range of node-a8-22.grenoble.iot-lab.info is finished in 4.228938579559326 secs.\n",
      "{'2001:660:330f:a200::4': '11.172', '2001:660:330f:a200::2d': '11.085', '2001:660:330f:a200::2e': '11.134', '2001:660:330f:a200::12': '11.130', '2001:660:330f:a200::37': '11.178'}\n",
      "15. range of node-a8-22.grenoble.iot-lab.info is finished in 3.657329559326172 secs.\n",
      "In retry ping with node-a8-215.grenoble.iot-lab.info\n",
      "Number of destinations: 305\n",
      "Openning connection to node-a8-215.grenoble.iot-lab.info\n",
      "{'2001:660:5307:30ff::5': '1.062', '2001:660:4403:47f::4': '13.796', '2001:660:330f:a27f::4': '11.070', '2001:660:3207:4bf::17': '11.945', '2a07:2e40:fffe:df::5': '11.723', '2a07:2e40:fffe:c0::3': '12.081', '2a07:2e40:fffe:c0::6': '12.104', '2a07:2e40:fffe:c0::7': '12.130', '2a07:2e40:fffe:c0::5': '12.117', '2a07:2e40:fffe:c0::a': '12.313', '2a07:2e40:fffe:c0::b': '13.211', '2a07:2e40:fffe:c0::9': '12.103', '2a07:2e40:fffe:c0::e': '12.006', '2a07:2e40:fffe:c0::c': '12.186', '2a07:2e40:fffe:c0::4': '12.095', '2a07:2e40:fffe:c0::2': '12.062', '2a07:2e40:fffe:c0::d': '12.044', '2a07:2e40:fffe:c0::8': '13.165', '2a07:2e40:fffe:c0::1': '12.139', '2001:660:3207:400::5b': '12.025'}\n",
      "0. range of node-a8-215.grenoble.iot-lab.info is finished in 4.72347617149353 secs.\n",
      "{'2001:660:3207:400::28': '12.104', '2001:660:3207:400::49': '11.867', '2001:660:3207:400::4a': '11.969', '2001:660:3207:400::67': '12.639', '2001:660:3207:400::48': '11.967', '2001:660:3207:400::2d': '11.699', '2001:660:3207:400::45': '11.996', '2001:660:3207:400::1f': '11.842', '2001:660:3207:400::2': '11.952', '2001:660:3207:400::b': '11.931', '2001:660:3207:400::10': '11.962', '2001:660:3207:400::11': '11.983', '2001:660:3207:400::22': '11.917', '2001:660:3207:400::5a': '12.582', '2001:660:3207:400::5c': '11.917', '2001:660:3207:400::3d': '11.884', '2001:660:3207:400::4b': '15.955', '2001:660:3207:400::4d': '11.820', '2001:660:3207:400::2c': '11.907', '2001:660:3207:400::30': '11.914'}\n",
      "1. range of node-a8-215.grenoble.iot-lab.info is finished in 4.239235162734985 secs.\n",
      "{'2001:660:3207:400::2b': '11.946', '2001:660:3207:400::4f': '11.916', '2001:660:3207:400::2a': '12.125', '2001:660:3207:400::3e': '12.002', '2001:660:3207:400::4c': '12.097', '2001:660:3207:400::47': '12.026', '2001:660:3207:400::26': '11.880', '2001:660:3207:400::43': '11.985', '2001:660:3207:400::27': '12.690', '2001:660:3207:400::42': '12.569', '2001:660:3207:400::24': '12.193', '2001:660:3207:400::3f': '11.988', '2001:660:3207:400::1': '11.847', '2001:660:3207:400::4e': '11.879', '2001:660:3207:400::5': '11.954', '2001:660:3207:400::6a': '11.961', '2001:660:3207:400::2f': '12.129', '2001:660:3207:400::e': '11.855', '2001:660:3207:400::57': '11.986', '2001:660:3207:400::2e': '12.236'}\n",
      "2. range of node-a8-215.grenoble.iot-lab.info is finished in 4.217305660247803 secs.\n",
      "{'2001:660:3207:400::46': '12.127', '2001:660:3207:400::40': '11.935', '2001:660:3207:400::a': '11.913', '2001:660:3207:400::29': '12.344', '2001:660:5307:3000::b1': '0.890', '2001:660:5307:3000::78': '4.021', '2001:660:5307:3000::87': '0.923', '2001:660:5307:3000::93': '0.879', '2001:660:5307:3000::9c': '0.886', '2001:660:5307:3000::85': '0.888', '2001:660:5307:3000::69': '0.949', '2001:660:5307:3000::a5': '0.892', '2001:660:5307:3000::b3': '0.962', '2001:660:5307:3000::98': '0.893', '2001:660:5307:3000::d': '0.922', '2001:660:5307:3000::a2': '0.926', '2001:660:5307:3000::7a': '0.901', '2001:660:5307:3000::f': '0.948', '2001:660:5307:3000::96': '0.920', '2001:660:5307:3000::b6': '0.906'}\n",
      "3. range of node-a8-215.grenoble.iot-lab.info is finished in 4.212392091751099 secs.\n",
      "{'2001:660:5307:3000::6e': '0.865', '2001:660:5307:3000::c': '0.916', '2001:660:5307:3000::92': '0.905', '2001:660:5307:3000::bb': '0.852', '2001:660:5307:3000::b8': '0.868', '2001:660:5307:3000::a3': '0.929', '2001:660:5307:3000::c1': '0.848', '2001:660:5307:3000::80': '0.898', '2001:660:5307:3000::99': '0.977', '2001:660:5307:3000::7c': '0.854', '2001:660:5307:3000::ab': '0.840', '2001:660:5307:3000::74': '0.896', '2001:660:5307:3000::a8': '0.905', '2001:660:5307:3000::b0': '0.822', '2001:660:5307:3000::77': '0.901', '2001:660:5307:3000::67': '0.880', '2001:660:5307:3000::a9': '0.902', '2001:660:5307:3000::b4': '0.890', '2001:660:5307:3000::aa': '0.892', '2001:660:5307:3000::75': '0.874'}\n",
      "4. range of node-a8-215.grenoble.iot-lab.info is finished in 4.232430458068848 secs.\n",
      "{'2001:660:5307:3000::8e': '0.822', '2001:660:5307:3000::b5': '0.887', '2001:660:5307:3000::af': '0.904', '2001:660:5307:3000::10': '0.835', '2001:660:5307:3000::a6': '1.091', '2001:660:5307:3000::13': '0.908', '2001:660:5307:3000::b7': '0.898', '2001:660:5307:3000::9a': '0.855', '2001:660:5307:3000::68': '0.956', '2001:660:5307:3000::6c': '0.831', '2001:660:5307:3000::81': '0.897', '2001:660:5307:3000::c3': '0.894', '2001:660:5307:3000::a1': '0.843', '2001:660:5307:3000::6a': '0.851', '2001:660:5307:3000::8b': '0.897', '2001:660:5307:3000::73': '0.841', '2001:660:5307:3000::97': '0.891', '2001:660:5307:3000::9d': '0.898', '2001:660:5307:3000::1': '0.870', '2001:660:5307:3000::b9': '0.823'}\n",
      "5. range of node-a8-215.grenoble.iot-lab.info is finished in 4.236814737319946 secs.\n",
      "{'2001:660:5307:3000::be': '0.821', '2001:660:5307:3000::6d': '0.925', '2001:660:5307:3000::89': '0.888', '2001:660:5307:3000::e': '0.870', '2001:660:5307:3000::b': '0.799', '2001:660:5307:3000::88': '0.843', '2001:660:5307:3000::bd': '0.842', '2001:660:5307:3000::11': '0.822', '2001:660:5307:3000::9b': '0.825', '2001:660:5307:3000::7d': '0.793', '2001:660:5307:3000::c2': '0.864', '2001:660:5307:3000::7b': '0.921', '2001:660:5307:3000::90': '0.865', '2001:660:5307:3000::79': '0.773', '2001:660:5307:3000::ad': '0.832', '2001:660:5307:3000::71': '0.860', '2001:660:5307:3000::86': '0.812', '2001:660:5307:3000::7e': '0.911', '2001:660:5307:3000::bc': '0.799', '2001:660:5307:3000::c0': '0.861'}\n",
      "6. range of node-a8-215.grenoble.iot-lab.info is finished in 4.225942611694336 secs.\n",
      "{'2001:660:5307:3000::bf': '0.813', '2001:660:5307:3000::12': '0.871', '2001:660:5307:3000::7f': '0.811', '2001:660:5307:3000::6b': '0.795', '2001:660:5307:3000::a': '0.888', '2001:660:5307:3000::83': '0.810', '2001:660:5307:3000::70': '0.790', '2001:660:5307:3000::76': '0.819', '2001:660:5307:3000::e7': '0.978', '2001:660:5307:3000::e8': '0.980', '2001:660:5307:3000::e6': '1.043', '2001:660:5307:3000::e9': '1.038', '2001:660:5307:3000::e5': '1.033', '2001:660:5307:3000::35': '0.890', '2001:660:5307:3000::3f': '0.842', '2001:660:5307:3000::40': '0.823', '2001:660:5307:3000::cd': '0.807', '2001:660:5307:3000::47': '0.891', '2001:660:5307:3000::ca': '0.858', '2001:660:5307:3000::25': '0.900'}\n",
      "7. range of node-a8-215.grenoble.iot-lab.info is finished in 4.244278192520142 secs.\n",
      "{'2001:660:5307:3000::41': '0.854', '2001:660:5307:3000::c7': '0.843', '2001:660:5307:3000::3d': '0.835', '2001:660:5307:3000::59': '0.773', '2001:660:5307:3000::50': '0.829', '2001:660:5307:3000::46': '0.806', '2001:660:5307:3000::5f': '0.939', '2001:660:5307:3000::2c': '0.831', '2001:660:5307:3000::da': '0.832', '2001:660:5307:3000::32': '0.882', '2001:660:5307:3000::4a': '0.851', '2001:660:5307:3000::3e': '0.875', '2001:660:5307:3000::34': '0.860', '2001:660:5307:3000::1d': '0.812', '2001:660:5307:3000::17': '0.850', '2001:660:5307:3000::18': '0.894', '2001:660:5307:3000::24': '0.864', '2001:660:5307:3000::33': '0.842', '2001:660:5307:3000::4f': '0.863', '2001:660:5307:3000::56': '0.839'}\n",
      "8. range of node-a8-215.grenoble.iot-lab.info is finished in 4.260718822479248 secs.\n",
      "{'2001:660:5307:3000::21': '0.833', '2001:660:5307:3000::27': '0.870', '2001:660:5307:3000::d6': '0.870', '2001:660:5307:3000::5e': '0.843', '2001:660:5307:3000::29': '1.075', '2001:660:5307:3000::7': '0.909', '2001:660:5307:3000::d8': '0.892', '2001:660:5307:3000::53': '0.841', '2001:660:5307:3000::51': '0.899', '2001:660:5307:3000::db': '0.803', '2001:660:5307:3000::c9': '0.830', '2001:660:5307:3000::19': '0.820', '2001:660:5307:3000::2e': '0.951', '2001:660:5307:3000::4': '0.933', '2001:660:5307:3000::2d': '0.881', '2001:660:5307:3000::49': '0.852', '2001:660:5307:3000::c8': '0.804', '2001:660:5307:3000::d9': '0.845', '2001:660:5307:3000::df': '0.816', '2001:660:5307:3000::52': '0.839'}\n",
      "9. range of node-a8-215.grenoble.iot-lab.info is finished in 4.199048042297363 secs.\n",
      "{'2001:660:5307:3000::cf': '0.791', '2001:660:5307:3000::e0': '0.841', '2001:660:5307:3000::d0': '0.844', '2001:660:5307:3000::5': '0.907', '2001:660:5307:3000::44': '0.811', '2001:660:5307:3000::ce': '0.805', '2001:660:5307:3000::22': '0.906', '2001:660:5307:3000::c6': '0.886', '2001:660:5307:3000::2f': '1.126', '2001:660:5307:3000::c5': '0.848', '2001:660:5307:3000::cb': '0.841', '2001:660:5307:3000::9': '0.932', '2001:660:5307:3000::62': '0.882', '2001:660:5307:3000::5d': '0.788', '2001:660:5307:3000::d1': '0.805', '2001:660:5307:3000::e2': '0.775', '2001:660:5307:3000::28': '0.880', '2001:660:5307:3000::30': '0.893', '2001:660:5307:3000::3b': '0.877', '2001:660:5307:3000::45': '0.936'}\n",
      "10. range of node-a8-215.grenoble.iot-lab.info is finished in 4.206228494644165 secs.\n",
      "{'2001:660:5307:3000::5a': '0.845', '2001:660:5307:3000::8': '0.895', '2001:660:5307:3000::1b': '0.936', '2001:660:5307:3000::d4': '0.791', '2001:660:5307:3000::42': '0.822', '2001:660:5307:3000::63': '0.870', '2001:660:5307:3000::e4': '0.812', '2001:660:5307:3000::dc': '0.804', '2001:660:5307:3000::dd': '0.792', '2001:660:5307:3000::e1': '0.826', '2001:660:5307:3000::2b': '0.821', '2001:660:5307:3000::de': '0.846', '2001:660:5307:3000::31': '0.878', '2001:660:5307:3000::61': '0.833', '2001:660:5307:3000::43': '0.802', '2001:660:5307:3000::1f': '0.815', '2001:660:5307:3000::d5': '0.831', '2001:660:5307:3000::60': '0.830', '2001:660:5307:3000::58': '0.834', '2001:660:5307:3000::d2': '0.827'}\n",
      "11. range of node-a8-215.grenoble.iot-lab.info is finished in 4.22013783454895 secs.\n",
      "{'2001:660:5307:3000::2a': '0.838', '2001:660:5307:3000::1e': '1.149', '2001:660:5307:3000::55': '0.805', '2001:660:5307:3000::16': '0.883', '2001:660:5307:3000::d7': '0.313', '2001:660:5307:3000::54': '0.909', '2001:660:5307:3000::cc': '0.888', '2001:660:5307:3000::d3': '0.890', '2001:660:5307:3000::3': '0.824', '2001:660:5307:3000::39': '0.919', '2001:660:330f:a200::2f': '11.156', '2001:660:330f:a200::3e': '11.132', '2001:660:330f:a200::27': '11.199', '2001:660:330f:a200::6': '11.712', '2001:660:330f:a200::11': '11.705', '2001:660:330f:a200::30': '11.748', '2001:660:330f:a200::34': '11.131', '2001:660:330f:a200::36': '11.179', '2001:660:330f:a200::35': '11.150'}\n",
      "12. range of node-a8-215.grenoble.iot-lab.info is finished in 4.217052698135376 secs.\n",
      "{'2001:660:330f:a200::3': '11.155', '2001:660:330f:a200::3b': '11.253', '2001:660:330f:a200::9': '11.161', '2001:660:330f:a200::2': '11.041', '2001:660:330f:a200::5': '12.015', '2001:660:330f:a200::2b': '11.096', '2001:660:330f:a200::1c': '11.330', '2001:660:330f:a200::3a': '11.076', '2001:660:330f:a200::3c': '11.106', '2001:660:330f:a200::1': '11.127', '2001:660:330f:a200::38': '11.073', '2001:660:330f:a200::10': '11.670', '2001:660:330f:a200::15': '11.061', '2001:660:330f:a200::25': '11.201', '2001:660:330f:a200::b': '11.121', '2001:660:330f:a200::1a': '11.158', '2001:660:330f:a200::2a': '11.039', '2001:660:330f:a200::31': '11.176', '2001:660:330f:a200::2c': '11.088', '2001:660:330f:a200::22': '11.159'}\n",
      "13. range of node-a8-215.grenoble.iot-lab.info is finished in 4.2531397342681885 secs.\n",
      "{'2001:660:330f:a200::3d': '11.240', '2001:660:330f:a200::24': '11.069', '2001:660:330f:a200::14': '11.231', '2001:660:330f:a200::16': '11.116', '2001:660:330f:a200::33': '11.156', '2001:660:330f:a200::21': '11.937', '2001:660:330f:a200::26': '11.157', '2001:660:330f:a200::23': '11.126', '2001:660:330f:a200::13': '11.127', '2001:660:330f:a200::d': '11.187', '2001:660:330f:a200::20': '11.189', '2001:660:330f:a200::19': '11.101', '2001:660:330f:a200::1d': '11.098', '2001:660:330f:a200::32': '11.037', '2001:660:330f:a200::1e': '11.648', '2001:660:330f:a200::28': '11.653', '2001:660:330f:a200::7': '11.155', '2001:660:330f:a200::18': '11.197', '2001:660:330f:a200::17': '11.087', '2001:660:330f:a200::1b': '11.090'}\n",
      "14. range of node-a8-215.grenoble.iot-lab.info is finished in 4.2378528118133545 secs.\n",
      "{'2001:660:330f:a200::4': '11.110', '2001:660:330f:a200::2d': '11.110', '2001:660:330f:a200::2e': '11.158', '2001:660:330f:a200::12': '11.111', '2001:660:330f:a200::37': '11.097'}\n",
      "15. range of node-a8-215.grenoble.iot-lab.info is finished in 3.650514602661133 secs.\n",
      "In retry ping with node-a8-58.grenoble.iot-lab.info\n",
      "Number of destinations: 305\n",
      "Openning connection to node-a8-58.grenoble.iot-lab.info\n",
      "[Errno None] Unable to connect to port 22 on 10.0.12.58\n",
      "ERROR\n",
      "SUCCESS\n"
     ]
    }
   ],
   "source": [
    "linux_grenoble_2.retry_ping_measurement()"
   ]
  },
  {
   "cell_type": "code",
   "execution_count": 9,
   "id": "0da18afc-5e6b-4764-b3e8-d78e4a155be7",
   "metadata": {},
   "outputs": [
    {
     "name": "stdout",
     "output_type": "stream",
     "text": [
      "linux-grenoble: Getting the ping results.\n",
      "linux-grenoble: Openning connection to grenoble\n",
      "/home/alphan/projects/python_scripts/clean-rtt\n",
      "remote path: ~/ping_experiments/linux_2/ping_measurements.json\n"
     ]
    },
    {
     "data": {
      "text/html": [
       "<pre style=\"white-space:pre;overflow-x:auto;line-height:normal;font-family:Menlo,'DejaVu Sans Mono',consolas,'Courier New',monospace\"><span style=\"color: #000080; text-decoration-color: #000080\">INFO    </span> Connected <span style=\"font-weight: bold\">(</span>version <span style=\"color: #008080; text-decoration-color: #008080; font-weight: bold\">2.0</span>, client OpenSSH_7.9p1<span style=\"font-weight: bold\">)</span>                      <a href=\"file:///home/alphan/projects/python_scripts/clean-rtt/venv/lib/python3.10/site-packages/paramiko/transport.py\" target=\"_blank\"><span style=\"color: #7f7f7f; text-decoration-color: #7f7f7f\">transport.py</span></a><span style=\"color: #7f7f7f; text-decoration-color: #7f7f7f\">:</span><a href=\"file:///home/alphan/projects/python_scripts/clean-rtt/venv/lib/python3.10/site-packages/paramiko/transport.py#1893\" target=\"_blank\"><span style=\"color: #7f7f7f; text-decoration-color: #7f7f7f\">1893</span></a>\n",
       "</pre>\n"
      ],
      "text/plain": [
       "\u001b[34mINFO    \u001b[0m Connected \u001b[1m(\u001b[0mversion \u001b[1;36m2.0\u001b[0m, client OpenSSH_7.9p1\u001b[1m)\u001b[0m                      \u001b]8;id=484972;file:///home/alphan/projects/python_scripts/clean-rtt/venv/lib/python3.10/site-packages/paramiko/transport.py\u001b\\\u001b[2mtransport.py\u001b[0m\u001b]8;;\u001b\\\u001b[2m:\u001b[0m\u001b]8;id=207676;file:///home/alphan/projects/python_scripts/clean-rtt/venv/lib/python3.10/site-packages/paramiko/transport.py#1893\u001b\\\u001b[2m1893\u001b[0m\u001b]8;;\u001b\\\n"
      ]
     },
     "metadata": {},
     "output_type": "display_data"
    },
    {
     "data": {
      "text/html": [
       "<pre style=\"white-space:pre;overflow-x:auto;line-height:normal;font-family:Menlo,'DejaVu Sans Mono',consolas,'Courier New',monospace\"><span style=\"color: #000080; text-decoration-color: #000080\">INFO    </span> Authentication <span style=\"font-weight: bold\">(</span>publickey<span style=\"font-weight: bold\">)</span> successful!                             <a href=\"file:///home/alphan/projects/python_scripts/clean-rtt/venv/lib/python3.10/site-packages/paramiko/transport.py\" target=\"_blank\"><span style=\"color: #7f7f7f; text-decoration-color: #7f7f7f\">transport.py</span></a><span style=\"color: #7f7f7f; text-decoration-color: #7f7f7f\">:</span><a href=\"file:///home/alphan/projects/python_scripts/clean-rtt/venv/lib/python3.10/site-packages/paramiko/transport.py#1893\" target=\"_blank\"><span style=\"color: #7f7f7f; text-decoration-color: #7f7f7f\">1893</span></a>\n",
       "</pre>\n"
      ],
      "text/plain": [
       "\u001b[34mINFO    \u001b[0m Authentication \u001b[1m(\u001b[0mpublickey\u001b[1m)\u001b[0m successful!                             \u001b]8;id=920018;file:///home/alphan/projects/python_scripts/clean-rtt/venv/lib/python3.10/site-packages/paramiko/transport.py\u001b\\\u001b[2mtransport.py\u001b[0m\u001b]8;;\u001b\\\u001b[2m:\u001b[0m\u001b]8;id=615474;file:///home/alphan/projects/python_scripts/clean-rtt/venv/lib/python3.10/site-packages/paramiko/transport.py#1893\u001b\\\u001b[2m1893\u001b[0m\u001b]8;;\u001b\\\n"
      ]
     },
     "metadata": {},
     "output_type": "display_data"
    },
    {
     "data": {
      "text/html": [
       "<pre style=\"white-space:pre;overflow-x:auto;line-height:normal;font-family:Menlo,'DejaVu Sans Mono',consolas,'Courier New',monospace\"><span style=\"color: #000080; text-decoration-color: #000080\">INFO    </span> <span style=\"font-weight: bold\">[</span>chan <span style=\"color: #008080; text-decoration-color: #008080; font-weight: bold\">0</span><span style=\"font-weight: bold\">]</span> Opened sftp connection <span style=\"font-weight: bold\">(</span>server version <span style=\"color: #008080; text-decoration-color: #008080; font-weight: bold\">3</span><span style=\"font-weight: bold\">)</span>                       <a href=\"file:///home/alphan/projects/python_scripts/clean-rtt/venv/lib/python3.10/site-packages/paramiko/sftp.py\" target=\"_blank\"><span style=\"color: #7f7f7f; text-decoration-color: #7f7f7f\">sftp.py</span></a><span style=\"color: #7f7f7f; text-decoration-color: #7f7f7f\">:</span><a href=\"file:///home/alphan/projects/python_scripts/clean-rtt/venv/lib/python3.10/site-packages/paramiko/sftp.py#169\" target=\"_blank\"><span style=\"color: #7f7f7f; text-decoration-color: #7f7f7f\">169</span></a>\n",
       "</pre>\n"
      ],
      "text/plain": [
       "\u001b[34mINFO    \u001b[0m \u001b[1m[\u001b[0mchan \u001b[1;36m0\u001b[0m\u001b[1m]\u001b[0m Opened sftp connection \u001b[1m(\u001b[0mserver version \u001b[1;36m3\u001b[0m\u001b[1m)\u001b[0m                       \u001b]8;id=165339;file:///home/alphan/projects/python_scripts/clean-rtt/venv/lib/python3.10/site-packages/paramiko/sftp.py\u001b\\\u001b[2msftp.py\u001b[0m\u001b]8;;\u001b\\\u001b[2m:\u001b[0m\u001b]8;id=718789;file:///home/alphan/projects/python_scripts/clean-rtt/venv/lib/python3.10/site-packages/paramiko/sftp.py#169\u001b\\\u001b[2m169\u001b[0m\u001b]8;;\u001b\\\n"
      ]
     },
     "metadata": {},
     "output_type": "display_data"
    },
    {
     "data": {
      "text/html": [
       "<pre style=\"white-space:pre;overflow-x:auto;line-height:normal;font-family:Menlo,'DejaVu Sans Mono',consolas,'Courier New',monospace\"><span style=\"color: #000080; text-decoration-color: #000080\">INFO    </span> <span style=\"font-weight: bold\">[</span>chan <span style=\"color: #008080; text-decoration-color: #008080; font-weight: bold\">0</span><span style=\"font-weight: bold\">]</span> sftp session closed.                                            <a href=\"file:///home/alphan/projects/python_scripts/clean-rtt/venv/lib/python3.10/site-packages/paramiko/sftp.py\" target=\"_blank\"><span style=\"color: #7f7f7f; text-decoration-color: #7f7f7f\">sftp.py</span></a><span style=\"color: #7f7f7f; text-decoration-color: #7f7f7f\">:</span><a href=\"file:///home/alphan/projects/python_scripts/clean-rtt/venv/lib/python3.10/site-packages/paramiko/sftp.py#169\" target=\"_blank\"><span style=\"color: #7f7f7f; text-decoration-color: #7f7f7f\">169</span></a>\n",
       "</pre>\n"
      ],
      "text/plain": [
       "\u001b[34mINFO    \u001b[0m \u001b[1m[\u001b[0mchan \u001b[1;36m0\u001b[0m\u001b[1m]\u001b[0m sftp session closed.                                            \u001b]8;id=329880;file:///home/alphan/projects/python_scripts/clean-rtt/venv/lib/python3.10/site-packages/paramiko/sftp.py\u001b\\\u001b[2msftp.py\u001b[0m\u001b]8;;\u001b\\\u001b[2m:\u001b[0m\u001b]8;id=31849;file:///home/alphan/projects/python_scripts/clean-rtt/venv/lib/python3.10/site-packages/paramiko/sftp.py#169\u001b\\\u001b[2m169\u001b[0m\u001b]8;;\u001b\\\n"
      ]
     },
     "metadata": {},
     "output_type": "display_data"
    },
    {
     "name": "stdout",
     "output_type": "stream",
     "text": [
      "linux-grenoble: Reading the ping results.\n",
      "linux-grenoble: 625 measurements received!\n",
      "linux-grenoble: Deleting the fetched ping measurements on site.\n",
      "linux-grenoble: Openning connection to grenoble\n"
     ]
    },
    {
     "data": {
      "text/html": [
       "<pre style=\"white-space:pre;overflow-x:auto;line-height:normal;font-family:Menlo,'DejaVu Sans Mono',consolas,'Courier New',monospace\"><span style=\"color: #000080; text-decoration-color: #000080\">INFO    </span> Connected <span style=\"font-weight: bold\">(</span>version <span style=\"color: #008080; text-decoration-color: #008080; font-weight: bold\">2.0</span>, client OpenSSH_7.9p1<span style=\"font-weight: bold\">)</span>                      <a href=\"file:///home/alphan/projects/python_scripts/clean-rtt/venv/lib/python3.10/site-packages/paramiko/transport.py\" target=\"_blank\"><span style=\"color: #7f7f7f; text-decoration-color: #7f7f7f\">transport.py</span></a><span style=\"color: #7f7f7f; text-decoration-color: #7f7f7f\">:</span><a href=\"file:///home/alphan/projects/python_scripts/clean-rtt/venv/lib/python3.10/site-packages/paramiko/transport.py#1893\" target=\"_blank\"><span style=\"color: #7f7f7f; text-decoration-color: #7f7f7f\">1893</span></a>\n",
       "</pre>\n"
      ],
      "text/plain": [
       "\u001b[34mINFO    \u001b[0m Connected \u001b[1m(\u001b[0mversion \u001b[1;36m2.0\u001b[0m, client OpenSSH_7.9p1\u001b[1m)\u001b[0m                      \u001b]8;id=616912;file:///home/alphan/projects/python_scripts/clean-rtt/venv/lib/python3.10/site-packages/paramiko/transport.py\u001b\\\u001b[2mtransport.py\u001b[0m\u001b]8;;\u001b\\\u001b[2m:\u001b[0m\u001b]8;id=747897;file:///home/alphan/projects/python_scripts/clean-rtt/venv/lib/python3.10/site-packages/paramiko/transport.py#1893\u001b\\\u001b[2m1893\u001b[0m\u001b]8;;\u001b\\\n"
      ]
     },
     "metadata": {},
     "output_type": "display_data"
    },
    {
     "data": {
      "text/html": [
       "<pre style=\"white-space:pre;overflow-x:auto;line-height:normal;font-family:Menlo,'DejaVu Sans Mono',consolas,'Courier New',monospace\"><span style=\"color: #000080; text-decoration-color: #000080\">INFO    </span> Authentication <span style=\"font-weight: bold\">(</span>publickey<span style=\"font-weight: bold\">)</span> successful!                             <a href=\"file:///home/alphan/projects/python_scripts/clean-rtt/venv/lib/python3.10/site-packages/paramiko/transport.py\" target=\"_blank\"><span style=\"color: #7f7f7f; text-decoration-color: #7f7f7f\">transport.py</span></a><span style=\"color: #7f7f7f; text-decoration-color: #7f7f7f\">:</span><a href=\"file:///home/alphan/projects/python_scripts/clean-rtt/venv/lib/python3.10/site-packages/paramiko/transport.py#1893\" target=\"_blank\"><span style=\"color: #7f7f7f; text-decoration-color: #7f7f7f\">1893</span></a>\n",
       "</pre>\n"
      ],
      "text/plain": [
       "\u001b[34mINFO    \u001b[0m Authentication \u001b[1m(\u001b[0mpublickey\u001b[1m)\u001b[0m successful!                             \u001b]8;id=958624;file:///home/alphan/projects/python_scripts/clean-rtt/venv/lib/python3.10/site-packages/paramiko/transport.py\u001b\\\u001b[2mtransport.py\u001b[0m\u001b]8;;\u001b\\\u001b[2m:\u001b[0m\u001b]8;id=309778;file:///home/alphan/projects/python_scripts/clean-rtt/venv/lib/python3.10/site-packages/paramiko/transport.py#1893\u001b\\\u001b[2m1893\u001b[0m\u001b]8;;\u001b\\\n"
      ]
     },
     "metadata": {},
     "output_type": "display_data"
    },
    {
     "name": "stdout",
     "output_type": "stream",
     "text": [
      "linux-grenoble: Deleting the local fetched ping measurements.\n"
     ]
    }
   ],
   "source": [
    "#error node-a8-227\n",
    "linux_grenoble_2.digest_new_measurements()"
   ]
  },
  {
   "cell_type": "code",
   "execution_count": null,
   "id": "06eee1df-4697-4786-a466-0b18e0359cb6",
   "metadata": {},
   "outputs": [],
   "source": []
  }
 ],
 "metadata": {
  "kernelspec": {
   "display_name": "Python 3 (ipykernel)",
   "language": "python",
   "name": "python3"
  },
  "language_info": {
   "codemirror_mode": {
    "name": "ipython",
    "version": 3
   },
   "file_extension": ".py",
   "mimetype": "text/x-python",
   "name": "python",
   "nbconvert_exporter": "python",
   "pygments_lexer": "ipython3",
   "version": "3.10.13"
  }
 },
 "nbformat": 4,
 "nbformat_minor": 5
}
