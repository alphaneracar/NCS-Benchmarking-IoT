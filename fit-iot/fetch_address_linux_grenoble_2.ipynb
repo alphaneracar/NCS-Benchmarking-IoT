{
 "cells": [
  {
   "cell_type": "markdown",
   "id": "18667d47-2ea6-409b-a427-6d88561dcea5",
   "metadata": {},
   "source": [
    "## Refresh code in each 2 secs"
   ]
  },
  {
   "cell_type": "code",
   "execution_count": 1,
   "id": "0f62688d-c1c2-453b-adee-0702c1606de1",
   "metadata": {},
   "outputs": [],
   "source": [
    "%load_ext autoreload\n",
    "%autoreload 2"
   ]
  },
  {
   "cell_type": "markdown",
   "id": "140ff01e-4bf8-4cf8-890d-4ed32a6f04d7",
   "metadata": {},
   "source": [
    "### Store site coordinators"
   ]
  },
  {
   "cell_type": "code",
   "execution_count": 2,
   "id": "670c848b-906e-49de-b3a9-9903ecd8c7ab",
   "metadata": {},
   "outputs": [],
   "source": [
    "%store -r site_coordinators"
   ]
  },
  {
   "cell_type": "code",
   "execution_count": 3,
   "id": "369847ba-ce5b-4899-a748-20732be85191",
   "metadata": {},
   "outputs": [],
   "source": [
    "linux_grenoble_2=site_coordinators[\"linux_grenoble_2\"]"
   ]
  },
  {
   "cell_type": "markdown",
   "id": "e6a37995-63a8-4776-b880-9e434f204f52",
   "metadata": {},
   "source": [
    "### Initialize fetch address"
   ]
  },
  {
   "cell_type": "code",
   "execution_count": 4,
   "id": "695502e3-fd4f-4246-afc4-4bb9f4f0b071",
   "metadata": {},
   "outputs": [
    {
     "name": "stdout",
     "output_type": "stream",
     "text": [
      "linux-grenoble: Initializing the awaiting_addresses dictionary.\n"
     ]
    }
   ],
   "source": [
    "#TODO: Call this in object\n",
    "linux_grenoble_2.initialize_awaiting_address_dict()"
   ]
  },
  {
   "cell_type": "code",
   "execution_count": 5,
   "id": "887d8af5-d8b7-40b4-9347-ba5490417767",
   "metadata": {},
   "outputs": [],
   "source": [
    "## RERUN BR"
   ]
  },
  {
   "cell_type": "code",
   "execution_count": 6,
   "id": "1ba6b2e1-0a30-49e9-8e35-3f97ab119b0a",
   "metadata": {},
   "outputs": [
    {
     "data": {
      "text/plain": [
       "99"
      ]
     },
     "execution_count": 6,
     "metadata": {},
     "output_type": "execute_result"
    }
   ],
   "source": [
    "len(linux_grenoble_2.nodes)"
   ]
  },
  {
   "cell_type": "markdown",
   "id": "094fe3d2-5a83-4884-9943-38e7a11091c7",
   "metadata": {},
   "source": [
    "### Run Fetch Addresses"
   ]
  },
  {
   "cell_type": "code",
   "execution_count": 7,
   "id": "1a2caf02-aa38-4df2-9b12-95f97eec11a8",
   "metadata": {},
   "outputs": [
    {
     "name": "stdout",
     "output_type": "stream",
     "text": [
      "linux-grenoble: Starting initial fetch address run.\n",
      "linux-grenoble: Deleting the fetched addresses on site.\n",
      "linux-grenoble: Openning connection to grenoble\n",
      "linux-grenoble: Deleting the local addresses.\n",
      "linux-grenoble: Sending the nodes.txt.\n",
      "linux-grenoble: Deleting the local nodes.txt.\n",
      "Encountered a bad command exit code!\n",
      "\n",
      "Command: './experiment_data/387556/intermediate/grenoble/linux_2/nodes.txt'\n",
      "\n",
      "Exit code: 127\n",
      "\n",
      "Stdout: already printed\n",
      "\n",
      "Stderr:\n",
      "\n",
      "/bin/bash: ./experiment_data/387556/intermediate/grenoble/linux_2/nodes.txt: No such file or directory\n",
      "\n",
      "\n",
      "linux-grenoble: Deleting the nodes.txt addresses on grenoble.\n",
      "linux-grenoble: Openning connection to grenoble\n",
      "linux-grenoble: Writing nodes to local.\n",
      "linux-grenoble: Putting nodes on grenoble.\n",
      "linux-grenoble: Openning connection to grenoble\n",
      "linux-grenoble: Openning connection to grenoble\n",
      "linux-grenoble: Running fetch addresses on site.\n",
      "Site: grenoble\n",
      "Reading nodes from: ./linux_2/nodes.txt\n",
      "In fetch addresses.\n",
      "There are 99 number of hosts.\n",
      "Executing 9 iterations.\n",
      "Node per iteration: 10\n",
      "Openning connection to node-a8-209.grenoble.iot-lab.info\n",
      "Openning connection to node-a8-228.grenoble.iot-lab.info\n",
      "Openning connection to node-a8-61.grenoble.iot-lab.info\n",
      "Openning connection to node-a8-205.grenoble.iot-lab.info\n",
      "Openning connection to node-a8-198.grenoble.iot-lab.info\n",
      "Openning connection to node-a8-58.grenoble.iot-lab.info\n",
      "Openning connection to node-a8-63.grenoble.iot-lab.info\n",
      "Openning connection to node-a8-81.grenoble.iot-lab.info\n",
      "Openning connection to node-a8-79.grenoble.iot-lab.info\n",
      "Openning connection to node-a8-223.grenoble.iot-lab.info\n",
      "Starting iteration with: dict_keys(['node-a8-209.grenoble.iot-lab.info', 'node-a8-228.grenoble.iot-lab.info', 'node-a8-61.grenoble.iot-lab.info', 'node-a8-205.grenoble.iot-lab.info', 'node-a8-198.grenoble.iot-lab.info', 'node-a8-58.grenoble.iot-lab.info', 'node-a8-63.grenoble.iot-lab.info', 'node-a8-81.grenoble.iot-lab.info', 'node-a8-79.grenoble.iot-lab.info', 'node-a8-223.grenoble.iot-lab.info'])\n",
      "Closing connections to dict_keys(['node-a8-209.grenoble.iot-lab.info', 'node-a8-228.grenoble.iot-lab.info', 'node-a8-61.grenoble.iot-lab.info', 'node-a8-205.grenoble.iot-lab.info', 'node-a8-198.grenoble.iot-lab.info', 'node-a8-58.grenoble.iot-lab.info', 'node-a8-63.grenoble.iot-lab.info', 'node-a8-81.grenoble.iot-lab.info', 'node-a8-79.grenoble.iot-lab.info', 'node-a8-223.grenoble.iot-lab.info'])\n",
      "Node per iteration: 10\n",
      "Openning connection to node-a8-7.grenoble.iot-lab.info\n",
      "Openning connection to node-a8-22.grenoble.iot-lab.info\n",
      "Openning connection to node-a8-86.grenoble.iot-lab.info\n",
      "Openning connection to node-a8-46.grenoble.iot-lab.info\n",
      "Openning connection to node-a8-197.grenoble.iot-lab.info\n",
      "Openning connection to node-a8-210.grenoble.iot-lab.info\n",
      "Openning connection to node-a8-73.grenoble.iot-lab.info\n",
      "Openning connection to node-a8-47.grenoble.iot-lab.info\n",
      "Openning connection to node-a8-52.grenoble.iot-lab.info\n",
      "Openning connection to node-a8-216.grenoble.iot-lab.info\n",
      "Starting iteration with: dict_keys(['node-a8-7.grenoble.iot-lab.info', 'node-a8-22.grenoble.iot-lab.info', 'node-a8-86.grenoble.iot-lab.info', 'node-a8-46.grenoble.iot-lab.info', 'node-a8-197.grenoble.iot-lab.info', 'node-a8-210.grenoble.iot-lab.info', 'node-a8-73.grenoble.iot-lab.info', 'node-a8-47.grenoble.iot-lab.info', 'node-a8-52.grenoble.iot-lab.info', 'node-a8-216.grenoble.iot-lab.info'])\n",
      "Closing connections to dict_keys(['node-a8-7.grenoble.iot-lab.info', 'node-a8-22.grenoble.iot-lab.info', 'node-a8-86.grenoble.iot-lab.info', 'node-a8-46.grenoble.iot-lab.info', 'node-a8-197.grenoble.iot-lab.info', 'node-a8-210.grenoble.iot-lab.info', 'node-a8-73.grenoble.iot-lab.info', 'node-a8-47.grenoble.iot-lab.info', 'node-a8-52.grenoble.iot-lab.info', 'node-a8-216.grenoble.iot-lab.info'])\n",
      "Node per iteration: 10\n",
      "Openning connection to node-a8-45.grenoble.iot-lab.info\n",
      "Openning connection to node-a8-71.grenoble.iot-lab.info\n",
      "Openning connection to node-a8-90.grenoble.iot-lab.info\n",
      "Openning connection to node-a8-226.grenoble.iot-lab.info\n",
      "Openning connection to node-a8-199.grenoble.iot-lab.info\n",
      "Openning connection to node-a8-200.grenoble.iot-lab.info\n",
      "Openning connection to node-a8-208.grenoble.iot-lab.info\n",
      "Openning connection to node-a8-207.grenoble.iot-lab.info\n",
      "Openning connection to node-a8-218.grenoble.iot-lab.info\n",
      "Openning connection to node-a8-80.grenoble.iot-lab.info\n",
      "Starting iteration with: dict_keys(['node-a8-45.grenoble.iot-lab.info', 'node-a8-71.grenoble.iot-lab.info', 'node-a8-90.grenoble.iot-lab.info', 'node-a8-226.grenoble.iot-lab.info', 'node-a8-199.grenoble.iot-lab.info', 'node-a8-200.grenoble.iot-lab.info', 'node-a8-208.grenoble.iot-lab.info', 'node-a8-207.grenoble.iot-lab.info', 'node-a8-218.grenoble.iot-lab.info', 'node-a8-80.grenoble.iot-lab.info'])\n",
      "Closing connections to dict_keys(['node-a8-45.grenoble.iot-lab.info', 'node-a8-71.grenoble.iot-lab.info', 'node-a8-90.grenoble.iot-lab.info', 'node-a8-226.grenoble.iot-lab.info', 'node-a8-199.grenoble.iot-lab.info', 'node-a8-200.grenoble.iot-lab.info', 'node-a8-208.grenoble.iot-lab.info', 'node-a8-207.grenoble.iot-lab.info', 'node-a8-218.grenoble.iot-lab.info', 'node-a8-80.grenoble.iot-lab.info'])\n",
      "Node per iteration: 10\n",
      "Openning connection to node-a8-4.grenoble.iot-lab.info\n",
      "Openning connection to node-a8-96.grenoble.iot-lab.info\n",
      "Openning connection to node-a8-213.grenoble.iot-lab.info\n",
      "Openning connection to node-a8-42.grenoble.iot-lab.info\n",
      "Openning connection to node-a8-70.grenoble.iot-lab.info\n",
      "Openning connection to node-a8-219.grenoble.iot-lab.info\n",
      "Openning connection to node-a8-94.grenoble.iot-lab.info\n",
      "Openning connection to node-a8-31.grenoble.iot-lab.info\n",
      "Openning connection to node-a8-67.grenoble.iot-lab.info\n",
      "Openning connection to node-a8-82.grenoble.iot-lab.info\n",
      "Starting iteration with: dict_keys(['node-a8-4.grenoble.iot-lab.info', 'node-a8-96.grenoble.iot-lab.info', 'node-a8-213.grenoble.iot-lab.info', 'node-a8-42.grenoble.iot-lab.info', 'node-a8-70.grenoble.iot-lab.info', 'node-a8-219.grenoble.iot-lab.info', 'node-a8-94.grenoble.iot-lab.info', 'node-a8-31.grenoble.iot-lab.info', 'node-a8-67.grenoble.iot-lab.info', 'node-a8-82.grenoble.iot-lab.info'])\n",
      "Closing connections to dict_keys(['node-a8-4.grenoble.iot-lab.info', 'node-a8-96.grenoble.iot-lab.info', 'node-a8-213.grenoble.iot-lab.info', 'node-a8-42.grenoble.iot-lab.info', 'node-a8-70.grenoble.iot-lab.info', 'node-a8-219.grenoble.iot-lab.info', 'node-a8-94.grenoble.iot-lab.info', 'node-a8-31.grenoble.iot-lab.info', 'node-a8-67.grenoble.iot-lab.info', 'node-a8-82.grenoble.iot-lab.info'])\n",
      "Node per iteration: 10\n",
      "Openning connection to node-a8-83.grenoble.iot-lab.info\n",
      "Openning connection to node-a8-53.grenoble.iot-lab.info\n",
      "Openning connection to node-a8-40.grenoble.iot-lab.info\n",
      "Openning connection to node-a8-39.grenoble.iot-lab.info\n",
      "Openning connection to node-a8-24.grenoble.iot-lab.info\n",
      "Openning connection to node-a8-74.grenoble.iot-lab.info\n",
      "Openning connection to node-a8-225.grenoble.iot-lab.info\n",
      "Openning connection to node-a8-66.grenoble.iot-lab.info\n",
      "Openning connection to node-a8-59.grenoble.iot-lab.info\n",
      "Openning connection to node-a8-222.grenoble.iot-lab.info\n",
      "Starting iteration with: dict_keys(['node-a8-83.grenoble.iot-lab.info', 'node-a8-53.grenoble.iot-lab.info', 'node-a8-40.grenoble.iot-lab.info', 'node-a8-39.grenoble.iot-lab.info', 'node-a8-24.grenoble.iot-lab.info', 'node-a8-74.grenoble.iot-lab.info', 'node-a8-225.grenoble.iot-lab.info', 'node-a8-66.grenoble.iot-lab.info', 'node-a8-59.grenoble.iot-lab.info', 'node-a8-222.grenoble.iot-lab.info'])\n",
      "Closing connections to dict_keys(['node-a8-83.grenoble.iot-lab.info', 'node-a8-53.grenoble.iot-lab.info', 'node-a8-40.grenoble.iot-lab.info', 'node-a8-39.grenoble.iot-lab.info', 'node-a8-24.grenoble.iot-lab.info', 'node-a8-74.grenoble.iot-lab.info', 'node-a8-225.grenoble.iot-lab.info', 'node-a8-66.grenoble.iot-lab.info', 'node-a8-59.grenoble.iot-lab.info', 'node-a8-222.grenoble.iot-lab.info'])\n",
      "Node per iteration: 10\n",
      "Openning connection to node-a8-224.grenoble.iot-lab.info\n",
      "Openning connection to node-a8-3.grenoble.iot-lab.info\n",
      "Openning connection to node-a8-30.grenoble.iot-lab.info\n",
      "Openning connection to node-a8-37.grenoble.iot-lab.info\n",
      "Openning connection to node-a8-44.grenoble.iot-lab.info\n",
      "Openning connection to node-a8-27.grenoble.iot-lab.info\n",
      "Openning connection to node-a8-48.grenoble.iot-lab.info\n",
      "Openning connection to node-a8-84.grenoble.iot-lab.info\n",
      "Openning connection to node-a8-64.grenoble.iot-lab.info\n",
      "Openning connection to node-a8-9.grenoble.iot-lab.info\n",
      "Starting iteration with: dict_keys(['node-a8-224.grenoble.iot-lab.info', 'node-a8-3.grenoble.iot-lab.info', 'node-a8-30.grenoble.iot-lab.info', 'node-a8-37.grenoble.iot-lab.info', 'node-a8-44.grenoble.iot-lab.info', 'node-a8-27.grenoble.iot-lab.info', 'node-a8-48.grenoble.iot-lab.info', 'node-a8-84.grenoble.iot-lab.info', 'node-a8-64.grenoble.iot-lab.info', 'node-a8-9.grenoble.iot-lab.info'])\n",
      "Closing connections to dict_keys(['node-a8-224.grenoble.iot-lab.info', 'node-a8-3.grenoble.iot-lab.info', 'node-a8-30.grenoble.iot-lab.info', 'node-a8-37.grenoble.iot-lab.info', 'node-a8-44.grenoble.iot-lab.info', 'node-a8-27.grenoble.iot-lab.info', 'node-a8-48.grenoble.iot-lab.info', 'node-a8-84.grenoble.iot-lab.info', 'node-a8-64.grenoble.iot-lab.info', 'node-a8-9.grenoble.iot-lab.info'])\n",
      "Node per iteration: 10\n",
      "Openning connection to node-a8-5.grenoble.iot-lab.info\n",
      "Openning connection to node-a8-215.grenoble.iot-lab.info\n",
      "Openning connection to node-a8-34.grenoble.iot-lab.info\n",
      "Openning connection to node-a8-98.grenoble.iot-lab.info\n",
      "Openning connection to node-a8-36.grenoble.iot-lab.info\n",
      "Openning connection to node-a8-220.grenoble.iot-lab.info\n",
      "Openning connection to node-a8-201.grenoble.iot-lab.info\n",
      "Openning connection to node-a8-212.grenoble.iot-lab.info\n",
      "Openning connection to node-a8-221.grenoble.iot-lab.info\n",
      "Openning connection to node-a8-95.grenoble.iot-lab.info\n",
      "Starting iteration with: dict_keys(['node-a8-5.grenoble.iot-lab.info', 'node-a8-215.grenoble.iot-lab.info', 'node-a8-34.grenoble.iot-lab.info', 'node-a8-98.grenoble.iot-lab.info', 'node-a8-36.grenoble.iot-lab.info', 'node-a8-220.grenoble.iot-lab.info', 'node-a8-201.grenoble.iot-lab.info', 'node-a8-212.grenoble.iot-lab.info', 'node-a8-221.grenoble.iot-lab.info', 'node-a8-95.grenoble.iot-lab.info'])\n",
      "Closing connections to dict_keys(['node-a8-5.grenoble.iot-lab.info', 'node-a8-215.grenoble.iot-lab.info', 'node-a8-34.grenoble.iot-lab.info', 'node-a8-98.grenoble.iot-lab.info', 'node-a8-36.grenoble.iot-lab.info', 'node-a8-220.grenoble.iot-lab.info', 'node-a8-201.grenoble.iot-lab.info', 'node-a8-212.grenoble.iot-lab.info', 'node-a8-221.grenoble.iot-lab.info', 'node-a8-95.grenoble.iot-lab.info'])\n",
      "Node per iteration: 10\n",
      "Openning connection to node-a8-97.grenoble.iot-lab.info\n",
      "Openning connection to node-a8-43.grenoble.iot-lab.info\n",
      "Openning connection to node-a8-49.grenoble.iot-lab.info\n",
      "Openning connection to node-a8-62.grenoble.iot-lab.info\n",
      "Openning connection to node-a8-85.grenoble.iot-lab.info\n",
      "Openning connection to node-a8-214.grenoble.iot-lab.info\n",
      "Openning connection to node-a8-88.grenoble.iot-lab.info\n",
      "Openning connection to node-a8-204.grenoble.iot-lab.info\n",
      "Openning connection to node-a8-206.grenoble.iot-lab.info\n",
      "Openning connection to node-a8-29.grenoble.iot-lab.info\n",
      "Starting iteration with: dict_keys(['node-a8-97.grenoble.iot-lab.info', 'node-a8-43.grenoble.iot-lab.info', 'node-a8-49.grenoble.iot-lab.info', 'node-a8-62.grenoble.iot-lab.info', 'node-a8-85.grenoble.iot-lab.info', 'node-a8-214.grenoble.iot-lab.info', 'node-a8-88.grenoble.iot-lab.info', 'node-a8-204.grenoble.iot-lab.info', 'node-a8-206.grenoble.iot-lab.info', 'node-a8-29.grenoble.iot-lab.info'])\n",
      "Closing connections to dict_keys(['node-a8-97.grenoble.iot-lab.info', 'node-a8-43.grenoble.iot-lab.info', 'node-a8-49.grenoble.iot-lab.info', 'node-a8-62.grenoble.iot-lab.info', 'node-a8-85.grenoble.iot-lab.info', 'node-a8-214.grenoble.iot-lab.info', 'node-a8-88.grenoble.iot-lab.info', 'node-a8-204.grenoble.iot-lab.info', 'node-a8-206.grenoble.iot-lab.info', 'node-a8-29.grenoble.iot-lab.info'])\n",
      "Node per iteration: 10\n",
      "Openning connection to node-a8-51.grenoble.iot-lab.info\n",
      "Openning connection to node-a8-41.grenoble.iot-lab.info\n",
      "Openning connection to node-a8-203.grenoble.iot-lab.info\n",
      "Openning connection to node-a8-65.grenoble.iot-lab.info\n",
      "Openning connection to node-a8-69.grenoble.iot-lab.info\n",
      "Openning connection to node-a8-57.grenoble.iot-lab.info\n",
      "Openning connection to node-a8-93.grenoble.iot-lab.info\n",
      "Openning connection to node-a8-202.grenoble.iot-lab.info\n",
      "Openning connection to node-a8-211.grenoble.iot-lab.info\n",
      "Openning connection to node-a8-217.grenoble.iot-lab.info\n",
      "Starting iteration with: dict_keys(['node-a8-51.grenoble.iot-lab.info', 'node-a8-41.grenoble.iot-lab.info', 'node-a8-203.grenoble.iot-lab.info', 'node-a8-65.grenoble.iot-lab.info', 'node-a8-69.grenoble.iot-lab.info', 'node-a8-57.grenoble.iot-lab.info', 'node-a8-93.grenoble.iot-lab.info', 'node-a8-202.grenoble.iot-lab.info', 'node-a8-211.grenoble.iot-lab.info', 'node-a8-217.grenoble.iot-lab.info'])\n",
      "Closing connections to dict_keys(['node-a8-51.grenoble.iot-lab.info', 'node-a8-41.grenoble.iot-lab.info', 'node-a8-203.grenoble.iot-lab.info', 'node-a8-65.grenoble.iot-lab.info', 'node-a8-69.grenoble.iot-lab.info', 'node-a8-57.grenoble.iot-lab.info', 'node-a8-93.grenoble.iot-lab.info', 'node-a8-202.grenoble.iot-lab.info', 'node-a8-211.grenoble.iot-lab.info', 'node-a8-217.grenoble.iot-lab.info'])\n",
      "Node per iteration: 9\n",
      "Openning connection to node-a8-50.grenoble.iot-lab.info\n",
      "Openning connection to node-a8-8.grenoble.iot-lab.info\n",
      "Openning connection to node-a8-25.grenoble.iot-lab.info\n",
      "Openning connection to node-a8-68.grenoble.iot-lab.info\n",
      "Openning connection to node-a8-99.grenoble.iot-lab.info\n",
      "Openning connection to node-a8-89.grenoble.iot-lab.info\n",
      "Openning connection to node-a8-33.grenoble.iot-lab.info\n",
      "Openning connection to node-a8-227.grenoble.iot-lab.info\n",
      "Openning connection to node-a8-23.grenoble.iot-lab.info\n",
      "Starting iteration with: dict_keys(['node-a8-50.grenoble.iot-lab.info', 'node-a8-8.grenoble.iot-lab.info', 'node-a8-25.grenoble.iot-lab.info', 'node-a8-68.grenoble.iot-lab.info', 'node-a8-99.grenoble.iot-lab.info', 'node-a8-89.grenoble.iot-lab.info', 'node-a8-33.grenoble.iot-lab.info', 'node-a8-227.grenoble.iot-lab.info', 'node-a8-23.grenoble.iot-lab.info'])\n",
      "Closing connections to dict_keys(['node-a8-50.grenoble.iot-lab.info', 'node-a8-8.grenoble.iot-lab.info', 'node-a8-25.grenoble.iot-lab.info', 'node-a8-68.grenoble.iot-lab.info', 'node-a8-99.grenoble.iot-lab.info', 'node-a8-89.grenoble.iot-lab.info', 'node-a8-33.grenoble.iot-lab.info', 'node-a8-227.grenoble.iot-lab.info', 'node-a8-23.grenoble.iot-lab.info'])\n",
      "SUCCESS\n",
      "linux-grenoble: Openning connection to grenoble\n",
      "Getting from:  ping_experiments/linux_2/node_ids_to_addresses.json\n",
      "grenoble.iot-lab.info\n"
     ]
    }
   ],
   "source": [
    "linux_grenoble_2.run_fetch_addresses()"
   ]
  },
  {
   "cell_type": "code",
   "execution_count": 8,
   "id": "10e95bd8-776b-4223-a40b-676b488a0376",
   "metadata": {},
   "outputs": [
    {
     "name": "stdout",
     "output_type": "stream",
     "text": [
      "linux-grenoble: Openning connection to grenoble\n",
      "Getting from:  ping_experiments/linux_2/node_ids_to_addresses.json\n",
      "grenoble.iot-lab.info\n",
      "linux-grenoble: 99 adresses received!\n"
     ]
    }
   ],
   "source": [
    "linux_grenoble_2.digest_new_addresses()"
   ]
  },
  {
   "cell_type": "code",
   "execution_count": 9,
   "id": "4e37dfa5-7a52-4bb0-8060-2a446c1b0eed",
   "metadata": {},
   "outputs": [
    {
     "data": {
      "text/plain": [
       "{'node-a8-209.grenoble.iot-lab.info': '2001:660:5307:3000::d1',\n",
       " 'node-a8-228.grenoble.iot-lab.info': '2001:660:5307:3000::e4',\n",
       " 'node-a8-61.grenoble.iot-lab.info': '2001:660:5307:3000::3d',\n",
       " 'node-a8-205.grenoble.iot-lab.info': '2001:660:5307:3000::cd',\n",
       " 'node-a8-198.grenoble.iot-lab.info': '2001:660:5307:3000::c6',\n",
       " 'node-a8-58.grenoble.iot-lab.info': '2001:660:5307:3000::3a',\n",
       " 'node-a8-63.grenoble.iot-lab.info': '2001:660:5307:3000::3f',\n",
       " 'node-a8-81.grenoble.iot-lab.info': '2001:660:5307:3000::51',\n",
       " 'node-a8-79.grenoble.iot-lab.info': '2001:660:5307:3000::4f',\n",
       " 'node-a8-223.grenoble.iot-lab.info': '2001:660:5307:3000::df',\n",
       " 'node-a8-7.grenoble.iot-lab.info': '2001:660:5307:3000::7',\n",
       " 'node-a8-22.grenoble.iot-lab.info': '2001:660:5307:3000::16',\n",
       " 'node-a8-86.grenoble.iot-lab.info': '2001:660:5307:3000::56',\n",
       " 'node-a8-46.grenoble.iot-lab.info': '2001:660:5307:3000::2e',\n",
       " 'node-a8-197.grenoble.iot-lab.info': '2001:660:5307:3000::c5',\n",
       " 'node-a8-210.grenoble.iot-lab.info': '2001:660:5307:3000::d2',\n",
       " 'node-a8-73.grenoble.iot-lab.info': '2001:660:5307:3000::49',\n",
       " 'node-a8-47.grenoble.iot-lab.info': '2001:660:5307:3000::2f',\n",
       " 'node-a8-52.grenoble.iot-lab.info': '2001:660:5307:3000::34',\n",
       " 'node-a8-216.grenoble.iot-lab.info': '2001:660:5307:3000::d8',\n",
       " 'node-a8-45.grenoble.iot-lab.info': '2001:660:5307:3000::2d',\n",
       " 'node-a8-71.grenoble.iot-lab.info': '2001:660:5307:3000::47',\n",
       " 'node-a8-90.grenoble.iot-lab.info': '2001:660:5307:3000::5a',\n",
       " 'node-a8-226.grenoble.iot-lab.info': '2001:660:5307:3000::e2',\n",
       " 'node-a8-199.grenoble.iot-lab.info': '2001:660:5307:3000::c7',\n",
       " 'node-a8-200.grenoble.iot-lab.info': '2001:660:5307:3000::c8',\n",
       " 'node-a8-208.grenoble.iot-lab.info': '2001:660:5307:3000::d0',\n",
       " 'node-a8-207.grenoble.iot-lab.info': '2001:660:5307:3000::cf',\n",
       " 'node-a8-218.grenoble.iot-lab.info': '2001:660:5307:3000::da',\n",
       " 'node-a8-80.grenoble.iot-lab.info': '2001:660:5307:3000::50',\n",
       " 'node-a8-4.grenoble.iot-lab.info': '2001:660:5307:3000::4',\n",
       " 'node-a8-96.grenoble.iot-lab.info': '2001:660:5307:3000::60',\n",
       " 'node-a8-213.grenoble.iot-lab.info': '2001:660:5307:3000::d5',\n",
       " 'node-a8-42.grenoble.iot-lab.info': '2001:660:5307:3000::2a',\n",
       " 'node-a8-70.grenoble.iot-lab.info': '2001:660:5307:3000::46',\n",
       " 'node-a8-219.grenoble.iot-lab.info': '2001:660:5307:3000::db',\n",
       " 'node-a8-94.grenoble.iot-lab.info': '2001:660:5307:3000::5e',\n",
       " 'node-a8-31.grenoble.iot-lab.info': '2001:660:5307:3000::1f',\n",
       " 'node-a8-67.grenoble.iot-lab.info': '2001:660:5307:3000::43',\n",
       " 'node-a8-82.grenoble.iot-lab.info': '2001:660:5307:3000::52',\n",
       " 'node-a8-83.grenoble.iot-lab.info': '2001:660:5307:3000::53',\n",
       " 'node-a8-53.grenoble.iot-lab.info': '2001:660:5307:3000::35',\n",
       " 'node-a8-40.grenoble.iot-lab.info': '2001:660:5307:3000::28',\n",
       " 'node-a8-39.grenoble.iot-lab.info': '2001:660:5307:3000::27',\n",
       " 'node-a8-24.grenoble.iot-lab.info': '2001:660:5307:3000::18',\n",
       " 'node-a8-74.grenoble.iot-lab.info': '2001:660:5307:3000::4a',\n",
       " 'node-a8-225.grenoble.iot-lab.info': '2001:660:5307:3000::e1',\n",
       " 'node-a8-66.grenoble.iot-lab.info': '2001:660:5307:3000::42',\n",
       " 'node-a8-59.grenoble.iot-lab.info': '2001:660:5307:3000::3b',\n",
       " 'node-a8-222.grenoble.iot-lab.info': '2001:660:5307:3000::de',\n",
       " 'node-a8-224.grenoble.iot-lab.info': '2001:660:5307:3000::e0',\n",
       " 'node-a8-3.grenoble.iot-lab.info': '2001:660:5307:3000::3',\n",
       " 'node-a8-30.grenoble.iot-lab.info': '2001:660:5307:3000::1e',\n",
       " 'node-a8-37.grenoble.iot-lab.info': '2001:660:5307:3000::25',\n",
       " 'node-a8-44.grenoble.iot-lab.info': '2001:660:5307:3000::2c',\n",
       " 'node-a8-27.grenoble.iot-lab.info': '2001:660:5307:3000::1b',\n",
       " 'node-a8-48.grenoble.iot-lab.info': '2001:660:5307:3000::30',\n",
       " 'node-a8-84.grenoble.iot-lab.info': '2001:660:5307:3000::54',\n",
       " 'node-a8-64.grenoble.iot-lab.info': '2001:660:5307:3000::40',\n",
       " 'node-a8-9.grenoble.iot-lab.info': '2001:660:5307:3000::9',\n",
       " 'node-a8-5.grenoble.iot-lab.info': '2001:660:5307:3000::5',\n",
       " 'node-a8-215.grenoble.iot-lab.info': '2001:660:5307:3000::d7',\n",
       " 'node-a8-34.grenoble.iot-lab.info': '2001:660:5307:3000::22',\n",
       " 'node-a8-98.grenoble.iot-lab.info': '2001:660:5307:3000::62',\n",
       " 'node-a8-36.grenoble.iot-lab.info': '2001:660:5307:3000::24',\n",
       " 'node-a8-220.grenoble.iot-lab.info': '2001:660:5307:3000::dc',\n",
       " 'node-a8-201.grenoble.iot-lab.info': '2001:660:5307:3000::c9',\n",
       " 'node-a8-212.grenoble.iot-lab.info': '2001:660:5307:3000::d4',\n",
       " 'node-a8-221.grenoble.iot-lab.info': '2001:660:5307:3000::dd',\n",
       " 'node-a8-95.grenoble.iot-lab.info': '2001:660:5307:3000::5f',\n",
       " 'node-a8-97.grenoble.iot-lab.info': '2001:660:5307:3000::61',\n",
       " 'node-a8-43.grenoble.iot-lab.info': '2001:660:5307:3000::2b',\n",
       " 'node-a8-49.grenoble.iot-lab.info': '2001:660:5307:3000::31',\n",
       " 'node-a8-62.grenoble.iot-lab.info': '2001:660:5307:3000::3e',\n",
       " 'node-a8-85.grenoble.iot-lab.info': '2001:660:5307:3000::55',\n",
       " 'node-a8-214.grenoble.iot-lab.info': '2001:660:5307:3000::d6',\n",
       " 'node-a8-88.grenoble.iot-lab.info': '2001:660:5307:3000::58',\n",
       " 'node-a8-204.grenoble.iot-lab.info': '2001:660:5307:3000::cc',\n",
       " 'node-a8-206.grenoble.iot-lab.info': '2001:660:5307:3000::ce',\n",
       " 'node-a8-29.grenoble.iot-lab.info': '2001:660:5307:3000::1d',\n",
       " 'node-a8-51.grenoble.iot-lab.info': '2001:660:5307:3000::33',\n",
       " 'node-a8-41.grenoble.iot-lab.info': '2001:660:5307:3000::29',\n",
       " 'node-a8-203.grenoble.iot-lab.info': '2001:660:5307:3000::cb',\n",
       " 'node-a8-65.grenoble.iot-lab.info': '2001:660:5307:3000::41',\n",
       " 'node-a8-69.grenoble.iot-lab.info': '2001:660:5307:3000::45',\n",
       " 'node-a8-57.grenoble.iot-lab.info': '2001:660:5307:3000::39',\n",
       " 'node-a8-93.grenoble.iot-lab.info': '2001:660:5307:3000::5d',\n",
       " 'node-a8-202.grenoble.iot-lab.info': '2001:660:5307:3000::ca',\n",
       " 'node-a8-211.grenoble.iot-lab.info': '2001:660:5307:3000::d3',\n",
       " 'node-a8-217.grenoble.iot-lab.info': '2001:660:5307:3000::d9',\n",
       " 'node-a8-50.grenoble.iot-lab.info': '2001:660:5307:3000::32',\n",
       " 'node-a8-8.grenoble.iot-lab.info': '2001:660:5307:3000::8',\n",
       " 'node-a8-25.grenoble.iot-lab.info': '2001:660:5307:3000::19',\n",
       " 'node-a8-68.grenoble.iot-lab.info': '2001:660:5307:3000::44',\n",
       " 'node-a8-99.grenoble.iot-lab.info': '2001:660:5307:3000::63',\n",
       " 'node-a8-89.grenoble.iot-lab.info': '2001:660:5307:3000::59',\n",
       " 'node-a8-33.grenoble.iot-lab.info': '2001:660:5307:3000::21',\n",
       " 'node-a8-227.grenoble.iot-lab.info': '2001:660:5307:3000::e3',\n",
       " 'node-a8-23.grenoble.iot-lab.info': '2001:660:5307:3000::17'}"
      ]
     },
     "execution_count": 9,
     "metadata": {},
     "output_type": "execute_result"
    }
   ],
   "source": [
    "linux_grenoble_2.nodes_to_global_addresses"
   ]
  },
  {
   "cell_type": "code",
   "execution_count": 10,
   "id": "09b0f136-e57f-4888-9318-49eab345da15",
   "metadata": {},
   "outputs": [
    {
     "data": {
      "text/plain": [
       "{}"
      ]
     },
     "execution_count": 10,
     "metadata": {},
     "output_type": "execute_result"
    }
   ],
   "source": [
    "linux_grenoble_2.awaiting_nodes_to_global_addresses"
   ]
  },
  {
   "cell_type": "code",
   "execution_count": 11,
   "id": "4c19f3d5-27b3-4450-a575-06cd93440ffb",
   "metadata": {},
   "outputs": [
    {
     "name": "stdout",
     "output_type": "stream",
     "text": [
      "Stored 'linux_grenoble_2' (LinuxCoordinator)\n"
     ]
    }
   ],
   "source": [
    "%store linux_grenoble_2"
   ]
  },
  {
   "cell_type": "markdown",
   "id": "218d50b4-b0a9-498e-a8ad-c6ff03d47bd9",
   "metadata": {},
   "source": [
    "### Retry Fetch Addresses"
   ]
  },
  {
   "cell_type": "code",
   "execution_count": 10,
   "id": "cafec517-0f8d-459c-bca1-7fdb1ec7f8cd",
   "metadata": {},
   "outputs": [
    {
     "name": "stdout",
     "output_type": "stream",
     "text": [
      "linux-strasbourg: All addresses are compelete, nothing to rerun.\n"
     ]
    }
   ],
   "source": [
    "linux_grenoble_2.retry_fetch_addresses()"
   ]
  },
  {
   "cell_type": "code",
   "execution_count": 11,
   "id": "6508027e-06e7-4e8c-af3f-e28bfdb5c416",
   "metadata": {},
   "outputs": [
    {
     "data": {
      "text/plain": [
       "188"
      ]
     },
     "execution_count": 11,
     "metadata": {},
     "output_type": "execute_result"
    }
   ],
   "source": [
    "len(linux_grenoble_2.nodes_to_global_addresses.keys())"
   ]
  },
  {
   "cell_type": "code",
   "execution_count": 7,
   "id": "cbac7244-4573-4208-83ec-59e6da66534c",
   "metadata": {},
   "outputs": [
    {
     "name": "stdout",
     "output_type": "stream",
     "text": [
      "linux-strasbourg: Openning connection to strasbourg\n",
      "Getting from:  ping_experiments/linux/node_ids_to_addresses.json\n",
      "strasbourg.iot-lab.info\n",
      "linux-strasbourg: 2 adresses received!\n"
     ]
    }
   ],
   "source": [
    "linux_grenoble_2.digest_new_addresses()"
   ]
  },
  {
   "cell_type": "markdown",
   "id": "98edc054-38d1-4817-8b18-403745776e9b",
   "metadata": {},
   "source": [
    "### Store back the last state of the object"
   ]
  },
  {
   "cell_type": "code",
   "execution_count": 11,
   "id": "722c563b-ded5-45cb-9722-74106588f625",
   "metadata": {},
   "outputs": [
    {
     "name": "stdout",
     "output_type": "stream",
     "text": [
      "Stored 'linux_strasbourg' (LinuxCoordinator)\n"
     ]
    }
   ],
   "source": [
    "%store linux_grenoble_2"
   ]
  },
  {
   "cell_type": "markdown",
   "id": "f878aa81-924c-4d49-a707-8c3407e4e108",
   "metadata": {},
   "source": [
    "### Finished, rerun this for new fetch address round"
   ]
  },
  {
   "cell_type": "code",
   "execution_count": 1,
   "id": "29989c99-62ea-4c3d-a009-68a4698743bf",
   "metadata": {},
   "outputs": [
    {
     "data": {
      "text/plain": [
       "['node-a8-1.paris.iot-lab.info',\n",
       " 'node-a8-11.paris.iot-lab.info',\n",
       " 'node-a8-12.paris.iot-lab.info',\n",
       " 'node-a8-13.paris.iot-lab.info',\n",
       " 'node-a8-15.paris.iot-lab.info',\n",
       " 'node-a8-16.paris.iot-lab.info',\n",
       " 'node-a8-17.paris.iot-lab.info',\n",
       " 'node-a8-18.paris.iot-lab.info',\n",
       " 'node-a8-19.paris.iot-lab.info',\n",
       " 'node-a8-2.paris.iot-lab.info',\n",
       " 'node-a8-20.paris.iot-lab.info',\n",
       " 'node-a8-21.paris.iot-lab.info',\n",
       " 'node-a8-22.paris.iot-lab.info',\n",
       " 'node-a8-23.paris.iot-lab.info',\n",
       " 'node-a8-24.paris.iot-lab.info',\n",
       " 'node-a8-25.paris.iot-lab.info',\n",
       " 'node-a8-26.paris.iot-lab.info',\n",
       " 'node-a8-27.paris.iot-lab.info',\n",
       " 'node-a8-28.paris.iot-lab.info',\n",
       " 'node-a8-29.paris.iot-lab.info',\n",
       " 'node-a8-3.paris.iot-lab.info',\n",
       " 'node-a8-30.paris.iot-lab.info',\n",
       " 'node-a8-32.paris.iot-lab.info',\n",
       " 'node-a8-33.paris.iot-lab.info',\n",
       " 'node-a8-34.paris.iot-lab.info',\n",
       " 'node-a8-35.paris.iot-lab.info',\n",
       " 'node-a8-36.paris.iot-lab.info',\n",
       " 'node-a8-37.paris.iot-lab.info',\n",
       " 'node-a8-38.paris.iot-lab.info',\n",
       " 'node-a8-39.paris.iot-lab.info',\n",
       " 'node-a8-4.paris.iot-lab.info',\n",
       " 'node-a8-40.paris.iot-lab.info',\n",
       " 'node-a8-41.paris.iot-lab.info',\n",
       " 'node-a8-42.paris.iot-lab.info',\n",
       " 'node-a8-43.paris.iot-lab.info',\n",
       " 'node-a8-44.paris.iot-lab.info',\n",
       " 'node-a8-45.paris.iot-lab.info',\n",
       " 'node-a8-46.paris.iot-lab.info',\n",
       " 'node-a8-47.paris.iot-lab.info',\n",
       " 'node-a8-48.paris.iot-lab.info',\n",
       " 'node-a8-49.paris.iot-lab.info',\n",
       " 'node-a8-5.paris.iot-lab.info',\n",
       " 'node-a8-50.paris.iot-lab.info',\n",
       " 'node-a8-51.paris.iot-lab.info',\n",
       " 'node-a8-52.paris.iot-lab.info',\n",
       " 'node-a8-53.paris.iot-lab.info',\n",
       " 'node-a8-54.paris.iot-lab.info',\n",
       " 'node-a8-55.paris.iot-lab.info',\n",
       " 'node-a8-56.paris.iot-lab.info',\n",
       " 'node-a8-57.paris.iot-lab.info',\n",
       " 'node-a8-58.paris.iot-lab.info',\n",
       " 'node-a8-59.paris.iot-lab.info',\n",
       " 'node-a8-6.paris.iot-lab.info',\n",
       " 'node-a8-60.paris.iot-lab.info',\n",
       " 'node-a8-61.paris.iot-lab.info',\n",
       " 'node-a8-62.paris.iot-lab.info',\n",
       " 'node-a8-7.paris.iot-lab.info',\n",
       " 'node-a8-9.paris.iot-lab.info']"
      ]
     },
     "execution_count": 1,
     "metadata": {},
     "output_type": "execute_result"
    }
   ],
   "source": [
    "nodes = ['node-a8-1.paris.iot-lab.info',   \n",
    "         'node-a8-11.paris.iot-lab.info', 'node-a8-12.paris.iot-lab.info',                   \n",
    "         'node-a8-13.paris.iot-lab.info', 'node-a8-15.paris.iot-lab.info',                   \n",
    "         'node-a8-16.paris.iot-lab.info', 'node-a8-17.paris.iot-lab.info',                   \n",
    "         'node-a8-18.paris.iot-lab.info', 'node-a8-19.paris.iot-lab.info',                   \n",
    "         'node-a8-2.paris.iot-lab.info', 'node-a8-20.paris.iot-lab.info',                    \n",
    "         'node-a8-21.paris.iot-lab.info', 'node-a8-22.paris.iot-lab.info',                   \n",
    "         'node-a8-23.paris.iot-lab.info', 'node-a8-24.paris.iot-lab.info',                   \n",
    "         'node-a8-25.paris.iot-lab.info', 'node-a8-26.paris.iot-lab.info',                   \n",
    "         'node-a8-27.paris.iot-lab.info', 'node-a8-28.paris.iot-lab.info',                   \n",
    "         'node-a8-29.paris.iot-lab.info', 'node-a8-3.paris.iot-lab.info',                    \n",
    "         'node-a8-30.paris.iot-lab.info', 'node-a8-32.paris.iot-lab.info',                   \n",
    "         'node-a8-33.paris.iot-lab.info', 'node-a8-34.paris.iot-lab.info',                   \n",
    "         'node-a8-35.paris.iot-lab.info', 'node-a8-36.paris.iot-lab.info',                   \n",
    "         'node-a8-37.paris.iot-lab.info', 'node-a8-38.paris.iot-lab.info',                   \n",
    "         'node-a8-39.paris.iot-lab.info', 'node-a8-4.paris.iot-lab.info',                    \n",
    "         'node-a8-40.paris.iot-lab.info', 'node-a8-41.paris.iot-lab.info',                   \n",
    "         'node-a8-42.paris.iot-lab.info', 'node-a8-43.paris.iot-lab.info',                   \n",
    "         'node-a8-44.paris.iot-lab.info', 'node-a8-45.paris.iot-lab.info',                   \n",
    "         'node-a8-46.paris.iot-lab.info', 'node-a8-47.paris.iot-lab.info',                   \n",
    "         'node-a8-48.paris.iot-lab.info', 'node-a8-49.paris.iot-lab.info',                   \n",
    "         'node-a8-5.paris.iot-lab.info', 'node-a8-50.paris.iot-lab.info',                    \n",
    "         'node-a8-51.paris.iot-lab.info', 'node-a8-52.paris.iot-lab.info',                   \n",
    "         'node-a8-53.paris.iot-lab.info', 'node-a8-54.paris.iot-lab.info',                   \n",
    "         'node-a8-55.paris.iot-lab.info', 'node-a8-56.paris.iot-lab.info',                   \n",
    "         'node-a8-57.paris.iot-lab.info', 'node-a8-58.paris.iot-lab.info',                   \n",
    "         'node-a8-59.paris.iot-lab.info', 'node-a8-6.paris.iot-lab.info',                    \n",
    "         'node-a8-60.paris.iot-lab.info', 'node-a8-61.paris.iot-lab.info',                   \n",
    "         'node-a8-62.paris.iot-lab.info', 'node-a8-7.paris.iot-lab.info',                    \n",
    "         'node-a8-9.paris.iot-lab.info']   \n",
    "\n",
    "nodes"
   ]
  },
  {
   "cell_type": "code",
   "execution_count": null,
   "id": "d6453935-0583-4094-bcdc-f879fc0ae8a7",
   "metadata": {},
   "outputs": [],
   "source": []
  }
 ],
 "metadata": {
  "kernelspec": {
   "display_name": "Python 3 (ipykernel)",
   "language": "python",
   "name": "python3"
  },
  "language_info": {
   "codemirror_mode": {
    "name": "ipython",
    "version": 3
   },
   "file_extension": ".py",
   "mimetype": "text/x-python",
   "name": "python",
   "nbconvert_exporter": "python",
   "pygments_lexer": "ipython3",
   "version": "3.10.13"
  }
 },
 "nbformat": 4,
 "nbformat_minor": 5
}
