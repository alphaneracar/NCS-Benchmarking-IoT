{
 "cells": [
  {
   "cell_type": "markdown",
   "id": "18667d47-2ea6-409b-a427-6d88561dcea5",
   "metadata": {},
   "source": [
    "## Refresh code in each 2 secs"
   ]
  },
  {
   "cell_type": "code",
   "execution_count": 1,
   "id": "cb12a8cd-7032-4e9e-bc83-dae1482341a8",
   "metadata": {},
   "outputs": [],
   "source": [
    "%load_ext autoreload\n",
    "%autoreload 2"
   ]
  },
  {
   "cell_type": "markdown",
   "id": "140ff01e-4bf8-4cf8-890d-4ed32a6f04d7",
   "metadata": {},
   "source": [
    "### Store site coordinators"
   ]
  },
  {
   "cell_type": "code",
   "execution_count": 2,
   "id": "670c848b-906e-49de-b3a9-9903ecd8c7ab",
   "metadata": {},
   "outputs": [],
   "source": [
    "%store -r site_coordinators"
   ]
  },
  {
   "cell_type": "code",
   "execution_count": 3,
   "id": "369847ba-ce5b-4899-a748-20732be85191",
   "metadata": {},
   "outputs": [],
   "source": [
    "m3_paris=site_coordinators[\"m3_paris\"]"
   ]
  },
  {
   "cell_type": "markdown",
   "id": "e6a37995-63a8-4776-b880-9e434f204f52",
   "metadata": {},
   "source": [
    "### Initialize fetch address"
   ]
  },
  {
   "cell_type": "code",
   "execution_count": 4,
   "id": "695502e3-fd4f-4246-afc4-4bb9f4f0b071",
   "metadata": {},
   "outputs": [
    {
     "name": "stdout",
     "output_type": "stream",
     "text": [
      "m3-paris: Initializing the awaiting_addresses dictionary.\n"
     ]
    }
   ],
   "source": [
    "#TODO: Call this in object\n",
    "m3_paris.initialize_awaiting_address_dict()"
   ]
  },
  {
   "cell_type": "markdown",
   "id": "094fe3d2-5a83-4884-9943-38e7a11091c7",
   "metadata": {},
   "source": [
    "### Run Fetch Addresses"
   ]
  },
  {
   "cell_type": "code",
   "execution_count": 5,
   "id": "1a2caf02-aa38-4df2-9b12-95f97eec11a8",
   "metadata": {},
   "outputs": [
    {
     "name": "stdout",
     "output_type": "stream",
     "text": [
      "m3-paris: Deleting the fetched addresses on site.\n",
      "m3-paris: Openning connection to paris\n",
      "m3-paris: Deleting the local addresses.\n",
      "m3-paris: Sending the nodes.txt.\n",
      "m3-paris: Deleting the local nodes.txt.\n",
      "Encountered a bad command exit code!\n",
      "\n",
      "Command: './experiment_data/387138/intermediate/paris/m3/nodes.txt'\n",
      "\n",
      "Exit code: 127\n",
      "\n",
      "Stdout: already printed\n",
      "\n",
      "Stderr:\n",
      "\n",
      "/bin/bash: ./experiment_data/387138/intermediate/paris/m3/nodes.txt: No such file or directory\n",
      "\n",
      "\n",
      "m3-paris: Deleting the nodes.txt addresses on paris.\n",
      "m3-paris: Openning connection to paris\n",
      "m3-paris: Writing nodes to local.\n",
      "m3-paris: Putting nodes on paris.\n",
      "m3-paris: Openning connection to paris\n"
     ]
    }
   ],
   "source": [
    "#m3_grenoble.run_fetch_addresses()\n",
    "m3_paris.delete_addresses_site()\n",
    "m3_paris.delete_addresses_local()\n",
    "m3_paris.send_nodes()"
   ]
  },
  {
   "cell_type": "code",
   "execution_count": 10,
   "id": "290ee685-e609-4ba3-831d-bf7f142802ee",
   "metadata": {},
   "outputs": [
    {
     "name": "stdout",
     "output_type": "stream",
     "text": [
      "m3-paris: Starting retry fetch address run.\n",
      "m3-paris: Sending the nodes.txt.\n",
      "m3-paris: Deleting the local nodes.txt.\n",
      "Encountered a bad command exit code!\n",
      "\n",
      "Command: './experiment_data/387138/intermediate/paris/m3/nodes.txt'\n",
      "\n",
      "Exit code: 126\n",
      "\n",
      "Stdout: already printed\n",
      "\n",
      "Stderr:\n",
      "\n",
      "/bin/bash: ./experiment_data/387138/intermediate/paris/m3/nodes.txt: Permission denied\n",
      "\n",
      "\n",
      "m3-paris: Deleting the nodes.txt addresses on paris.\n",
      "m3-paris: Openning connection to paris\n",
      "m3-paris: Writing nodes to local.\n",
      "m3-paris: Putting nodes on paris.\n",
      "m3-paris: Openning connection to paris\n",
      "m3-paris: Openning connection to paris\n",
      "Site: paris\n",
      "Nodes received: ['m3-59.paris.iot-lab.info', 'm3-47.paris.iot-lab.info', 'm3-42.paris.iot-lab.info', 'm3-41.paris.iot-lab.info', 'm3-45.paris.iot-lab.info', 'm3-44.paris.iot-lab.info', 'm3-62.paris.iot-lab.info', 'm3-63.paris.iot-lab.info']\n",
      "node: m3-59.paris.iot-lab.info\n",
      "Opening netcat command to the node: m3-59\n",
      "node: m3-47.paris.iot-lab.info\n",
      "Opening netcat command to the node: m3-47\n",
      "node: m3-42.paris.iot-lab.info\n",
      "Opening netcat command to the node: m3-42\n",
      "node: m3-41.paris.iot-lab.info\n",
      "Opening netcat command to the node: m3-41\n",
      "node: m3-45.paris.iot-lab.info\n",
      "Opening netcat command to the node: m3-45\n",
      "node: m3-44.paris.iot-lab.info\n",
      "Opening netcat command to the node: m3-44\n",
      "node: m3-62.paris.iot-lab.info\n",
      "Opening netcat command to the node: m3-62\n",
      "node: m3-63.paris.iot-lab.info\n",
      "Opening netcat command to the node: m3-63\n",
      "SUCCESS\n",
      "m3-paris: Openning connection to paris\n",
      "Getting from:  ping_experiments/m3/node_ids_to_addresses.json\n",
      "paris.iot-lab.info\n"
     ]
    }
   ],
   "source": [
    "m3_paris.retry_fetch_addresses()"
   ]
  },
  {
   "cell_type": "code",
   "execution_count": 11,
   "id": "3944e987-ff4b-4a62-b9d0-a5d8178b16d3",
   "metadata": {},
   "outputs": [
    {
     "name": "stdout",
     "output_type": "stream",
     "text": [
      "m3-paris: Openning connection to paris\n",
      "Getting from:  ping_experiments/m3/node_ids_to_addresses.json\n",
      "paris.iot-lab.info\n",
      "m3-paris: 8 adresses received!\n"
     ]
    }
   ],
   "source": [
    "m3_paris.digest_new_addresses()"
   ]
  },
  {
   "cell_type": "code",
   "execution_count": 12,
   "id": "957fc3ab-e1d7-4f5f-bd2e-c3dcee45daa1",
   "metadata": {},
   "outputs": [
    {
     "data": {
      "text/plain": [
       "{'m3-59.paris.iot-lab.info': '2001:660:330f:a286:643f:9666:1a43:7617',\n",
       " 'm3-47.paris.iot-lab.info': '2001:660:330f:a286:bcf3:3a6e:9edb:8a5f',\n",
       " 'm3-42.paris.iot-lab.info': '2001:660:330f:a287:a432:e88b:d8e4:ca0a',\n",
       " 'm3-41.paris.iot-lab.info': '2001:660:330f:a287:dc81:2f9d:f1de:2d92',\n",
       " 'm3-45.paris.iot-lab.info': '2001:660:330f:a288:64fa:e837:e878:324e',\n",
       " 'm3-44.paris.iot-lab.info': '2001:660:330f:a288:ec2f:e308:735a:b792',\n",
       " 'm3-62.paris.iot-lab.info': '2001:660:330f:a289:645e:ca67:7a23:96b7',\n",
       " 'm3-63.paris.iot-lab.info': '2001:660:330f:a289:a421:3eda:26b1:a2f9'}"
      ]
     },
     "execution_count": 12,
     "metadata": {},
     "output_type": "execute_result"
    }
   ],
   "source": [
    "m3_paris.nodes_to_global_addresses"
   ]
  },
  {
   "cell_type": "code",
   "execution_count": 13,
   "id": "10e95bd8-776b-4223-a40b-676b488a0376",
   "metadata": {},
   "outputs": [
    {
     "data": {
      "text/plain": [
       "{}"
      ]
     },
     "execution_count": 13,
     "metadata": {},
     "output_type": "execute_result"
    }
   ],
   "source": [
    "m3_paris.awaiting_nodes_to_global_addresses"
   ]
  },
  {
   "cell_type": "markdown",
   "id": "98edc054-38d1-4817-8b18-403745776e9b",
   "metadata": {},
   "source": [
    "#### Store back the last state of the object"
   ]
  },
  {
   "cell_type": "code",
   "execution_count": 14,
   "id": "722c563b-ded5-45cb-9722-74106588f625",
   "metadata": {},
   "outputs": [
    {
     "name": "stdout",
     "output_type": "stream",
     "text": [
      "Stored 'm3_paris' (M3Coordinator)\n"
     ]
    }
   ],
   "source": [
    "%store m3_paris"
   ]
  },
  {
   "cell_type": "markdown",
   "id": "f878aa81-924c-4d49-a707-8c3407e4e108",
   "metadata": {},
   "source": [
    "### Finished, rerun this for new fetch address round"
   ]
  },
  {
   "cell_type": "markdown",
   "id": "38411fb8-b5d9-45fb-a458-d413a17877c8",
   "metadata": {},
   "source": [
    "## -------"
   ]
  },
  {
   "cell_type": "markdown",
   "id": "216fe1f3-95ac-4a17-939a-8456bc72e664",
   "metadata": {},
   "source": [
    "### Extra function calls:"
   ]
  },
  {
   "cell_type": "code",
   "execution_count": null,
   "id": "cd36843f-75fd-46c2-bfb2-c522280c02de",
   "metadata": {},
   "outputs": [],
   "source": [
    "m3_paris.kill_border_routers()"
   ]
  },
  {
   "cell_type": "code",
   "execution_count": 12,
   "id": "7cde1519-7b3e-48f9-9ad2-ec97c02b9dc9",
   "metadata": {},
   "outputs": [
    {
     "name": "stdout",
     "output_type": "stream",
     "text": [
      "m3-paris: Starting the br screen sessions..\n",
      "m3-paris: Openning connection to paris\n",
      "m3-paris: Starting iteration for br 0, on m3-48\n",
      "m3-paris: Starting tap screen for br 0, and m3-48\n"
     ]
    }
   ],
   "source": [
    "m3_paris.rerun_stopped_br_processes()"
   ]
  },
  {
   "cell_type": "code",
   "execution_count": 11,
   "id": "ec0f99e3-8d65-41c5-aa6d-1cd01f231aed",
   "metadata": {},
   "outputs": [
    {
     "data": {
      "text/plain": [
       "('m3-48.paris.iot-lab.info', 'riot')"
      ]
     },
     "execution_count": 11,
     "metadata": {},
     "output_type": "execute_result"
    }
   ],
   "source": [
    "m3_paris.border_routers['0']"
   ]
  },
  {
   "cell_type": "code",
   "execution_count": null,
   "id": "5a63ceba-e46d-4fdc-9846-efb3753013ed",
   "metadata": {},
   "outputs": [],
   "source": []
  }
 ],
 "metadata": {
  "kernelspec": {
   "display_name": "Python 3 (ipykernel)",
   "language": "python",
   "name": "python3"
  },
  "language_info": {
   "codemirror_mode": {
    "name": "ipython",
    "version": 3
   },
   "file_extension": ".py",
   "mimetype": "text/x-python",
   "name": "python",
   "nbconvert_exporter": "python",
   "pygments_lexer": "ipython3",
   "version": "3.10.13"
  }
 },
 "nbformat": 4,
 "nbformat_minor": 5
}
