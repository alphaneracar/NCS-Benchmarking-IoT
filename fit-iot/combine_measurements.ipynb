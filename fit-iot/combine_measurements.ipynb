{
 "cells": [
  {
   "cell_type": "code",
   "execution_count": 1,
   "id": "8a18f364",
   "metadata": {},
   "outputs": [],
   "source": [
    "root_dir_387233 = \"./experiment_data/387233/results/\"\n",
    "\n",
    "file_names_387233=[\n",
    "    \"ping_measurements_2023-12-08_11:06\",\n",
    "    \"ping_measurements_2023-12-08_11:21\",\n",
    "    #\"ping_measurements_2023-12-08_11:34\",\n",
    "    \"ping_measurements_2023-12-08_11:47\",\n",
    "    \"ping_measurements_2023-12-08_12:03\",\n",
    "    \"ping_measurements_2023-12-08_12:13\",\n",
    "    \"ping_measurements_2023-12-08_12:24\",\n",
    "    \"ping_measurements_2023-12-08_12:34\",\n",
    "    \"ping_measurements_2023-12-08_12:45\",\n",
    "    \"ping_measurements_2023-12-08_12:56\"\n",
    "]"
   ]
  },
  {
   "cell_type": "code",
   "execution_count": 2,
   "id": "75ca9c64",
   "metadata": {},
   "outputs": [],
   "source": [
    "root_dir_387440 = \"./experiment_data/387440/results/\"\n",
    "\n",
    "file_names_387440=[\n",
    "    \"ping_measurements_2023-12-09_17:18\",\n",
    "    \"ping_measurements_2023-12-09_17:30\",\n",
    "    \"ping_measurements_2023-12-09_17:42\",\n",
    "    \"ping_measurements_2023-12-09_17:53\",\n",
    "    \"ping_measurements_2023-12-09_18:08\",\n",
    "    \"ping_measurements_2023-12-09_18:20\",\n",
    "    \"ping_measurements_2023-12-09_18:31\",\n",
    "    \"ping_measurements_2023-12-09_18:42\",\n",
    "    \"ping_measurements_2023-12-09_18:54\",\n",
    "    \"ping_measurements_2023-12-09_20:13\"\n",
    "]"
   ]
  },
  {
   "cell_type": "code",
   "execution_count": 3,
   "id": "2d633f0a",
   "metadata": {},
   "outputs": [],
   "source": [
    "root_dir_387465 = \"./experiment_data/387465/results/\"\n",
    "\n",
    "file_names_387465=[\n",
    "    \"ping_measurements_2023-12-10_11:03\",\n",
    "    \"ping_measurements_2023-12-10_11:15\",\n",
    "    \"ping_measurements_2023-12-10_11:25\",\n",
    "    \"ping_measurements_2023-12-10_11:37\",\n",
    "    \"ping_measurements_2023-12-10_11:55\",\n",
    "    \"ping_measurements_2023-12-10_12:06\",\n",
    "    \"ping_measurements_2023-12-10_12:17\",\n",
    "    \"ping_measurements_2023-12-10_12:29\",\n",
    "    \"ping_measurements_2023-12-10_12:40\",\n",
    "    \"ping_measurements_2023-12-10_12:55\",\n",
    "    \"ping_measurements_2023-12-10_13:06\",\n",
    "    \"ping_measurements_2023-12-10_13:17\",\n",
    "    \"ping_measurements_2023-12-10_14:14\"\n",
    "]"
   ]
  },
  {
   "cell_type": "code",
   "execution_count": 4,
   "id": "f9cae7aa",
   "metadata": {},
   "outputs": [],
   "source": [
    "root_dir_387556 = \"./experiment_data/387556/results/\"\n",
    "\n",
    "file_names_387556=[\n",
    "    \"ping_measurements_2023-12-11_10:03\",\n",
    "    \"ping_measurements_2023-12-11_10:16\",\n",
    "    \"ping_measurements_2023-12-11_10:27\",\n",
    "    \"ping_measurements_2023-12-11_10:44\",\n",
    "    \"ping_measurements_2023-12-11_10:57\",\n",
    "    \"ping_measurements_2023-12-11_11:10\",\n",
    "    \"ping_measurements_2023-12-11_11:20\",\n",
    "]"
   ]
  },
  {
   "cell_type": "code",
   "execution_count": 5,
   "id": "f8103bb0",
   "metadata": {},
   "outputs": [],
   "source": [
    "def read_ping_results(directory):\n",
    "        print('Reading the ping results from:', directory)\n",
    "        with open(directory, 'r') as file:\n",
    "            data = json.load(file)\n",
    "        return {ast.literal_eval(key): value for key, value in data.items()}"
   ]
  },
  {
   "cell_type": "code",
   "execution_count": 6,
   "id": "f8aaed03",
   "metadata": {},
   "outputs": [
    {
     "data": {
      "text/plain": [
       "['./experiment_data/387233/results/ping_measurements_2023-12-08_11:06.json',\n",
       " './experiment_data/387233/results/ping_measurements_2023-12-08_11:21.json',\n",
       " './experiment_data/387233/results/ping_measurements_2023-12-08_11:47.json',\n",
       " './experiment_data/387233/results/ping_measurements_2023-12-08_12:03.json',\n",
       " './experiment_data/387233/results/ping_measurements_2023-12-08_12:13.json',\n",
       " './experiment_data/387233/results/ping_measurements_2023-12-08_12:24.json',\n",
       " './experiment_data/387233/results/ping_measurements_2023-12-08_12:34.json',\n",
       " './experiment_data/387233/results/ping_measurements_2023-12-08_12:45.json',\n",
       " './experiment_data/387233/results/ping_measurements_2023-12-08_12:56.json',\n",
       " './experiment_data/387440/results/ping_measurements_2023-12-09_17:18.json',\n",
       " './experiment_data/387440/results/ping_measurements_2023-12-09_17:30.json',\n",
       " './experiment_data/387440/results/ping_measurements_2023-12-09_17:42.json',\n",
       " './experiment_data/387440/results/ping_measurements_2023-12-09_17:53.json',\n",
       " './experiment_data/387440/results/ping_measurements_2023-12-09_18:08.json',\n",
       " './experiment_data/387440/results/ping_measurements_2023-12-09_18:20.json',\n",
       " './experiment_data/387440/results/ping_measurements_2023-12-09_18:31.json',\n",
       " './experiment_data/387440/results/ping_measurements_2023-12-09_18:42.json',\n",
       " './experiment_data/387440/results/ping_measurements_2023-12-09_18:54.json',\n",
       " './experiment_data/387440/results/ping_measurements_2023-12-09_20:13.json',\n",
       " './experiment_data/387465/results/ping_measurements_2023-12-10_11:03.json',\n",
       " './experiment_data/387465/results/ping_measurements_2023-12-10_11:15.json',\n",
       " './experiment_data/387465/results/ping_measurements_2023-12-10_11:25.json',\n",
       " './experiment_data/387465/results/ping_measurements_2023-12-10_11:37.json',\n",
       " './experiment_data/387465/results/ping_measurements_2023-12-10_11:55.json',\n",
       " './experiment_data/387465/results/ping_measurements_2023-12-10_12:06.json',\n",
       " './experiment_data/387465/results/ping_measurements_2023-12-10_12:17.json',\n",
       " './experiment_data/387465/results/ping_measurements_2023-12-10_12:29.json',\n",
       " './experiment_data/387465/results/ping_measurements_2023-12-10_12:40.json',\n",
       " './experiment_data/387465/results/ping_measurements_2023-12-10_12:55.json',\n",
       " './experiment_data/387465/results/ping_measurements_2023-12-10_13:06.json',\n",
       " './experiment_data/387465/results/ping_measurements_2023-12-10_13:17.json',\n",
       " './experiment_data/387465/results/ping_measurements_2023-12-10_14:14.json',\n",
       " './experiment_data/387556/results/ping_measurements_2023-12-11_10:03.json',\n",
       " './experiment_data/387556/results/ping_measurements_2023-12-11_10:16.json',\n",
       " './experiment_data/387556/results/ping_measurements_2023-12-11_10:27.json',\n",
       " './experiment_data/387556/results/ping_measurements_2023-12-11_10:44.json',\n",
       " './experiment_data/387556/results/ping_measurements_2023-12-11_10:57.json',\n",
       " './experiment_data/387556/results/ping_measurements_2023-12-11_11:10.json',\n",
       " './experiment_data/387556/results/ping_measurements_2023-12-11_11:20.json']"
      ]
     },
     "execution_count": 6,
     "metadata": {},
     "output_type": "execute_result"
    }
   ],
   "source": [
    "file_names = [root_dir_387233+x+\".json\" for x in file_names_387233]\n",
    "file_names += [root_dir_387440+x+\".json\" for x in file_names_387440]\n",
    "file_names += [root_dir_387465+x+\".json\" for x in file_names_387465]\n",
    "file_names += [root_dir_387556+x+\".json\" for x in file_names_387556]\n",
    "file_names"
   ]
  },
  {
   "cell_type": "code",
   "execution_count": 7,
   "id": "80160b24",
   "metadata": {},
   "outputs": [
    {
     "name": "stdout",
     "output_type": "stream",
     "text": [
      "Reading the ping results from: ./experiment_data/387233/results/ping_measurements_2023-12-08_11:06.json\n",
      "Reading the ping results from: ./experiment_data/387233/results/ping_measurements_2023-12-08_11:21.json\n",
      "Reading the ping results from: ./experiment_data/387233/results/ping_measurements_2023-12-08_11:47.json\n",
      "Reading the ping results from: ./experiment_data/387233/results/ping_measurements_2023-12-08_12:03.json\n",
      "Reading the ping results from: ./experiment_data/387233/results/ping_measurements_2023-12-08_12:13.json\n",
      "Reading the ping results from: ./experiment_data/387233/results/ping_measurements_2023-12-08_12:24.json\n",
      "Reading the ping results from: ./experiment_data/387233/results/ping_measurements_2023-12-08_12:34.json\n",
      "Reading the ping results from: ./experiment_data/387233/results/ping_measurements_2023-12-08_12:45.json\n",
      "Reading the ping results from: ./experiment_data/387233/results/ping_measurements_2023-12-08_12:56.json\n",
      "Reading the ping results from: ./experiment_data/387440/results/ping_measurements_2023-12-09_17:18.json\n",
      "Reading the ping results from: ./experiment_data/387440/results/ping_measurements_2023-12-09_17:30.json\n",
      "Reading the ping results from: ./experiment_data/387440/results/ping_measurements_2023-12-09_17:42.json\n",
      "Reading the ping results from: ./experiment_data/387440/results/ping_measurements_2023-12-09_17:53.json\n",
      "Reading the ping results from: ./experiment_data/387440/results/ping_measurements_2023-12-09_18:08.json\n",
      "Reading the ping results from: ./experiment_data/387440/results/ping_measurements_2023-12-09_18:20.json\n",
      "Reading the ping results from: ./experiment_data/387440/results/ping_measurements_2023-12-09_18:31.json\n",
      "Reading the ping results from: ./experiment_data/387440/results/ping_measurements_2023-12-09_18:42.json\n",
      "Reading the ping results from: ./experiment_data/387440/results/ping_measurements_2023-12-09_18:54.json\n",
      "Reading the ping results from: ./experiment_data/387440/results/ping_measurements_2023-12-09_20:13.json\n",
      "Reading the ping results from: ./experiment_data/387465/results/ping_measurements_2023-12-10_11:03.json\n",
      "Reading the ping results from: ./experiment_data/387465/results/ping_measurements_2023-12-10_11:15.json\n",
      "Reading the ping results from: ./experiment_data/387465/results/ping_measurements_2023-12-10_11:25.json\n",
      "Reading the ping results from: ./experiment_data/387465/results/ping_measurements_2023-12-10_11:37.json\n",
      "Reading the ping results from: ./experiment_data/387465/results/ping_measurements_2023-12-10_11:55.json\n",
      "Reading the ping results from: ./experiment_data/387465/results/ping_measurements_2023-12-10_12:06.json\n",
      "Reading the ping results from: ./experiment_data/387465/results/ping_measurements_2023-12-10_12:17.json\n",
      "Reading the ping results from: ./experiment_data/387465/results/ping_measurements_2023-12-10_12:29.json\n",
      "Reading the ping results from: ./experiment_data/387465/results/ping_measurements_2023-12-10_12:40.json\n",
      "Reading the ping results from: ./experiment_data/387465/results/ping_measurements_2023-12-10_12:55.json\n",
      "Reading the ping results from: ./experiment_data/387465/results/ping_measurements_2023-12-10_13:06.json\n",
      "Reading the ping results from: ./experiment_data/387465/results/ping_measurements_2023-12-10_13:17.json\n",
      "Reading the ping results from: ./experiment_data/387465/results/ping_measurements_2023-12-10_14:14.json\n",
      "Reading the ping results from: ./experiment_data/387556/results/ping_measurements_2023-12-11_10:03.json\n",
      "Reading the ping results from: ./experiment_data/387556/results/ping_measurements_2023-12-11_10:16.json\n",
      "Reading the ping results from: ./experiment_data/387556/results/ping_measurements_2023-12-11_10:27.json\n",
      "Reading the ping results from: ./experiment_data/387556/results/ping_measurements_2023-12-11_10:44.json\n",
      "Reading the ping results from: ./experiment_data/387556/results/ping_measurements_2023-12-11_10:57.json\n",
      "Reading the ping results from: ./experiment_data/387556/results/ping_measurements_2023-12-11_11:10.json\n",
      "Reading the ping results from: ./experiment_data/387556/results/ping_measurements_2023-12-11_11:20.json\n"
     ]
    }
   ],
   "source": [
    "import json\n",
    "import ast\n",
    "all_ping_results=dict()\n",
    "\n",
    "for i, d in enumerate(file_names):\n",
    "    ping_round = read_ping_results(d)\n",
    "    for k in ping_round.keys():\n",
    "        if ping_round[k] == 'NA':\n",
    "            print(f\"Result for {k} is NA!\")\n",
    "        if k[-1] == 'lille':\n",
    "            continue\n",
    "            \n",
    "        if i == 0:\n",
    "            all_ping_results[k]=[]\n",
    "            \n",
    "        if k[0] == k[-1]:\n",
    "            all_ping_results[k].append(0)\n",
    "        else:\n",
    "            all_ping_results[k].append(float(ping_round[k]))\n",
    "            \n",
    "            "
   ]
  },
  {
   "cell_type": "code",
   "execution_count": 8,
   "id": "41a74266",
   "metadata": {},
   "outputs": [],
   "source": [
    "for k in all_ping_results.keys():\n",
    "    if len(all_ping_results[k]) != 39:\n",
    "        print(f\"Length of {k} is not 39 but {len(all_ping_results[k])}!!\")"
   ]
  },
  {
   "cell_type": "code",
   "execution_count": 9,
   "id": "7145a7a8",
   "metadata": {},
   "outputs": [
    {
     "name": "stdout",
     "output_type": "stream",
     "text": [
      "('node-a8-67.saclay.iot-lab.info', 'node-a8-1.saclay.iot-lab.info') pair has 16 diff!\n",
      "('node-a8-52.paris.iot-lab.info', 'node-a8-36.paris.iot-lab.info') pair has 16 diff!\n"
     ]
    }
   ],
   "source": [
    "repeated_measurements=[]\n",
    "diff_list=[]\n",
    "sites=[\"grenoble\", \"saclay\", \"strasbourg\", \"paris\"]\n",
    "diff=0\n",
    "\n",
    "count=0\n",
    "\n",
    "for k in all_ping_results.keys():\n",
    "    \n",
    "    \n",
    "        \n",
    "    \n",
    "    diff = len(all_ping_results[k]) - len(set(all_ping_results[k]))\n",
    "    if diff != 0:\n",
    "        if diff == 38:\n",
    "            #print(f\"{k} pair has 38 diff!\")\n",
    "            continue\n",
    "            \n",
    "        if diff == 17:\n",
    "            print(f\"{k} pair has 16 diff!\")\n",
    "            continue\n",
    "        repeated_measurements.append(k)\n",
    "        diff_list.append(diff)\n",
    "        \n",
    "        "
   ]
  },
  {
   "cell_type": "code",
   "execution_count": 10,
   "id": "da05cd1d",
   "metadata": {},
   "outputs": [
    {
     "name": "stdout",
     "output_type": "stream",
     "text": [
      "('node-a8-23.paris.iot-lab.info', 'node-a8-55.paris.iot-lab.info') pair has 16 diff!\n"
     ]
    }
   ],
   "source": [
    "repeated_measurements=[]\n",
    "diff_list=[]\n",
    "sites=[\"grenoble\", \"saclay\", \"strasbourg\", \"paris\"]\n",
    "diff=0\n",
    "\n",
    "count=0\n",
    "\n",
    "for k in all_ping_results.keys():\n",
    "    \n",
    "    \n",
    "        \n",
    "    \n",
    "    diff = len(all_ping_results[k]) - len(set(all_ping_results[k]))\n",
    "    if diff != 0:\n",
    "        if diff == 38:\n",
    "            #print(f\"{k} pair has 38 diff!\")\n",
    "            continue\n",
    "            \n",
    "        if diff == 16:\n",
    "            print(f\"{k} pair has 16 diff!\")\n",
    "            continue\n",
    "        repeated_measurements.append(k)\n",
    "        diff_list.append(diff)\n",
    "        "
   ]
  },
  {
   "cell_type": "code",
   "execution_count": 11,
   "id": "26dee373",
   "metadata": {},
   "outputs": [
    {
     "data": {
      "text/plain": [
       "17"
      ]
     },
     "execution_count": 11,
     "metadata": {},
     "output_type": "execute_result"
    }
   ],
   "source": [
    "max(diff_list)"
   ]
  },
  {
   "cell_type": "code",
   "execution_count": 12,
   "id": "354fd90b",
   "metadata": {},
   "outputs": [
    {
     "data": {
      "text/plain": [
       "1     21828\n",
       "2     17867\n",
       "3     12633\n",
       "4      8995\n",
       "5      6295\n",
       "6      4047\n",
       "7      2448\n",
       "8      1245\n",
       "9       630\n",
       "10      281\n",
       "11      113\n",
       "12       64\n",
       "13       31\n",
       "15        7\n",
       "14        6\n",
       "17        2\n",
       "dtype: int64"
      ]
     },
     "execution_count": 12,
     "metadata": {},
     "output_type": "execute_result"
    }
   ],
   "source": [
    "import pandas as pd\n",
    "\n",
    "count = pd.Series(diff_list).value_counts()\n",
    "count"
   ]
  },
  {
   "cell_type": "code",
   "execution_count": 13,
   "id": "fa93c475",
   "metadata": {},
   "outputs": [
    {
     "data": {
      "text/plain": [
       "305"
      ]
     },
     "execution_count": 13,
     "metadata": {},
     "output_type": "execute_result"
    }
   ],
   "source": [
    "#converted_dict = {str(key): value for key, value in all_ping_results.items()}\n",
    "#with open(f\"./all_ping_measurements.json\", 'w') as file:\n",
    "#    json.dump(converted_dict, file)\n",
    "\n",
    "keys = set([k[0] for k in all_ping_results.keys()])\n",
    "type(all_ping_results[(\"grenoble\", \"saclay\")][0])\n",
    "len(keys)"
   ]
  },
  {
   "cell_type": "code",
   "execution_count": 14,
   "id": "82cdf307",
   "metadata": {},
   "outputs": [],
   "source": [
    "new_keys=list(keys)\n"
   ]
  },
  {
   "cell_type": "code",
   "execution_count": 15,
   "id": "c37e600f",
   "metadata": {},
   "outputs": [
    {
     "data": {
      "text/plain": [
       "305"
      ]
     },
     "execution_count": 15,
     "metadata": {},
     "output_type": "execute_result"
    }
   ],
   "source": [
    "len(keys)"
   ]
  },
  {
   "cell_type": "code",
   "execution_count": 18,
   "id": "dcfd27d3",
   "metadata": {},
   "outputs": [
    {
     "data": {
      "text/plain": [
       "(4682360,\n",
       " [('node-a8-6.strasbourg.iot-lab.info',\n",
       "   'node-a8-70.saclay.iot-lab.info',\n",
       "   'node-a8-3.strasbourg.iot-lab.info'),\n",
       "  ('node-a8-6.strasbourg.iot-lab.info',\n",
       "   'node-a8-70.saclay.iot-lab.info',\n",
       "   'node-a8-4.grenoble.iot-lab.info'),\n",
       "  ('node-a8-6.strasbourg.iot-lab.info',\n",
       "   'node-a8-70.saclay.iot-lab.info',\n",
       "   'node-a8-63.grenoble.iot-lab.info'),\n",
       "  ('node-a8-6.strasbourg.iot-lab.info',\n",
       "   'node-a8-70.saclay.iot-lab.info',\n",
       "   'node-a8-60.paris.iot-lab.info'),\n",
       "  ('node-a8-6.strasbourg.iot-lab.info',\n",
       "   'node-a8-70.saclay.iot-lab.info',\n",
       "   'node-a8-7.paris.iot-lab.info')])"
      ]
     },
     "execution_count": 18,
     "metadata": {},
     "output_type": "execute_result"
    }
   ],
   "source": [
    "from itertools import combinations\n",
    "\n",
    "# Create a list of numbers from 0 to 489\n",
    "input_list = keys\n",
    "\n",
    "# Generate all possible unique triplets from the list\n",
    "triplets = list(combinations(keys, 3))\n",
    "\n",
    "# Show the number of triplets and the first few examples\n",
    "num_triplets = len(triplets)\n",
    "sample_triplets = triplets[:5]  # Display the first 5 triplets as an example\n",
    "\n",
    "num_triplets, sample_triplets"
   ]
  },
  {
   "cell_type": "code",
   "execution_count": 23,
   "id": "941965f2",
   "metadata": {},
   "outputs": [],
   "source": [
    "total_count=0\n",
    "violation_count=0\n",
    "\n",
    "\n",
    "for i in range(0,39):   \n",
    "    for t in triplets:\n",
    "        if float(all_ping_results[(t[1],t[2])][i])/(float(all_ping_results[(t[1],t[0])][i]) + float(all_ping_results[(t[0], t[2])][i])) > 1:\n",
    "            violation_count+=1\n",
    "        total_count+=1\n",
    "        if float(all_ping_results[(t[0],t[2])][i])/(float(all_ping_results[(t[0],t[1])][i]) + float(all_ping_results[(t[1],t[2])][i])) > 1:\n",
    "            violation_count+=1\n",
    "        total_count+=1\n",
    "        if float(all_ping_results[(t[0],t[1])][i])/(float(all_ping_results[(t[0],t[2])][i]) + float(all_ping_results[(t[2],t[1])][i])) > 1:\n",
    "            violation_count+=1\n",
    "        total_count+=1\n",
    "        \n",
    "        if float(all_ping_results[(t[2],t[1])][i])/(float(all_ping_results[(t[2],t[0])][i]) + float(all_ping_results[(t[0], t[1])][i])) > 1:\n",
    "            violation_count+=1\n",
    "        total_count+=1\n",
    "        if float(all_ping_results[(t[2],t[0])][i])/(float(all_ping_results[(t[2],t[1])][i]) + float(all_ping_results[(t[1],t[0])][i])) > 1:\n",
    "            violation_count+=1\n",
    "        total_count+=1\n",
    "        if float(all_ping_results[(t[1],t[0])][i])/(float(all_ping_results[(t[1],t[2])][i]) + float(all_ping_results[(t[2],t[0])][i])) > 1:\n",
    "            violation_count+=1\n",
    "        total_count+=1\n",
    "\n"
   ]
  },
  {
   "cell_type": "code",
   "execution_count": 20,
   "id": "d8d13421",
   "metadata": {},
   "outputs": [
    {
     "data": {
      "text/plain": [
       "0.030846517568063968"
      ]
     },
     "execution_count": 20,
     "metadata": {},
     "output_type": "execute_result"
    }
   ],
   "source": [
    "violation_count/total_count"
   ]
  },
  {
   "cell_type": "code",
   "execution_count": 21,
   "id": "29998bb5",
   "metadata": {},
   "outputs": [
    {
     "data": {
      "text/plain": [
       "28094160"
      ]
     },
     "execution_count": 21,
     "metadata": {},
     "output_type": "execute_result"
    }
   ],
   "source": [
    "total_count"
   ]
  },
  {
   "cell_type": "code",
   "execution_count": 22,
   "id": "76f004d0",
   "metadata": {},
   "outputs": [
    {
     "data": {
      "text/plain": [
       "866607"
      ]
     },
     "execution_count": 22,
     "metadata": {},
     "output_type": "execute_result"
    }
   ],
   "source": [
    "violation_count"
   ]
  },
  {
   "cell_type": "code",
   "execution_count": 24,
   "id": "74de0d9c",
   "metadata": {},
   "outputs": [
    {
     "data": {
      "text/plain": [
       "1095672240"
      ]
     },
     "execution_count": 24,
     "metadata": {},
     "output_type": "execute_result"
    }
   ],
   "source": [
    "total_count"
   ]
  },
  {
   "cell_type": "code",
   "execution_count": 25,
   "id": "03c8285e",
   "metadata": {},
   "outputs": [
    {
     "data": {
      "text/plain": [
       "47089828"
      ]
     },
     "execution_count": 25,
     "metadata": {},
     "output_type": "execute_result"
    }
   ],
   "source": [
    "violation_count"
   ]
  },
  {
   "cell_type": "code",
   "execution_count": 26,
   "id": "a4d321fd",
   "metadata": {},
   "outputs": [
    {
     "data": {
      "text/plain": [
       "0.04297802415802741"
      ]
     },
     "execution_count": 26,
     "metadata": {},
     "output_type": "execute_result"
    }
   ],
   "source": [
    "violation_count/total_count"
   ]
  },
  {
   "cell_type": "code",
   "execution_count": null,
   "id": "27e25234",
   "metadata": {},
   "outputs": [],
   "source": []
  }
 ],
 "metadata": {
  "kernelspec": {
   "display_name": "Python 3 (ipykernel)",
   "language": "python",
   "name": "python3"
  },
  "language_info": {
   "codemirror_mode": {
    "name": "ipython",
    "version": 3
   },
   "file_extension": ".py",
   "mimetype": "text/x-python",
   "name": "python",
   "nbconvert_exporter": "python",
   "pygments_lexer": "ipython3",
   "version": "3.10.13"
  }
 },
 "nbformat": 4,
 "nbformat_minor": 5
}
