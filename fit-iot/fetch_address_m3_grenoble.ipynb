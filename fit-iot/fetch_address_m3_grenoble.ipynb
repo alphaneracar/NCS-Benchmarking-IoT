{
 "cells": [
  {
   "cell_type": "markdown",
   "id": "18667d47-2ea6-409b-a427-6d88561dcea5",
   "metadata": {},
   "source": [
    "## Refresh code in each 2 secs"
   ]
  },
  {
   "cell_type": "code",
   "execution_count": 1,
   "id": "cb12a8cd-7032-4e9e-bc83-dae1482341a8",
   "metadata": {},
   "outputs": [],
   "source": [
    "%load_ext autoreload\n",
    "%autoreload 2"
   ]
  },
  {
   "cell_type": "markdown",
   "id": "140ff01e-4bf8-4cf8-890d-4ed32a6f04d7",
   "metadata": {},
   "source": [
    "### Store site coordinators"
   ]
  },
  {
   "cell_type": "code",
   "execution_count": 2,
   "id": "670c848b-906e-49de-b3a9-9903ecd8c7ab",
   "metadata": {},
   "outputs": [],
   "source": [
    "%store -r site_coordinators"
   ]
  },
  {
   "cell_type": "code",
   "execution_count": 3,
   "id": "369847ba-ce5b-4899-a748-20732be85191",
   "metadata": {},
   "outputs": [],
   "source": [
    "m3_grenoble=site_coordinators[\"m3_grenoble\"]"
   ]
  },
  {
   "cell_type": "markdown",
   "id": "e6a37995-63a8-4776-b880-9e434f204f52",
   "metadata": {},
   "source": [
    "### Initialize fetch address"
   ]
  },
  {
   "cell_type": "code",
   "execution_count": 4,
   "id": "695502e3-fd4f-4246-afc4-4bb9f4f0b071",
   "metadata": {},
   "outputs": [
    {
     "name": "stdout",
     "output_type": "stream",
     "text": [
      "m3-grenoble: Initializing the awaiting_addresses dictionary.\n"
     ]
    }
   ],
   "source": [
    "#TODO: Call this in object\n",
    "m3_grenoble.initialize_awaiting_address_dict()"
   ]
  },
  {
   "cell_type": "markdown",
   "id": "094fe3d2-5a83-4884-9943-38e7a11091c7",
   "metadata": {},
   "source": [
    "### Run Fetch Addresses"
   ]
  },
  {
   "cell_type": "code",
   "execution_count": 5,
   "id": "1a2caf02-aa38-4df2-9b12-95f97eec11a8",
   "metadata": {},
   "outputs": [
    {
     "name": "stdout",
     "output_type": "stream",
     "text": [
      "m3-grenoble: Deleting the fetched addresses on site.\n",
      "m3-grenoble: Openning connection to grenoble\n",
      "m3-grenoble: Deleting the local addresses.\n",
      "m3-grenoble: Sending the nodes.txt.\n",
      "m3-grenoble: Deleting the local nodes.txt.\n",
      "Encountered a bad command exit code!\n",
      "\n",
      "Command: './experiment_data/387189/intermediate/grenoble/m3/nodes.txt'\n",
      "\n",
      "Exit code: 127\n",
      "\n",
      "Stdout: already printed\n",
      "\n",
      "Stderr:\n",
      "\n",
      "/bin/bash: ./experiment_data/387189/intermediate/grenoble/m3/nodes.txt: No such file or directory\n",
      "\n",
      "\n",
      "m3-grenoble: Deleting the nodes.txt addresses on grenoble.\n",
      "m3-grenoble: Openning connection to grenoble\n",
      "m3-grenoble: Writing nodes to local.\n",
      "m3-grenoble: Putting nodes on grenoble.\n",
      "m3-grenoble: Openning connection to grenoble\n"
     ]
    }
   ],
   "source": [
    "#m3_grenoble.run_fetch_addresses()\n",
    "m3_grenoble.delete_addresses_site()\n",
    "m3_grenoble.delete_addresses_local()\n",
    "m3_grenoble.send_nodes()"
   ]
  },
  {
   "cell_type": "code",
   "execution_count": 6,
   "id": "290ee685-e609-4ba3-831d-bf7f142802ee",
   "metadata": {},
   "outputs": [
    {
     "name": "stdout",
     "output_type": "stream",
     "text": [
      "m3-grenoble: Starting retry fetch address run.\n",
      "m3-grenoble: Sending the nodes.txt.\n",
      "m3-grenoble: Deleting the local nodes.txt.\n",
      "Encountered a bad command exit code!\n",
      "\n",
      "Command: './experiment_data/387189/intermediate/grenoble/m3/nodes.txt'\n",
      "\n",
      "Exit code: 126\n",
      "\n",
      "Stdout: already printed\n",
      "\n",
      "Stderr:\n",
      "\n",
      "/bin/bash: ./experiment_data/387189/intermediate/grenoble/m3/nodes.txt: Permission denied\n",
      "\n",
      "\n",
      "m3-grenoble: Deleting the nodes.txt addresses on grenoble.\n",
      "m3-grenoble: Openning connection to grenoble\n",
      "m3-grenoble: Writing nodes to local.\n",
      "m3-grenoble: Putting nodes on grenoble.\n",
      "m3-grenoble: Openning connection to grenoble\n",
      "m3-grenoble: Openning connection to grenoble\n",
      "Site: grenoble\n",
      "Nodes received: ['m3-103.grenoble.iot-lab.info', 'm3-104.grenoble.iot-lab.info', 'm3-108.grenoble.iot-lab.info', 'm3-109.grenoble.iot-lab.info', 'm3-114.grenoble.iot-lab.info']\n",
      "node: m3-103.grenoble.iot-lab.info\n",
      "Opening netcat command to the node: m3-103\n",
      "node: m3-104.grenoble.iot-lab.info\n",
      "Opening netcat command to the node: m3-104\n",
      "node: m3-108.grenoble.iot-lab.info\n",
      "Opening netcat command to the node: m3-108\n",
      "node: m3-109.grenoble.iot-lab.info\n",
      "Opening netcat command to the node: m3-109\n",
      "node: m3-114.grenoble.iot-lab.info\n",
      "Opening netcat command to the node: m3-114\n",
      "SUCCESS\n",
      "m3-grenoble: Openning connection to grenoble\n",
      "Getting from:  ping_experiments/m3/node_ids_to_addresses.json\n",
      "grenoble.iot-lab.info\n"
     ]
    }
   ],
   "source": [
    "m3_grenoble.retry_fetch_addresses()"
   ]
  },
  {
   "cell_type": "code",
   "execution_count": 7,
   "id": "3944e987-ff4b-4a62-b9d0-a5d8178b16d3",
   "metadata": {},
   "outputs": [
    {
     "name": "stdout",
     "output_type": "stream",
     "text": [
      "m3-grenoble: Openning connection to grenoble\n",
      "Getting from:  ping_experiments/m3/node_ids_to_addresses.json\n",
      "grenoble.iot-lab.info\n",
      "m3-grenoble: 5 adresses received!\n"
     ]
    }
   ],
   "source": [
    "m3_grenoble.digest_new_addresses()"
   ]
  },
  {
   "cell_type": "code",
   "execution_count": 8,
   "id": "957fc3ab-e1d7-4f5f-bd2e-c3dcee45daa1",
   "metadata": {},
   "outputs": [
    {
     "data": {
      "text/plain": [
       "{'m3-104.grenoble.iot-lab.info': '2001:660:5307:3100::a775',\n",
       " 'm3-103.grenoble.iot-lab.info': '2001:660:5307:3100::9881',\n",
       " 'm3-108.grenoble.iot-lab.info': '2001:660:5307:3101::8477',\n",
       " 'm3-109.grenoble.iot-lab.info': '2001:660:5307:3101::1062',\n",
       " 'm3-114.grenoble.iot-lab.info': '2001:660:5307:3102::a879',\n",
       " 'm3-121.grenoble.iot-lab.info': '2001:660:5307:3103::8572'}"
      ]
     },
     "execution_count": 8,
     "metadata": {},
     "output_type": "execute_result"
    }
   ],
   "source": [
    "m3_grenoble.nodes_to_global_addresses"
   ]
  },
  {
   "cell_type": "code",
   "execution_count": 8,
   "id": "10e95bd8-776b-4223-a40b-676b488a0376",
   "metadata": {},
   "outputs": [
    {
     "data": {
      "text/plain": [
       "{}"
      ]
     },
     "execution_count": 8,
     "metadata": {},
     "output_type": "execute_result"
    }
   ],
   "source": [
    "m3_grenoble.awaiting_nodes_to_global_addresses"
   ]
  },
  {
   "cell_type": "markdown",
   "id": "98edc054-38d1-4817-8b18-403745776e9b",
   "metadata": {},
   "source": [
    "#### Store back the last state of the object"
   ]
  },
  {
   "cell_type": "code",
   "execution_count": 9,
   "id": "722c563b-ded5-45cb-9722-74106588f625",
   "metadata": {},
   "outputs": [
    {
     "name": "stdout",
     "output_type": "stream",
     "text": [
      "Stored 'm3_grenoble' (M3Coordinator)\n"
     ]
    }
   ],
   "source": [
    "%store m3_grenoble"
   ]
  },
  {
   "cell_type": "markdown",
   "id": "f878aa81-924c-4d49-a707-8c3407e4e108",
   "metadata": {},
   "source": [
    "### Finished, rerun this for new fetch address round"
   ]
  },
  {
   "cell_type": "markdown",
   "id": "38411fb8-b5d9-45fb-a458-d413a17877c8",
   "metadata": {},
   "source": [
    "## -------"
   ]
  },
  {
   "cell_type": "markdown",
   "id": "216fe1f3-95ac-4a17-939a-8456bc72e664",
   "metadata": {},
   "source": [
    "### Extra function calls:"
   ]
  },
  {
   "cell_type": "code",
   "execution_count": null,
   "id": "cd36843f-75fd-46c2-bfb2-c522280c02de",
   "metadata": {},
   "outputs": [],
   "source": [
    "m3_grenoble.kill_border_routers()"
   ]
  },
  {
   "cell_type": "code",
   "execution_count": null,
   "id": "7cde1519-7b3e-48f9-9ad2-ec97c02b9dc9",
   "metadata": {},
   "outputs": [],
   "source": [
    "#Start border routers"
   ]
  },
  {
   "cell_type": "code",
   "execution_count": null,
   "id": "ec0f99e3-8d65-41c5-aa6d-1cd01f231aed",
   "metadata": {},
   "outputs": [],
   "source": [
    "m3_grenoble.rerun_stopped_br_processes()"
   ]
  },
  {
   "cell_type": "code",
   "execution_count": null,
   "id": "618e544c-acbe-4af0-a9f1-c2176a13f500",
   "metadata": {},
   "outputs": [],
   "source": []
  },
  {
   "cell_type": "code",
   "execution_count": null,
   "id": "7fd4362c-4dc9-4fc8-9477-13f175c0a477",
   "metadata": {},
   "outputs": [],
   "source": []
  }
 ],
 "metadata": {
  "kernelspec": {
   "display_name": "Python 3 (ipykernel)",
   "language": "python",
   "name": "python3"
  },
  "language_info": {
   "codemirror_mode": {
    "name": "ipython",
    "version": 3
   },
   "file_extension": ".py",
   "mimetype": "text/x-python",
   "name": "python",
   "nbconvert_exporter": "python",
   "pygments_lexer": "ipython3",
   "version": "3.10.13"
  }
 },
 "nbformat": 4,
 "nbformat_minor": 5
}
