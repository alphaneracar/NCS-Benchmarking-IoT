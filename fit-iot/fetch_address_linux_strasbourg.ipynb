{
 "cells": [
  {
   "cell_type": "markdown",
   "id": "18667d47-2ea6-409b-a427-6d88561dcea5",
   "metadata": {},
   "source": [
    "## Refresh code in each 2 secs"
   ]
  },
  {
   "cell_type": "code",
   "execution_count": 1,
   "id": "0f62688d-c1c2-453b-adee-0702c1606de1",
   "metadata": {},
   "outputs": [],
   "source": [
    "%load_ext autoreload\n",
    "%autoreload 2"
   ]
  },
  {
   "cell_type": "markdown",
   "id": "140ff01e-4bf8-4cf8-890d-4ed32a6f04d7",
   "metadata": {},
   "source": [
    "### Store site coordinators"
   ]
  },
  {
   "cell_type": "code",
   "execution_count": 2,
   "id": "670c848b-906e-49de-b3a9-9903ecd8c7ab",
   "metadata": {},
   "outputs": [],
   "source": [
    "%store -r site_coordinators"
   ]
  },
  {
   "cell_type": "code",
   "execution_count": 3,
   "id": "369847ba-ce5b-4899-a748-20732be85191",
   "metadata": {},
   "outputs": [],
   "source": [
    "linux_strasbourg=site_coordinators[\"linux_strasbourg_1\"]"
   ]
  },
  {
   "cell_type": "markdown",
   "id": "e6a37995-63a8-4776-b880-9e434f204f52",
   "metadata": {},
   "source": [
    "### Initialize fetch address"
   ]
  },
  {
   "cell_type": "code",
   "execution_count": 4,
   "id": "695502e3-fd4f-4246-afc4-4bb9f4f0b071",
   "metadata": {},
   "outputs": [
    {
     "name": "stdout",
     "output_type": "stream",
     "text": [
      "linux-strasbourg: Initializing the awaiting_addresses dictionary.\n"
     ]
    }
   ],
   "source": [
    "#TODO: Call this in object\n",
    "linux_strasbourg.initialize_awaiting_address_dict()"
   ]
  },
  {
   "cell_type": "code",
   "execution_count": 5,
   "id": "887d8af5-d8b7-40b4-9347-ba5490417767",
   "metadata": {},
   "outputs": [],
   "source": [
    "## RERUN BR"
   ]
  },
  {
   "cell_type": "code",
   "execution_count": null,
   "id": "1ba6b2e1-0a30-49e9-8e35-3f97ab119b0a",
   "metadata": {},
   "outputs": [],
   "source": []
  },
  {
   "cell_type": "markdown",
   "id": "094fe3d2-5a83-4884-9943-38e7a11091c7",
   "metadata": {},
   "source": [
    "### Run Fetch Addresses"
   ]
  },
  {
   "cell_type": "code",
   "execution_count": 6,
   "id": "1a2caf02-aa38-4df2-9b12-95f97eec11a8",
   "metadata": {},
   "outputs": [
    {
     "name": "stdout",
     "output_type": "stream",
     "text": [
      "linux-strasbourg: Starting initial fetch address run.\n",
      "linux-strasbourg: Deleting the fetched addresses on site.\n",
      "linux-strasbourg: Openning connection to strasbourg\n",
      "linux-strasbourg: Deleting the local addresses.\n",
      "linux-strasbourg: Sending the nodes.txt.\n",
      "linux-strasbourg: Deleting the local nodes.txt.\n",
      "Encountered a bad command exit code!\n",
      "\n",
      "Command: './experiment_data/387556/intermediate/strasbourg/linux_1/nodes.txt'\n",
      "\n",
      "Exit code: 127\n",
      "\n",
      "Stdout: already printed\n",
      "\n",
      "Stderr:\n",
      "\n",
      "/bin/bash: ./experiment_data/387556/intermediate/strasbourg/linux_1/nodes.txt: No such file or directory\n",
      "\n",
      "\n",
      "linux-strasbourg: Deleting the nodes.txt addresses on strasbourg.\n",
      "linux-strasbourg: Openning connection to strasbourg\n",
      "linux-strasbourg: Writing nodes to local.\n",
      "linux-strasbourg: Putting nodes on strasbourg.\n",
      "linux-strasbourg: Openning connection to strasbourg\n",
      "linux-strasbourg: Openning connection to strasbourg\n",
      "linux-strasbourg: Running fetch addresses on site.\n",
      "Site: strasbourg\n",
      "Reading nodes from: ./linux_1/nodes.txt\n",
      "In fetch addresses.\n",
      "There are 14 number of hosts.\n",
      "Executing 1 iterations.\n",
      "Node per iteration: 10\n",
      "Openning connection to node-a8-12.strasbourg.iot-lab.info\n",
      "Openning connection to node-a8-7.strasbourg.iot-lab.info\n",
      "Openning connection to node-a8-4.strasbourg.iot-lab.info\n",
      "Openning connection to node-a8-3.strasbourg.iot-lab.info\n",
      "Openning connection to node-a8-2.strasbourg.iot-lab.info\n",
      "Openning connection to node-a8-1.strasbourg.iot-lab.info\n",
      "Openning connection to node-a8-8.strasbourg.iot-lab.info\n",
      "Openning connection to node-a8-11.strasbourg.iot-lab.info\n",
      "Openning connection to node-a8-6.strasbourg.iot-lab.info\n",
      "Openning connection to node-a8-13.strasbourg.iot-lab.info\n",
      "Starting iteration with: dict_keys(['node-a8-12.strasbourg.iot-lab.info', 'node-a8-7.strasbourg.iot-lab.info', 'node-a8-4.strasbourg.iot-lab.info', 'node-a8-3.strasbourg.iot-lab.info', 'node-a8-2.strasbourg.iot-lab.info', 'node-a8-1.strasbourg.iot-lab.info', 'node-a8-8.strasbourg.iot-lab.info', 'node-a8-11.strasbourg.iot-lab.info', 'node-a8-6.strasbourg.iot-lab.info', 'node-a8-13.strasbourg.iot-lab.info'])\n",
      "Closing connections to dict_keys(['node-a8-12.strasbourg.iot-lab.info', 'node-a8-7.strasbourg.iot-lab.info', 'node-a8-4.strasbourg.iot-lab.info', 'node-a8-3.strasbourg.iot-lab.info', 'node-a8-2.strasbourg.iot-lab.info', 'node-a8-1.strasbourg.iot-lab.info', 'node-a8-8.strasbourg.iot-lab.info', 'node-a8-11.strasbourg.iot-lab.info', 'node-a8-6.strasbourg.iot-lab.info', 'node-a8-13.strasbourg.iot-lab.info'])\n",
      "Node per iteration: 4\n",
      "Openning connection to node-a8-14.strasbourg.iot-lab.info\n",
      "Openning connection to node-a8-10.strasbourg.iot-lab.info\n",
      "Openning connection to node-a8-5.strasbourg.iot-lab.info\n",
      "Openning connection to node-a8-9.strasbourg.iot-lab.info\n",
      "Starting iteration with: dict_keys(['node-a8-14.strasbourg.iot-lab.info', 'node-a8-10.strasbourg.iot-lab.info', 'node-a8-5.strasbourg.iot-lab.info', 'node-a8-9.strasbourg.iot-lab.info'])\n",
      "Closing connections to dict_keys(['node-a8-14.strasbourg.iot-lab.info', 'node-a8-10.strasbourg.iot-lab.info', 'node-a8-5.strasbourg.iot-lab.info', 'node-a8-9.strasbourg.iot-lab.info'])\n",
      "SUCCESS\n",
      "linux-strasbourg: Openning connection to strasbourg\n",
      "Getting from:  ping_experiments/linux_1/node_ids_to_addresses.json\n",
      "strasbourg.iot-lab.info\n"
     ]
    }
   ],
   "source": [
    "linux_strasbourg.run_fetch_addresses()"
   ]
  },
  {
   "cell_type": "code",
   "execution_count": 7,
   "id": "10e95bd8-776b-4223-a40b-676b488a0376",
   "metadata": {},
   "outputs": [
    {
     "name": "stdout",
     "output_type": "stream",
     "text": [
      "linux-strasbourg: Openning connection to strasbourg\n",
      "Getting from:  ping_experiments/linux_1/node_ids_to_addresses.json\n",
      "strasbourg.iot-lab.info\n",
      "linux-strasbourg: 14 adresses received!\n"
     ]
    }
   ],
   "source": [
    "linux_strasbourg.digest_new_addresses()"
   ]
  },
  {
   "cell_type": "code",
   "execution_count": 8,
   "id": "4e37dfa5-7a52-4bb0-8060-2a446c1b0eed",
   "metadata": {},
   "outputs": [
    {
     "data": {
      "text/plain": [
       "{'node-a8-12.strasbourg.iot-lab.info': '2a07:2e40:fffe:c0::c',\n",
       " 'node-a8-7.strasbourg.iot-lab.info': '2a07:2e40:fffe:c0::7',\n",
       " 'node-a8-4.strasbourg.iot-lab.info': '2a07:2e40:fffe:c0::4',\n",
       " 'node-a8-3.strasbourg.iot-lab.info': '2a07:2e40:fffe:c0::3',\n",
       " 'node-a8-2.strasbourg.iot-lab.info': '2a07:2e40:fffe:c0::2',\n",
       " 'node-a8-1.strasbourg.iot-lab.info': '2a07:2e40:fffe:c0::1',\n",
       " 'node-a8-8.strasbourg.iot-lab.info': '2a07:2e40:fffe:c0::8',\n",
       " 'node-a8-11.strasbourg.iot-lab.info': '2a07:2e40:fffe:c0::b',\n",
       " 'node-a8-6.strasbourg.iot-lab.info': '2a07:2e40:fffe:c0::6',\n",
       " 'node-a8-13.strasbourg.iot-lab.info': '2a07:2e40:fffe:c0::d',\n",
       " 'node-a8-14.strasbourg.iot-lab.info': '2a07:2e40:fffe:c0::e',\n",
       " 'node-a8-10.strasbourg.iot-lab.info': '2a07:2e40:fffe:c0::a',\n",
       " 'node-a8-5.strasbourg.iot-lab.info': '2a07:2e40:fffe:c0::5',\n",
       " 'node-a8-9.strasbourg.iot-lab.info': '2a07:2e40:fffe:c0::9'}"
      ]
     },
     "execution_count": 8,
     "metadata": {},
     "output_type": "execute_result"
    }
   ],
   "source": [
    "linux_strasbourg.nodes_to_global_addresses"
   ]
  },
  {
   "cell_type": "code",
   "execution_count": 9,
   "id": "09b0f136-e57f-4888-9318-49eab345da15",
   "metadata": {},
   "outputs": [
    {
     "data": {
      "text/plain": [
       "{}"
      ]
     },
     "execution_count": 9,
     "metadata": {},
     "output_type": "execute_result"
    }
   ],
   "source": [
    "linux_strasbourg.awaiting_nodes_to_global_addresses"
   ]
  },
  {
   "cell_type": "code",
   "execution_count": 10,
   "id": "4c19f3d5-27b3-4450-a575-06cd93440ffb",
   "metadata": {},
   "outputs": [
    {
     "name": "stdout",
     "output_type": "stream",
     "text": [
      "Stored 'linux_strasbourg' (LinuxCoordinator)\n"
     ]
    }
   ],
   "source": [
    "%store linux_strasbourg\n"
   ]
  },
  {
   "cell_type": "markdown",
   "id": "218d50b4-b0a9-498e-a8ad-c6ff03d47bd9",
   "metadata": {},
   "source": [
    "### Retry Fetch Addresses"
   ]
  },
  {
   "cell_type": "code",
   "execution_count": 10,
   "id": "cafec517-0f8d-459c-bca1-7fdb1ec7f8cd",
   "metadata": {},
   "outputs": [
    {
     "name": "stdout",
     "output_type": "stream",
     "text": [
      "linux-strasbourg: All addresses are compelete, nothing to rerun.\n"
     ]
    }
   ],
   "source": [
    "linux_strasbourg.retry_fetch_addresses()"
   ]
  },
  {
   "cell_type": "code",
   "execution_count": 7,
   "id": "6508027e-06e7-4e8c-af3f-e28bfdb5c416",
   "metadata": {},
   "outputs": [
    {
     "data": {
      "text/plain": [
       "{'node-a8-8.strasbourg.iot-lab.info': '2a07:2e40:fffe:c0::8',\n",
       " 'node-a8-9.strasbourg.iot-lab.info': '2a07:2e40:fffe:c0::9'}"
      ]
     },
     "execution_count": 7,
     "metadata": {},
     "output_type": "execute_result"
    }
   ],
   "source": [
    "linux_strasbourg.nodes_to_global_addresses"
   ]
  },
  {
   "cell_type": "code",
   "execution_count": 7,
   "id": "cbac7244-4573-4208-83ec-59e6da66534c",
   "metadata": {},
   "outputs": [
    {
     "name": "stdout",
     "output_type": "stream",
     "text": [
      "linux-strasbourg: Openning connection to strasbourg\n",
      "Getting from:  ping_experiments/linux/node_ids_to_addresses.json\n",
      "strasbourg.iot-lab.info\n",
      "linux-strasbourg: 2 adresses received!\n"
     ]
    }
   ],
   "source": [
    "linux_strasbourg.digest_new_addresses()"
   ]
  },
  {
   "cell_type": "markdown",
   "id": "98edc054-38d1-4817-8b18-403745776e9b",
   "metadata": {},
   "source": [
    "### Store back the last state of the object"
   ]
  },
  {
   "cell_type": "code",
   "execution_count": 9,
   "id": "722c563b-ded5-45cb-9722-74106588f625",
   "metadata": {},
   "outputs": [
    {
     "name": "stdout",
     "output_type": "stream",
     "text": [
      "Stored 'linux_strasbourg' (LinuxCoordinator)\n"
     ]
    }
   ],
   "source": [
    "%store linux_strasbourg"
   ]
  },
  {
   "cell_type": "markdown",
   "id": "f878aa81-924c-4d49-a707-8c3407e4e108",
   "metadata": {},
   "source": [
    "### Finished, rerun this for new fetch address round"
   ]
  },
  {
   "cell_type": "code",
   "execution_count": 1,
   "id": "29989c99-62ea-4c3d-a009-68a4698743bf",
   "metadata": {},
   "outputs": [
    {
     "data": {
      "text/plain": [
       "['node-a8-1.paris.iot-lab.info',\n",
       " 'node-a8-11.paris.iot-lab.info',\n",
       " 'node-a8-12.paris.iot-lab.info',\n",
       " 'node-a8-13.paris.iot-lab.info',\n",
       " 'node-a8-15.paris.iot-lab.info',\n",
       " 'node-a8-16.paris.iot-lab.info',\n",
       " 'node-a8-17.paris.iot-lab.info',\n",
       " 'node-a8-18.paris.iot-lab.info',\n",
       " 'node-a8-19.paris.iot-lab.info',\n",
       " 'node-a8-2.paris.iot-lab.info',\n",
       " 'node-a8-20.paris.iot-lab.info',\n",
       " 'node-a8-21.paris.iot-lab.info',\n",
       " 'node-a8-22.paris.iot-lab.info',\n",
       " 'node-a8-23.paris.iot-lab.info',\n",
       " 'node-a8-24.paris.iot-lab.info',\n",
       " 'node-a8-25.paris.iot-lab.info',\n",
       " 'node-a8-26.paris.iot-lab.info',\n",
       " 'node-a8-27.paris.iot-lab.info',\n",
       " 'node-a8-28.paris.iot-lab.info',\n",
       " 'node-a8-29.paris.iot-lab.info',\n",
       " 'node-a8-3.paris.iot-lab.info',\n",
       " 'node-a8-30.paris.iot-lab.info',\n",
       " 'node-a8-32.paris.iot-lab.info',\n",
       " 'node-a8-33.paris.iot-lab.info',\n",
       " 'node-a8-34.paris.iot-lab.info',\n",
       " 'node-a8-35.paris.iot-lab.info',\n",
       " 'node-a8-36.paris.iot-lab.info',\n",
       " 'node-a8-37.paris.iot-lab.info',\n",
       " 'node-a8-38.paris.iot-lab.info',\n",
       " 'node-a8-39.paris.iot-lab.info',\n",
       " 'node-a8-4.paris.iot-lab.info',\n",
       " 'node-a8-40.paris.iot-lab.info',\n",
       " 'node-a8-41.paris.iot-lab.info',\n",
       " 'node-a8-42.paris.iot-lab.info',\n",
       " 'node-a8-43.paris.iot-lab.info',\n",
       " 'node-a8-44.paris.iot-lab.info',\n",
       " 'node-a8-45.paris.iot-lab.info',\n",
       " 'node-a8-46.paris.iot-lab.info',\n",
       " 'node-a8-47.paris.iot-lab.info',\n",
       " 'node-a8-48.paris.iot-lab.info',\n",
       " 'node-a8-49.paris.iot-lab.info',\n",
       " 'node-a8-5.paris.iot-lab.info',\n",
       " 'node-a8-50.paris.iot-lab.info',\n",
       " 'node-a8-51.paris.iot-lab.info',\n",
       " 'node-a8-52.paris.iot-lab.info',\n",
       " 'node-a8-53.paris.iot-lab.info',\n",
       " 'node-a8-54.paris.iot-lab.info',\n",
       " 'node-a8-55.paris.iot-lab.info',\n",
       " 'node-a8-56.paris.iot-lab.info',\n",
       " 'node-a8-57.paris.iot-lab.info',\n",
       " 'node-a8-58.paris.iot-lab.info',\n",
       " 'node-a8-59.paris.iot-lab.info',\n",
       " 'node-a8-6.paris.iot-lab.info',\n",
       " 'node-a8-60.paris.iot-lab.info',\n",
       " 'node-a8-61.paris.iot-lab.info',\n",
       " 'node-a8-62.paris.iot-lab.info',\n",
       " 'node-a8-7.paris.iot-lab.info',\n",
       " 'node-a8-9.paris.iot-lab.info']"
      ]
     },
     "execution_count": 1,
     "metadata": {},
     "output_type": "execute_result"
    }
   ],
   "source": [
    "nodes = ['node-a8-1.paris.iot-lab.info',   \n",
    "         'node-a8-11.paris.iot-lab.info', 'node-a8-12.paris.iot-lab.info',                   \n",
    "         'node-a8-13.paris.iot-lab.info', 'node-a8-15.paris.iot-lab.info',                   \n",
    "         'node-a8-16.paris.iot-lab.info', 'node-a8-17.paris.iot-lab.info',                   \n",
    "         'node-a8-18.paris.iot-lab.info', 'node-a8-19.paris.iot-lab.info',                   \n",
    "         'node-a8-2.paris.iot-lab.info', 'node-a8-20.paris.iot-lab.info',                    \n",
    "         'node-a8-21.paris.iot-lab.info', 'node-a8-22.paris.iot-lab.info',                   \n",
    "         'node-a8-23.paris.iot-lab.info', 'node-a8-24.paris.iot-lab.info',                   \n",
    "         'node-a8-25.paris.iot-lab.info', 'node-a8-26.paris.iot-lab.info',                   \n",
    "         'node-a8-27.paris.iot-lab.info', 'node-a8-28.paris.iot-lab.info',                   \n",
    "         'node-a8-29.paris.iot-lab.info', 'node-a8-3.paris.iot-lab.info',                    \n",
    "         'node-a8-30.paris.iot-lab.info', 'node-a8-32.paris.iot-lab.info',                   \n",
    "         'node-a8-33.paris.iot-lab.info', 'node-a8-34.paris.iot-lab.info',                   \n",
    "         'node-a8-35.paris.iot-lab.info', 'node-a8-36.paris.iot-lab.info',                   \n",
    "         'node-a8-37.paris.iot-lab.info', 'node-a8-38.paris.iot-lab.info',                   \n",
    "         'node-a8-39.paris.iot-lab.info', 'node-a8-4.paris.iot-lab.info',                    \n",
    "         'node-a8-40.paris.iot-lab.info', 'node-a8-41.paris.iot-lab.info',                   \n",
    "         'node-a8-42.paris.iot-lab.info', 'node-a8-43.paris.iot-lab.info',                   \n",
    "         'node-a8-44.paris.iot-lab.info', 'node-a8-45.paris.iot-lab.info',                   \n",
    "         'node-a8-46.paris.iot-lab.info', 'node-a8-47.paris.iot-lab.info',                   \n",
    "         'node-a8-48.paris.iot-lab.info', 'node-a8-49.paris.iot-lab.info',                   \n",
    "         'node-a8-5.paris.iot-lab.info', 'node-a8-50.paris.iot-lab.info',                    \n",
    "         'node-a8-51.paris.iot-lab.info', 'node-a8-52.paris.iot-lab.info',                   \n",
    "         'node-a8-53.paris.iot-lab.info', 'node-a8-54.paris.iot-lab.info',                   \n",
    "         'node-a8-55.paris.iot-lab.info', 'node-a8-56.paris.iot-lab.info',                   \n",
    "         'node-a8-57.paris.iot-lab.info', 'node-a8-58.paris.iot-lab.info',                   \n",
    "         'node-a8-59.paris.iot-lab.info', 'node-a8-6.paris.iot-lab.info',                    \n",
    "         'node-a8-60.paris.iot-lab.info', 'node-a8-61.paris.iot-lab.info',                   \n",
    "         'node-a8-62.paris.iot-lab.info', 'node-a8-7.paris.iot-lab.info',                    \n",
    "         'node-a8-9.paris.iot-lab.info']   \n",
    "\n",
    "nodes"
   ]
  },
  {
   "cell_type": "code",
   "execution_count": null,
   "id": "d6453935-0583-4094-bcdc-f879fc0ae8a7",
   "metadata": {},
   "outputs": [],
   "source": []
  }
 ],
 "metadata": {
  "kernelspec": {
   "display_name": "Python 3 (ipykernel)",
   "language": "python",
   "name": "python3"
  },
  "language_info": {
   "codemirror_mode": {
    "name": "ipython",
    "version": 3
   },
   "file_extension": ".py",
   "mimetype": "text/x-python",
   "name": "python",
   "nbconvert_exporter": "python",
   "pygments_lexer": "ipython3",
   "version": "3.10.13"
  }
 },
 "nbformat": 4,
 "nbformat_minor": 5
}
