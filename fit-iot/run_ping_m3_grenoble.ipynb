{
 "cells": [
  {
   "cell_type": "markdown",
   "id": "18667d47-2ea6-409b-a427-6d88561dcea5",
   "metadata": {},
   "source": [
    "## Refresh code in each 2 secs"
   ]
  },
  {
   "cell_type": "code",
   "execution_count": 1,
   "id": "cb12a8cd-7032-4e9e-bc83-dae1482341a8",
   "metadata": {},
   "outputs": [],
   "source": [
    "%load_ext autoreload\n",
    "%autoreload 2"
   ]
  },
  {
   "cell_type": "markdown",
   "id": "140ff01e-4bf8-4cf8-890d-4ed32a6f04d7",
   "metadata": {},
   "source": [
    "### Store site coordinators"
   ]
  },
  {
   "cell_type": "code",
   "execution_count": 2,
   "id": "670c848b-906e-49de-b3a9-9903ecd8c7ab",
   "metadata": {},
   "outputs": [],
   "source": [
    "%store -r site_coordinators"
   ]
  },
  {
   "cell_type": "code",
   "execution_count": 3,
   "id": "369847ba-ce5b-4899-a748-20732be85191",
   "metadata": {},
   "outputs": [],
   "source": [
    "m3_grenoble=site_coordinators[\"m3_grenoble\"]"
   ]
  },
  {
   "cell_type": "markdown",
   "id": "e6a37995-63a8-4776-b880-9e434f204f52",
   "metadata": {},
   "source": [
    "### Initialize/Refresh ping measurement"
   ]
  },
  {
   "cell_type": "code",
   "execution_count": 4,
   "id": "695502e3-fd4f-4246-afc4-4bb9f4f0b071",
   "metadata": {},
   "outputs": [
    {
     "name": "stdout",
     "output_type": "stream",
     "text": [
      "m3-grenoble: Resetting the ping measurements to initial state.\n",
      "m3-grenoble: Initializing the awaiting_ping_measurements dictionary.\n",
      "m3-grenoble: Deleting the fetched addresses on site.\n",
      "m3-grenoble: Openning connection to grenoble\n",
      "m3-grenoble: Putting the all_nodes_to_addresses.json to site.\n",
      "m3-grenoble: Openning connection to grenoble\n"
     ]
    }
   ],
   "source": [
    "#TODO: Call this in object\n",
    "m3_grenoble.refresh_ping_measurement()"
   ]
  },
  {
   "cell_type": "code",
   "execution_count": 5,
   "id": "ef2b921f-d95c-4607-9e4e-3055f9101006",
   "metadata": {},
   "outputs": [],
   "source": [
    "#m3_grenoble.awaiting_ping_measurements"
   ]
  },
  {
   "cell_type": "markdown",
   "id": "094fe3d2-5a83-4884-9943-38e7a11091c7",
   "metadata": {},
   "source": [
    "### Run Ping"
   ]
  },
  {
   "cell_type": "code",
   "execution_count": 6,
   "id": "b39334f9-7fb8-4dbc-9b2e-39f6d90050ce",
   "metadata": {},
   "outputs": [
    {
     "name": "stdout",
     "output_type": "stream",
     "text": [
      "Starting the retry ping round.\n",
      "m3-grenoble: Sending the missing measurements.json.\n",
      "m3-grenoble: Calculating the missing measurements..\n",
      "m3-grenoble: Deleting the missing ping measurements on site.\n",
      "m3-grenoble: Openning connection to grenoble\n",
      "m3-grenoble: Deleting missing measurements on local.\n",
      "m3-grenoble: Writing missing measurements on local.\n",
      "m3-grenoble: Putting the missing_measurements.json to site.\n",
      "m3-grenoble: Openning connection to grenoble\n"
     ]
    }
   ],
   "source": [
    "if len(m3_grenoble.awaiting_ping_measurements.keys()) == 0:\n",
    "    print('All ping measurements are complete, nothing to rerun.')\n",
    "\n",
    "else:\n",
    "    print('Starting the retry ping round.')\n",
    "    m3_grenoble.send_missing_measurements()"
   ]
  },
  {
   "cell_type": "code",
   "execution_count": 7,
   "id": "fbab6b11-04e1-4893-a920-82e56255cd34",
   "metadata": {},
   "outputs": [
    {
     "name": "stdout",
     "output_type": "stream",
     "text": [
      "m3-grenoble: Starting the retry ping round.\n",
      "m3-grenoble: Sending the missing measurements.json.\n",
      "m3-grenoble: Calculating the missing measurements..\n",
      "m3-grenoble: Deleting the missing ping measurements on site.\n",
      "m3-grenoble: Openning connection to grenoble\n",
      "m3-grenoble: Deleting missing measurements on local.\n",
      "m3-grenoble: Writing missing measurements on local.\n",
      "m3-grenoble: Putting the missing_measurements.json to site.\n",
      "m3-grenoble: Openning connection to grenoble\n",
      "m3-grenoble: Openning connection to grenoble\n",
      "Site: grenoble\n",
      "Reading nodes from: ./m3/nodes.txt\n",
      "Running retry ping on m3-103 with 315 dests.\n",
      "Running retry ping on m3-104 with 315 dests.\n",
      "Running retry ping on m3-108 with 315 dests.\n",
      "Running retry ping on m3-109 with 315 dests.\n",
      "Running retry ping on m3-114 with 315 dests.\n",
      "It took more than 5 secs to read output from node: m3-114!\n",
      "It took more than 5 secs to read output from node: m3-104!\n",
      "It took more than 5 secs to read output from node: m3-103!\n",
      "It took more than 5 secs to read output from node: m3-109!\n",
      "Took 0.15962576866149902 secs to finish retry ping round for m3-108.grenoble.iot-lab.info\n",
      "Took 3.170967102050781e-05 secs to finish retry ping round for m3-114.grenoble.iot-lab.info\n",
      "Took 0.14421772956848145 secs to finish retry ping round for m3-104.grenoble.iot-lab.info\n",
      "Took 0.16019153594970703 secs to finish retry ping round for m3-109.grenoble.iot-lab.info\n",
      "Took 0.11203908920288086 secs to finish retry ping round for m3-103.grenoble.iot-lab.info\n",
      "Took 48.023677587509155 secs to finish retry ping round\n",
      "SUCCESS\n"
     ]
    }
   ],
   "source": [
    "m3_grenoble.retry_ping_measurement()"
   ]
  },
  {
   "cell_type": "code",
   "execution_count": 8,
   "id": "97bb9b08-d24e-41cc-aafd-53c7dfd91f8d",
   "metadata": {},
   "outputs": [
    {
     "name": "stdout",
     "output_type": "stream",
     "text": [
      "m3-grenoble: Getting the ping results.\n",
      "m3-grenoble: Openning connection to grenoble\n",
      "/home/alphan/projects/python_scripts/clean-rtt\n",
      "remote path: ~/ping_experiments/m3/ping_measurements.json\n",
      "m3-grenoble: Reading the ping results.\n",
      "m3-grenoble: 1575 measurements received!\n",
      "m3-grenoble: Deleting the fetched ping measurements on site.\n",
      "m3-grenoble: Openning connection to grenoble\n",
      "m3-grenoble: Deleting the local fetched ping measurements.\n"
     ]
    }
   ],
   "source": [
    "m3_grenoble.digest_new_measurements()"
   ]
  },
  {
   "cell_type": "code",
   "execution_count": 10,
   "id": "4e37dfa5-7a52-4bb0-8060-2a446c1b0eed",
   "metadata": {},
   "outputs": [
    {
     "data": {
      "text/plain": [
       "{('m3-318.grenoble.iot-lab.info', 'grenoble'): '40',\n",
       " ('m3-321.grenoble.iot-lab.info', 'grenoble'): '50',\n",
       " ('m3-272.grenoble.iot-lab.info', 'grenoble'): '50',\n",
       " ('m3-274.grenoble.iot-lab.info', 'grenoble'): '100',\n",
       " ('m3-321.grenoble.iot-lab.info', 'lille'): '60',\n",
       " ('m3-274.grenoble.iot-lab.info', 'lille'): '30',\n",
       " ('m3-272.grenoble.iot-lab.info', 'lille'): '120',\n",
       " ('m3-318.grenoble.iot-lab.info', 'lille'): '140',\n",
       " ('m3-321.grenoble.iot-lab.info', 'paris'): '70',\n",
       " ('m3-274.grenoble.iot-lab.info', 'paris'): '50',\n",
       " ('m3-318.grenoble.iot-lab.info', 'paris'): '30',\n",
       " ('m3-321.grenoble.iot-lab.info', 'saclay'): '50',\n",
       " ('m3-272.grenoble.iot-lab.info', 'paris'): '80',\n",
       " ('m3-274.grenoble.iot-lab.info', 'saclay'): '70',\n",
       " ('m3-318.grenoble.iot-lab.info', 'saclay'): '60',\n",
       " ('m3-274.grenoble.iot-lab.info', 'strasbourg'): '50',\n",
       " ('m3-321.grenoble.iot-lab.info', 'strasbourg'): '100',\n",
       " ('m3-272.grenoble.iot-lab.info', 'saclay'): '90',\n",
       " ('m3-272.grenoble.iot-lab.info', 'strasbourg'): '30',\n",
       " ('m3-318.grenoble.iot-lab.info', 'strasbourg'): '90',\n",
       " ('m3-274.grenoble.iot-lab.info', 'node-a8-9.strasbourg.iot-lab.info'): '60',\n",
       " ('m3-321.grenoble.iot-lab.info', 'node-a8-9.strasbourg.iot-lab.info'): '90',\n",
       " ('m3-318.grenoble.iot-lab.info', 'node-a8-9.strasbourg.iot-lab.info'): '80',\n",
       " ('m3-272.grenoble.iot-lab.info', 'node-a8-9.strasbourg.iot-lab.info'): '100',\n",
       " ('m3-274.grenoble.iot-lab.info', 'node-a8-8.strasbourg.iot-lab.info'): '100',\n",
       " ('m3-272.grenoble.iot-lab.info', 'node-a8-8.strasbourg.iot-lab.info'): '40',\n",
       " ('m3-321.grenoble.iot-lab.info', 'node-a8-8.strasbourg.iot-lab.info'): '120',\n",
       " ('m3-318.grenoble.iot-lab.info', 'node-a8-8.strasbourg.iot-lab.info'): '60',\n",
       " ('m3-274.grenoble.iot-lab.info', 'm3-40.strasbourg.iot-lab.info'): '140',\n",
       " ('m3-272.grenoble.iot-lab.info', 'm3-40.strasbourg.iot-lab.info'): '190',\n",
       " ('m3-321.grenoble.iot-lab.info', 'm3-40.strasbourg.iot-lab.info'): '210',\n",
       " ('m3-318.grenoble.iot-lab.info', 'm3-40.strasbourg.iot-lab.info'): '210',\n",
       " ('m3-274.grenoble.iot-lab.info', 'm3-42.strasbourg.iot-lab.info'): '190',\n",
       " ('m3-321.grenoble.iot-lab.info', 'm3-42.strasbourg.iot-lab.info'): '180',\n",
       " ('m3-272.grenoble.iot-lab.info', 'm3-42.strasbourg.iot-lab.info'): '230',\n",
       " ('m3-318.grenoble.iot-lab.info', 'm3-42.strasbourg.iot-lab.info'): '220',\n",
       " ('m3-274.grenoble.iot-lab.info', 'm3-44.strasbourg.iot-lab.info'): '190',\n",
       " ('m3-274.grenoble.iot-lab.info', 'm3-46.strasbourg.iot-lab.info'): '100',\n",
       " ('m3-321.grenoble.iot-lab.info', 'm3-44.strasbourg.iot-lab.info'): '250',\n",
       " ('m3-272.grenoble.iot-lab.info', 'm3-44.strasbourg.iot-lab.info'): '270',\n",
       " ('m3-318.grenoble.iot-lab.info', 'm3-44.strasbourg.iot-lab.info'): '260',\n",
       " ('m3-321.grenoble.iot-lab.info', 'm3-46.strasbourg.iot-lab.info'): '140',\n",
       " ('m3-274.grenoble.iot-lab.info', 'm3-272.grenoble.iot-lab.info'): '160',\n",
       " ('m3-274.grenoble.iot-lab.info', 'm3-274.grenoble.iot-lab.info'): '0',\n",
       " ('m3-272.grenoble.iot-lab.info', 'm3-46.strasbourg.iot-lab.info'): '180',\n",
       " ('m3-272.grenoble.iot-lab.info', 'm3-272.grenoble.iot-lab.info'): '0',\n",
       " ('m3-274.grenoble.iot-lab.info', 'm3-318.grenoble.iot-lab.info'): '110',\n",
       " ('m3-318.grenoble.iot-lab.info', 'm3-46.strasbourg.iot-lab.info'): '210',\n",
       " ('m3-321.grenoble.iot-lab.info', 'm3-272.grenoble.iot-lab.info'): '200',\n",
       " ('m3-318.grenoble.iot-lab.info', 'm3-272.grenoble.iot-lab.info'): '120',\n",
       " ('m3-272.grenoble.iot-lab.info', 'm3-274.grenoble.iot-lab.info'): '170',\n",
       " ('m3-274.grenoble.iot-lab.info', 'm3-321.grenoble.iot-lab.info'): '220',\n",
       " ('m3-321.grenoble.iot-lab.info', 'm3-274.grenoble.iot-lab.info'): '200',\n",
       " ('m3-272.grenoble.iot-lab.info', 'm3-318.grenoble.iot-lab.info'): '180',\n",
       " ('m3-318.grenoble.iot-lab.info', 'm3-274.grenoble.iot-lab.info'): '200',\n",
       " ('m3-318.grenoble.iot-lab.info', 'm3-318.grenoble.iot-lab.info'): '0',\n",
       " ('m3-274.grenoble.iot-lab.info', 'm3-59.paris.iot-lab.info'): '160',\n",
       " ('m3-272.grenoble.iot-lab.info', 'm3-321.grenoble.iot-lab.info'): '80',\n",
       " ('m3-321.grenoble.iot-lab.info', 'm3-318.grenoble.iot-lab.info'): '200',\n",
       " ('m3-274.grenoble.iot-lab.info', 'm3-47.paris.iot-lab.info'): '60',\n",
       " ('m3-321.grenoble.iot-lab.info', 'm3-321.grenoble.iot-lab.info'): '0',\n",
       " ('m3-272.grenoble.iot-lab.info', 'm3-59.paris.iot-lab.info'): '70',\n",
       " ('m3-318.grenoble.iot-lab.info', 'm3-321.grenoble.iot-lab.info'): '200',\n",
       " ('m3-274.grenoble.iot-lab.info', 'm3-45.paris.iot-lab.info'): '160',\n",
       " ('m3-318.grenoble.iot-lab.info', 'm3-59.paris.iot-lab.info'): '60',\n",
       " ('m3-272.grenoble.iot-lab.info', 'm3-47.paris.iot-lab.info'): '170',\n",
       " ('m3-274.grenoble.iot-lab.info', 'm3-44.paris.iot-lab.info'): '90',\n",
       " ('m3-318.grenoble.iot-lab.info', 'm3-47.paris.iot-lab.info'): '110',\n",
       " ('m3-274.grenoble.iot-lab.info', 'm3-63.paris.iot-lab.info'): '120',\n",
       " ('m3-272.grenoble.iot-lab.info', 'm3-45.paris.iot-lab.info'): '180',\n",
       " ('m3-318.grenoble.iot-lab.info', 'm3-45.paris.iot-lab.info'): '110',\n",
       " ('m3-274.grenoble.iot-lab.info', 'm3-62.paris.iot-lab.info'): '150',\n",
       " ('m3-272.grenoble.iot-lab.info', 'm3-44.paris.iot-lab.info'): '130',\n",
       " ('m3-274.grenoble.iot-lab.info', 'm3-42.paris.iot-lab.info'): '150',\n",
       " ('m3-272.grenoble.iot-lab.info', 'm3-63.paris.iot-lab.info'): '150',\n",
       " ('m3-272.grenoble.iot-lab.info', 'm3-62.paris.iot-lab.info'): '110',\n",
       " ('m3-274.grenoble.iot-lab.info', 'm3-41.paris.iot-lab.info'): '150',\n",
       " ('m3-272.grenoble.iot-lab.info', 'm3-42.paris.iot-lab.info'): '80',\n",
       " ('m3-272.grenoble.iot-lab.info', 'm3-41.paris.iot-lab.info'): '130',\n",
       " ('m3-321.grenoble.iot-lab.info', 'm3-59.paris.iot-lab.info'): '120',\n",
       " ('m3-321.grenoble.iot-lab.info', 'm3-47.paris.iot-lab.info'): '130',\n",
       " ('m3-321.grenoble.iot-lab.info', 'm3-45.paris.iot-lab.info'): '140',\n",
       " ('m3-318.grenoble.iot-lab.info', 'm3-44.paris.iot-lab.info'): '110',\n",
       " ('m3-318.grenoble.iot-lab.info', 'm3-63.paris.iot-lab.info'): '150',\n",
       " ('m3-318.grenoble.iot-lab.info', 'm3-62.paris.iot-lab.info'): '100',\n",
       " ('m3-318.grenoble.iot-lab.info', 'm3-42.paris.iot-lab.info'): '190',\n",
       " ('m3-318.grenoble.iot-lab.info', 'm3-41.paris.iot-lab.info'): '90',\n",
       " ('m3-321.grenoble.iot-lab.info', 'm3-44.paris.iot-lab.info'): '100',\n",
       " ('m3-321.grenoble.iot-lab.info', 'm3-63.paris.iot-lab.info'): '80',\n",
       " ('m3-321.grenoble.iot-lab.info', 'm3-62.paris.iot-lab.info'): '180',\n",
       " ('m3-321.grenoble.iot-lab.info', 'm3-42.paris.iot-lab.info'): '160',\n",
       " ('m3-321.grenoble.iot-lab.info', 'm3-41.paris.iot-lab.info'): '80'}"
      ]
     },
     "execution_count": 10,
     "metadata": {},
     "output_type": "execute_result"
    }
   ],
   "source": [
    "m3_grenoble.ping_measurements"
   ]
  },
  {
   "cell_type": "code",
   "execution_count": 11,
   "id": "26679a60-acce-42b0-b8b0-a1129ba4f0ac",
   "metadata": {},
   "outputs": [
    {
     "data": {
      "text/plain": [
       "{}"
      ]
     },
     "execution_count": 11,
     "metadata": {},
     "output_type": "execute_result"
    }
   ],
   "source": [
    "m3_grenoble.awaiting_ping_measurements"
   ]
  },
  {
   "cell_type": "markdown",
   "id": "98edc054-38d1-4817-8b18-403745776e9b",
   "metadata": {},
   "source": [
    "### Store back the last state of the object"
   ]
  },
  {
   "cell_type": "code",
   "execution_count": 1,
   "id": "722c563b-ded5-45cb-9722-74106588f625",
   "metadata": {},
   "outputs": [
    {
     "name": "stderr",
     "output_type": "stream",
     "text": [
      "UsageError: Unknown variable 'm3_grenoble'\n"
     ]
    }
   ],
   "source": [
    "%store m3_grenoble"
   ]
  },
  {
   "cell_type": "markdown",
   "id": "6a5d802d-f043-44dd-a0ae-f05e69dfa50b",
   "metadata": {},
   "source": [
    "### Finished, rerun the notebook for a new ping run"
   ]
  },
  {
   "cell_type": "code",
   "execution_count": 12,
   "id": "39c0eda5-e965-4eb4-b309-82dc15431057",
   "metadata": {},
   "outputs": [
    {
     "name": "stdout",
     "output_type": "stream",
     "text": [
      "m3-grenoble: Openning connection to grenoble\n",
      "tun0 not alive!\n",
      "m3-grenoble: Starting the br screen sessions..\n",
      "m3-grenoble: Openning connection to grenoble\n",
      "m3-grenoble: Starting iteration for br 0, on m3-107\n",
      "m3-grenoble: Starting tun screen for br 0, and m3-107\n"
     ]
    }
   ],
   "source": [
    "m3_grenoble.rerun_stopped_br_processes()"
   ]
  },
  {
   "cell_type": "code",
   "execution_count": 48,
   "id": "29989c99-62ea-4c3d-a009-68a4698743bf",
   "metadata": {},
   "outputs": [
    {
     "data": {
      "text/plain": [
       "7"
      ]
     },
     "execution_count": 48,
     "metadata": {},
     "output_type": "execute_result"
    }
   ],
   "source": []
  },
  {
   "cell_type": "code",
   "execution_count": null,
   "id": "d6453935-0583-4094-bcdc-f879fc0ae8a7",
   "metadata": {},
   "outputs": [],
   "source": []
  }
 ],
 "metadata": {
  "kernelspec": {
   "display_name": "Python 3 (ipykernel)",
   "language": "python",
   "name": "python3"
  },
  "language_info": {
   "codemirror_mode": {
    "name": "ipython",
    "version": 3
   },
   "file_extension": ".py",
   "mimetype": "text/x-python",
   "name": "python",
   "nbconvert_exporter": "python",
   "pygments_lexer": "ipython3",
   "version": "3.10.13"
  }
 },
 "nbformat": 4,
 "nbformat_minor": 5
}
