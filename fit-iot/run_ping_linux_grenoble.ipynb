{
 "cells": [
  {
   "cell_type": "markdown",
   "id": "18667d47-2ea6-409b-a427-6d88561dcea5",
   "metadata": {},
   "source": [
    "## Refresh code in each 2 secs"
   ]
  },
  {
   "cell_type": "code",
   "execution_count": 1,
   "id": "cb12a8cd-7032-4e9e-bc83-dae1482341a8",
   "metadata": {},
   "outputs": [],
   "source": [
    "%load_ext autoreload\n",
    "%autoreload 2"
   ]
  },
  {
   "cell_type": "markdown",
   "id": "140ff01e-4bf8-4cf8-890d-4ed32a6f04d7",
   "metadata": {},
   "source": [
    "### Store site coordinators"
   ]
  },
  {
   "cell_type": "code",
   "execution_count": 2,
   "id": "670c848b-906e-49de-b3a9-9903ecd8c7ab",
   "metadata": {},
   "outputs": [],
   "source": [
    "%store -r site_coordinators"
   ]
  },
  {
   "cell_type": "code",
   "execution_count": 3,
   "id": "369847ba-ce5b-4899-a748-20732be85191",
   "metadata": {},
   "outputs": [],
   "source": [
    "linux_grenoble_1=site_coordinators[\"linux_grenoble_1\"]"
   ]
  },
  {
   "cell_type": "markdown",
   "id": "e6a37995-63a8-4776-b880-9e434f204f52",
   "metadata": {},
   "source": [
    "### Initialize/Refresh ping measurement"
   ]
  },
  {
   "cell_type": "code",
   "execution_count": 4,
   "id": "695502e3-fd4f-4246-afc4-4bb9f4f0b071",
   "metadata": {},
   "outputs": [
    {
     "name": "stdout",
     "output_type": "stream",
     "text": [
      "linux-grenoble: Resetting the ping measurements to initial state.\n",
      "linux-grenoble: Initializing the awaiting_ping_measurements dictionary.\n",
      "linux-grenoble: Deleting the fetched addresses on site.\n",
      "linux-grenoble: Openning connection to grenoble\n",
      "linux-grenoble: Putting the all_nodes_to_addresses.json to site.\n",
      "linux-grenoble: Openning connection to grenoble\n"
     ]
    }
   ],
   "source": [
    "#TODO: Call this in object\n",
    "linux_grenoble_1.refresh_ping_measurement()"
   ]
  },
  {
   "cell_type": "markdown",
   "id": "094fe3d2-5a83-4884-9943-38e7a11091c7",
   "metadata": {},
   "source": [
    "### Run Initial Ping"
   ]
  },
  {
   "cell_type": "code",
   "execution_count": 5,
   "id": "1a2caf02-aa38-4df2-9b12-95f97eec11a8",
   "metadata": {},
   "outputs": [
    {
     "name": "stdout",
     "output_type": "stream",
     "text": [
      "linux-grenoble: Starting the initial ping round.\n",
      "linux-grenoble: Sending the nodes.txt.\n",
      "linux-grenoble: Deleting the local nodes.txt.\n",
      "Encountered a bad command exit code!\n",
      "\n",
      "Command: './experiment_data/387556/intermediate/grenoble/linux_1/nodes.txt'\n",
      "\n",
      "Exit code: 126\n",
      "\n",
      "Stdout: already printed\n",
      "\n",
      "Stderr:\n",
      "\n",
      "/bin/bash: ./experiment_data/387556/intermediate/grenoble/linux_1/nodes.txt: Permission denied\n",
      "\n",
      "\n",
      "linux-grenoble: Deleting the nodes.txt addresses on grenoble.\n",
      "linux-grenoble: Openning connection to grenoble\n",
      "linux-grenoble: Writing nodes to local.\n",
      "linux-grenoble: Putting nodes on grenoble.\n",
      "linux-grenoble: Openning connection to grenoble\n",
      "linux-grenoble: Openning connection to grenoble\n",
      "Site: grenoble\n",
      "Reading nodes from: ./linux_1/nodes.txt\n",
      "Reading all nodes\n",
      "In run ping round\n",
      "Here!\n",
      "range list [(0, 20), (20, 40), (40, 60), (60, 80), (80, 100), (100, 120), (120, 140), (140, 160), (160, 180), (180, 200), (200, 220), (220, 240), (240, 260), (260, 280), (280, 300), (300, -1)]\n",
      "There are 89 number of hosts.\n",
      "Executing 6 iterations.\n",
      "Node per iteration: 15\n",
      "Openning connection to node-a8-11.grenoble.iot-lab.info\n",
      "Openning connection to node-a8-162.grenoble.iot-lab.info\n",
      "Openning connection to node-a8-122.grenoble.iot-lab.info\n",
      "Openning connection to node-a8-110.grenoble.iot-lab.info\n",
      "Openning connection to node-a8-156.grenoble.iot-lab.info\n",
      "Openning connection to node-a8-184.grenoble.iot-lab.info\n",
      "Openning connection to node-a8-194.grenoble.iot-lab.info\n",
      "Openning connection to node-a8-105.grenoble.iot-lab.info\n",
      "Openning connection to node-a8-185.grenoble.iot-lab.info\n",
      "Openning connection to node-a8-190.grenoble.iot-lab.info\n",
      "Openning connection to node-a8-165.grenoble.iot-lab.info\n",
      "Openning connection to node-a8-124.grenoble.iot-lab.info\n",
      "Openning connection to node-a8-112.grenoble.iot-lab.info\n",
      "Openning connection to node-a8-109.grenoble.iot-lab.info\n",
      "Openning connection to node-a8-129.grenoble.iot-lab.info\n",
      "range list: [(0, 20), (20, 40), (40, 60), (60, 80), (80, 100), (100, 120), (120, 140), (140, 160), (160, 180), (180, 200), (200, 220), (220, 240), (240, 260), (260, 280), (280, 300), (300, -1)]\n",
      "Starting iteration with: dict_keys(['node-a8-11.grenoble.iot-lab.info', 'node-a8-162.grenoble.iot-lab.info', 'node-a8-122.grenoble.iot-lab.info', 'node-a8-110.grenoble.iot-lab.info', 'node-a8-156.grenoble.iot-lab.info', 'node-a8-184.grenoble.iot-lab.info', 'node-a8-194.grenoble.iot-lab.info', 'node-a8-105.grenoble.iot-lab.info', 'node-a8-185.grenoble.iot-lab.info', 'node-a8-190.grenoble.iot-lab.info', 'node-a8-165.grenoble.iot-lab.info', 'node-a8-124.grenoble.iot-lab.info', 'node-a8-112.grenoble.iot-lab.info', 'node-a8-109.grenoble.iot-lab.info', 'node-a8-129.grenoble.iot-lab.info'])\n",
      "Finished executing the 0. range in 10.490567207336426 secs.\n",
      "Finished executing the 1. range in 4.535584449768066 secs.\n",
      "Finished executing the 2. range in 4.5393149852752686 secs.\n",
      "Finished executing the 3. range in 4.546627998352051 secs.\n",
      "Finished executing the 4. range in 4.59061074256897 secs.\n",
      "Finished executing the 5. range in 4.644951105117798 secs.\n",
      "Finished executing the 6. range in 4.541031360626221 secs.\n",
      "Finished executing the 7. range in 4.611295461654663 secs.\n",
      "Finished executing the 8. range in 4.530324935913086 secs.\n",
      "Finished executing the 9. range in 4.596429824829102 secs.\n",
      "Finished executing the 10. range in 4.637469291687012 secs.\n",
      "Finished executing the 11. range in 4.6031506061553955 secs.\n",
      "Finished executing the 12. range in 4.519076108932495 secs.\n",
      "Finished executing the 13. range in 4.577174425125122 secs.\n",
      "Finished executing the 14. range in 4.538960695266724 secs.\n",
      "Finished executing the 15. range in 3.9893252849578857 secs.\n",
      "Closing connections to dict_keys(['node-a8-11.grenoble.iot-lab.info', 'node-a8-162.grenoble.iot-lab.info', 'node-a8-122.grenoble.iot-lab.info', 'node-a8-110.grenoble.iot-lab.info', 'node-a8-156.grenoble.iot-lab.info', 'node-a8-184.grenoble.iot-lab.info', 'node-a8-194.grenoble.iot-lab.info', 'node-a8-105.grenoble.iot-lab.info', 'node-a8-185.grenoble.iot-lab.info', 'node-a8-190.grenoble.iot-lab.info', 'node-a8-165.grenoble.iot-lab.info', 'node-a8-124.grenoble.iot-lab.info', 'node-a8-112.grenoble.iot-lab.info', 'node-a8-109.grenoble.iot-lab.info', 'node-a8-129.grenoble.iot-lab.info'])\n",
      "Node per iteration: 15\n",
      "Openning connection to node-a8-103.grenoble.iot-lab.info\n",
      "Openning connection to node-a8-123.grenoble.iot-lab.info\n",
      "Openning connection to node-a8-134.grenoble.iot-lab.info\n",
      "Openning connection to node-a8-15.grenoble.iot-lab.info\n",
      "Openning connection to node-a8-183.grenoble.iot-lab.info\n",
      "Openning connection to node-a8-182.grenoble.iot-lab.info\n",
      "Openning connection to node-a8-177.grenoble.iot-lab.info\n",
      "Openning connection to node-a8-19.grenoble.iot-lab.info\n",
      "Openning connection to node-a8-150.grenoble.iot-lab.info\n",
      "Openning connection to node-a8-166.grenoble.iot-lab.info\n",
      "Openning connection to node-a8-168.grenoble.iot-lab.info\n",
      "Openning connection to node-a8-18.grenoble.iot-lab.info\n",
      "Openning connection to node-a8-192.grenoble.iot-lab.info\n",
      "Openning connection to node-a8-12.grenoble.iot-lab.info\n",
      "Openning connection to node-a8-153.grenoble.iot-lab.info\n",
      "range list: [(0, 20), (20, 40), (40, 60), (60, 80), (80, 100), (100, 120), (120, 140), (140, 160), (160, 180), (180, 200), (200, 220), (220, 240), (240, 260), (260, 280), (280, 300), (300, -1)]\n",
      "Starting iteration with: dict_keys(['node-a8-103.grenoble.iot-lab.info', 'node-a8-123.grenoble.iot-lab.info', 'node-a8-134.grenoble.iot-lab.info', 'node-a8-15.grenoble.iot-lab.info', 'node-a8-183.grenoble.iot-lab.info', 'node-a8-182.grenoble.iot-lab.info', 'node-a8-177.grenoble.iot-lab.info', 'node-a8-19.grenoble.iot-lab.info', 'node-a8-150.grenoble.iot-lab.info', 'node-a8-166.grenoble.iot-lab.info', 'node-a8-168.grenoble.iot-lab.info', 'node-a8-18.grenoble.iot-lab.info', 'node-a8-192.grenoble.iot-lab.info', 'node-a8-12.grenoble.iot-lab.info', 'node-a8-153.grenoble.iot-lab.info'])\n",
      "Finished executing the 0. range in 10.056514501571655 secs.\n",
      "Finished executing the 1. range in 4.6041998863220215 secs.\n",
      "Finished executing the 2. range in 4.611252546310425 secs.\n",
      "Finished executing the 3. range in 4.537615776062012 secs.\n",
      "Finished executing the 4. range in 4.592719078063965 secs.\n",
      "Finished executing the 5. range in 4.652299642562866 secs.\n",
      "Finished executing the 6. range in 4.568948745727539 secs.\n",
      "Finished executing the 7. range in 4.524437427520752 secs.\n",
      "Finished executing the 8. range in 4.5293238162994385 secs.\n",
      "Finished executing the 9. range in 4.581470727920532 secs.\n",
      "Finished executing the 10. range in 4.512261152267456 secs.\n",
      "Finished executing the 11. range in 4.567468643188477 secs.\n",
      "Finished executing the 12. range in 4.617140769958496 secs.\n",
      "Finished executing the 13. range in 4.614366054534912 secs.\n",
      "Finished executing the 14. range in 4.573109149932861 secs.\n",
      "Finished executing the 15. range in 4.012255668640137 secs.\n",
      "Closing connections to dict_keys(['node-a8-103.grenoble.iot-lab.info', 'node-a8-123.grenoble.iot-lab.info', 'node-a8-134.grenoble.iot-lab.info', 'node-a8-15.grenoble.iot-lab.info', 'node-a8-183.grenoble.iot-lab.info', 'node-a8-182.grenoble.iot-lab.info', 'node-a8-177.grenoble.iot-lab.info', 'node-a8-19.grenoble.iot-lab.info', 'node-a8-150.grenoble.iot-lab.info', 'node-a8-166.grenoble.iot-lab.info', 'node-a8-168.grenoble.iot-lab.info', 'node-a8-18.grenoble.iot-lab.info', 'node-a8-192.grenoble.iot-lab.info', 'node-a8-12.grenoble.iot-lab.info', 'node-a8-153.grenoble.iot-lab.info'])\n",
      "Node per iteration: 15\n",
      "Openning connection to node-a8-133.grenoble.iot-lab.info\n",
      "Openning connection to node-a8-120.grenoble.iot-lab.info\n",
      "Openning connection to node-a8-188.grenoble.iot-lab.info\n",
      "Openning connection to node-a8-136.grenoble.iot-lab.info\n",
      "Openning connection to node-a8-17.grenoble.iot-lab.info\n",
      "Openning connection to node-a8-128.grenoble.iot-lab.info\n",
      "Openning connection to node-a8-180.grenoble.iot-lab.info\n",
      "Openning connection to node-a8-181.grenoble.iot-lab.info\n",
      "Openning connection to node-a8-119.grenoble.iot-lab.info\n",
      "Openning connection to node-a8-142.grenoble.iot-lab.info\n",
      "Openning connection to node-a8-16.grenoble.iot-lab.info\n",
      "Openning connection to node-a8-116.grenoble.iot-lab.info\n",
      "Openning connection to node-a8-127.grenoble.iot-lab.info\n",
      "Openning connection to node-a8-170.grenoble.iot-lab.info\n",
      "Openning connection to node-a8-14.grenoble.iot-lab.info\n",
      "range list: [(0, 20), (20, 40), (40, 60), (60, 80), (80, 100), (100, 120), (120, 140), (140, 160), (160, 180), (180, 200), (200, 220), (220, 240), (240, 260), (260, 280), (280, 300), (300, -1)]\n",
      "Starting iteration with: dict_keys(['node-a8-133.grenoble.iot-lab.info', 'node-a8-120.grenoble.iot-lab.info', 'node-a8-188.grenoble.iot-lab.info', 'node-a8-136.grenoble.iot-lab.info', 'node-a8-17.grenoble.iot-lab.info', 'node-a8-128.grenoble.iot-lab.info', 'node-a8-180.grenoble.iot-lab.info', 'node-a8-181.grenoble.iot-lab.info', 'node-a8-119.grenoble.iot-lab.info', 'node-a8-142.grenoble.iot-lab.info', 'node-a8-16.grenoble.iot-lab.info', 'node-a8-116.grenoble.iot-lab.info', 'node-a8-127.grenoble.iot-lab.info', 'node-a8-170.grenoble.iot-lab.info', 'node-a8-14.grenoble.iot-lab.info'])\n",
      "Finished executing the 0. range in 10.085697174072266 secs.\n",
      "Finished executing the 1. range in 4.577169179916382 secs.\n",
      "Finished executing the 2. range in 4.589746952056885 secs.\n",
      "Finished executing the 3. range in 4.527714967727661 secs.\n",
      "Finished executing the 4. range in 4.577687740325928 secs.\n",
      "Finished executing the 5. range in 4.467372417449951 secs.\n",
      "Finished executing the 6. range in 4.568366050720215 secs.\n",
      "Finished executing the 7. range in 4.5715651512146 secs.\n",
      "Finished executing the 8. range in 4.5403454303741455 secs.\n",
      "Finished executing the 9. range in 4.509615182876587 secs.\n",
      "Finished executing the 10. range in 4.5416083335876465 secs.\n",
      "Finished executing the 11. range in 4.509547710418701 secs.\n",
      "Finished executing the 12. range in 4.577421426773071 secs.\n",
      "Finished executing the 13. range in 4.53397798538208 secs.\n",
      "Finished executing the 14. range in 14.202117919921875 secs.\n",
      "Finished executing the 15. range in 4.005007266998291 secs.\n",
      "Closing connections to dict_keys(['node-a8-133.grenoble.iot-lab.info', 'node-a8-120.grenoble.iot-lab.info', 'node-a8-188.grenoble.iot-lab.info', 'node-a8-136.grenoble.iot-lab.info', 'node-a8-17.grenoble.iot-lab.info', 'node-a8-128.grenoble.iot-lab.info', 'node-a8-180.grenoble.iot-lab.info', 'node-a8-181.grenoble.iot-lab.info', 'node-a8-119.grenoble.iot-lab.info', 'node-a8-142.grenoble.iot-lab.info', 'node-a8-16.grenoble.iot-lab.info', 'node-a8-116.grenoble.iot-lab.info', 'node-a8-127.grenoble.iot-lab.info', 'node-a8-170.grenoble.iot-lab.info', 'node-a8-14.grenoble.iot-lab.info'])\n",
      "Node per iteration: 15\n",
      "Openning connection to node-a8-193.grenoble.iot-lab.info\n",
      "Openning connection to node-a8-106.grenoble.iot-lab.info\n",
      "Openning connection to node-a8-126.grenoble.iot-lab.info\n",
      "Openning connection to node-a8-13.grenoble.iot-lab.info\n",
      "Openning connection to node-a8-189.grenoble.iot-lab.info\n",
      "Openning connection to node-a8-157.grenoble.iot-lab.info\n",
      "Openning connection to node-a8-113.grenoble.iot-lab.info\n",
      "Openning connection to node-a8-117.grenoble.iot-lab.info\n",
      "Openning connection to node-a8-154.grenoble.iot-lab.info\n",
      "Openning connection to node-a8-195.grenoble.iot-lab.info\n",
      "Openning connection to node-a8-173.grenoble.iot-lab.info\n",
      "Openning connection to node-a8-147.grenoble.iot-lab.info\n",
      "Openning connection to node-a8-135.grenoble.iot-lab.info\n",
      "Openning connection to node-a8-151.grenoble.iot-lab.info\n",
      "Openning connection to node-a8-187.grenoble.iot-lab.info\n",
      "range list: [(0, 20), (20, 40), (40, 60), (60, 80), (80, 100), (100, 120), (120, 140), (140, 160), (160, 180), (180, 200), (200, 220), (220, 240), (240, 260), (260, 280), (280, 300), (300, -1)]\n",
      "Starting iteration with: dict_keys(['node-a8-193.grenoble.iot-lab.info', 'node-a8-106.grenoble.iot-lab.info', 'node-a8-126.grenoble.iot-lab.info', 'node-a8-13.grenoble.iot-lab.info', 'node-a8-189.grenoble.iot-lab.info', 'node-a8-157.grenoble.iot-lab.info', 'node-a8-113.grenoble.iot-lab.info', 'node-a8-117.grenoble.iot-lab.info', 'node-a8-154.grenoble.iot-lab.info', 'node-a8-195.grenoble.iot-lab.info', 'node-a8-173.grenoble.iot-lab.info', 'node-a8-147.grenoble.iot-lab.info', 'node-a8-135.grenoble.iot-lab.info', 'node-a8-151.grenoble.iot-lab.info', 'node-a8-187.grenoble.iot-lab.info'])\n",
      "Finished executing the 0. range in 10.028281927108765 secs.\n",
      "Finished executing the 1. range in 4.547719240188599 secs.\n",
      "Finished executing the 2. range in 4.535189867019653 secs.\n",
      "Finished executing the 3. range in 4.516834497451782 secs.\n",
      "Finished executing the 4. range in 4.575184106826782 secs.\n",
      "Finished executing the 5. range in 4.54294228553772 secs.\n",
      "Finished executing the 6. range in 4.517685890197754 secs.\n",
      "Finished executing the 7. range in 4.568554878234863 secs.\n",
      "Finished executing the 8. range in 4.551209211349487 secs.\n",
      "Finished executing the 9. range in 4.530206918716431 secs.\n",
      "Finished executing the 10. range in 4.5383141040802 secs.\n",
      "Finished executing the 11. range in 4.620330572128296 secs.\n",
      "Finished executing the 12. range in 4.5516884326934814 secs.\n",
      "Finished executing the 13. range in 4.559329271316528 secs.\n",
      "Finished executing the 14. range in 4.5441954135894775 secs.\n",
      "Finished executing the 15. range in 3.956484317779541 secs.\n",
      "Closing connections to dict_keys(['node-a8-193.grenoble.iot-lab.info', 'node-a8-106.grenoble.iot-lab.info', 'node-a8-126.grenoble.iot-lab.info', 'node-a8-13.grenoble.iot-lab.info', 'node-a8-189.grenoble.iot-lab.info', 'node-a8-157.grenoble.iot-lab.info', 'node-a8-113.grenoble.iot-lab.info', 'node-a8-117.grenoble.iot-lab.info', 'node-a8-154.grenoble.iot-lab.info', 'node-a8-195.grenoble.iot-lab.info', 'node-a8-173.grenoble.iot-lab.info', 'node-a8-147.grenoble.iot-lab.info', 'node-a8-135.grenoble.iot-lab.info', 'node-a8-151.grenoble.iot-lab.info', 'node-a8-187.grenoble.iot-lab.info'])\n",
      "Node per iteration: 15\n",
      "Openning connection to node-a8-125.grenoble.iot-lab.info\n",
      "Openning connection to node-a8-108.grenoble.iot-lab.info\n",
      "Openning connection to node-a8-161.grenoble.iot-lab.info\n",
      "Openning connection to node-a8-155.grenoble.iot-lab.info\n",
      "Openning connection to node-a8-107.grenoble.iot-lab.info\n",
      "Openning connection to node-a8-131.grenoble.iot-lab.info\n",
      "Openning connection to node-a8-146.grenoble.iot-lab.info\n",
      "Openning connection to node-a8-121.grenoble.iot-lab.info\n",
      "Openning connection to node-a8-171.grenoble.iot-lab.info\n",
      "Openning connection to node-a8-104.grenoble.iot-lab.info\n",
      "Openning connection to node-a8-137.grenoble.iot-lab.info\n",
      "Openning connection to node-a8-163.grenoble.iot-lab.info\n",
      "Openning connection to node-a8-10.grenoble.iot-lab.info\n",
      "Openning connection to node-a8-115.grenoble.iot-lab.info\n",
      "Openning connection to node-a8-179.grenoble.iot-lab.info\n",
      "range list: [(0, 20), (20, 40), (40, 60), (60, 80), (80, 100), (100, 120), (120, 140), (140, 160), (160, 180), (180, 200), (200, 220), (220, 240), (240, 260), (260, 280), (280, 300), (300, -1)]\n",
      "Starting iteration with: dict_keys(['node-a8-125.grenoble.iot-lab.info', 'node-a8-108.grenoble.iot-lab.info', 'node-a8-161.grenoble.iot-lab.info', 'node-a8-155.grenoble.iot-lab.info', 'node-a8-107.grenoble.iot-lab.info', 'node-a8-131.grenoble.iot-lab.info', 'node-a8-146.grenoble.iot-lab.info', 'node-a8-121.grenoble.iot-lab.info', 'node-a8-171.grenoble.iot-lab.info', 'node-a8-104.grenoble.iot-lab.info', 'node-a8-137.grenoble.iot-lab.info', 'node-a8-163.grenoble.iot-lab.info', 'node-a8-10.grenoble.iot-lab.info', 'node-a8-115.grenoble.iot-lab.info', 'node-a8-179.grenoble.iot-lab.info'])\n",
      "Finished executing the 0. range in 10.14594316482544 secs.\n",
      "Finished executing the 1. range in 4.510915756225586 secs.\n",
      "Finished executing the 2. range in 4.548390626907349 secs.\n",
      "Finished executing the 3. range in 4.585833787918091 secs.\n",
      "Finished executing the 4. range in 4.5833821296691895 secs.\n",
      "Finished executing the 5. range in 4.571551561355591 secs.\n",
      "Finished executing the 6. range in 4.53469443321228 secs.\n",
      "Finished executing the 7. range in 4.55259108543396 secs.\n",
      "Finished executing the 8. range in 4.528123378753662 secs.\n",
      "Finished executing the 9. range in 4.516180992126465 secs.\n",
      "Finished executing the 10. range in 4.594816446304321 secs.\n",
      "Finished executing the 11. range in 4.540531396865845 secs.\n",
      "Finished executing the 12. range in 4.539442777633667 secs.\n",
      "Finished executing the 13. range in 4.554771900177002 secs.\n",
      "Finished executing the 14. range in 4.599283218383789 secs.\n",
      "Finished executing the 15. range in 4.017689943313599 secs.\n",
      "Closing connections to dict_keys(['node-a8-125.grenoble.iot-lab.info', 'node-a8-108.grenoble.iot-lab.info', 'node-a8-161.grenoble.iot-lab.info', 'node-a8-155.grenoble.iot-lab.info', 'node-a8-107.grenoble.iot-lab.info', 'node-a8-131.grenoble.iot-lab.info', 'node-a8-146.grenoble.iot-lab.info', 'node-a8-121.grenoble.iot-lab.info', 'node-a8-171.grenoble.iot-lab.info', 'node-a8-104.grenoble.iot-lab.info', 'node-a8-137.grenoble.iot-lab.info', 'node-a8-163.grenoble.iot-lab.info', 'node-a8-10.grenoble.iot-lab.info', 'node-a8-115.grenoble.iot-lab.info', 'node-a8-179.grenoble.iot-lab.info'])\n",
      "Node per iteration: 14\n",
      "Openning connection to node-a8-144.grenoble.iot-lab.info\n",
      "Openning connection to node-a8-175.grenoble.iot-lab.info\n",
      "Openning connection to node-a8-152.grenoble.iot-lab.info\n",
      "Openning connection to node-a8-1.grenoble.iot-lab.info\n",
      "Openning connection to node-a8-118.grenoble.iot-lab.info\n",
      "Openning connection to node-a8-191.grenoble.iot-lab.info\n",
      "Openning connection to node-a8-169.grenoble.iot-lab.info\n",
      "Openning connection to node-a8-176.grenoble.iot-lab.info\n",
      "Openning connection to node-a8-139.grenoble.iot-lab.info\n",
      "Openning connection to node-rpi3-5.grenoble.iot-lab.info\n",
      "Openning connection to node-rpi3-1.grenoble.iot-lab.info\n",
      "Openning connection to node-rpi3-3.grenoble.iot-lab.info\n",
      "Openning connection to node-rpi3-4.grenoble.iot-lab.info\n",
      "Openning connection to node-rpi3-2.grenoble.iot-lab.info\n",
      "range list: [(0, 20), (20, 40), (40, 60), (60, 80), (80, 100), (100, 120), (120, 140), (140, 160), (160, 180), (180, 200), (200, 220), (220, 240), (240, 260), (260, 280), (280, 300), (300, -1)]\n",
      "Starting iteration with: dict_keys(['node-a8-144.grenoble.iot-lab.info', 'node-a8-175.grenoble.iot-lab.info', 'node-a8-152.grenoble.iot-lab.info', 'node-a8-1.grenoble.iot-lab.info', 'node-a8-118.grenoble.iot-lab.info', 'node-a8-191.grenoble.iot-lab.info', 'node-a8-169.grenoble.iot-lab.info', 'node-a8-176.grenoble.iot-lab.info', 'node-a8-139.grenoble.iot-lab.info', 'node-rpi3-5.grenoble.iot-lab.info', 'node-rpi3-1.grenoble.iot-lab.info', 'node-rpi3-3.grenoble.iot-lab.info', 'node-rpi3-4.grenoble.iot-lab.info', 'node-rpi3-2.grenoble.iot-lab.info'])\n",
      "Finished executing the 0. range in 7.7298126220703125 secs.\n",
      "Finished executing the 1. range in 4.428571939468384 secs.\n",
      "Finished executing the 2. range in 4.424765586853027 secs.\n",
      "Finished executing the 3. range in 4.36902379989624 secs.\n",
      "Finished executing the 4. range in 4.408554792404175 secs.\n",
      "Finished executing the 5. range in 4.366952180862427 secs.\n",
      "Finished executing the 6. range in 4.385900020599365 secs.\n",
      "Finished executing the 7. range in 4.362163066864014 secs.\n",
      "Finished executing the 8. range in 4.407755136489868 secs.\n",
      "Finished executing the 9. range in 4.37070631980896 secs.\n",
      "Finished executing the 10. range in 4.4229395389556885 secs.\n",
      "Finished executing the 11. range in 4.364593267440796 secs.\n",
      "Finished executing the 12. range in 6.172648191452026 secs.\n",
      "Finished executing the 13. range in 4.436469554901123 secs.\n",
      "Finished executing the 14. range in 4.4182868003845215 secs.\n",
      "Finished executing the 15. range in 3.814523220062256 secs.\n",
      "Closing connections to dict_keys(['node-a8-144.grenoble.iot-lab.info', 'node-a8-175.grenoble.iot-lab.info', 'node-a8-152.grenoble.iot-lab.info', 'node-a8-1.grenoble.iot-lab.info', 'node-a8-118.grenoble.iot-lab.info', 'node-a8-191.grenoble.iot-lab.info', 'node-a8-169.grenoble.iot-lab.info', 'node-a8-176.grenoble.iot-lab.info', 'node-a8-139.grenoble.iot-lab.info', 'node-rpi3-5.grenoble.iot-lab.info', 'node-rpi3-1.grenoble.iot-lab.info', 'node-rpi3-3.grenoble.iot-lab.info', 'node-rpi3-4.grenoble.iot-lab.info', 'node-rpi3-2.grenoble.iot-lab.info'])\n",
      "Running ping on site device.\n",
      "Finished executing the 0. range in 1.5623033046722412 secs.\n",
      "Finished executing the 1. range in 1.5853097438812256 secs.\n",
      "Finished executing the 2. range in 1.5391900539398193 secs.\n",
      "Finished executing the 3. range in 1.553903579711914 secs.\n",
      "Finished executing the 4. range in 1.5458381175994873 secs.\n",
      "Finished executing the 5. range in 1.5638208389282227 secs.\n",
      "Finished executing the 6. range in 1.5380618572235107 secs.\n",
      "Finished executing the 7. range in 1.5141801834106445 secs.\n",
      "Finished executing the 8. range in 1.5293431282043457 secs.\n",
      "Finished executing the 9. range in 1.5042917728424072 secs.\n",
      "Finished executing the 10. range in 1.527665138244629 secs.\n",
      "Finished executing the 11. range in 1.5326964855194092 secs.\n",
      "Finished executing the 12. range in 3.434656858444214 secs.\n",
      "Finished executing the 13. range in 1.5528209209442139 secs.\n",
      "Finished executing the 14. range in 1.548110008239746 secs.\n",
      "Finished executing the 15. range in 1.290576457977295 secs.\n",
      "SUCCESS\n"
     ]
    }
   ],
   "source": [
    "linux_grenoble_1.run_ping_measurement()"
   ]
  },
  {
   "cell_type": "code",
   "execution_count": 6,
   "id": "ffae5cce-d1c5-4e29-97bb-60b24ba0ba26",
   "metadata": {},
   "outputs": [
    {
     "name": "stdout",
     "output_type": "stream",
     "text": [
      "linux-grenoble: Initializing the awaiting_ping_measurements dictionary.\n",
      "linux-grenoble: Deleting the fetched addresses on site.\n",
      "linux-grenoble: Openning connection to grenoble\n",
      "linux-grenoble: Putting the all_nodes_to_addresses.json to site.\n",
      "linux-grenoble: Openning connection to grenoble\n"
     ]
    }
   ],
   "source": [
    "linux_grenoble_1.initialize_awaiting_ping_measurements_dict()"
   ]
  },
  {
   "cell_type": "code",
   "execution_count": 7,
   "id": "3f3ce25f-7bc1-48e8-ad3b-90392c158d9e",
   "metadata": {},
   "outputs": [
    {
     "name": "stdout",
     "output_type": "stream",
     "text": [
      "linux-grenoble: Getting the ping results.\n",
      "linux-grenoble: Openning connection to grenoble\n",
      "/home/alphan/projects/python_scripts/clean-rtt\n",
      "remote path: ~/ping_experiments/linux_1/ping_measurements.json\n",
      "linux-grenoble: Reading the ping results.\n",
      "linux-grenoble: 27540 measurements received!\n",
      "linux-grenoble: Deleting the fetched ping measurements on site.\n",
      "linux-grenoble: Openning connection to grenoble\n",
      "linux-grenoble: Deleting the local fetched ping measurements.\n"
     ]
    }
   ],
   "source": [
    "linux_grenoble_1.digest_new_measurements()"
   ]
  },
  {
   "cell_type": "code",
   "execution_count": 8,
   "id": "07e74e6a-df99-46b4-a171-c49faac8e5a8",
   "metadata": {},
   "outputs": [
    {
     "data": {
      "text/plain": [
       "{('node-a8-144.grenoble.iot-lab.info',\n",
       "  'node-a8-227.grenoble.iot-lab.info'): None,\n",
       " ('node-a8-175.grenoble.iot-lab.info',\n",
       "  'node-a8-227.grenoble.iot-lab.info'): None,\n",
       " ('node-a8-152.grenoble.iot-lab.info',\n",
       "  'node-a8-227.grenoble.iot-lab.info'): None,\n",
       " ('node-a8-1.grenoble.iot-lab.info',\n",
       "  'node-a8-227.grenoble.iot-lab.info'): None,\n",
       " ('node-a8-118.grenoble.iot-lab.info',\n",
       "  'node-a8-227.grenoble.iot-lab.info'): None,\n",
       " ('node-a8-191.grenoble.iot-lab.info',\n",
       "  'node-a8-227.grenoble.iot-lab.info'): None,\n",
       " ('node-a8-169.grenoble.iot-lab.info',\n",
       "  'node-a8-227.grenoble.iot-lab.info'): None,\n",
       " ('node-a8-176.grenoble.iot-lab.info',\n",
       "  'node-a8-227.grenoble.iot-lab.info'): None,\n",
       " ('node-a8-139.grenoble.iot-lab.info',\n",
       "  'node-a8-227.grenoble.iot-lab.info'): None,\n",
       " ('node-rpi3-5.grenoble.iot-lab.info',\n",
       "  'node-a8-227.grenoble.iot-lab.info'): None,\n",
       " ('node-rpi3-1.grenoble.iot-lab.info',\n",
       "  'node-a8-227.grenoble.iot-lab.info'): None,\n",
       " ('node-rpi3-3.grenoble.iot-lab.info',\n",
       "  'node-a8-227.grenoble.iot-lab.info'): None,\n",
       " ('node-rpi3-4.grenoble.iot-lab.info',\n",
       "  'node-a8-227.grenoble.iot-lab.info'): None,\n",
       " ('node-rpi3-2.grenoble.iot-lab.info',\n",
       "  'node-a8-227.grenoble.iot-lab.info'): None,\n",
       " ('grenoble', 'node-a8-227.grenoble.iot-lab.info'): None}"
      ]
     },
     "execution_count": 8,
     "metadata": {},
     "output_type": "execute_result"
    }
   ],
   "source": [
    "linux_grenoble_1.awaiting_ping_measurements"
   ]
  },
  {
   "cell_type": "code",
   "execution_count": 9,
   "id": "3944e987-ff4b-4a62-b9d0-a5d8178b16d3",
   "metadata": {},
   "outputs": [],
   "source": [
    "#linux_grenoble.ping_measurements"
   ]
  },
  {
   "cell_type": "markdown",
   "id": "de3a28c8-f2f4-478b-b812-cb709ac36abf",
   "metadata": {},
   "source": [
    "### Retry Ping"
   ]
  },
  {
   "cell_type": "code",
   "execution_count": 14,
   "id": "10e95bd8-776b-4223-a40b-676b488a0376",
   "metadata": {},
   "outputs": [
    {
     "data": {
      "text/plain": [
       "{('node-a8-144.grenoble.iot-lab.info',\n",
       "  'node-a8-227.grenoble.iot-lab.info'): None,\n",
       " ('node-a8-175.grenoble.iot-lab.info',\n",
       "  'node-a8-227.grenoble.iot-lab.info'): None,\n",
       " ('node-a8-152.grenoble.iot-lab.info',\n",
       "  'node-a8-227.grenoble.iot-lab.info'): None,\n",
       " ('node-a8-1.grenoble.iot-lab.info',\n",
       "  'node-a8-227.grenoble.iot-lab.info'): None,\n",
       " ('node-a8-118.grenoble.iot-lab.info',\n",
       "  'node-a8-227.grenoble.iot-lab.info'): None,\n",
       " ('node-a8-191.grenoble.iot-lab.info',\n",
       "  'node-a8-227.grenoble.iot-lab.info'): None,\n",
       " ('node-a8-169.grenoble.iot-lab.info',\n",
       "  'node-a8-227.grenoble.iot-lab.info'): None,\n",
       " ('node-a8-176.grenoble.iot-lab.info',\n",
       "  'node-a8-227.grenoble.iot-lab.info'): None,\n",
       " ('node-a8-139.grenoble.iot-lab.info',\n",
       "  'node-a8-227.grenoble.iot-lab.info'): None,\n",
       " ('node-rpi3-5.grenoble.iot-lab.info',\n",
       "  'node-a8-227.grenoble.iot-lab.info'): None,\n",
       " ('node-rpi3-1.grenoble.iot-lab.info',\n",
       "  'node-a8-227.grenoble.iot-lab.info'): None,\n",
       " ('node-rpi3-3.grenoble.iot-lab.info',\n",
       "  'node-a8-227.grenoble.iot-lab.info'): None,\n",
       " ('node-rpi3-4.grenoble.iot-lab.info',\n",
       "  'node-a8-227.grenoble.iot-lab.info'): None,\n",
       " ('node-rpi3-2.grenoble.iot-lab.info',\n",
       "  'node-a8-227.grenoble.iot-lab.info'): None,\n",
       " ('grenoble', 'node-a8-227.grenoble.iot-lab.info'): None}"
      ]
     },
     "execution_count": 14,
     "metadata": {},
     "output_type": "execute_result"
    }
   ],
   "source": [
    "linux_grenoble_1.awaiting_ping_measurements"
   ]
  },
  {
   "cell_type": "code",
   "execution_count": 18,
   "id": "fbab6b11-04e1-4893-a920-82e56255cd34",
   "metadata": {},
   "outputs": [
    {
     "name": "stdout",
     "output_type": "stream",
     "text": [
      "linux-grenoble: Starting the retry ping round.\n",
      "linux-grenoble: Sending the missing measurements.json.\n",
      "linux-grenoble: Calculating the missing measurements..\n",
      "linux-grenoble: Deleting the missing ping measurements on site.\n",
      "linux-grenoble: Openning connection to grenoble\n",
      "linux-grenoble: Deleting missing measurements on local.\n",
      "linux-grenoble: Writing missing measurements on local.\n",
      "linux-grenoble: Putting the missing_measurements.json to site.\n",
      "linux-grenoble: Openning connection to grenoble\n",
      "linux-grenoble: Openning connection to grenoble\n",
      "Site: grenoble\n",
      "Reading all nodes\n",
      "Starting retry ping with 15 sources..\n",
      "In retry ping with node-a8-144.grenoble.iot-lab.info\n",
      "Number of destinations: 1\n",
      "Openning connection to node-a8-144.grenoble.iot-lab.info\n",
      "{'2001:660:5307:3000::e3': 'NA'}\n",
      "0. range of node-a8-144.grenoble.iot-lab.info is finished in 6.03186559677124 secs.\n",
      "In retry ping with node-a8-175.grenoble.iot-lab.info\n",
      "Number of destinations: 1\n",
      "Openning connection to node-a8-175.grenoble.iot-lab.info\n",
      "{'2001:660:5307:3000::e3': 'NA'}\n",
      "0. range of node-a8-175.grenoble.iot-lab.info is finished in 6.05349063873291 secs.\n",
      "In retry ping with node-a8-152.grenoble.iot-lab.info\n",
      "Number of destinations: 1\n",
      "Openning connection to node-a8-152.grenoble.iot-lab.info\n",
      "{'2001:660:5307:3000::e3': 'NA'}\n",
      "0. range of node-a8-152.grenoble.iot-lab.info is finished in 6.004488229751587 secs.\n",
      "In retry ping with node-a8-1.grenoble.iot-lab.info\n",
      "Number of destinations: 1\n",
      "Openning connection to node-a8-1.grenoble.iot-lab.info\n",
      "{'2001:660:5307:3000::e3': 'NA'}\n",
      "0. range of node-a8-1.grenoble.iot-lab.info is finished in 6.010559797286987 secs.\n",
      "In retry ping with node-a8-118.grenoble.iot-lab.info\n",
      "Number of destinations: 1\n",
      "Openning connection to node-a8-118.grenoble.iot-lab.info\n",
      "{'2001:660:5307:3000::e3': 'NA'}\n",
      "0. range of node-a8-118.grenoble.iot-lab.info is finished in 6.041479110717773 secs.\n",
      "In retry ping with node-a8-191.grenoble.iot-lab.info\n",
      "Number of destinations: 1\n",
      "Openning connection to node-a8-191.grenoble.iot-lab.info\n",
      "{'2001:660:5307:3000::e3': 'NA'}\n",
      "0. range of node-a8-191.grenoble.iot-lab.info is finished in 6.061192512512207 secs.\n",
      "In retry ping with node-a8-169.grenoble.iot-lab.info\n",
      "Number of destinations: 1\n",
      "Openning connection to node-a8-169.grenoble.iot-lab.info\n",
      "{'2001:660:5307:3000::e3': 'NA'}\n",
      "0. range of node-a8-169.grenoble.iot-lab.info is finished in 6.0089826583862305 secs.\n",
      "In retry ping with node-a8-176.grenoble.iot-lab.info\n",
      "Number of destinations: 1\n",
      "Openning connection to node-a8-176.grenoble.iot-lab.info\n",
      "{'2001:660:5307:3000::e3': 'NA'}\n",
      "0. range of node-a8-176.grenoble.iot-lab.info is finished in 5.997572898864746 secs.\n",
      "In retry ping with node-a8-139.grenoble.iot-lab.info\n",
      "Number of destinations: 1\n",
      "Openning connection to node-a8-139.grenoble.iot-lab.info\n",
      "{'2001:660:5307:3000::e3': 'NA'}\n",
      "0. range of node-a8-139.grenoble.iot-lab.info is finished in 6.026459455490112 secs.\n",
      "In retry ping with node-rpi3-5.grenoble.iot-lab.info\n",
      "Number of destinations: 1\n",
      "Openning connection to node-rpi3-5.grenoble.iot-lab.info\n",
      "{'2001:660:5307:3000::e3': 'NA'}\n",
      "0. range of node-rpi3-5.grenoble.iot-lab.info is finished in 4.690706729888916 secs.\n",
      "In retry ping with node-rpi3-1.grenoble.iot-lab.info\n",
      "Number of destinations: 1\n",
      "Openning connection to node-rpi3-1.grenoble.iot-lab.info\n",
      "{'2001:660:5307:3000::e3': 'NA'}\n",
      "0. range of node-rpi3-1.grenoble.iot-lab.info is finished in 4.695473670959473 secs.\n",
      "In retry ping with node-rpi3-3.grenoble.iot-lab.info\n",
      "Number of destinations: 1\n",
      "Openning connection to node-rpi3-3.grenoble.iot-lab.info\n",
      "{'2001:660:5307:3000::e3': 'NA'}\n",
      "0. range of node-rpi3-3.grenoble.iot-lab.info is finished in 4.709138870239258 secs.\n",
      "In retry ping with node-rpi3-4.grenoble.iot-lab.info\n",
      "Number of destinations: 1\n",
      "Openning connection to node-rpi3-4.grenoble.iot-lab.info\n",
      "{'2001:660:5307:3000::e3': 'NA'}\n",
      "0. range of node-rpi3-4.grenoble.iot-lab.info is finished in 4.712753534317017 secs.\n",
      "In retry ping with node-rpi3-2.grenoble.iot-lab.info\n",
      "Number of destinations: 1\n",
      "Openning connection to node-rpi3-2.grenoble.iot-lab.info\n",
      "{'2001:660:5307:3000::e3': 'NA'}\n",
      "0. range of node-rpi3-2.grenoble.iot-lab.info is finished in 4.736443042755127 secs.\n",
      "In retry ping with grenoble\n",
      "Number of destinations: 1\n",
      "0. range of grenoble is finished in 3.266836404800415 secs.\n",
      "SUCCESS\n"
     ]
    }
   ],
   "source": [
    "linux_grenoble_1.retry_ping_measurement()"
   ]
  },
  {
   "cell_type": "code",
   "execution_count": 22,
   "id": "4e37dfa5-7a52-4bb0-8060-2a446c1b0eed",
   "metadata": {},
   "outputs": [],
   "source": [
    "#linux_strasbourg.ping_measurements"
   ]
  },
  {
   "cell_type": "code",
   "execution_count": 17,
   "id": "26679a60-acce-42b0-b8b0-a1129ba4f0ac",
   "metadata": {},
   "outputs": [
    {
     "name": "stdout",
     "output_type": "stream",
     "text": [
      "linux-grenoble: Getting the ping results.\n",
      "linux-grenoble: Openning connection to grenoble\n",
      "/home/alphan/projects/python_scripts/clean-rtt\n",
      "remote path: ~/ping_experiments/linux_1/ping_measurements.json\n",
      "linux-grenoble: Reading the ping results.\n",
      "linux-grenoble: 15 measurements received!\n",
      "linux-grenoble: Deleting the fetched ping measurements on site.\n",
      "linux-grenoble: Openning connection to grenoble\n",
      "linux-grenoble: Deleting the local fetched ping measurements.\n"
     ]
    }
   ],
   "source": [
    "linux_grenoble_1.digest_new_measurements()"
   ]
  },
  {
   "cell_type": "markdown",
   "id": "98edc054-38d1-4817-8b18-403745776e9b",
   "metadata": {},
   "source": [
    "### Store back the last state of the object"
   ]
  },
  {
   "cell_type": "code",
   "execution_count": 9,
   "id": "722c563b-ded5-45cb-9722-74106588f625",
   "metadata": {},
   "outputs": [
    {
     "name": "stdout",
     "output_type": "stream",
     "text": [
      "Stored 'linux_grenoble_1' (LinuxCoordinator)\n"
     ]
    }
   ],
   "source": [
    "%store linux_grenoble_1\n"
   ]
  },
  {
   "cell_type": "markdown",
   "id": "6a5d802d-f043-44dd-a0ae-f05e69dfa50b",
   "metadata": {},
   "source": [
    "### Finished, rerun the notebook for a new ping run"
   ]
  },
  {
   "cell_type": "code",
   "execution_count": 46,
   "id": "39c0eda5-e965-4eb4-b309-82dc15431057",
   "metadata": {},
   "outputs": [
    {
     "data": {
      "text/plain": [
       "'a8-12'"
      ]
     },
     "execution_count": 46,
     "metadata": {},
     "output_type": "execute_result"
    }
   ],
   "source": [
    "node = \"node-a8-12\"\n",
    "node[5:]"
   ]
  },
  {
   "cell_type": "code",
   "execution_count": 48,
   "id": "29989c99-62ea-4c3d-a009-68a4698743bf",
   "metadata": {},
   "outputs": [
    {
     "data": {
      "text/plain": [
       "7"
      ]
     },
     "execution_count": 48,
     "metadata": {},
     "output_type": "execute_result"
    }
   ],
   "source": []
  },
  {
   "cell_type": "code",
   "execution_count": null,
   "id": "d6453935-0583-4094-bcdc-f879fc0ae8a7",
   "metadata": {},
   "outputs": [],
   "source": []
  }
 ],
 "metadata": {
  "kernelspec": {
   "display_name": "Python 3 (ipykernel)",
   "language": "python",
   "name": "python3"
  },
  "language_info": {
   "codemirror_mode": {
    "name": "ipython",
    "version": 3
   },
   "file_extension": ".py",
   "mimetype": "text/x-python",
   "name": "python",
   "nbconvert_exporter": "python",
   "pygments_lexer": "ipython3",
   "version": "3.10.13"
  }
 },
 "nbformat": 4,
 "nbformat_minor": 5
}
