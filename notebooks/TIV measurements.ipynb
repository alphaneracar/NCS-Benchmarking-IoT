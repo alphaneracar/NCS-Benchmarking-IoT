{
 "cells": [
  {
   "cell_type": "code",
   "execution_count": 35,
   "id": "c1cbbb2f",
   "metadata": {},
   "outputs": [],
   "source": [
    "from scipy.io import loadmat\n",
    "import numpy as np\n",
    "from itertools import combinations\n",
    "import matplotlib.pyplot as plt \n",
    "import pandas as pd \n",
    "import seaborn as sns\n",
    "%matplotlib inline "
   ]
  },
  {
   "cell_type": "code",
   "execution_count": 2,
   "id": "14121b69",
   "metadata": {},
   "outputs": [],
   "source": [
    "# Replace 'path_to_file' with the path to your PlanetLab file\n",
    "\n",
    "data1=loadmat('./data_matrix.mat')\n",
    "data2=loadmat('./new_data_matrix.mat')"
   ]
  },
  {
   "cell_type": "code",
   "execution_count": 3,
   "id": "44a742bc",
   "metadata": {},
   "outputs": [],
   "source": [
    "fit_data=data2['FIT_17']\n",
    "ripe_data=data2['RIPE_ATLAS']\n",
    "pl_data=data1['Toread']"
   ]
  },
  {
   "cell_type": "code",
   "execution_count": 4,
   "id": "10ccab1b",
   "metadata": {},
   "outputs": [],
   "source": [
    "nodes = [i for i in range(305)]"
   ]
  },
  {
   "cell_type": "code",
   "execution_count": 5,
   "id": "722e4462",
   "metadata": {},
   "outputs": [
    {
     "data": {
      "text/plain": [
       "335"
      ]
     },
     "execution_count": 5,
     "metadata": {},
     "output_type": "execute_result"
    }
   ],
   "source": [
    "len(pl_data)"
   ]
  },
  {
   "cell_type": "markdown",
   "id": "f2e715b1",
   "metadata": {},
   "source": [
    "## Calculate Basic TIV"
   ]
  },
  {
   "cell_type": "code",
   "execution_count": 6,
   "id": "0a76d97e",
   "metadata": {},
   "outputs": [],
   "source": [
    "triangles_pl = list(combinations(range(len(pl_data)), 3))\n",
    "triangles_ripe = list(combinations(range(len(ripe_data)), 3))\n",
    "triangles_fit = list(combinations(range(len(fit_data)), 3))"
   ]
  },
  {
   "cell_type": "code",
   "execution_count": 7,
   "id": "751a1ca7",
   "metadata": {},
   "outputs": [],
   "source": [
    "def calculate_tiv_basic(data, triangles):\n",
    "    total_count = 0\n",
    "    violation_count = 0\n",
    "    for t in triangles:\n",
    "        #Measure the paths in one direction\n",
    "        if float(data[(t[1],t[2])])/(float(data[(t[1],t[0])]) + float(data[(t[0], t[2])])) > 1:\n",
    "            violation_count+=1\n",
    "        total_count+=1\n",
    "        if float(data[(t[0],t[2])])/(float(data[(t[0],t[1])]) + float(data[(t[1],t[2])])) > 1:\n",
    "            violation_count+=1\n",
    "        total_count+=1\n",
    "        if float(data[(t[0],t[1])])/(float(data[(t[0],t[2])]) + float(data[(t[2],t[1])])) > 1:\n",
    "            violation_count+=1\n",
    "        total_count+=1\n",
    "\n",
    "        #Measure the paths in the opposite direction\n",
    "        if float(data[(t[2],t[1])])/(float(data[(t[2],t[0])]) + float(data[(t[0], t[1])])) > 1:\n",
    "            violation_count+=1\n",
    "        total_count+=1\n",
    "        if float(data[(t[2],t[0])])/(float(data[(t[2],t[1])]) + float(data[(t[1],t[0])])) > 1:\n",
    "            violation_count+=1\n",
    "        total_count+=1\n",
    "        if float(data[(t[1],t[0])])/(float(data[(t[1],t[2])]) + float(data[(t[2],t[0])])) > 1:\n",
    "            violation_count+=1\n",
    "        total_count+=1 \n",
    "    return violation_count, total_count\n",
    "    "
   ]
  },
  {
   "cell_type": "markdown",
   "id": "1567b0e8",
   "metadata": {},
   "source": [
    "#### Datasets"
   ]
  },
  {
   "cell_type": "code",
   "execution_count": 8,
   "id": "ddec95fe",
   "metadata": {},
   "outputs": [],
   "source": [
    "tiv_fit, total_fit = calculate_tiv_basic(fit_data, triangles_fit)\n",
    "tiv_ripe, total_ripe = calculate_tiv_basic(ripe_data, triangles_ripe)\n",
    "tiv_pl, total_pl = calculate_tiv_basic(pl_data, triangles_pl)"
   ]
  },
  {
   "cell_type": "code",
   "execution_count": 9,
   "id": "67abd3ed",
   "metadata": {},
   "outputs": [],
   "source": [
    "fit_relative_tiv = tiv_fit/total_fit\n",
    "ripe_relative_tiv = tiv_ripe/total_ripe\n",
    "pl_relative_tiv = tiv_pl/total_pl"
   ]
  },
  {
   "cell_type": "code",
   "execution_count": 10,
   "id": "054f4f88",
   "metadata": {},
   "outputs": [
    {
     "data": {
      "text/plain": [
       "0.019495581999960133"
      ]
     },
     "execution_count": 10,
     "metadata": {},
     "output_type": "execute_result"
    }
   ],
   "source": [
    "fit_relative_tiv"
   ]
  },
  {
   "cell_type": "code",
   "execution_count": 11,
   "id": "58948187",
   "metadata": {},
   "outputs": [
    {
     "data": {
      "text/plain": [
       "0.09086765827314852"
      ]
     },
     "execution_count": 11,
     "metadata": {},
     "output_type": "execute_result"
    }
   ],
   "source": [
    "ripe_relative_tiv"
   ]
  },
  {
   "cell_type": "code",
   "execution_count": 12,
   "id": "42e6a307",
   "metadata": {},
   "outputs": [
    {
     "data": {
      "text/plain": [
       "0.05431702146332587"
      ]
     },
     "execution_count": 12,
     "metadata": {},
     "output_type": "execute_result"
    }
   ],
   "source": [
    "pl_relative_tiv"
   ]
  },
  {
   "cell_type": "markdown",
   "id": "d6ca811e",
   "metadata": {},
   "source": [
    "### TODO: Explain the improvement of Vivaldi and IDES with TIV and SVD"
   ]
  },
  {
   "cell_type": "markdown",
   "id": "364d61fa",
   "metadata": {},
   "source": [
    "## TIV of Tang and Crovella"
   ]
  },
  {
   "cell_type": "code",
   "execution_count": 13,
   "id": "6ad8beab",
   "metadata": {},
   "outputs": [],
   "source": [
    "pairs_pl = list(combinations(range(len(pl_data)), 2))\n",
    "pairs_ripe = list(combinations(range(len(ripe_data)), 2))\n",
    "pairs_fit = list(combinations(range(len(fit_data)), 2))"
   ]
  },
  {
   "cell_type": "code",
   "execution_count": 14,
   "id": "b9e29368",
   "metadata": {},
   "outputs": [],
   "source": [
    "#len(pairs)"
   ]
  },
  {
   "cell_type": "code",
   "execution_count": 15,
   "id": "5cf1a0c8",
   "metadata": {},
   "outputs": [],
   "source": [
    "def calculate_tiv_tang_crovella(data, pairs):\n",
    "    best_alternative_relativ_change = []#np.array([])\n",
    "    total_count=0\n",
    "    for p in pairs:\n",
    "        minimum_ahead = float('inf')\n",
    "        minimum_back = float('inf')\n",
    "        min_ahead_index = 0\n",
    "        min_back_index = 0\n",
    "        for i in nodes:\n",
    "            if i in p:\n",
    "                continue\n",
    "            #Check the way from node a to b\n",
    "            if data[p[0], i] + data[i, p[1]] < minimum_ahead:\n",
    "                minimum_ahead = data[p[0], i] + data[i, p[1]]\n",
    "                min_ahead_index = i\n",
    "                \n",
    "            #Check the way from node b to a\n",
    "            if data[p[1], i] + data[i, p[0]] < minimum_back:\n",
    "                minimum_back = data[p[1], i] + data[i, p[0]]\n",
    "                min_back_index = i\n",
    "        \n",
    "        rel_change_ahead = minimum_ahead / data[p[0], p[1]]\n",
    "        rel_change_back = minimum_back / data[p[1], p[0]]\n",
    "        \n",
    "        best_alternative_relativ_change.append(rel_change_ahead)\n",
    "        best_alternative_relativ_change.append(rel_change_back)\n",
    "        #sorted_index_ahead = np.searchsorted(best_alternative_relativ_change, rel_change_ahead)\n",
    "        #np.insert(best_alternative_relativ_change, sorted_index_ahead, rel_change_ahead)\n",
    "        #sorted_index_back = np.searchsorted(best_alternative_relativ_change, rel_change_back)\n",
    "        #np.insert(best_alternative_relativ_change, sorted_index_back, rel_change_back)\n",
    "        total_count += 2\n",
    "    \n",
    "    return best_alternative_relativ_change"
   ]
  },
  {
   "cell_type": "code",
   "execution_count": 16,
   "id": "336264eb",
   "metadata": {},
   "outputs": [],
   "source": [
    "best_alternative_paths_fit = calculate_tiv_tang_crovella(fit_data, pairs_fit)\n",
    "best_alternative_paths_ripe = calculate_tiv_tang_crovella(ripe_data, pairs_ripe)\n",
    "best_alternative_paths_pl = calculate_tiv_tang_crovella(pl_data, pairs_pl)"
   ]
  },
  {
   "cell_type": "code",
   "execution_count": 17,
   "id": "be6c4c35",
   "metadata": {},
   "outputs": [],
   "source": [
    "fit_count, fit_bins = np.histogram(best_alternative_paths_fit, bins=1000, range=(0,2)) \n",
    "ripe_count, ripe_bins = np.histogram(best_alternative_paths_ripe, bins=1000, range=(0,2)) \n",
    "pl_count, pl_bins = np.histogram(best_alternative_paths_pl, bins=1000,  range=(0,2)) "
   ]
  },
  {
   "cell_type": "markdown",
   "id": "6ef0dd03",
   "metadata": {},
   "source": [
    "PDF and CDF of the relative alternative paths"
   ]
  },
  {
   "cell_type": "code",
   "execution_count": 18,
   "id": "0ba29287",
   "metadata": {},
   "outputs": [],
   "source": [
    "pdf_fit = fit_count / sum(fit_count)\n",
    "cdf_fit = np.cumsum(pdf_fit)\n",
    "pdf_ripe = ripe_count / sum(ripe_count)\n",
    "cdf_ripe = np.cumsum(pdf_ripe)\n",
    "pdf_pl = pl_count / sum(pl_count)\n",
    "cdf_pl = np.cumsum(pdf_pl)\n"
   ]
  },
  {
   "cell_type": "code",
   "execution_count": 32,
   "id": "ac05af29",
   "metadata": {},
   "outputs": [
    {
     "data": {
      "text/plain": [
       "<matplotlib.legend.Legend at 0x7f387bcf69b0>"
      ]
     },
     "execution_count": 32,
     "metadata": {},
     "output_type": "execute_result"
    },
    {
     "data": {
      "image/png": "[encoded data removed]",
      "text/plain": [
       "<Figure size 640x480 with 1 Axes>"
      ]
     },
     "metadata": {},
     "output_type": "display_data"
    }
   ],
   "source": [
    "#TODO add a dashed line on 1 in x axis \n",
    "\n",
    "plt.plot(fit_bins[1:], cdf_fit, color=\"blue\", label=\"FIT\") \n",
    "plt.plot(ripe_bins[1:], cdf_ripe, color=\"red\", label=\"RIPE ATLAS\") \n",
    "plt.plot(pl_bins[1:], cdf_pl, color=\"black\", label=\"PlanetLab\") \n",
    "plt.ylabel(\"Fraction of Pairs\")\n",
    "plt.xlabel(\"Relative Path Length\")\n",
    "plt.legend() "
   ]
  },
  {
   "cell_type": "code",
   "execution_count": 20,
   "id": "5917cc85",
   "metadata": {},
   "outputs": [
    {
     "data": {
      "text/plain": [
       "0.7740096438913704"
      ]
     },
     "execution_count": 20,
     "metadata": {},
     "output_type": "execute_result"
    }
   ],
   "source": [
    "np.mean(np.array(best_alternative_paths_ripe))"
   ]
  },
  {
   "cell_type": "code",
   "execution_count": 21,
   "id": "8774a0af",
   "metadata": {},
   "outputs": [],
   "source": [
    "array_fit = np.array(best_alternative_paths_fit)\n",
    "array_ripe = np.array(best_alternative_paths_ripe)\n",
    "array_pl = np.array(best_alternative_paths_pl)"
   ]
  },
  {
   "cell_type": "code",
   "execution_count": 22,
   "id": "66140be6",
   "metadata": {},
   "outputs": [
    {
     "data": {
      "text/plain": [
       "2.1457092623215672"
      ]
     },
     "execution_count": 22,
     "metadata": {},
     "output_type": "execute_result"
    }
   ],
   "source": [
    "npre_fit = np.percentile(array_fit, 99)\n",
    "npre_fit"
   ]
  },
  {
   "cell_type": "code",
   "execution_count": 23,
   "id": "3f198078",
   "metadata": {},
   "outputs": [
    {
     "data": {
      "text/plain": [
       "1.5"
      ]
     },
     "execution_count": 23,
     "metadata": {},
     "output_type": "execute_result"
    }
   ],
   "source": [
    "npre_ripe = np.percentile(array_ripe, 99)\n",
    "npre_ripe"
   ]
  },
  {
   "cell_type": "code",
   "execution_count": 24,
   "id": "7f69b6da",
   "metadata": {},
   "outputs": [
    {
     "data": {
      "text/plain": [
       "1.2209123948563252"
      ]
     },
     "execution_count": 24,
     "metadata": {},
     "output_type": "execute_result"
    }
   ],
   "source": [
    "npre_pl = np.percentile(array_pl, 99)\n",
    "npre_pl"
   ]
  },
  {
   "cell_type": "code",
   "execution_count": 39,
   "id": "e56bb002",
   "metadata": {},
   "outputs": [
    {
     "data": {
      "text/html": [
       "<div>\n",
       "<style scoped>\n",
       "    .dataframe tbody tr th:only-of-type {\n",
       "        vertical-align: middle;\n",
       "    }\n",
       "\n",
       "    .dataframe tbody tr th {\n",
       "        vertical-align: top;\n",
       "    }\n",
       "\n",
       "    .dataframe thead th {\n",
       "        text-align: right;\n",
       "    }\n",
       "</style>\n",
       "<table border=\"1\" class=\"dataframe\">\n",
       "  <thead>\n",
       "    <tr style=\"text-align: right;\">\n",
       "      <th></th>\n",
       "      <th>5</th>\n",
       "      <th>10</th>\n",
       "      <th>15</th>\n",
       "      <th>25</th>\n",
       "      <th>50</th>\n",
       "      <th>75</th>\n",
       "    </tr>\n",
       "  </thead>\n",
       "  <tbody>\n",
       "    <tr>\n",
       "      <th>FIT IoT</th>\n",
       "      <td>0.971354</td>\n",
       "      <td>1.008397</td>\n",
       "      <td>1.017594</td>\n",
       "      <td>1.026899</td>\n",
       "      <td>1.043341</td>\n",
       "      <td>1.539246</td>\n",
       "    </tr>\n",
       "    <tr>\n",
       "      <th>RIPE Atlas</th>\n",
       "      <td>0.104248</td>\n",
       "      <td>0.214286</td>\n",
       "      <td>0.352941</td>\n",
       "      <td>0.575683</td>\n",
       "      <td>0.850000</td>\n",
       "      <td>0.952941</td>\n",
       "    </tr>\n",
       "    <tr>\n",
       "      <th>PlanetLab</th>\n",
       "      <td>0.548064</td>\n",
       "      <td>0.684163</td>\n",
       "      <td>0.761030</td>\n",
       "      <td>0.853327</td>\n",
       "      <td>0.950184</td>\n",
       "      <td>0.997745</td>\n",
       "    </tr>\n",
       "  </tbody>\n",
       "</table>\n",
       "</div>"
      ],
      "text/plain": [
       "                  5         10        15        25        50        75\n",
       "FIT IoT     0.971354  1.008397  1.017594  1.026899  1.043341  1.539246\n",
       "RIPE Atlas  0.104248  0.214286  0.352941  0.575683  0.850000  0.952941\n",
       "PlanetLab   0.548064  0.684163  0.761030  0.853327  0.950184  0.997745"
      ]
     },
     "execution_count": 39,
     "metadata": {},
     "output_type": "execute_result"
    }
   ],
   "source": [
    "best_alternative_paths = {\n",
    "    \"FIT IoT\": array_fit,\n",
    "    \"RIPE Atlas\": array_ripe,\n",
    "    \"PlanetLab\": array_pl\n",
    "}\n",
    "\n",
    "percentiles = [5, 10, 15, 25, 50, 75]\n",
    "value_dict = {}\n",
    "\n",
    "for k, v in best_alternative_paths.items():\n",
    "    values = []\n",
    "    for pval in percentiles:\n",
    "        perc = np.percentile(v, pval)\n",
    "        values.append(perc)\n",
    "    value_dict[k] = values\n",
    "\n",
    "df_paths = pd.DataFrame.from_dict(value_dict, columns=percentiles, orient='index').astype(float)\n",
    "df_paths"
   ]
  },
  {
   "cell_type": "code",
   "execution_count": 40,
   "id": "f4502b72",
   "metadata": {},
   "outputs": [
    {
     "data": {
      "image/png": "[encoded data removed]",
      "text/plain": [
       "<Figure size 900x400 with 2 Axes>"
      ]
     },
     "metadata": {},
     "output_type": "display_data"
    }
   ],
   "source": [
    "# create the heatmap\n",
    "fig, ax = plt.subplots(figsize=(9, 4))\n",
    "sns.set(font_scale=1.2)\n",
    "sns.heatmap(df_paths, annot=True, cmap='Greens', vmax=2, cbar_kws={'label': 'STIV'}, cbar=True, fmt='.2f', ax=ax)\n",
    "\n",
    "# Rotate xtick labels\n",
    "plt.xticks(rotation=35, ha='right')\n",
    "plt.xlabel(\"Percentiles\")\n",
    "# show the plot\n",
    "#plt.savefig(\"plots/NES/latency_heatmap_perc.svg\", bbox_inches='tight')\n",
    "# plt.title(\"Latency ({0} ms)\".format(waitTime))\n",
    "plt.show()"
   ]
  },
  {
   "cell_type": "code",
   "execution_count": 26,
   "id": "9d55e252",
   "metadata": {},
   "outputs": [],
   "source": [
    "rtt_fit_count, rtt_fit_bins = np.histogram(flattened_fit, bins=1000) \n",
    "rtt_ripe_count, rtt_ripe_bins = np.histogram(flattened_ripe, bins=1000) \n",
    "rtt_pl_count, rtt_pl_bins = np.histogram(flattened_pl, bins=1000) "
   ]
  },
  {
   "cell_type": "code",
   "execution_count": 27,
   "id": "6536eca4",
   "metadata": {},
   "outputs": [],
   "source": [
    "rtt_pdf_fit = rtt_fit_count / sum(rtt_fit_count)\n",
    "rtt_cdf_fit = np.cumsum(rtt_pdf_fit)\n",
    "rtt_pdf_ripe = ripe_count / sum(rtt_ripe_count)\n",
    "rtt_cdf_ripe = np.cumsum(rtt_pdf_ripe)\n",
    "rtt_pdf_pl = rtt_pl_count / sum(rtt_pl_count)\n",
    "rtt_cdf_pl = np.cumsum(rtt_pdf_pl)\n"
   ]
  },
  {
   "cell_type": "code",
   "execution_count": 28,
   "id": "558d308f",
   "metadata": {},
   "outputs": [
    {
     "data": {
      "text/plain": [
       "<matplotlib.legend.Legend at 0x7f393ac0dd50>"
      ]
     },
     "execution_count": 28,
     "metadata": {},
     "output_type": "execute_result"
    },
    {
     "data": {
      "image/png": "[encoded data removed]",
      "text/plain": [
       "<Figure size 640x480 with 1 Axes>"
      ]
     },
     "metadata": {},
     "output_type": "display_data"
    }
   ],
   "source": [
    "plt.plot(rtt_fit_bins[1:], rtt_cdf_fit, color=\"blue\", label=\"FIT\") \n",
    "plt.plot(rtt_ripe_bins[1:], rtt_cdf_ripe, color=\"red\", label=\"RIPE ATLAS\") \n",
    "plt.plot(rtt_pl_bins[1:], rtt_cdf_pl, color=\"black\", label=\"PlanetLab\") \n",
    "plt.legend() "
   ]
  },
  {
   "cell_type": "code",
   "execution_count": 29,
   "id": "256ab06d",
   "metadata": {},
   "outputs": [
    {
     "data": {
      "text/plain": [
       "14.583"
      ]
     },
     "execution_count": 29,
     "metadata": {},
     "output_type": "execute_result"
    }
   ],
   "source": [
    "npre_rtt_fit = np.percentile(flattened_fit, 99)\n",
    "npre_rtt_fit"
   ]
  },
  {
   "cell_type": "code",
   "execution_count": 30,
   "id": "22b426e4",
   "metadata": {},
   "outputs": [
    {
     "data": {
      "text/plain": [
       "259.0"
      ]
     },
     "execution_count": 30,
     "metadata": {},
     "output_type": "execute_result"
    }
   ],
   "source": [
    "npre_rtt_ripe = np.percentile(flattened_ripe, 90)\n",
    "npre_rtt_ripe"
   ]
  },
  {
   "cell_type": "code",
   "execution_count": 31,
   "id": "58fb1650",
   "metadata": {},
   "outputs": [
    {
     "data": {
      "text/plain": [
       "256.87"
      ]
     },
     "execution_count": 31,
     "metadata": {},
     "output_type": "execute_result"
    }
   ],
   "source": [
    "npre_rtt_pl = np.percentile(flattened_pl, 90)\n",
    "npre_rtt_pl"
   ]
  },
  {
   "cell_type": "code",
   "execution_count": null,
   "id": "68e4ae24",
   "metadata": {},
   "outputs": [],
   "source": []
  },
  {
   "cell_type": "code",
   "execution_count": null,
   "id": "cdfc0bdb",
   "metadata": {},
   "outputs": [],
   "source": []
  },
  {
   "cell_type": "code",
   "execution_count": null,
   "id": "6068f621",
   "metadata": {},
   "outputs": [],
   "source": []
  }
 ],
 "metadata": {
  "kernelspec": {
   "display_name": "Python 3 (ipykernel)",
   "language": "python",
   "name": "python3"
  },
  "language_info": {
   "codemirror_mode": {
    "name": "ipython",
    "version": 3
   },
   "file_extension": ".py",
   "mimetype": "text/x-python",
   "name": "python",
   "nbconvert_exporter": "python",
   "pygments_lexer": "ipython3",
   "version": "3.10.13"
  }
 },
 "nbformat": 4,
 "nbformat_minor": 5
}
